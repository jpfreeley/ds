{
 "cells": [
  {
   "cell_type": "code",
   "execution_count": 41,
   "metadata": {
    "collapsed": true
   },
   "outputs": [],
   "source": [
    "from collections import defaultdict, Counter\n",
    "import pandas as pd\n",
    "import numpy as np"
   ]
  },
  {
   "cell_type": "code",
   "execution_count": 18,
   "metadata": {
    "collapsed": false
   },
   "outputs": [
    {
     "data": {
      "text/plain": [
       "'ABbCcc\\nGood luck in the Facebook Hacker Cup this year!\\nIgnore punctuation, please :)\\nSometimes test cases are hard to make up.\\nSo I just go consult Professor Dalves'"
      ]
     },
     "execution_count": 18,
     "metadata": {},
     "output_type": "execute_result"
    }
   ],
   "source": [
    "text = '''ABbCcc\n",
    "Good luck in the Facebook Hacker Cup this year!\n",
    "Ignore punctuation, please :)\n",
    "Sometimes test cases are hard to make up.\n",
    "So I just go consult Professor Dalves'''\n",
    "text"
   ]
  },
  {
   "cell_type": "code",
   "execution_count": 19,
   "metadata": {
    "collapsed": false
   },
   "outputs": [
    {
     "name": "stdout",
     "output_type": "stream",
     "text": [
      "ABbCcc\n",
      "Good luck in the Facebook Hacker Cup this year!\n",
      "Ignore punctuation, please :)\n",
      "Sometimes test cases are hard to make up.\n",
      "So I just go consult Professor Dalves\n"
     ]
    }
   ],
   "source": [
    "for x in text.split('\\n'):\n",
    "    print(x)"
   ]
  },
  {
   "cell_type": "code",
   "execution_count": 20,
   "metadata": {
    "collapsed": false
   },
   "outputs": [],
   "source": [
    "'''dict1 = defaultdict(list)\n",
    "alphabet = ['a','b','c','d','e','f','g','h','i','j','k','l','m','n','o','p','q','r','s','t','u','v','w','x','y','z']'''"
   ]
  },
  {
   "cell_type": "code",
   "execution_count": 22,
   "metadata": {
    "collapsed": false
   },
   "outputs": [
    {
     "name": "stdout",
     "output_type": "stream",
     "text": [
      "defaultdict(<class 'list'>, {'l': [0, 1, 1, 0, 2], 'd': [0, 1, 0, 1, 1], 'h': [0, 3, 0, 1, 0], 'p': [0, 1, 2, 1, 1], 'b': [2, 1, 0, 0, 0], 'a': [1, 3, 2, 4, 1], 'w': [0, 0, 0, 0, 0], 'j': [0, 0, 0, 0, 1], 'k': [0, 3, 0, 1, 0], 'g': [0, 1, 1, 0, 1], 's': [0, 1, 1, 5, 6], 'n': [0, 1, 3, 0, 1], 'q': [0, 0, 0, 0, 0], 'r': [0, 2, 1, 2, 2], 'i': [0, 2, 2, 1, 1], 'y': [0, 1, 0, 0, 0], 'f': [0, 1, 0, 0, 1], 'v': [0, 0, 0, 0, 1], 'u': [0, 2, 2, 1, 2], 'z': [0, 0, 0, 0, 0], 'c': [3, 4, 1, 1, 1], 'm': [0, 0, 0, 3, 0], 'x': [0, 0, 0, 0, 0], 'o': [0, 4, 2, 2, 5], 'e': [0, 4, 3, 6, 2], 't': [0, 2, 2, 4, 2]})\n"
     ]
    }
   ],
   "source": [
    "'''for x in text.split('\\n'):\n",
    "    for letter in alphabet:\n",
    "        letcount = x.lower().count(letter)\n",
    "        #print(letter, letcount)\n",
    "        dict1[letter].append(letcount)\n",
    "        \n",
    "print(dict1)'''"
   ]
  },
  {
   "cell_type": "code",
   "execution_count": 53,
   "metadata": {
    "collapsed": false
   },
   "outputs": [
    {
     "name": "stdout",
     "output_type": "stream",
     "text": [
      "152\n",
      "754\n",
      "491\n",
      "729\n",
      "646\n"
     ]
    }
   ],
   "source": [
    "for x in text.split('\\n'):\n",
    "    count = sorted(list(dict(Counter(c for c in x.lower()\\\n",
    "                    if c.isalpha())).items()), \\\n",
    "                   key= lambda p: p[1], reverse=True)\n",
    "    last = 0\n",
    "    value = 26\n",
    "    for pair in count:\n",
    "        last += value*pair[1]\n",
    "        value -= 1 \n",
    "    print(last)"
   ]
  },
  {
   "cell_type": "code",
   "execution_count": null,
   "metadata": {
    "collapsed": true
   },
   "outputs": [],
   "source": []
  }
 ],
 "metadata": {
  "kernelspec": {
   "display_name": "Python 3",
   "language": "python",
   "name": "python3"
  },
  "language_info": {
   "codemirror_mode": {
    "name": "ipython",
    "version": 3
   },
   "file_extension": ".py",
   "mimetype": "text/x-python",
   "name": "python",
   "nbconvert_exporter": "python",
   "pygments_lexer": "ipython3",
   "version": "3.5.1"
  }
 },
 "nbformat": 4,
 "nbformat_minor": 0
}
