{
 "cells": [
  {
   "cell_type": "code",
   "execution_count": 55,
   "metadata": {
    "collapsed": true
   },
   "outputs": [],
   "source": [
    "mmg = \"\"\"I am the very model of a modern Major-General,\n",
    "I've information vegetable, animal, and mineral,\n",
    "I know the kings of England, and I quote the fights historical\n",
    "From Marathon to Waterloo, in order categorical;\n",
    "I'm very well acquainted, too, with matters mathematical,\n",
    "I understand equations, both the simple and quadratical,\n",
    "About binomial theorem I'm teeming with a lot o' news, (bothered for a rhyme)\n",
    "With many cheerful facts about the square of the hypotenuse.\n",
    "I'm very good at integral and differential calculus;\n",
    "I know the scientific names of beings animalculous:\n",
    "In short, in matters vegetable, animal, and mineral,\n",
    "I am the very model of a modern Major-General.\n",
    "\n",
    "I know our mythic history, King Arthur's and Sir Caradoc's;\n",
    "I answer hard acrostics, I've a pretty taste for paradox,\n",
    "I quote in elegiacs all the crimes of Heliogabalus,\n",
    "In conics I can floor peculiarities parabolous;\n",
    "I can tell undoubted Raphaels from Gerard Dows and Zoffanies,\n",
    "I know the croaking chorus from The Frogs of Aristophanes!\n",
    "Then I can hum a fugue of which I've heard the music's din afore, (bothered for a rhyme)\n",
    "And whistle all the airs from that infernal nonsense Pinafore.\n",
    "Then I can write a washing bill in Babylonic cuneiform,\n",
    "And tell you ev'ry detail of Caractacus's uniform:\n",
    "In short, in matters vegetable, animal, and mineral,\n",
    "I am the very model of a modern Major-General.\n",
    "In fact, when I know what is meant by \"mamelon\" and \"ravelin\",\n",
    "When I can tell at sight a Mauser rifle from a javelin,\n",
    "When such affairs as sorties and surprises I'm more wary at,\n",
    "And when I know precisely what is meant by \"commissariat\",\n",
    "When I have learnt what progress has been made in modern gunnery,\n",
    "When I know more of tactics than a novice in a nunnery -\n",
    "In short, when I've a smattering of elemental strategy - (bothered for a rhyme)\n",
    "You'll say a better Major-General has never sat a gee.\n",
    "For my military knowledge, though I'm plucky and adventury,\n",
    "Has only been brought down to the beginning of the century;\n",
    "But still, in matters vegetable, animal, and mineral,\n",
    "I am the very model of a modern Major-General.\"\"\""
   ]
  },
  {
   "cell_type": "code",
   "execution_count": 56,
   "metadata": {
    "collapsed": true
   },
   "outputs": [],
   "source": [
    "geb = \"\"\"Gödel, Escher, Bach: An Eternal Golden Braid, also known as\n",
    "GEB, is a 1979 book by Douglas Hofstadter. The tagline \"a metaphorical\n",
    "fugue on minds and machines in the spirit of Lewis Carroll\" was used\n",
    "by the publisher to describe the book.\n",
    "\n",
    "By exploring common themes in the lives and works of logician Kurt\n",
    "Gödel, artist M. C. Escher and composer Johann Sebastian Bach, GEB\n",
    "expounds concepts fundamental to mathematics, symmetry, and\n",
    "intelligence. Through illustration and analysis, the book discusses\n",
    "how self-reference and formal rules allow systems to acquire meaning\n",
    "despite being made of \"meaningless\" elements. It also discusses what\n",
    "it means to communicate, how knowledge can be represented and stored,\n",
    "the methods and limitations of symbolic representation, and even the\n",
    "fundamental notion of \"meaning\" itself.\n",
    "\n",
    "In response to confusion over the book's theme, Hofstadter has\n",
    "emphasized that GEB is not about mathematics, art, and music but\n",
    "rather about how cognition and thinking emerge from well-hidden\n",
    "neurological mechanisms. In the book, he presents an analogy about how\n",
    "the individual neurons of the brain coordinate to create a unified\n",
    "sense of a coherent mind by comparing it to the social organization\n",
    "displayed in a colony of ants.\"\"\""
   ]
  },
  {
   "cell_type": "code",
   "execution_count": 57,
   "metadata": {
    "collapsed": false
   },
   "outputs": [],
   "source": [
    "import re\n",
    "pattern = re.compile('[,\\.!\\?;\\(\\)\":]')\n",
    "mmg = pattern.sub('', mmg)\n",
    "mmg = mmg.replace('\\n', ' ')"
   ]
  },
  {
   "cell_type": "code",
   "execution_count": 58,
   "metadata": {
    "collapsed": true
   },
   "outputs": [],
   "source": [
    "geb = pattern.sub('', geb)\n",
    "geb = geb.replace('\\n', ' ')"
   ]
  },
  {
   "cell_type": "code",
   "execution_count": 59,
   "metadata": {
    "collapsed": false
   },
   "outputs": [
    {
     "name": "stdout",
     "output_type": "stream",
     "text": [
      "I am the very model of a modern Major-General I've information vegetable animal and mineral I know the kings of England and I quote the fights historical From Marathon to Waterloo in order categorical I'm very well acquainted too with matters mathematical I understand equations both the simple and quadratical About binomial theorem I'm teeming with a lot o' news bothered for a rhyme With many cheerful facts about the square of the hypotenuse I'm very good at integral and differential calculus I know the scientific names of beings animalculous In short in matters vegetable animal and mineral I am the very model of a modern Major-General  I know our mythic history King Arthur's and Sir Caradoc's I answer hard acrostics I've a pretty taste for paradox I quote in elegiacs all the crimes of Heliogabalus In conics I can floor peculiarities parabolous I can tell undoubted Raphaels from Gerard Dows and Zoffanies I know the croaking chorus from The Frogs of Aristophanes Then I can hum a fugue of which I've heard the music's din afore bothered for a rhyme And whistle all the airs from that infernal nonsense Pinafore Then I can write a washing bill in Babylonic cuneiform And tell you ev'ry detail of Caractacus's uniform In short in matters vegetable animal and mineral I am the very model of a modern Major-General In fact when I know what is meant by mamelon and ravelin When I can tell at sight a Mauser rifle from a javelin When such affairs as sorties and surprises I'm more wary at And when I know precisely what is meant by commissariat When I have learnt what progress has been made in modern gunnery When I know more of tactics than a novice in a nunnery - In short when I've a smattering of elemental strategy - bothered for a rhyme You'll say a better Major-General has never sat a gee For my military knowledge though I'm plucky and adventury Has only been brought down to the beginning of the century But still in matters vegetable animal and mineral I am the very model of a modern Major-General\n"
     ]
    }
   ],
   "source": [
    "print(mmg)"
   ]
  },
  {
   "cell_type": "code",
   "execution_count": 60,
   "metadata": {
    "collapsed": false
   },
   "outputs": [
    {
     "name": "stdout",
     "output_type": "stream",
     "text": [
      "Gödel Escher Bach An Eternal Golden Braid also known as GEB is a 1979 book by Douglas Hofstadter The tagline a metaphorical fugue on minds and machines in the spirit of Lewis Carroll was used by the publisher to describe the book  By exploring common themes in the lives and works of logician Kurt Gödel artist M C Escher and composer Johann Sebastian Bach GEB expounds concepts fundamental to mathematics symmetry and intelligence Through illustration and analysis the book discusses how self-reference and formal rules allow systems to acquire meaning despite being made of meaningless elements It also discusses what it means to communicate how knowledge can be represented and stored the methods and limitations of symbolic representation and even the fundamental notion of meaning itself  In response to confusion over the book's theme Hofstadter has emphasized that GEB is not about mathematics art and music but rather about how cognition and thinking emerge from well-hidden neurological mechanisms In the book he presents an analogy about how the individual neurons of the brain coordinate to create a unified sense of a coherent mind by comparing it to the social organization displayed in a colony of ants\n"
     ]
    }
   ],
   "source": [
    "print(geb)"
   ]
  },
  {
   "cell_type": "code",
   "execution_count": 61,
   "metadata": {
    "collapsed": false
   },
   "outputs": [],
   "source": [
    "mmg = mmg.split()\n",
    "geb = geb.split()"
   ]
  },
  {
   "cell_type": "code",
   "execution_count": 65,
   "metadata": {
    "collapsed": true
   },
   "outputs": [],
   "source": [
    "merged_list = [i for i in mmg if i in geb and len(i)>4]"
   ]
  },
  {
   "cell_type": "code",
   "execution_count": 66,
   "metadata": {
    "collapsed": false
   },
   "outputs": [
    {
     "name": "stdout",
     "output_type": "stream",
     "text": [
      "['about', 'fugue', 'knowledge']\n"
     ]
    }
   ],
   "source": [
    "print(merged_list)"
   ]
  },
  {
   "cell_type": "code",
   "execution_count": null,
   "metadata": {
    "collapsed": true
   },
   "outputs": [],
   "source": []
  }
 ],
 "metadata": {
  "kernelspec": {
   "display_name": "Python 3",
   "language": "python",
   "name": "python3"
  },
  "language_info": {
   "codemirror_mode": {
    "name": "ipython",
    "version": 3
   },
   "file_extension": ".py",
   "mimetype": "text/x-python",
   "name": "python",
   "nbconvert_exporter": "python",
   "pygments_lexer": "ipython3",
   "version": "3.5.1"
  }
 },
 "nbformat": 4,
 "nbformat_minor": 0
}
