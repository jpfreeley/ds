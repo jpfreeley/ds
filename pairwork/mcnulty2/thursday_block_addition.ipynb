{
 "cells": [
  {
   "cell_type": "code",
   "execution_count": 13,
   "metadata": {
    "collapsed": true
   },
   "outputs": [],
   "source": [
    "from random import randint\n",
    "import numpy as np\n"
   ]
  },
  {
   "cell_type": "code",
   "execution_count": 7,
   "metadata": {
    "collapsed": false
   },
   "outputs": [],
   "source": [
    "l1 = [randint(-5,10) for _ in range(20)]"
   ]
  },
  {
   "cell_type": "code",
   "execution_count": 25,
   "metadata": {
    "collapsed": false
   },
   "outputs": [
    {
     "data": {
      "text/plain": [
       "[-2, -3, 4, -2, -4, 7, 8, -4, 9, -1, 3, 7, -2, -1, 9, 8, -1, 9, 9, 6]"
      ]
     },
     "execution_count": 25,
     "metadata": {},
     "output_type": "execute_result"
    }
   ],
   "source": [
    "l1"
   ]
  },
  {
   "cell_type": "code",
   "execution_count": 67,
   "metadata": {
    "collapsed": false
   },
   "outputs": [],
   "source": [
    "l2 = np.array([])"
   ]
  },
  {
   "cell_type": "code",
   "execution_count": 68,
   "metadata": {
    "collapsed": false
   },
   "outputs": [],
   "source": [
    "for i in range(len(l1)):\n",
    "    #temp_list = l2[-i:]\n",
    "    l2 = np.append(l2, l1[i])\n",
    "    #print(i)\n",
    "    #print(l2[-i-1:-1])\n",
    "    l2 = np.append(l2, l2[-i-1:-1]+l1[i])\n",
    "    #print(l2)\n",
    "    "
   ]
  },
  {
   "cell_type": "code",
   "execution_count": 69,
   "metadata": {
    "collapsed": false
   },
   "outputs": [
    {
     "data": {
      "text/plain": [
       "array([ -2.,  -3.,  -5.,   4.,   1.,  -1.,  -2.,   2.,  -1.,  -3.,  -4.,\n",
       "        -6.,  -2.,  -5.,  -7.,   7.,   3.,   1.,   5.,   2.,   0.,   8.,\n",
       "        15.,  11.,   9.,  13.,  10.,   8.,  -4.,   4.,  11.,   7.,   5.,\n",
       "         9.,   6.,   4.,   9.,   5.,  13.,  20.,  16.,  14.,  18.,  15.,\n",
       "        13.,  -1.,   8.,   4.,  12.,  19.,  15.,  13.,  17.,  14.,  12.,\n",
       "         3.,   2.,  11.,   7.,  15.,  22.,  18.,  16.,  20.,  17.,  15.,\n",
       "         7.,  10.,   9.,  18.,  14.,  22.,  29.,  25.,  23.,  27.,  24.,\n",
       "        22.,  -2.,   5.,   8.,   7.,  16.,  12.,  20.,  27.,  23.,  21.,\n",
       "        25.,  22.,  20.,  -1.,  -3.,   4.,   7.,   6.,  15.,  11.,  19.,\n",
       "        26.,  22.,  20.,  24.,  21.,  19.,   9.,   8.,   6.,  13.,  16.,\n",
       "        15.,  24.,  20.,  28.,  35.,  31.,  29.,  33.,  30.,  28.,   8.,\n",
       "        17.,  16.,  14.,  21.,  24.,  23.,  32.,  28.,  36.,  43.,  39.,\n",
       "        37.,  41.,  38.,  36.,  -1.,   7.,  16.,  15.,  13.,  20.,  23.,\n",
       "        22.,  31.,  27.,  35.,  42.,  38.,  36.,  40.,  37.,  35.,   9.,\n",
       "         8.,  16.,  25.,  24.,  22.,  29.,  32.,  31.,  40.,  36.,  44.,\n",
       "        51.,  47.,  45.,  49.,  46.,  44.,   9.,  18.,  17.,  25.,  34.,\n",
       "        33.,  31.,  38.,  41.,  40.,  49.,  45.,  53.,  60.,  56.,  54.,\n",
       "        58.,  55.,  53.,   6.,  15.,  24.,  23.,  31.,  40.,  39.,  37.,\n",
       "        44.,  47.,  46.,  55.,  51.,  59.,  66.,  62.,  60.,  64.,  61.,\n",
       "        59.])"
      ]
     },
     "execution_count": 69,
     "metadata": {},
     "output_type": "execute_result"
    }
   ],
   "source": [
    "l2"
   ]
  },
  {
   "cell_type": "code",
   "execution_count": null,
   "metadata": {
    "collapsed": true
   },
   "outputs": [],
   "source": []
  }
 ],
 "metadata": {
  "kernelspec": {
   "display_name": "Python 3",
   "language": "python",
   "name": "python3"
  },
  "language_info": {
   "codemirror_mode": {
    "name": "ipython",
    "version": 3
   },
   "file_extension": ".py",
   "mimetype": "text/x-python",
   "name": "python",
   "nbconvert_exporter": "python",
   "pygments_lexer": "ipython3",
   "version": "3.5.0"
  }
 },
 "nbformat": 4,
 "nbformat_minor": 0
}
