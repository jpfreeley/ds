{
 "cells": [
  {
   "cell_type": "markdown",
   "metadata": {},
   "source": [
    "Because of the deques, this code might not work on some python2 due to deque.insert()"
   ]
  },
  {
   "cell_type": "code",
   "execution_count": 1,
   "metadata": {
    "collapsed": true
   },
   "outputs": [],
   "source": [
    "from collections import deque"
   ]
  },
  {
   "cell_type": "code",
   "execution_count": 10,
   "metadata": {
    "collapsed": false
   },
   "outputs": [],
   "source": [
    "otherside.insert(1, 5)"
   ]
  },
  {
   "cell_type": "code",
   "execution_count": 11,
   "metadata": {
    "collapsed": false
   },
   "outputs": [
    {
     "data": {
      "text/plain": [
       "deque([1, 5, 2])"
      ]
     },
     "execution_count": 11,
     "metadata": {},
     "output_type": "execute_result"
    }
   ],
   "source": [
    "otherside"
   ]
  },
  {
   "cell_type": "markdown",
   "metadata": {},
   "source": [
    "Wasn't too concerned with making this look nice. 'badbb' and 'bacad' represent two different methods of traversing the bridge where the letter represents the limiting person crossing, alternating forward and backward. It assumes a subgroup to work with each iteration, [a, b, c, d] sorted from fastest(left) to slowest(right). "
   ]
  },
  {
   "cell_type": "code",
   "execution_count": 185,
   "metadata": {
    "collapsed": false
   },
   "outputs": [],
   "source": [
    "def find_optimal_time(people_times):\n",
    "    people_times = deque(sorted(people_times))\n",
    "    time = 0\n",
    "    other_side = deque()\n",
    "    i = 0\n",
    "    if len(people_times)==1:\n",
    "        return people_times[0]\n",
    "    else:\n",
    "        print(people_times, other_side)\n",
    "        while len(people_times) > 0:\n",
    "            if len(people_times) == 1:\n",
    "                print(i)\n",
    "                print(people_times, other_side)\n",
    "                person = people_times.pop()\n",
    "                time += person\n",
    "                other_side.appendleft(person)\n",
    "                break\n",
    "            \n",
    "            elif len(people_times) == 2:\n",
    "                print(i)\n",
    "\n",
    "                fastest = people_times.popleft()\n",
    "                fast = people_times.popleft()\n",
    "                time+=max(fast, fastest)\n",
    "                other_side.appendleft(fast)\n",
    "                other_side.appendleft(fastest)\n",
    "\n",
    "                if len(people_times) == 0:\n",
    "                    break\n",
    "\n",
    "            elif (people_times[0]+people_times[-2]) > 2*people_times[1]:\n",
    "                print('badbb')\n",
    "                print(i)\n",
    "\n",
    "                fastest = people_times.popleft()\n",
    "                fast = people_times.popleft()\n",
    "                time+=max(fast, fastest)\n",
    "                other_side.appendleft(fast)\n",
    "                other_side.appendleft(fastest)\n",
    "\n",
    "                if len(people_times) == 0:\n",
    "                    break\n",
    "\n",
    "                print(people_times, other_side)\n",
    "\n",
    "                returner = other_side.popleft()\n",
    "                time += returner\n",
    "                people_times.appendleft(returner)\n",
    "\n",
    "\n",
    "                print(people_times, other_side)\n",
    "\n",
    "                slowest = people_times.pop()\n",
    "                slow = people_times.pop()\n",
    "                time += max(slow,slowest)\n",
    "                other_side.append(slow)\n",
    "                other_side.append(slowest)\n",
    "\n",
    "                if len(people_times) == 0:\n",
    "                    break\n",
    "\n",
    "                print(people_times, other_side)\n",
    "\n",
    "                returner = other_side.popleft()\n",
    "                time += returner\n",
    "                people_times.insert(1, returner)\n",
    "                print(people_times, other_side)\n",
    "                print('Time so far: ', time)\n",
    "    \n",
    "                i+=1\n",
    "                \n",
    "            # if (people_times[0]+people_times[2])/2 <= people_times[1]\n",
    "            else:    \n",
    "                print('bacad')\n",
    "                print(i)\n",
    "\n",
    "\n",
    "                fastest = people_times.popleft()\n",
    "                slowest = people_times.pop()\n",
    "                time+=max(fastest, slowest)\n",
    "                other_side.append(slowest)\n",
    "                other_side.appendleft(fastest)\n",
    "\n",
    "                if len(people_times) == 0:\n",
    "                    break\n",
    "\n",
    "                print(people_times, other_side)\n",
    "\n",
    "                returner = other_side.popleft()\n",
    "                time += returner\n",
    "                people_times.appendleft(returner)\n",
    "                print(people_times, other_side)\n",
    "                print('Time so far: ', time)\n",
    "\n",
    "                i+=1\n",
    "    \n",
    "    print(people_times, other_side)\n",
    "    return time\n",
    "        \n",
    "        "
   ]
  },
  {
   "cell_type": "code",
   "execution_count": 186,
   "metadata": {
    "collapsed": false
   },
   "outputs": [
    {
     "name": "stdout",
     "output_type": "stream",
     "text": [
      "deque([1, 2, 5, 10]) deque([])\n",
      "badbb\n",
      "0\n",
      "deque([5, 10]) deque([1, 2])\n",
      "deque([1, 5, 10]) deque([2])\n",
      "deque([1]) deque([2, 5, 10])\n",
      "deque([1, 2]) deque([5, 10])\n",
      "Time so far:  15\n",
      "1\n",
      "deque([]) deque([1, 2, 5, 10])\n"
     ]
    },
    {
     "data": {
      "text/plain": [
       "17"
      ]
     },
     "execution_count": 186,
     "metadata": {},
     "output_type": "execute_result"
    }
   ],
   "source": [
    "find_optimal_time([1,2,5,10])"
   ]
  },
  {
   "cell_type": "code",
   "execution_count": 187,
   "metadata": {
    "collapsed": false
   },
   "outputs": [
    {
     "name": "stdout",
     "output_type": "stream",
     "text": [
      "deque([1, 3, 5]) deque([])\n",
      "bacad\n",
      "0\n",
      "deque([3]) deque([1, 5])\n",
      "deque([1, 3]) deque([5])\n",
      "Time so far:  6\n",
      "1\n",
      "deque([]) deque([1, 3, 5])\n"
     ]
    },
    {
     "data": {
      "text/plain": [
       "9"
      ]
     },
     "execution_count": 187,
     "metadata": {},
     "output_type": "execute_result"
    }
   ],
   "source": [
    "find_optimal_time([1,3,5])"
   ]
  },
  {
   "cell_type": "code",
   "execution_count": 188,
   "metadata": {
    "collapsed": false,
    "scrolled": false
   },
   "outputs": [
    {
     "name": "stdout",
     "output_type": "stream",
     "text": [
      "deque([1, 2, 5, 10, 20, 21, 33, 40]) deque([])\n",
      "badbb\n",
      "0\n",
      "deque([5, 10, 20, 21, 33, 40]) deque([1, 2])\n",
      "deque([1, 5, 10, 20, 21, 33, 40]) deque([2])\n",
      "deque([1, 5, 10, 20, 21]) deque([2, 33, 40])\n",
      "deque([1, 2, 5, 10, 20, 21]) deque([33, 40])\n",
      "Time so far:  45\n",
      "badbb\n",
      "1\n",
      "deque([5, 10, 20, 21]) deque([1, 2, 33, 40])\n",
      "deque([1, 5, 10, 20, 21]) deque([2, 33, 40])\n",
      "deque([1, 5, 10]) deque([2, 33, 40, 20, 21])\n",
      "deque([1, 2, 5, 10]) deque([33, 40, 20, 21])\n",
      "Time so far:  71\n",
      "badbb\n",
      "2\n",
      "deque([5, 10]) deque([1, 2, 33, 40, 20, 21])\n",
      "deque([1, 5, 10]) deque([2, 33, 40, 20, 21])\n",
      "deque([1]) deque([2, 33, 40, 20, 21, 5, 10])\n",
      "deque([1, 2]) deque([33, 40, 20, 21, 5, 10])\n",
      "Time so far:  86\n",
      "3\n",
      "deque([]) deque([1, 2, 33, 40, 20, 21, 5, 10])\n"
     ]
    },
    {
     "data": {
      "text/plain": [
       "88"
      ]
     },
     "execution_count": 188,
     "metadata": {},
     "output_type": "execute_result"
    }
   ],
   "source": [
    "find_optimal_time([1,2,5,10,20,21,33,40])"
   ]
  },
  {
   "cell_type": "code",
   "execution_count": 189,
   "metadata": {
    "collapsed": false
   },
   "outputs": [
    {
     "data": {
      "text/plain": [
       "5"
      ]
     },
     "execution_count": 189,
     "metadata": {},
     "output_type": "execute_result"
    }
   ],
   "source": [
    "find_optimal_time([5])"
   ]
  },
  {
   "cell_type": "code",
   "execution_count": 190,
   "metadata": {
    "collapsed": false
   },
   "outputs": [
    {
     "name": "stdout",
     "output_type": "stream",
     "text": [
      "deque([1, 7, 8, 9]) deque([])\n",
      "bacad\n",
      "0\n",
      "deque([7, 8]) deque([1, 9])\n",
      "deque([1, 7, 8]) deque([9])\n",
      "Time so far:  10\n",
      "bacad\n",
      "1\n",
      "deque([7]) deque([1, 9, 8])\n",
      "deque([1, 7]) deque([9, 8])\n",
      "Time so far:  19\n",
      "2\n",
      "deque([]) deque([1, 7, 9, 8])\n"
     ]
    },
    {
     "data": {
      "text/plain": [
       "26"
      ]
     },
     "execution_count": 190,
     "metadata": {},
     "output_type": "execute_result"
    }
   ],
   "source": [
    "find_optimal_time([1,7,8,9])"
   ]
  },
  {
   "cell_type": "code",
   "execution_count": 191,
   "metadata": {
    "collapsed": false
   },
   "outputs": [
    {
     "name": "stdout",
     "output_type": "stream",
     "text": [
      "deque([1, 3, 4, 6, 8, 9]) deque([])\n",
      "badbb\n",
      "0\n",
      "deque([4, 6, 8, 9]) deque([1, 3])\n",
      "deque([1, 4, 6, 8, 9]) deque([3])\n",
      "deque([1, 4, 6]) deque([3, 8, 9])\n",
      "deque([1, 3, 4, 6]) deque([8, 9])\n",
      "Time so far:  16\n",
      "bacad\n",
      "1\n",
      "deque([3, 4]) deque([1, 8, 9, 6])\n",
      "deque([1, 3, 4]) deque([8, 9, 6])\n",
      "Time so far:  23\n",
      "bacad\n",
      "2\n",
      "deque([3]) deque([1, 8, 9, 6, 4])\n",
      "deque([1, 3]) deque([8, 9, 6, 4])\n",
      "Time so far:  28\n",
      "3\n",
      "deque([]) deque([1, 3, 8, 9, 6, 4])\n"
     ]
    },
    {
     "data": {
      "text/plain": [
       "31"
      ]
     },
     "execution_count": 191,
     "metadata": {},
     "output_type": "execute_result"
    }
   ],
   "source": [
    "find_optimal_time([8,9,1,4,3,6])"
   ]
  },
  {
   "cell_type": "code",
   "execution_count": null,
   "metadata": {
    "collapsed": true
   },
   "outputs": [],
   "source": []
  },
  {
   "cell_type": "code",
   "execution_count": null,
   "metadata": {
    "collapsed": true
   },
   "outputs": [],
   "source": []
  },
  {
   "cell_type": "code",
   "execution_count": null,
   "metadata": {
    "collapsed": true
   },
   "outputs": [],
   "source": []
  }
 ],
 "metadata": {
  "kernelspec": {
   "display_name": "Python 3",
   "language": "python",
   "name": "python3"
  },
  "language_info": {
   "codemirror_mode": {
    "name": "ipython",
    "version": 3
   },
   "file_extension": ".py",
   "mimetype": "text/x-python",
   "name": "python",
   "nbconvert_exporter": "python",
   "pygments_lexer": "ipython3",
   "version": "3.5.1"
  }
 },
 "nbformat": 4,
 "nbformat_minor": 0
}
