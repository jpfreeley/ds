{
 "cells": [
  {
   "cell_type": "code",
   "execution_count": 14,
   "metadata": {
    "collapsed": true
   },
   "outputs": [],
   "source": [
    "from IPython.display import clear_output\n",
    "from time import sleep\n",
    "from copy import deepcopy\n",
    "\n"
   ]
  },
  {
   "cell_type": "code",
   "execution_count": 15,
   "metadata": {
    "collapsed": true
   },
   "outputs": [],
   "source": [
    "default = [[0,0,0,0,0,0,0,0,0,0],\n",
    "           [0,0,0,0,0,0,0,0,0,0],\n",
    "           [0,0,0,0,0,0,0,0,0,0],\n",
    "           [0,0,0,0,0,0,0,0,0,0],\n",
    "           [0,0,0,0,0,0,0,0,0,0],\n",
    "           [0,0,0,0,0,0,0,0,0,0],\n",
    "           [0,0,0,0,0,0,0,0,0,0],\n",
    "           [0,0,0,0,0,0,0,0,0,0],\n",
    "           [0,0,0,0,0,0,0,0,0,0],\n",
    "           [0,0,0,0,0,0,0,0,0,0],\n",
    "          ]\n",
    "\n",
    "example = [[0,0,0,0,0,0,0,0,0,0],\n",
    "           [0,0,0,0,0,0,0,0,0,0],\n",
    "           [0,0,0,0,0,0,0,0,0,0],\n",
    "           [0,0,0,0,1,0,0,0,0,0],\n",
    "           [0,0,0,0,0,1,0,0,0,0],\n",
    "           [0,0,0,1,1,1,0,0,0,0],\n",
    "           [0,0,0,0,0,0,0,0,0,0],\n",
    "           [0,0,0,0,0,0,0,0,0,0],\n",
    "           [0,0,0,0,0,0,0,0,0,0],\n",
    "           [0,0,0,0,0,0,0,0,0,0],\n",
    "          ]\n",
    "\n"
   ]
  },
  {
   "cell_type": "code",
   "execution_count": 16,
   "metadata": {
    "collapsed": false
   },
   "outputs": [],
   "source": [
    "def ifPopulated(board, i , j):\n",
    "    if i >= len(board):\n",
    "        i = 0\n",
    "    if j >= len(board[i]):\n",
    "        j = 0\n",
    "    if board[i][j] == 1:\n",
    "        return 1\n",
    "    else:\n",
    "        return 0"
   ]
  },
  {
   "cell_type": "code",
   "execution_count": 22,
   "metadata": {
    "collapsed": false
   },
   "outputs": [],
   "source": [
    "def gameOfLife(input1, num_loops):\n",
    "    board = deepcopy(input1)\n",
    "    for _ in range(num_loops):\n",
    "        clear_output(wait=True)\n",
    "\n",
    "        neighbors = [[0,0,0,0,0,0,0,0,0,0],\n",
    "                     [0,0,0,0,0,0,0,0,0,0],\n",
    "                     [0,0,0,0,0,0,0,0,0,0],\n",
    "                     [0,0,0,0,0,0,0,0,0,0],\n",
    "                     [0,0,0,0,0,0,0,0,0,0],\n",
    "                     [0,0,0,0,0,0,0,0,0,0],\n",
    "                     [0,0,0,0,0,0,0,0,0,0],\n",
    "                     [0,0,0,0,0,0,0,0,0,0],\n",
    "                     [0,0,0,0,0,0,0,0,0,0],\n",
    "                     [0,0,0,0,0,0,0,0,0,0],\n",
    "                    ]\n",
    "        for i, line in enumerate(board):\n",
    "            for j, cell in enumerate(line):\n",
    "                neighbor_sum = 0\n",
    "                neighbor_sum += ifPopulated( board, i-1, j-1)\n",
    "                neighbor_sum += ifPopulated( board, i-1, j)\n",
    "                neighbor_sum += ifPopulated( board, i, j-1)\n",
    "                neighbor_sum += ifPopulated( board, i-1, j+1)\n",
    "                neighbor_sum += ifPopulated( board, i, j+1)\n",
    "                neighbor_sum += ifPopulated( board, i+1, j+1)\n",
    "                neighbor_sum += ifPopulated( board, i+1, j-1)\n",
    "                neighbor_sum += ifPopulated( board, i+1, j)\n",
    "                #print(neighbor_sum)\n",
    "                \n",
    "                \n",
    "                neighbors[i][j] = neighbor_sum\n",
    "                \n",
    "        for i, line in enumerate(board):\n",
    "            for j, cell in enumerate(line):\n",
    "                if cell == 1:\n",
    "                    if neighbors[i][j] <= 1:\n",
    "                        board[i][j] = 0\n",
    "                    elif neighbors[i][j] >= 4:\n",
    "                        board[i][j] = 0\n",
    "                    elif neighbors[i][j] == 2 or neighbors[i][j] == 3:\n",
    "                        board[i][j] = 1\n",
    "\n",
    "                elif cell == 0:\n",
    "                    if neighbors[i][j] ==  3:\n",
    "                        board[i][j] = 1\n",
    "                    else:\n",
    "                        board[i][j] = 0\n",
    "                    \n",
    "                print(str(board[i][j]) + ' ', end=\"\")\n",
    "                \n",
    "            print('')\n",
    "\n",
    "        sleep(.5)\n",
    "    "
   ]
  },
  {
   "cell_type": "code",
   "execution_count": 23,
   "metadata": {
    "collapsed": false
   },
   "outputs": [
    {
     "name": "stdout",
     "output_type": "stream",
     "text": [
      "1 0 0 0 0 0 0 0 1 1 \n",
      "0 0 0 0 0 0 0 0 0 0 \n",
      "0 0 0 0 0 0 0 0 0 0 \n",
      "0 0 0 0 0 0 0 0 0 0 \n",
      "0 0 0 0 0 0 0 0 0 0 \n",
      "0 0 0 0 0 0 0 0 0 0 \n",
      "0 0 0 0 0 0 0 0 0 0 \n",
      "0 0 0 0 0 0 0 0 0 0 \n",
      "0 0 0 0 0 0 0 0 0 1 \n",
      "1 0 0 0 0 0 0 0 0 0 \n"
     ]
    }
   ],
   "source": [
    "gameOfLife(example, 100)"
   ]
  },
  {
   "cell_type": "code",
   "execution_count": null,
   "metadata": {
    "collapsed": true
   },
   "outputs": [],
   "source": []
  },
  {
   "cell_type": "code",
   "execution_count": null,
   "metadata": {
    "collapsed": true
   },
   "outputs": [],
   "source": []
  }
 ],
 "metadata": {
  "kernelspec": {
   "display_name": "Python 3",
   "language": "python",
   "name": "python3"
  },
  "language_info": {
   "codemirror_mode": {
    "name": "ipython",
    "version": 3
   },
   "file_extension": ".py",
   "mimetype": "text/x-python",
   "name": "python",
   "nbconvert_exporter": "python",
   "pygments_lexer": "ipython3",
   "version": "3.5.0"
  }
 },
 "nbformat": 4,
 "nbformat_minor": 0
}
