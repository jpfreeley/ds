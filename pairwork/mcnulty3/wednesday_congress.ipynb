{
 "cells": [
  {
   "cell_type": "code",
   "execution_count": 21,
   "metadata": {
    "collapsed": true
   },
   "outputs": [],
   "source": [
    "import pandas as pd\n",
    "import json\n",
    "from pandas.io.json import json_normalize"
   ]
  },
  {
   "cell_type": "code",
   "execution_count": 9,
   "metadata": {
    "collapsed": false
   },
   "outputs": [],
   "source": [
    "with open('congress_data.txt') as f:\n",
    "    json_string = f.read()"
   ]
  },
  {
   "cell_type": "code",
   "execution_count": 28,
   "metadata": {
    "collapsed": false,
    "scrolled": true
   },
   "outputs": [],
   "source": [
    "parsed_json = json.loads(json_string)\n",
    "parsed_json = json_normalize(parsed_json['results'])"
   ]
  },
  {
   "cell_type": "code",
   "execution_count": 31,
   "metadata": {
    "collapsed": false
   },
   "outputs": [
    {
     "data": {
      "text/html": [
       "<div>\n",
       "<table border=\"1\" class=\"dataframe\">\n",
       "  <thead>\n",
       "    <tr style=\"text-align: right;\">\n",
       "      <th></th>\n",
       "      <th>count</th>\n",
       "      <th>percentage</th>\n",
       "      <th>total</th>\n",
       "      <th>year</th>\n",
       "    </tr>\n",
       "  </thead>\n",
       "  <tbody>\n",
       "    <tr>\n",
       "      <th>0</th>\n",
       "      <td>2290</td>\n",
       "      <td>0.010505</td>\n",
       "      <td>21799916</td>\n",
       "      <td>1996</td>\n",
       "    </tr>\n",
       "    <tr>\n",
       "      <th>1</th>\n",
       "      <td>2716</td>\n",
       "      <td>0.011318</td>\n",
       "      <td>23997006</td>\n",
       "      <td>1997</td>\n",
       "    </tr>\n",
       "    <tr>\n",
       "      <th>2</th>\n",
       "      <td>2542</td>\n",
       "      <td>0.010861</td>\n",
       "      <td>23403943</td>\n",
       "      <td>1998</td>\n",
       "    </tr>\n",
       "    <tr>\n",
       "      <th>3</th>\n",
       "      <td>3891</td>\n",
       "      <td>0.015293</td>\n",
       "      <td>25443659</td>\n",
       "      <td>1999</td>\n",
       "    </tr>\n",
       "    <tr>\n",
       "      <th>4</th>\n",
       "      <td>2538</td>\n",
       "      <td>0.010574</td>\n",
       "      <td>24002468</td>\n",
       "      <td>2000</td>\n",
       "    </tr>\n",
       "    <tr>\n",
       "      <th>5</th>\n",
       "      <td>2025</td>\n",
       "      <td>0.008444</td>\n",
       "      <td>23981155</td>\n",
       "      <td>2001</td>\n",
       "    </tr>\n",
       "    <tr>\n",
       "      <th>6</th>\n",
       "      <td>2780</td>\n",
       "      <td>0.012154</td>\n",
       "      <td>22873558</td>\n",
       "      <td>2002</td>\n",
       "    </tr>\n",
       "    <tr>\n",
       "      <th>7</th>\n",
       "      <td>2804</td>\n",
       "      <td>0.010210</td>\n",
       "      <td>27462812</td>\n",
       "      <td>2003</td>\n",
       "    </tr>\n",
       "    <tr>\n",
       "      <th>8</th>\n",
       "      <td>2899</td>\n",
       "      <td>0.012418</td>\n",
       "      <td>23346083</td>\n",
       "      <td>2004</td>\n",
       "    </tr>\n",
       "    <tr>\n",
       "      <th>9</th>\n",
       "      <td>3414</td>\n",
       "      <td>0.012323</td>\n",
       "      <td>27703478</td>\n",
       "      <td>2005</td>\n",
       "    </tr>\n",
       "    <tr>\n",
       "      <th>10</th>\n",
       "      <td>3246</td>\n",
       "      <td>0.013803</td>\n",
       "      <td>23516149</td>\n",
       "      <td>2006</td>\n",
       "    </tr>\n",
       "    <tr>\n",
       "      <th>11</th>\n",
       "      <td>5248</td>\n",
       "      <td>0.015655</td>\n",
       "      <td>33522062</td>\n",
       "      <td>2007</td>\n",
       "    </tr>\n",
       "    <tr>\n",
       "      <th>12</th>\n",
       "      <td>4652</td>\n",
       "      <td>0.016450</td>\n",
       "      <td>28279993</td>\n",
       "      <td>2008</td>\n",
       "    </tr>\n",
       "    <tr>\n",
       "      <th>13</th>\n",
       "      <td>6080</td>\n",
       "      <td>0.032579</td>\n",
       "      <td>18662048</td>\n",
       "      <td>2009</td>\n",
       "    </tr>\n",
       "    <tr>\n",
       "      <th>14</th>\n",
       "      <td>3315</td>\n",
       "      <td>0.014778</td>\n",
       "      <td>22431238</td>\n",
       "      <td>2010</td>\n",
       "    </tr>\n",
       "    <tr>\n",
       "      <th>15</th>\n",
       "      <td>2099</td>\n",
       "      <td>0.010088</td>\n",
       "      <td>20806450</td>\n",
       "      <td>2011</td>\n",
       "    </tr>\n",
       "    <tr>\n",
       "      <th>16</th>\n",
       "      <td>2019</td>\n",
       "      <td>0.013585</td>\n",
       "      <td>14861605</td>\n",
       "      <td>2012</td>\n",
       "    </tr>\n",
       "    <tr>\n",
       "      <th>17</th>\n",
       "      <td>2052</td>\n",
       "      <td>0.012193</td>\n",
       "      <td>16829106</td>\n",
       "      <td>2013</td>\n",
       "    </tr>\n",
       "    <tr>\n",
       "      <th>18</th>\n",
       "      <td>2365</td>\n",
       "      <td>0.018156</td>\n",
       "      <td>13026007</td>\n",
       "      <td>2014</td>\n",
       "    </tr>\n",
       "    <tr>\n",
       "      <th>19</th>\n",
       "      <td>2774</td>\n",
       "      <td>0.020838</td>\n",
       "      <td>13312127</td>\n",
       "      <td>2015</td>\n",
       "    </tr>\n",
       "  </tbody>\n",
       "</table>\n",
       "</div>"
      ],
      "text/plain": [
       "    count  percentage     total  year\n",
       "0    2290    0.010505  21799916  1996\n",
       "1    2716    0.011318  23997006  1997\n",
       "2    2542    0.010861  23403943  1998\n",
       "3    3891    0.015293  25443659  1999\n",
       "4    2538    0.010574  24002468  2000\n",
       "5    2025    0.008444  23981155  2001\n",
       "6    2780    0.012154  22873558  2002\n",
       "7    2804    0.010210  27462812  2003\n",
       "8    2899    0.012418  23346083  2004\n",
       "9    3414    0.012323  27703478  2005\n",
       "10   3246    0.013803  23516149  2006\n",
       "11   5248    0.015655  33522062  2007\n",
       "12   4652    0.016450  28279993  2008\n",
       "13   6080    0.032579  18662048  2009\n",
       "14   3315    0.014778  22431238  2010\n",
       "15   2099    0.010088  20806450  2011\n",
       "16   2019    0.013585  14861605  2012\n",
       "17   2052    0.012193  16829106  2013\n",
       "18   2365    0.018156  13026007  2014\n",
       "19   2774    0.020838  13312127  2015"
      ]
     },
     "execution_count": 31,
     "metadata": {},
     "output_type": "execute_result"
    }
   ],
   "source": [
    "parsed_json"
   ]
  },
  {
   "cell_type": "code",
   "execution_count": 32,
   "metadata": {
    "collapsed": false
   },
   "outputs": [
    {
     "data": {
      "text/plain": [
       "array([2290, 2716, 2542, 3891, 2538, 2025, 2780, 2804, 2899, 3414, 3246,\n",
       "       5248, 4652, 6080, 3315, 2099, 2019, 2052, 2365, 2774])"
      ]
     },
     "execution_count": 32,
     "metadata": {},
     "output_type": "execute_result"
    }
   ],
   "source": [
    "parsed_json['count'].values"
   ]
  },
  {
   "cell_type": "code",
   "execution_count": 33,
   "metadata": {
    "collapsed": true
   },
   "outputs": [],
   "source": [
    "df = parsed_json[['year', 'percentage']]"
   ]
  },
  {
   "cell_type": "code",
   "execution_count": 38,
   "metadata": {
    "collapsed": true
   },
   "outputs": [],
   "source": [
    "df.to_csv('wednesday_xy.tsv', sep='\\t', index=False)"
   ]
  },
  {
   "cell_type": "code",
   "execution_count": null,
   "metadata": {
    "collapsed": true
   },
   "outputs": [],
   "source": []
  }
 ],
 "metadata": {
  "kernelspec": {
   "display_name": "Python 3",
   "language": "python",
   "name": "python3"
  },
  "language_info": {
   "codemirror_mode": {
    "name": "ipython",
    "version": 3
   },
   "file_extension": ".py",
   "mimetype": "text/x-python",
   "name": "python",
   "nbconvert_exporter": "python",
   "pygments_lexer": "ipython3",
   "version": "3.5.0"
  }
 },
 "nbformat": 4,
 "nbformat_minor": 0
}
