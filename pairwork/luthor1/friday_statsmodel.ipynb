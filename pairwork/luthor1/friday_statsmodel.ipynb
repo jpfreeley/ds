{
 "cells": [
  {
   "cell_type": "code",
   "execution_count": 4,
   "metadata": {
    "collapsed": false
   },
   "outputs": [
    {
     "name": "stderr",
     "output_type": "stream",
     "text": [
      "/Users/kenn/anaconda/lib/python3.5/site-packages/matplotlib/__init__.py:872: UserWarning: axes.color_cycle is deprecated and replaced with axes.prop_cycle; please use the latter.\n",
      "  warnings.warn(self.msg_depr % (key, alt_key))\n"
     ]
    }
   ],
   "source": [
    "import random\n",
    "import numpy as np\n",
    "import pandas as pd\n",
    "import statsmodels.api as sm\n",
    "import seaborn as sns\n",
    "import matplotlib.pyplot as plt\n",
    "%matplotlib inline"
   ]
  },
  {
   "cell_type": "code",
   "execution_count": 5,
   "metadata": {
    "collapsed": false
   },
   "outputs": [],
   "source": [
    "y_values = np.array([random.random()*10 for x in range(200)])"
   ]
  },
  {
   "cell_type": "code",
   "execution_count": 6,
   "metadata": {
    "collapsed": false
   },
   "outputs": [
    {
     "name": "stdout",
     "output_type": "stream",
     "text": [
      "(200,)\n"
     ]
    }
   ],
   "source": [
    "print(y_values.shape)"
   ]
  },
  {
   "cell_type": "code",
   "execution_count": 31,
   "metadata": {
    "collapsed": false
   },
   "outputs": [],
   "source": [
    "x_values = np.random.randn(200, 20)\n",
    "x_values  = sm.add_constant(x_values)"
   ]
  },
  {
   "cell_type": "code",
   "execution_count": 32,
   "metadata": {
    "collapsed": false,
    "scrolled": false
   },
   "outputs": [
    {
     "name": "stdout",
     "output_type": "stream",
     "text": [
      "(200, 21)\n"
     ]
    }
   ],
   "source": [
    "print(x_values.shape)"
   ]
  },
  {
   "cell_type": "code",
   "execution_count": 34,
   "metadata": {
    "collapsed": false
   },
   "outputs": [
    {
     "name": "stdout",
     "output_type": "stream",
     "text": [
      "   0         1         2         3         4         5         6         7   \\\n",
      "0   1  0.377953  2.035439  1.293103  1.670890 -0.375805  0.714043 -0.603639   \n",
      "1   1  1.472930  0.402922 -0.995643  0.546270  0.099363  0.626229 -0.295373   \n",
      "2   1  1.450603 -1.117145  0.118194  0.130026  0.138898  1.528756  0.708547   \n",
      "3   1 -0.301029 -0.236533  0.956292 -0.586589  0.340391  0.161275 -0.520283   \n",
      "4   1 -0.783579  0.661201  0.484801  0.150870  1.675218  0.025640  1.038360   \n",
      "\n",
      "         8         9     ...           11        12        13        14  \\\n",
      "0  0.496677  1.833681    ...     0.962509  0.282149 -0.987021  1.346188   \n",
      "1  0.076342 -0.544490    ...     0.283633  0.815548 -0.311559  0.910021   \n",
      "2 -0.782356  2.988030    ...     0.578387 -2.924248 -0.208166 -0.360576   \n",
      "3 -1.628584 -0.694824    ...    -2.845164 -0.785266 -0.622762  0.864420   \n",
      "4  0.128006 -0.058958    ...     0.489810  0.476494  0.220680 -1.322885   \n",
      "\n",
      "         15        16        17        18        19        20  \n",
      "0  1.750537  0.259409  1.446842  1.850152  1.896349  1.019879  \n",
      "1 -0.607655 -0.418928 -0.063614 -0.566164  0.374924 -1.929325  \n",
      "2  0.104647 -0.803534 -0.503394 -1.304582  0.995691 -0.031091  \n",
      "3  0.312082  0.078983  0.262743  1.289815  0.161025 -1.793659  \n",
      "4  1.274016  0.627887 -0.614214  1.453636 -1.123712 -0.587243  \n",
      "\n",
      "[5 rows x 21 columns]\n"
     ]
    }
   ],
   "source": [
    "print(pd.DataFrame(x_values).head())"
   ]
  },
  {
   "cell_type": "code",
   "execution_count": 18,
   "metadata": {
    "collapsed": false
   },
   "outputs": [],
   "source": [
    "model = sm.OLS(y_values,x_values)"
   ]
  },
  {
   "cell_type": "code",
   "execution_count": 19,
   "metadata": {
    "collapsed": false
   },
   "outputs": [],
   "source": [
    "result = model.fit()"
   ]
  },
  {
   "cell_type": "code",
   "execution_count": 20,
   "metadata": {
    "collapsed": false
   },
   "outputs": [
    {
     "name": "stdout",
     "output_type": "stream",
     "text": [
      "0.0734330399127 -0.0300939947339\n"
     ]
    }
   ],
   "source": [
    "print(result.rsquared, result.rsquared_adj)"
   ]
  },
  {
   "cell_type": "code",
   "execution_count": 21,
   "metadata": {
    "collapsed": false
   },
   "outputs": [
    {
     "data": {
      "text/html": [
       "<table class=\"simpletable\">\n",
       "<caption>OLS Regression Results</caption>\n",
       "<tr>\n",
       "  <th>Dep. Variable:</th>            <td>y</td>        <th>  R-squared:         </th> <td>   0.073</td>\n",
       "</tr>\n",
       "<tr>\n",
       "  <th>Model:</th>                   <td>OLS</td>       <th>  Adj. R-squared:    </th> <td>  -0.030</td>\n",
       "</tr>\n",
       "<tr>\n",
       "  <th>Method:</th>             <td>Least Squares</td>  <th>  F-statistic:       </th> <td>  0.7093</td>\n",
       "</tr>\n",
       "<tr>\n",
       "  <th>Date:</th>             <td>Fri, 22 Jan 2016</td> <th>  Prob (F-statistic):</th>  <td> 0.814</td> \n",
       "</tr>\n",
       "<tr>\n",
       "  <th>Time:</th>                 <td>11:25:45</td>     <th>  Log-Likelihood:    </th> <td> -487.10</td>\n",
       "</tr>\n",
       "<tr>\n",
       "  <th>No. Observations:</th>      <td>   200</td>      <th>  AIC:               </th> <td>   1016.</td>\n",
       "</tr>\n",
       "<tr>\n",
       "  <th>Df Residuals:</th>          <td>   179</td>      <th>  BIC:               </th> <td>   1085.</td>\n",
       "</tr>\n",
       "<tr>\n",
       "  <th>Df Model:</th>              <td>    20</td>      <th>                     </th>     <td> </td>   \n",
       "</tr>\n",
       "<tr>\n",
       "  <th>Covariance Type:</th>      <td>nonrobust</td>    <th>                     </th>     <td> </td>   \n",
       "</tr>\n",
       "</table>\n",
       "<table class=\"simpletable\">\n",
       "<tr>\n",
       "    <td></td>       <th>coef</th>     <th>std err</th>      <th>t</th>      <th>P>|t|</th> <th>[95.0% Conf. Int.]</th> \n",
       "</tr>\n",
       "<tr>\n",
       "  <th>const</th> <td>    4.9865</td> <td>    0.217</td> <td>   23.018</td> <td> 0.000</td> <td>    4.559     5.414</td>\n",
       "</tr>\n",
       "<tr>\n",
       "  <th>x1</th>    <td>    0.1163</td> <td>    0.221</td> <td>    0.526</td> <td> 0.600</td> <td>   -0.320     0.553</td>\n",
       "</tr>\n",
       "<tr>\n",
       "  <th>x2</th>    <td>    0.2882</td> <td>    0.218</td> <td>    1.320</td> <td> 0.188</td> <td>   -0.143     0.719</td>\n",
       "</tr>\n",
       "<tr>\n",
       "  <th>x3</th>    <td>   -0.1560</td> <td>    0.215</td> <td>   -0.726</td> <td> 0.468</td> <td>   -0.580     0.268</td>\n",
       "</tr>\n",
       "<tr>\n",
       "  <th>x4</th>    <td>   -0.2425</td> <td>    0.203</td> <td>   -1.193</td> <td> 0.235</td> <td>   -0.644     0.159</td>\n",
       "</tr>\n",
       "<tr>\n",
       "  <th>x5</th>    <td>   -0.1120</td> <td>    0.212</td> <td>   -0.530</td> <td> 0.597</td> <td>   -0.530     0.305</td>\n",
       "</tr>\n",
       "<tr>\n",
       "  <th>x6</th>    <td>    0.1468</td> <td>    0.222</td> <td>    0.663</td> <td> 0.508</td> <td>   -0.290     0.584</td>\n",
       "</tr>\n",
       "<tr>\n",
       "  <th>x7</th>    <td>   -0.1823</td> <td>    0.215</td> <td>   -0.847</td> <td> 0.398</td> <td>   -0.607     0.242</td>\n",
       "</tr>\n",
       "<tr>\n",
       "  <th>x8</th>    <td>   -0.1735</td> <td>    0.211</td> <td>   -0.824</td> <td> 0.411</td> <td>   -0.589     0.242</td>\n",
       "</tr>\n",
       "<tr>\n",
       "  <th>x9</th>    <td>   -0.2054</td> <td>    0.213</td> <td>   -0.965</td> <td> 0.336</td> <td>   -0.626     0.215</td>\n",
       "</tr>\n",
       "<tr>\n",
       "  <th>x10</th>   <td>    0.0402</td> <td>    0.207</td> <td>    0.194</td> <td> 0.846</td> <td>   -0.368     0.449</td>\n",
       "</tr>\n",
       "<tr>\n",
       "  <th>x11</th>   <td>    0.0924</td> <td>    0.209</td> <td>    0.443</td> <td> 0.659</td> <td>   -0.319     0.504</td>\n",
       "</tr>\n",
       "<tr>\n",
       "  <th>x12</th>   <td>   -0.4366</td> <td>    0.234</td> <td>   -1.862</td> <td> 0.064</td> <td>   -0.899     0.026</td>\n",
       "</tr>\n",
       "<tr>\n",
       "  <th>x13</th>   <td>    0.0201</td> <td>    0.194</td> <td>    0.104</td> <td> 0.917</td> <td>   -0.362     0.402</td>\n",
       "</tr>\n",
       "<tr>\n",
       "  <th>x14</th>   <td>    0.0627</td> <td>    0.211</td> <td>    0.297</td> <td> 0.767</td> <td>   -0.354     0.479</td>\n",
       "</tr>\n",
       "<tr>\n",
       "  <th>x15</th>   <td>    0.0596</td> <td>    0.224</td> <td>    0.266</td> <td> 0.791</td> <td>   -0.383     0.502</td>\n",
       "</tr>\n",
       "<tr>\n",
       "  <th>x16</th>   <td>    0.0739</td> <td>    0.208</td> <td>    0.355</td> <td> 0.723</td> <td>   -0.337     0.485</td>\n",
       "</tr>\n",
       "<tr>\n",
       "  <th>x17</th>   <td>    0.3277</td> <td>    0.211</td> <td>    1.557</td> <td> 0.121</td> <td>   -0.088     0.743</td>\n",
       "</tr>\n",
       "<tr>\n",
       "  <th>x18</th>   <td>    0.0014</td> <td>    0.222</td> <td>    0.006</td> <td> 0.995</td> <td>   -0.437     0.440</td>\n",
       "</tr>\n",
       "<tr>\n",
       "  <th>x19</th>   <td>   -0.0068</td> <td>    0.212</td> <td>   -0.032</td> <td> 0.975</td> <td>   -0.425     0.411</td>\n",
       "</tr>\n",
       "<tr>\n",
       "  <th>x20</th>   <td>   -0.2111</td> <td>    0.238</td> <td>   -0.886</td> <td> 0.377</td> <td>   -0.681     0.259</td>\n",
       "</tr>\n",
       "</table>\n",
       "<table class=\"simpletable\">\n",
       "<tr>\n",
       "  <th>Omnibus:</th>       <td>24.476</td> <th>  Durbin-Watson:     </th> <td>   2.035</td>\n",
       "</tr>\n",
       "<tr>\n",
       "  <th>Prob(Omnibus):</th> <td> 0.000</td> <th>  Jarque-Bera (JB):  </th> <td>   7.345</td>\n",
       "</tr>\n",
       "<tr>\n",
       "  <th>Skew:</th>          <td>-0.079</td> <th>  Prob(JB):          </th> <td>  0.0254</td>\n",
       "</tr>\n",
       "<tr>\n",
       "  <th>Kurtosis:</th>      <td> 2.075</td> <th>  Cond. No.          </th> <td>    1.85</td>\n",
       "</tr>\n",
       "</table>"
      ],
      "text/plain": [
       "<class 'statsmodels.iolib.summary.Summary'>\n",
       "\"\"\"\n",
       "                            OLS Regression Results                            \n",
       "==============================================================================\n",
       "Dep. Variable:                      y   R-squared:                       0.073\n",
       "Model:                            OLS   Adj. R-squared:                 -0.030\n",
       "Method:                 Least Squares   F-statistic:                    0.7093\n",
       "Date:                Fri, 22 Jan 2016   Prob (F-statistic):              0.814\n",
       "Time:                        11:25:45   Log-Likelihood:                -487.10\n",
       "No. Observations:                 200   AIC:                             1016.\n",
       "Df Residuals:                     179   BIC:                             1085.\n",
       "Df Model:                          20                                         \n",
       "Covariance Type:            nonrobust                                         \n",
       "==============================================================================\n",
       "                 coef    std err          t      P>|t|      [95.0% Conf. Int.]\n",
       "------------------------------------------------------------------------------\n",
       "const          4.9865      0.217     23.018      0.000         4.559     5.414\n",
       "x1             0.1163      0.221      0.526      0.600        -0.320     0.553\n",
       "x2             0.2882      0.218      1.320      0.188        -0.143     0.719\n",
       "x3            -0.1560      0.215     -0.726      0.468        -0.580     0.268\n",
       "x4            -0.2425      0.203     -1.193      0.235        -0.644     0.159\n",
       "x5            -0.1120      0.212     -0.530      0.597        -0.530     0.305\n",
       "x6             0.1468      0.222      0.663      0.508        -0.290     0.584\n",
       "x7            -0.1823      0.215     -0.847      0.398        -0.607     0.242\n",
       "x8            -0.1735      0.211     -0.824      0.411        -0.589     0.242\n",
       "x9            -0.2054      0.213     -0.965      0.336        -0.626     0.215\n",
       "x10            0.0402      0.207      0.194      0.846        -0.368     0.449\n",
       "x11            0.0924      0.209      0.443      0.659        -0.319     0.504\n",
       "x12           -0.4366      0.234     -1.862      0.064        -0.899     0.026\n",
       "x13            0.0201      0.194      0.104      0.917        -0.362     0.402\n",
       "x14            0.0627      0.211      0.297      0.767        -0.354     0.479\n",
       "x15            0.0596      0.224      0.266      0.791        -0.383     0.502\n",
       "x16            0.0739      0.208      0.355      0.723        -0.337     0.485\n",
       "x17            0.3277      0.211      1.557      0.121        -0.088     0.743\n",
       "x18            0.0014      0.222      0.006      0.995        -0.437     0.440\n",
       "x19           -0.0068      0.212     -0.032      0.975        -0.425     0.411\n",
       "x20           -0.2111      0.238     -0.886      0.377        -0.681     0.259\n",
       "==============================================================================\n",
       "Omnibus:                       24.476   Durbin-Watson:                   2.035\n",
       "Prob(Omnibus):                  0.000   Jarque-Bera (JB):                7.345\n",
       "Skew:                          -0.079   Prob(JB):                       0.0254\n",
       "Kurtosis:                       2.075   Cond. No.                         1.85\n",
       "==============================================================================\n",
       "\n",
       "Warnings:\n",
       "[1] Standard Errors assume that the covariance matrix of the errors is correctly specified.\n",
       "\"\"\""
      ]
     },
     "execution_count": 21,
     "metadata": {},
     "output_type": "execute_result"
    }
   ],
   "source": [
    "result.summary()"
   ]
  },
  {
   "cell_type": "code",
   "execution_count": 13,
   "metadata": {
    "collapsed": true
   },
   "outputs": [],
   "source": [
    "def getOLSRs(num_x, num_y):\n",
    "    y_values = np.array([random.random()*10 for x in range(num_y)])\n",
    "    x_values = np.random.randn(num_y, num_x)\n",
    "    x_values  = sm.add_constant(x_values)\n",
    "    model = sm.OLS(y_values,x_values)\n",
    "    result = model.fit()\n",
    "    return result.rsquared, result.rsquared_adj"
   ]
  },
  {
   "cell_type": "code",
   "execution_count": 14,
   "metadata": {
    "collapsed": true
   },
   "outputs": [],
   "source": [
    "def getRsForDifferentX():\n",
    "    x_list = []\n",
    "    r_square_list = []\n",
    "    r_square_adj_list = []\n",
    "    \n",
    "    for x in range(20,100):\n",
    "        x_list.append(x)\n",
    "        temp_rsq, temp_rsq_adj = getOLSRs(x,200)\n",
    "        r_square_list.append(temp_rsq)\n",
    "        r_square_adj_list.append(temp_rsq_adj)\n",
    "        \n",
    "    plt.plot(x_list,r_square_list, label='R sqr')\n",
    "    plt.plot(x_list,r_square_adj_list, label='R sqr adjusted')\n",
    "    plt.legend(loc='upper left')"
   ]
  },
  {
   "cell_type": "code",
   "execution_count": 15,
   "metadata": {
    "collapsed": false
   },
   "outputs": [
    {
     "data": {
      "image/png": "[encoded data removed]",
      "text/plain": [
       "<matplotlib.figure.Figure at 0x104150be0>"
      ]
     },
     "metadata": {},
     "output_type": "display_data"
    }
   ],
   "source": [
    "getRsForDifferentX()"
   ]
  },
  {
   "cell_type": "code",
   "execution_count": null,
   "metadata": {
    "collapsed": true
   },
   "outputs": [],
   "source": []
  }
 ],
 "metadata": {
  "kernelspec": {
   "display_name": "Python 3",
   "language": "python",
   "name": "python3"
  },
  "language_info": {
   "codemirror_mode": {
    "name": "ipython",
    "version": 3
   },
   "file_extension": ".py",
   "mimetype": "text/x-python",
   "name": "python",
   "nbconvert_exporter": "python",
   "pygments_lexer": "ipython3",
   "version": "3.5.1"
  }
 },
 "nbformat": 4,
 "nbformat_minor": 0
}
