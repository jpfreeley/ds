{
 "cells": [
  {
   "cell_type": "code",
   "execution_count": 15,
   "metadata": {
    "collapsed": false,
    "scrolled": true
   },
   "outputs": [
    {
     "name": "stdout",
     "output_type": "stream",
     "text": [
      "CPU times: user 2.46 ms, sys: 62 µs, total: 2.52 ms\n",
      "Wall time: 2.58 ms\n",
      "[71, 839, 1471, 6857]\n",
      "[71, 839, 1471, 6857]\n",
      "Max prime factor: 6857\n",
      "CPU times: user 1.27 ms, sys: 76 µs, total: 1.35 ms\n",
      "Wall time: 1.31 ms\n",
      "6857.0\n"
     ]
    }
   ],
   "source": [
    "def prime_factors(n):\n",
    "    \"\"\"Returns all the prime factors of a positive integer\"\"\"\n",
    "    factors = []\n",
    "    d = 2\n",
    "    while n > 1:\n",
    "        while n % d == 0:\n",
    "            factors.append(d)\n",
    "            n /= d\n",
    "        d += 1\n",
    "        if d*d > n:\n",
    "            if n > 1: factors.append(n)\n",
    "            break\n",
    "    return factors\n",
    "\n",
    "\n",
    "%time prime_nums = prime_factors(600851475143)\n",
    "#print(prime_nums)\n",
    "\n",
    "\n",
    "print(prime_nums)\n",
    "print(\"Max prime factor: {}\".format(max(prime_nums)))\n",
    "\n",
    "\n",
    "def get_prime_factors(n):\n",
    "    assert n == int(n) and n > 1\n",
    "    \n",
    "    factors = []\n",
    "    i = 2\n",
    "    while i**2 < n + 1:\n",
    "        while n % i == 0 and n/i != 1:\n",
    "            n = n / i\n",
    "        i += 1\n",
    "    \n",
    "    return n\n",
    "    \n",
    "%time pfs = get_prime_factors(600851475143)\n",
    "\n",
    "print(pfs)"
   ]
  },
  {
   "cell_type": "code",
   "execution_count": 2,
   "metadata": {
    "collapsed": false
   },
   "outputs": [
    {
     "name": "stdout",
     "output_type": "stream",
     "text": [
      "600851475143.0\n",
      "300425737571.5\n",
      "200283825047.66666\n",
      "150212868785.75\n",
      "120170295028.6\n",
      "100141912523.83333\n",
      "85835925020.42857\n",
      "75106434392.875\n",
      "66761275015.888885\n",
      "60085147514.3\n",
      "54622861376.63636\n",
      "50070956261.916664\n",
      "46219344241.76923\n",
      "42917962510.21429\n",
      "40056765009.53333\n",
      "37553217196.4375\n",
      "35344204420.17647\n",
      "33380637507.944443\n",
      "31623761849.63158\n",
      "30042573757.15\n",
      "28611975006.809525\n",
      "27311430688.31818\n",
      "26123977180.130436\n",
      "25035478130.958332\n",
      "24034059005.72\n",
      "23109672120.884617\n",
      "22253758338.62963\n",
      "21458981255.107143\n",
      "20719016384.24138\n",
      "20028382504.766666\n",
      "19382305649.774193\n",
      "18776608598.21875\n",
      "18207620458.878788\n",
      "17672102210.088234\n",
      "17167185004.085714\n",
      "16690318753.972221\n",
      "16239229057.918919\n",
      "15811880924.81579\n",
      "15406448080.589743\n",
      "15021286878.575\n",
      "14654914027.878048\n",
      "14305987503.404762\n",
      "13973290119.60465\n",
      "13655715344.15909\n",
      "13352255003.177778\n",
      "13061988590.065218\n",
      "12784073939.212767\n",
      "12517739065.479166\n",
      "12262275002.918367\n",
      "12017029502.86\n",
      "11781401473.392157\n",
      "11554836060.442308\n",
      "11336820285.716982\n",
      "11126879169.314816\n",
      "10924572275.327272\n",
      "10729490627.553572\n",
      "10541253949.877193\n",
      "10359508192.12069\n",
      "10183923307.508474\n",
      "10014191252.383333\n",
      "9850024182.67213\n",
      "9691152824.887096\n",
      "9537325002.269842\n",
      "9388304299.109375\n",
      "9243868848.353846\n",
      "9103810229.439394\n",
      "8967932464.820896\n",
      "8836051105.044117\n",
      "8707992393.376812\n",
      "8583592502.042857\n",
      "8462696833.0\n"
     ]
    }
   ],
   "source": [
    "#testing numbers between 1-71\n",
    "for _ in range(1,72):\n",
    "    print(600851475143/float(_))"
   ]
  },
  {
   "cell_type": "code",
   "execution_count": 5,
   "metadata": {
    "collapsed": false
   },
   "outputs": [
    {
     "name": "stdout",
     "output_type": "stream",
     "text": [
      "CPU times: user 1.72 ms, sys: 31 µs, total: 1.75 ms\n",
      "Wall time: 1.94 ms\n",
      "6857.0\n"
     ]
    }
   ],
   "source": [
    "#Slower method\n",
    "\n",
    "def get_prime_factors(n):\n",
    "    assert n == int(n) and n > 1\n",
    "    \n",
    "    factors = []\n",
    "    i = 2\n",
    "    while i**2 < n + 1:\n",
    "        while n % i == 0 and n/i != 1:\n",
    "            n = n / i\n",
    "        i += 1\n",
    "    \n",
    "    return n\n",
    "    \n",
    "%time pfs = get_prime_factors(600851475143)\n",
    "\n",
    "print(pfs)"
   ]
  },
  {
   "cell_type": "code",
   "execution_count": null,
   "metadata": {
    "collapsed": true
   },
   "outputs": [],
   "source": []
  }
 ],
 "metadata": {
  "kernelspec": {
   "display_name": "Python 3",
   "language": "python",
   "name": "python3"
  },
  "language_info": {
   "codemirror_mode": {
    "name": "ipython",
    "version": 3
   },
   "file_extension": ".py",
   "mimetype": "text/x-python",
   "name": "python",
   "nbconvert_exporter": "python",
   "pygments_lexer": "ipython3",
   "version": "3.5.1"
  }
 },
 "nbformat": 4,
 "nbformat_minor": 0
}
