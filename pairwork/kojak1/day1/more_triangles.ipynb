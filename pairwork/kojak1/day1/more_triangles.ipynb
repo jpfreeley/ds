{
 "cells": [
  {
   "cell_type": "markdown",
   "metadata": {},
   "source": [
    "# Problem 1"
   ]
  },
  {
   "cell_type": "markdown",
   "metadata": {},
   "source": [
    "didnt finish the solution"
   ]
  },
  {
   "cell_type": "code",
   "execution_count": 7,
   "metadata": {
    "collapsed": true
   },
   "outputs": [],
   "source": [
    "from copy import deepcopy\n",
    "import numpy as np"
   ]
  },
  {
   "cell_type": "code",
   "execution_count": null,
   "metadata": {
    "collapsed": true
   },
   "outputs": [],
   "source": [
    "def max_path(triangle):\n",
    "    triangle_copy = deepcopy(triangle)\n",
    "    all_lists = [[] for _ in range(len(triangle[-1]))]\n",
    "    \n",
    "    # Construct the path from the bottom to the top\n",
    "    i=2\n",
    "    for row in range(len(triangle_copy)-2, -1, -1):\n",
    "        for pos in range(row+1):\n",
    "            max_value = max(triangle_copy[row+1][pos], triangle_copy[row+1][pos+1])\n",
    "            #max_position is either 0 or 1 which will determine pos+max_position\n",
    "            max_position = np.argmax([triangle_copy[row+1][pos], triangle_copy[row+1][pos+1]])\n",
    "            all_lists[max_position].append(triangle[row])\n",
    "            triangle_copy[row][pos] += max_value\n",
    "        all_lists =[path for path in all_lists if len(path)==i]\n",
    "        i+=1\n",
    "    return triangle[0][0]"
   ]
  },
  {
   "cell_type": "code",
   "execution_count": null,
   "metadata": {
    "collapsed": true
   },
   "outputs": [],
   "source": [
    "triangle2 = []\n",
    "with open('p067_triangle.txt') as inputfile:\n",
    "    for line in inputfile:\n",
    "        triangle2.append(line.strip().split(' '))\n",
    "triangle2 = [[int(y) for y in x] for x in triangle2]"
   ]
  },
  {
   "cell_type": "code",
   "execution_count": 4,
   "metadata": {
    "collapsed": false
   },
   "outputs": [],
   "source": [
    "\n"
   ]
  },
  {
   "cell_type": "markdown",
   "metadata": {},
   "source": [
    "# Problem 2"
   ]
  },
  {
   "cell_type": "code",
   "execution_count": 12,
   "metadata": {
    "collapsed": true
   },
   "outputs": [],
   "source": [
    "def slope(a, b):\n",
    "    return (b[1]-a[1])/(b[0]-a[0])"
   ]
  },
  {
   "cell_type": "code",
   "execution_count": 22,
   "metadata": {
    "collapsed": true
   },
   "outputs": [],
   "source": [
    "def point_line_check(a, c, m, test):\n",
    "    if c[1] < m*(c[0]-a[0])+a[1]:\n",
    "        if test[1] > m*(test[0]-a[0])+a[1]:\n",
    "            return False\n",
    "    elif c[1] > m*(c[0]-a[0])+a[1]:\n",
    "        if test[1] < m*(test[0]-a[0])+a[1]:\n",
    "                return False\n",
    "    return True"
   ]
  },
  {
   "cell_type": "code",
   "execution_count": 27,
   "metadata": {
    "collapsed": true
   },
   "outputs": [],
   "source": [
    "def triangle_check(point1, point2, point3, guess_point):\n",
    "    m1 = slope(point1, point2)\n",
    "    m2 = slope(point2, point3)\n",
    "    m3 = slope(point3, point1)\n",
    "    \n",
    "    '''\n",
    "    if point3[1] < m1*(point3[0]-point1[0])+point1[1]:\n",
    "        if guess_point[1] > m1*(guess_point[0]-point1[0])+point1[1]:\n",
    "            return print('Point outside')\n",
    "    elif point3[1] > m1*(point3[0]-point1[0])+point1[1]:\n",
    "        if guess_point[1] < m1*(guess_point[0]-point1[0])+point1[1]:\n",
    "                return print('Point outside')\n",
    "    \n",
    "    if point1[1] < m2*(point1[0]-point2[0])+point2[1]:\n",
    "        if guess_point[1] > m2*(guess_point[0]-point2[0])+point2[1]:\n",
    "            return print('Point outside')\n",
    "    elif point1[1] > m2*(point1[0]-point2[0])+point2[1]:\n",
    "        if guess_point[1] < m2*(guess_point[0]-point2[0])+point2[1]:\n",
    "            return print('Point outside')\n",
    "        \n",
    "    if point2[1] < m2*(point2[0]-point3[0])+point3[1]:\n",
    "        if guess_point[1] > m2*(guess_point[0]-point3[0])+point3[1]:\n",
    "            return print('Point outside')\n",
    "    elif point2[1] > m2*(point2[0]-point3[0])+point3[1]:\n",
    "        if guess_point[1] < m2*(guess_point[0]-point3[0])+point3[1]:\n",
    "            return print('Point outside')\n",
    "            \n",
    "    return print('Point inside')\n",
    "    '''\n",
    "    \n",
    "    if point_line_check(point1, point3, m1, guess_point):\n",
    "        if point_line_check(point2, point1, m2, guess_point):\n",
    "            if point_line_check(point3, point2, m3, guess_point):\n",
    "                print('Point inside')\n",
    "            else:\n",
    "                print('Point outside')\n",
    "        else:\n",
    "            print('Point outside')\n",
    "    else:\n",
    "        print('Point outside')\n",
    "    \n",
    "    "
   ]
  },
  {
   "cell_type": "code",
   "execution_count": 28,
   "metadata": {
    "collapsed": false
   },
   "outputs": [
    {
     "name": "stdout",
     "output_type": "stream",
     "text": [
      "Point inside\n"
     ]
    }
   ],
   "source": [
    "triangle_check([0,0], [3,3], [6,0], [1.5,1.5])"
   ]
  },
  {
   "cell_type": "code",
   "execution_count": 29,
   "metadata": {
    "collapsed": false
   },
   "outputs": [
    {
     "name": "stdout",
     "output_type": "stream",
     "text": [
      "Point outside\n"
     ]
    }
   ],
   "source": [
    "triangle_check([0,0], [3,3], [6,0], [15,15])"
   ]
  },
  {
   "cell_type": "code",
   "execution_count": null,
   "metadata": {
    "collapsed": true
   },
   "outputs": [],
   "source": []
  }
 ],
 "metadata": {
  "kernelspec": {
   "display_name": "Python 3",
   "language": "python",
   "name": "python3"
  },
  "language_info": {
   "codemirror_mode": {
    "name": "ipython",
    "version": 3
   },
   "file_extension": ".py",
   "mimetype": "text/x-python",
   "name": "python",
   "nbconvert_exporter": "python",
   "pygments_lexer": "ipython3",
   "version": "3.5.1"
  }
 },
 "nbformat": 4,
 "nbformat_minor": 0
}
