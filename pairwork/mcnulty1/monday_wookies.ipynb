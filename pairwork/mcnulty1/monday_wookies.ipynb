{
 "cells": [
  {
   "cell_type": "code",
   "execution_count": 66,
   "metadata": {
    "collapsed": true
   },
   "outputs": [],
   "source": [
    "import random\n",
    "import numpy as np\n",
    "\n"
   ]
  },
  {
   "cell_type": "code",
   "execution_count": 11,
   "metadata": {
    "collapsed": false,
    "scrolled": true
   },
   "outputs": [],
   "source": [
    "X_train = []\n",
    "\n",
    "for _ in range(100):\n",
    "    x, y, z = random.randint(1,10),random.randint(1,10),random.randint(1,10)\n",
    "    if [x,y,z] not in X_train:\n",
    "        X_train.append([x,y,z])"
   ]
  },
  {
   "cell_type": "code",
   "execution_count": 46,
   "metadata": {
    "collapsed": true
   },
   "outputs": [],
   "source": [
    "colors = ['red', 'blue', 'green', 'orange', 'yellow', 'black', 'white', 'grey', 'purple', 'pink']"
   ]
  },
  {
   "cell_type": "code",
   "execution_count": 47,
   "metadata": {
    "collapsed": false,
    "scrolled": true
   },
   "outputs": [],
   "source": [
    "#y_train = [colors[random.randint(0,len(colors)-1)] for _ in range(len(X_train))]\n",
    "y_train = []\n",
    "for _ in range(len(X_train)):\n",
    "    y_train.append(colors[random.randint(0,len(colors)-1)])"
   ]
  },
  {
   "cell_type": "code",
   "execution_count": 19,
   "metadata": {
    "collapsed": true
   },
   "outputs": [],
   "source": [
    "X_test = []\n",
    "\n",
    "for _ in range(20):\n",
    "    x, y, z = random.random()*10.0,random.random()*10.0,random.random()*10.0\n",
    "    if [x,y,z] not in X_test:\n",
    "        X_test.append([x,y,z])"
   ]
  },
  {
   "cell_type": "code",
   "execution_count": 32,
   "metadata": {
    "collapsed": false
   },
   "outputs": [
    {
     "data": {
      "text/plain": [
       "[1.5761362776854138, 2.660804146516461, 0.9890727383499842]"
      ]
     },
     "execution_count": 32,
     "metadata": {},
     "output_type": "execute_result"
    }
   ],
   "source": [
    "X_test[0]"
   ]
  },
  {
   "cell_type": "code",
   "execution_count": 72,
   "metadata": {
    "collapsed": true
   },
   "outputs": [],
   "source": [
    "def nearest(X_train, y_train, X_test_value):\n",
    "    small=10000000000\n",
    "    x_final=[]\n",
    "    for x in X_train:\n",
    "        if np.linalg.norm(np.asarray(x)-np.asarray(X_test_value)) < small:\n",
    "            small = np.linalg.norm(np.asarray(x)-np.asarray(X_test_value))\n",
    "            x_final = X_train[X_train.index(x)]\n",
    "            \n",
    "    return y_train[X_train.index(x_final)]"
   ]
  },
  {
   "cell_type": "code",
   "execution_count": 70,
   "metadata": {
    "collapsed": false
   },
   "outputs": [
    {
     "data": {
      "text/plain": [
       "'grey'"
      ]
     },
     "execution_count": 70,
     "metadata": {},
     "output_type": "execute_result"
    }
   ],
   "source": [
    "nearest(X_train, y_train, X_test[0])"
   ]
  },
  {
   "cell_type": "code",
   "execution_count": 67,
   "metadata": {
    "collapsed": true
   },
   "outputs": [],
   "source": [
    "def nearestWookies(X_train, y_train, X_test):\n",
    "    wookie_colors = []\n",
    "    for x in X_test:\n",
    "        color = nearest(X_train, y_train, x)\n",
    "        wookie_colors.append(color)\n",
    "        \n",
    "    return wookie_colors"
   ]
  },
  {
   "cell_type": "code",
   "execution_count": 71,
   "metadata": {
    "collapsed": false
   },
   "outputs": [
    {
     "data": {
      "text/plain": [
       "['grey',\n",
       " 'blue',\n",
       " 'orange',\n",
       " 'purple',\n",
       " 'orange',\n",
       " 'grey',\n",
       " 'blue',\n",
       " 'grey',\n",
       " 'grey',\n",
       " 'yellow',\n",
       " 'pink',\n",
       " 'orange',\n",
       " 'grey',\n",
       " 'blue',\n",
       " 'blue',\n",
       " 'black',\n",
       " 'black',\n",
       " 'grey',\n",
       " 'grey',\n",
       " 'grey']"
      ]
     },
     "execution_count": 71,
     "metadata": {},
     "output_type": "execute_result"
    }
   ],
   "source": [
    "nearestWookies(X_train, y_train, X_test)"
   ]
  },
  {
   "cell_type": "code",
   "execution_count": null,
   "metadata": {
    "collapsed": true
   },
   "outputs": [],
   "source": []
  }
 ],
 "metadata": {
  "kernelspec": {
   "display_name": "Python 3",
   "language": "python",
   "name": "python3"
  },
  "language_info": {
   "codemirror_mode": {
    "name": "ipython",
    "version": 3
   },
   "file_extension": ".py",
   "mimetype": "text/x-python",
   "name": "python",
   "nbconvert_exporter": "python",
   "pygments_lexer": "ipython3",
   "version": "3.5.1"
  }
 },
 "nbformat": 4,
 "nbformat_minor": 0
}
