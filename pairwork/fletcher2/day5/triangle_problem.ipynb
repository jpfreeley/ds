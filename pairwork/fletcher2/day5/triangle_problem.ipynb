{
 "cells": [
  {
   "cell_type": "code",
   "execution_count": 1,
   "metadata": {
    "collapsed": true
   },
   "outputs": [],
   "source": [
    "def max_path(triangle):\n",
    "    # Construct the path from the bottom to the top\n",
    "    for row in range(len(triangle)-2, -1, -1):\n",
    "        for pos in range(row+1):\n",
    "            triangle[row][pos] += max(triangle[row+1][pos], triangle[row+1][pos+1])\n",
    "    return triangle[0][0]"
   ]
  },
  {
   "cell_type": "code",
   "execution_count": 2,
   "metadata": {
    "collapsed": true
   },
   "outputs": [],
   "source": [
    "triangle2 = []\n",
    "with open('p067_triangle.txt') as inputfile:\n",
    "    for line in inputfile:\n",
    "        triangle2.append(line.strip().split(' '))\n",
    "triangle2 = [[int(y) for y in x] for x in triangle2]"
   ]
  },
  {
   "cell_type": "code",
   "execution_count": 3,
   "metadata": {
    "collapsed": false
   },
   "outputs": [
    {
     "data": {
      "text/plain": [
       "7273"
      ]
     },
     "execution_count": 3,
     "metadata": {},
     "output_type": "execute_result"
    }
   ],
   "source": [
    "max_path(triangle2)"
   ]
  },
  {
   "cell_type": "code",
   "execution_count": null,
   "metadata": {
    "collapsed": true
   },
   "outputs": [],
   "source": []
  }
 ],
 "metadata": {
  "kernelspec": {
   "display_name": "Python 3",
   "language": "python",
   "name": "python3"
  },
  "language_info": {
   "codemirror_mode": {
    "name": "ipython",
    "version": 3
   },
   "file_extension": ".py",
   "mimetype": "text/x-python",
   "name": "python",
   "nbconvert_exporter": "python",
   "pygments_lexer": "ipython3",
   "version": "3.5.1"
  }
 },
 "nbformat": 4,
 "nbformat_minor": 0
}
