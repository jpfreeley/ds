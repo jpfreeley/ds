{
 "cells": [
  {
   "cell_type": "markdown",
   "metadata": {},
   "source": [
    "A man went to get his check chashed. The teller by mistake swaped the dollar and cent amounts. The man ended up with double the amount minus one cent.\n",
    "\n",
    "Can you say what was the amount on the check? First see if you can you solve this on paper. Then do it in Python. And then go back to the paper."
   ]
  },
  {
   "cell_type": "code",
   "execution_count": 3,
   "metadata": {
    "collapsed": true
   },
   "outputs": [],
   "source": [
    "all_pos_checks = [i/100 for i in range(1, 10000)]"
   ]
  },
  {
   "cell_type": "code",
   "execution_count": 10,
   "metadata": {
    "collapsed": false
   },
   "outputs": [],
   "source": [
    "reversed_change = [float(\".\".join(str(i).split('.')[::-1])) for i in all_pos_checks]"
   ]
  },
  {
   "cell_type": "code",
   "execution_count": 14,
   "metadata": {
    "collapsed": false
   },
   "outputs": [
    {
     "name": "stdout",
     "output_type": "stream",
     "text": [
      "The wrong value was 67.33, the check was 33.67\n"
     ]
    }
   ],
   "source": [
    "all_pos_checks = [i/100 for i in range(1, 10000)]\n",
    "reversed_change = [float(\".\".join(str(i).split('.')[::-1])) for i in all_pos_checks]\n",
    "for i, check in enumerate(all_pos_checks):\n",
    "    if reversed_change[i] == 2*check-0.01:\n",
    "        print(\"The wrong value was {}, the check was {}\".format(reversed_change[i], all_pos_checks[i]))"
   ]
  },
  {
   "cell_type": "code",
   "execution_count": null,
   "metadata": {
    "collapsed": true
   },
   "outputs": [],
   "source": []
  }
 ],
 "metadata": {
  "kernelspec": {
   "display_name": "Python 3",
   "language": "python",
   "name": "python3"
  },
  "language_info": {
   "codemirror_mode": {
    "name": "ipython",
    "version": 3
   },
   "file_extension": ".py",
   "mimetype": "text/x-python",
   "name": "python",
   "nbconvert_exporter": "python",
   "pygments_lexer": "ipython3",
   "version": "3.5.1"
  }
 },
 "nbformat": 4,
 "nbformat_minor": 0
}
