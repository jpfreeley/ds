{
 "cells": [
  {
   "cell_type": "code",
   "execution_count": 37,
   "metadata": {
    "collapsed": false
   },
   "outputs": [],
   "source": [
    "from random import randint\n",
    "\n",
    "class eggdrop(object):\n",
    "    def __init__(self, floors, eggs):\n",
    "        self.breaking_floor = randint(1,floors)\n",
    "        self.total_floors = floors\n",
    "        self.total_eggs = eggs\n",
    "        self.remaining_eggs = eggs\n",
    "        self.drop_num = 0\n",
    "        self.starting_floor_choice = round(floors/eggs)\n",
    "        self.last_broken_floor = -1\n",
    "        self.drop_egg(0, self.starting_floor_choice)\n",
    "        \n",
    "        print('true breaking floor: ', self.breaking_floor)\n",
    "\n",
    "    def drop_egg(self, previous_floor_choice, floor_choice):\n",
    "        self.drop_num +=1\n",
    "        if self.remaining_eggs == 1:\n",
    "            return self.one_egg_case(previous_floor_choice)\n",
    "        \n",
    "        elif floor_choice >= self.breaking_floor:\n",
    "            if floor_choice <= self.last_broken_floor:\n",
    "                return print(\"The breaking floor was \", self.breaking_floor,\n",
    "                         \", it was found after \", self.drop_num,\n",
    "                         \" drops. \", self.remaining_eggs, \" egg(s) remained.\"\n",
    "                        )\n",
    "            \n",
    "            else:\n",
    "                self.breaking_floor = floor_choice\n",
    "                print(\"The egg broke at floor \", floor_choice, \", choosing lower floor\")\n",
    "                self.remaining_eggs -= 1\n",
    "                self.starting_floor_choice = previous_floor_choice + round((floor_choice-previous_floor_choice)/self.remaining_eggs)\n",
    "                self.drop_egg(previous_floor_choice, self.starting_floor_choice)\n",
    "            \n",
    "        else:\n",
    "            previous_floor_choice = floor_choice\n",
    "            print(\"The egg did not break at floor\", floor_choice, \", choosing higher floor\")\n",
    "            self.starting_floor_choice = floor_choice + round((self.total_floors-previous_floor_choice)/self.remaining_eggs)\n",
    "            self.drop_egg(previous_floor_choice, self.starting_floor_choice)\n",
    "    \n",
    "    def one_egg_case(self, previous_floor_choice):\n",
    "        check_floor = previous_floor_choice + 1\n",
    "        print(\"Dropping from floor \", check_floor)\n",
    "        if check_floor == self.breaking_floor:\n",
    "            self.remaining_eggs -= 1\n",
    "            self.drop_num += 1\n",
    "            return print(\"The breaking floor was \", self.breaking_floor,\n",
    "                         \", it was found after \", self.drop_num,\n",
    "                         \" drops. \", self.remaining_eggs, \" egg(s) remained.\"\n",
    "                        )\n",
    "        \n",
    "        else:\n",
    "            self.drop_num += 1\n",
    "            self.one_egg_case(check_floor)"
   ]
  },
  {
   "cell_type": "code",
   "execution_count": 41,
   "metadata": {
    "collapsed": false
   },
   "outputs": [
    {
     "name": "stdout",
     "output_type": "stream",
     "text": [
      "The egg did not break at floor 10 , choosing higher floor\n",
      "The egg did not break at floor 19 , choosing higher floor\n",
      "The egg did not break at floor 27 , choosing higher floor\n",
      "The egg did not break at floor 35 , choosing higher floor\n",
      "The egg did not break at floor 42 , choosing higher floor\n",
      "The egg did not break at floor 48 , choosing higher floor\n",
      "The egg did not break at floor 54 , choosing higher floor\n",
      "The egg broke at floor  59 , choosing lower floor\n",
      "The egg did not break at floor 55 , choosing higher floor\n",
      "The egg broke at floor  60 , choosing lower floor\n",
      "The egg did not break at floor 56 , choosing higher floor\n",
      "The egg broke at floor  62 , choosing lower floor\n",
      "The egg did not break at floor 57 , choosing higher floor\n",
      "The egg broke at floor  64 , choosing lower floor\n",
      "The egg did not break at floor 58 , choosing higher floor\n",
      "The egg broke at floor  66 , choosing lower floor\n",
      "The egg did not break at floor 60 , choosing higher floor\n",
      "The egg broke at floor  69 , choosing lower floor\n",
      "The egg did not break at floor 62 , choosing higher floor\n",
      "The egg broke at floor  72 , choosing lower floor\n",
      "The egg did not break at floor 65 , choosing higher floor\n",
      "The egg broke at floor  78 , choosing lower floor\n",
      "The egg did not break at floor 71 , choosing higher floor\n",
      "The egg broke at floor  87 , choosing lower floor\n",
      "Dropping from floor  72\n",
      "Dropping from floor  73\n",
      "Dropping from floor  74\n",
      "Dropping from floor  75\n",
      "Dropping from floor  76\n",
      "Dropping from floor  77\n",
      "Dropping from floor  78\n",
      "Dropping from floor  79\n",
      "Dropping from floor  80\n",
      "Dropping from floor  81\n",
      "Dropping from floor  82\n",
      "Dropping from floor  83\n",
      "Dropping from floor  84\n",
      "Dropping from floor  85\n",
      "Dropping from floor  86\n",
      "Dropping from floor  87\n",
      "The breaking floor was  87 , it was found after  41  drops.  0  egg(s) remained.\n",
      "true breaking floor:  87\n"
     ]
    },
    {
     "data": {
      "text/plain": [
       "<__main__.eggdrop at 0x10430dfd0>"
      ]
     },
     "execution_count": 41,
     "metadata": {},
     "output_type": "execute_result"
    }
   ],
   "source": [
    "eggdrop(103,10)"
   ]
  },
  {
   "cell_type": "code",
   "execution_count": null,
   "metadata": {
    "collapsed": true
   },
   "outputs": [],
   "source": []
  }
 ],
 "metadata": {
  "kernelspec": {
   "display_name": "Python 3",
   "language": "python",
   "name": "python3"
  },
  "language_info": {
   "codemirror_mode": {
    "name": "ipython",
    "version": 3
   },
   "file_extension": ".py",
   "mimetype": "text/x-python",
   "name": "python",
   "nbconvert_exporter": "python",
   "pygments_lexer": "ipython3",
   "version": "3.5.1"
  }
 },
 "nbformat": 4,
 "nbformat_minor": 0
}
