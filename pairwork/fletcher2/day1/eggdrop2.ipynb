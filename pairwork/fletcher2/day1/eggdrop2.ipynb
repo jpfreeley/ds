{
 "cells": [
  {
   "cell_type": "code",
   "execution_count": 24,
   "metadata": {
    "collapsed": false
   },
   "outputs": [],
   "source": [
    "from random import randint\n",
    "\n",
    "class eggdrop(object):\n",
    "    def __init__(self, floors, eggs):\n",
    "        self.breaking_floor = randint(1,floors)\n",
    "        self.total_floors = floors\n",
    "        self.total_eggs = eggs\n",
    "        self.remaining_eggs = eggs\n",
    "        self.drop_num = 0\n",
    "        self.starting_floor_choice = round(floors/eggs)\n",
    "        self.last_broken_floor = -1\n",
    "        self.drop_egg(0, self.starting_floor_choice)\n",
    "\n",
    "    def drop_egg(self, previous_floor_choice, floor_choice):\n",
    "        self.drop_num +=1\n",
    "        if self.remaining_eggs == 1:\n",
    "            self.one_egg_case(previous_floor_choice)\n",
    "        \n",
    "        elif floor_choice >= self.breaking_floor:\n",
    "            if floor_choice <= self.breaking_floor:\n",
    "                return print(\"The breaking floor was \", self.breaking_floor,\n",
    "                         \", it was found after \", self.drop_num,\n",
    "                         \" drops. \", self.remaining_eggs, \" egg(s) remained.\"\n",
    "                        )\n",
    "            \n",
    "            else:\n",
    "                self.breaking_floor = floor_choice\n",
    "                print(\"The egg broke at floor \", floor_choice, \", choosing lower floor\")\n",
    "                self.remaining_eggs -= 1\n",
    "                self.starting_floor_choice = previous_floor_choice + round((floor_choice-previous_floor_choice)/self.remaining_eggs)\n",
    "                self.drop_egg(previous_floor_choice, self.starting_floor_choice)\n",
    "            \n",
    "        else:\n",
    "            previous_floor_choice = floor_choice\n",
    "            print(\"The egg did not bread at floor\", floor_choice, \", choosing higher floor\")\n",
    "            self.starting_floor_choice = floor_choice + round((self.total_floors-previous_floor_choice)/self.remaining_eggs)\n",
    "            self.drop_egg(previous_floor_choice, self.starting_floor_choice)\n",
    "    \n",
    "    def one_egg_case(self, previous_floor_choice):\n",
    "        check_floor = previous_floor_choice + 1\n",
    "        print(\"Dropping from floor \", check_floor)\n",
    "        if check_floor == self.breaking_floor:\n",
    "            self.remaining_eggs -= 1\n",
    "            self.drop_num += 1\n",
    "            return print(\"The breaking floor was \", self.breaking_floor,\n",
    "                         \", it was found after \", self.drop_num,\n",
    "                         \" drops. \", self.remaining_eggs, \" egg(s) remained.\"\n",
    "                        )\n",
    "        \n",
    "        else:\n",
    "            self.drop_num += 1\n",
    "            self.one_egg_case(check_floor)"
   ]
  },
  {
   "cell_type": "code",
   "execution_count": 27,
   "metadata": {
    "collapsed": false
   },
   "outputs": [
    {
     "name": "stdout",
     "output_type": "stream",
     "text": [
      "The egg did not bread at floor 10 , choosing higher floor\n",
      "The egg did not bread at floor 17 , choosing higher floor\n",
      "The egg did not bread at floor 21 , choosing higher floor\n",
      "The egg did not bread at floor 24 , choosing higher floor\n",
      "The egg did not bread at floor 26 , choosing higher floor\n",
      "The egg did not bread at floor 27 , choosing higher floor\n",
      "The egg did not bread at floor 28 , choosing higher floor\n",
      "The breaking floor was  29 , it was found after  8  drops.  3  egg(s) remained.\n"
     ]
    },
    {
     "data": {
      "text/plain": [
       "<__main__.eggdrop at 0x1043b2320>"
      ]
     },
     "execution_count": 27,
     "metadata": {},
     "output_type": "execute_result"
    }
   ],
   "source": [
    "eggdrop(30,3)"
   ]
  },
  {
   "cell_type": "code",
   "execution_count": null,
   "metadata": {
    "collapsed": true
   },
   "outputs": [],
   "source": []
  }
 ],
 "metadata": {
  "kernelspec": {
   "display_name": "Python 3",
   "language": "python",
   "name": "python3"
  },
  "language_info": {
   "codemirror_mode": {
    "name": "ipython",
    "version": 3
   },
   "file_extension": ".py",
   "mimetype": "text/x-python",
   "name": "python",
   "nbconvert_exporter": "python",
   "pygments_lexer": "ipython3",
   "version": "3.5.1"
  }
 },
 "nbformat": 4,
 "nbformat_minor": 0
}
