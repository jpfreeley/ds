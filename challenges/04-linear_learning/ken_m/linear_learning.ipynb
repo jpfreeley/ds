{
 "cells": [
  {
   "cell_type": "markdown",
   "metadata": {},
   "source": [
    "# Challenge Set 4 (Linear Learning)¶\n",
    "\n",
    "Topic: \n",
    "\n",
    "Date: 01/22/2016\n",
    "\n",
    "Name: Kenneth Myers\n",
    "\n",
    "Worked with: NA"
   ]
  },
  {
   "cell_type": "code",
   "execution_count": 243,
   "metadata": {
    "collapsed": false
   },
   "outputs": [],
   "source": [
    "import pandas as pd\n",
    "import numpy as np\n",
    "import matplotlib.pyplot as plt\n",
    "import random\n",
    "import seaborn as sns\n",
    "import statsmodels.api as sm\n",
    "import statsmodels.formula.api as smf\n",
    "import math\n",
    "from sklearn.cross_validation import train_test_split\n",
    "from sklearn.metrics import mean_squared_error\n",
    "\n",
    "%matplotlib inline"
   ]
  },
  {
   "cell_type": "markdown",
   "metadata": {},
   "source": [
    "## Challenge 1"
   ]
  },
  {
   "cell_type": "code",
   "execution_count": 244,
   "metadata": {
    "collapsed": false
   },
   "outputs": [],
   "source": [
    "B0 = random.random()*10\n",
    "B1 = random.random()*10\n",
    "\n",
    "f = np.random.randn(1000)*1000\n",
    "x = np.random.choice(np.arange(1,100000), 1000) + f\n",
    "e = np.random.randn(1000)\n",
    "y = B0 + B1*np.log(x) + e"
   ]
  },
  {
   "cell_type": "code",
   "execution_count": 245,
   "metadata": {
    "collapsed": false
   },
   "outputs": [],
   "source": [
    "#print(log_data)"
   ]
  },
  {
   "cell_type": "code",
   "execution_count": 246,
   "metadata": {
    "collapsed": false
   },
   "outputs": [
    {
     "data": {
      "image/png": "[encoded data removed]",
      "text/plain": [
       "<matplotlib.figure.Figure at 0x1102c9780>"
      ]
     },
     "metadata": {},
     "output_type": "display_data"
    }
   ],
   "source": [
    "plt.figure(figsize=(5,5))\n",
    "plt.scatter(x,y, marker='o')\n",
    "\n",
    "plt.xscale('log')"
   ]
  },
  {
   "cell_type": "markdown",
   "metadata": {},
   "source": [
    "### Quadratic fit"
   ]
  },
  {
   "cell_type": "code",
   "execution_count": 247,
   "metadata": {
    "collapsed": false
   },
   "outputs": [],
   "source": [
    "log_data = pd.DataFrame({'y':y, 'x':x, 'x2': np.power(x,2)})\n",
    "log_data = log_data.dropna()\n",
    "#log_data['const'] = [1 for i in range(len(x))] <---- no need for this line when working with smf.ols"
   ]
  },
  {
   "cell_type": "code",
   "execution_count": 248,
   "metadata": {
    "collapsed": true
   },
   "outputs": [],
   "source": [
    "def getQuadModel(data):\n",
    "    model = smf.ols(formula='y ~ np.square(x) + x', data=data)\n",
    "    results = model.fit()\n",
    "    return results"
   ]
  },
  {
   "cell_type": "code",
   "execution_count": 249,
   "metadata": {
    "collapsed": false
   },
   "outputs": [],
   "source": [
    "def getPlot(results, title, ylabel='Y', xlabel='X', var=1):\n",
    "    sm.graphics.plot_fit(results, var)\n",
    "    plt.ylabel(ylabel)\n",
    "    plt.xlabel(xlabel)\n",
    "    plt.title(title)"
   ]
  },
  {
   "cell_type": "code",
   "execution_count": 250,
   "metadata": {
    "collapsed": false
   },
   "outputs": [],
   "source": [
    "quad_fit = getQuadModel(log_data)"
   ]
  },
  {
   "cell_type": "code",
   "execution_count": 251,
   "metadata": {
    "collapsed": false
   },
   "outputs": [
    {
     "data": {
      "text/html": [
       "<table class=\"simpletable\">\n",
       "<caption>OLS Regression Results</caption>\n",
       "<tr>\n",
       "  <th>Dep. Variable:</th>            <td>y</td>        <th>  R-squared:         </th> <td>   0.840</td>\n",
       "</tr>\n",
       "<tr>\n",
       "  <th>Model:</th>                   <td>OLS</td>       <th>  Adj. R-squared:    </th> <td>   0.839</td>\n",
       "</tr>\n",
       "<tr>\n",
       "  <th>Method:</th>             <td>Least Squares</td>  <th>  F-statistic:       </th> <td>   2610.</td>\n",
       "</tr>\n",
       "<tr>\n",
       "  <th>Date:</th>             <td>Sat, 23 Jan 2016</td> <th>  Prob (F-statistic):</th>  <td>  0.00</td> \n",
       "</tr>\n",
       "<tr>\n",
       "  <th>Time:</th>                 <td>21:55:47</td>     <th>  Log-Likelihood:    </th> <td> -1862.9</td>\n",
       "</tr>\n",
       "<tr>\n",
       "  <th>No. Observations:</th>      <td>   999</td>      <th>  AIC:               </th> <td>   3732.</td>\n",
       "</tr>\n",
       "<tr>\n",
       "  <th>Df Residuals:</th>          <td>   996</td>      <th>  BIC:               </th> <td>   3746.</td>\n",
       "</tr>\n",
       "<tr>\n",
       "  <th>Df Model:</th>              <td>     2</td>      <th>                     </th>     <td> </td>   \n",
       "</tr>\n",
       "<tr>\n",
       "  <th>Covariance Type:</th>      <td>nonrobust</td>    <th>                     </th>     <td> </td>   \n",
       "</tr>\n",
       "</table>\n",
       "<table class=\"simpletable\">\n",
       "<tr>\n",
       "        <td></td>          <th>coef</th>     <th>std err</th>      <th>t</th>      <th>P>|t|</th> <th>[95.0% Conf. Int.]</th> \n",
       "</tr>\n",
       "<tr>\n",
       "  <th>Intercept</th>    <td>   37.6694</td> <td>    0.147</td> <td>  256.187</td> <td> 0.000</td> <td>   37.381    37.958</td>\n",
       "</tr>\n",
       "<tr>\n",
       "  <th>np.square(x)</th> <td> -1.86e-09</td> <td> 6.68e-11</td> <td>  -27.828</td> <td> 0.000</td> <td>-1.99e-09 -1.73e-09</td>\n",
       "</tr>\n",
       "<tr>\n",
       "  <th>x</th>            <td>    0.0003</td> <td> 6.85e-06</td> <td>   43.808</td> <td> 0.000</td> <td>    0.000     0.000</td>\n",
       "</tr>\n",
       "</table>\n",
       "<table class=\"simpletable\">\n",
       "<tr>\n",
       "  <th>Omnibus:</th>       <td>608.737</td> <th>  Durbin-Watson:     </th> <td>   1.974</td> \n",
       "</tr>\n",
       "<tr>\n",
       "  <th>Prob(Omnibus):</th> <td> 0.000</td>  <th>  Jarque-Bera (JB):  </th> <td>11808.980</td>\n",
       "</tr>\n",
       "<tr>\n",
       "  <th>Skew:</th>          <td>-2.418</td>  <th>  Prob(JB):          </th> <td>    0.00</td> \n",
       "</tr>\n",
       "<tr>\n",
       "  <th>Kurtosis:</th>      <td>19.134</td>  <th>  Cond. No.          </th> <td>1.28e+10</td> \n",
       "</tr>\n",
       "</table>"
      ],
      "text/plain": [
       "<class 'statsmodels.iolib.summary.Summary'>\n",
       "\"\"\"\n",
       "                            OLS Regression Results                            \n",
       "==============================================================================\n",
       "Dep. Variable:                      y   R-squared:                       0.840\n",
       "Model:                            OLS   Adj. R-squared:                  0.839\n",
       "Method:                 Least Squares   F-statistic:                     2610.\n",
       "Date:                Sat, 23 Jan 2016   Prob (F-statistic):               0.00\n",
       "Time:                        21:55:47   Log-Likelihood:                -1862.9\n",
       "No. Observations:                 999   AIC:                             3732.\n",
       "Df Residuals:                     996   BIC:                             3746.\n",
       "Df Model:                           2                                         \n",
       "Covariance Type:            nonrobust                                         \n",
       "================================================================================\n",
       "                   coef    std err          t      P>|t|      [95.0% Conf. Int.]\n",
       "--------------------------------------------------------------------------------\n",
       "Intercept       37.6694      0.147    256.187      0.000        37.381    37.958\n",
       "np.square(x)  -1.86e-09   6.68e-11    -27.828      0.000     -1.99e-09 -1.73e-09\n",
       "x                0.0003   6.85e-06     43.808      0.000         0.000     0.000\n",
       "==============================================================================\n",
       "Omnibus:                      608.737   Durbin-Watson:                   1.974\n",
       "Prob(Omnibus):                  0.000   Jarque-Bera (JB):            11808.980\n",
       "Skew:                          -2.418   Prob(JB):                         0.00\n",
       "Kurtosis:                      19.134   Cond. No.                     1.28e+10\n",
       "==============================================================================\n",
       "\n",
       "Warnings:\n",
       "[1] Standard Errors assume that the covariance matrix of the errors is correctly specified.\n",
       "[2] The condition number is large, 1.28e+10. This might indicate that there are\n",
       "strong multicollinearity or other numerical problems.\n",
       "\"\"\""
      ]
     },
     "execution_count": 251,
     "metadata": {},
     "output_type": "execute_result"
    }
   ],
   "source": [
    "quad_fit.summary()"
   ]
  },
  {
   "cell_type": "code",
   "execution_count": 252,
   "metadata": {
    "collapsed": false,
    "scrolled": true
   },
   "outputs": [
    {
     "data": {
      "image/png": "[encoded data removed]",
      "text/plain": [
       "<matplotlib.figure.Figure at 0x11042bda0>"
      ]
     },
     "metadata": {},
     "output_type": "display_data"
    }
   ],
   "source": [
    "getPlot(quad_fit, title='Quad fit of data', var=2)"
   ]
  },
  {
   "cell_type": "code",
   "execution_count": 253,
   "metadata": {
    "collapsed": false,
    "scrolled": true
   },
   "outputs": [
    {
     "data": {
      "text/html": [
       "<div>\n",
       "<table border=\"1\" class=\"dataframe\">\n",
       "  <thead>\n",
       "    <tr style=\"text-align: right;\">\n",
       "      <th></th>\n",
       "      <th>const</th>\n",
       "      <th>x</th>\n",
       "      <th>x2</th>\n",
       "      <th>y</th>\n",
       "    </tr>\n",
       "  </thead>\n",
       "  <tbody>\n",
       "    <tr>\n",
       "      <th>0</th>\n",
       "      <td>1</td>\n",
       "      <td>65858.874881</td>\n",
       "      <td>4.337391e+09</td>\n",
       "      <td>48.199852</td>\n",
       "    </tr>\n",
       "    <tr>\n",
       "      <th>1</th>\n",
       "      <td>1</td>\n",
       "      <td>24148.667076</td>\n",
       "      <td>5.831581e+08</td>\n",
       "      <td>44.749387</td>\n",
       "    </tr>\n",
       "    <tr>\n",
       "      <th>2</th>\n",
       "      <td>1</td>\n",
       "      <td>30512.732624</td>\n",
       "      <td>9.310269e+08</td>\n",
       "      <td>46.977468</td>\n",
       "    </tr>\n",
       "    <tr>\n",
       "      <th>3</th>\n",
       "      <td>1</td>\n",
       "      <td>19134.228965</td>\n",
       "      <td>3.661187e+08</td>\n",
       "      <td>44.020692</td>\n",
       "    </tr>\n",
       "    <tr>\n",
       "      <th>4</th>\n",
       "      <td>1</td>\n",
       "      <td>28002.818129</td>\n",
       "      <td>7.841578e+08</td>\n",
       "      <td>44.264743</td>\n",
       "    </tr>\n",
       "  </tbody>\n",
       "</table>\n",
       "</div>"
      ],
      "text/plain": [
       "   const             x            x2          y\n",
       "0      1  65858.874881  4.337391e+09  48.199852\n",
       "1      1  24148.667076  5.831581e+08  44.749387\n",
       "2      1  30512.732624  9.310269e+08  46.977468\n",
       "3      1  19134.228965  3.661187e+08  44.020692\n",
       "4      1  28002.818129  7.841578e+08  44.264743"
      ]
     },
     "execution_count": 253,
     "metadata": {},
     "output_type": "execute_result"
    }
   ],
   "source": [
    "log_data = sm.tools.tools.add_constant(log_data)\n",
    "log_data.head()"
   ]
  },
  {
   "cell_type": "markdown",
   "metadata": {
    "collapsed": true
   },
   "source": [
    "### Log fit"
   ]
  },
  {
   "cell_type": "code",
   "execution_count": 254,
   "metadata": {
    "collapsed": true
   },
   "outputs": [],
   "source": [
    "def getLogModel(data):\n",
    "    model = smf.ols(formula='y ~ np.log(x)', data=data)\n",
    "    results = model.fit()\n",
    "    return results"
   ]
  },
  {
   "cell_type": "code",
   "execution_count": 255,
   "metadata": {
    "collapsed": false
   },
   "outputs": [],
   "source": [
    "log_fit = getLogModel(log_data)"
   ]
  },
  {
   "cell_type": "code",
   "execution_count": 256,
   "metadata": {
    "collapsed": false
   },
   "outputs": [
    {
     "data": {
      "text/html": [
       "<table class=\"simpletable\">\n",
       "<caption>OLS Regression Results</caption>\n",
       "<tr>\n",
       "  <th>Dep. Variable:</th>            <td>y</td>        <th>  R-squared:         </th> <td>   0.938</td> \n",
       "</tr>\n",
       "<tr>\n",
       "  <th>Model:</th>                   <td>OLS</td>       <th>  Adj. R-squared:    </th> <td>   0.938</td> \n",
       "</tr>\n",
       "<tr>\n",
       "  <th>Method:</th>             <td>Least Squares</td>  <th>  F-statistic:       </th> <td>1.510e+04</td>\n",
       "</tr>\n",
       "<tr>\n",
       "  <th>Date:</th>             <td>Sat, 23 Jan 2016</td> <th>  Prob (F-statistic):</th>  <td>  0.00</td>  \n",
       "</tr>\n",
       "<tr>\n",
       "  <th>Time:</th>                 <td>21:55:48</td>     <th>  Log-Likelihood:    </th> <td> -1388.0</td> \n",
       "</tr>\n",
       "<tr>\n",
       "  <th>No. Observations:</th>      <td>   999</td>      <th>  AIC:               </th> <td>   2780.</td> \n",
       "</tr>\n",
       "<tr>\n",
       "  <th>Df Residuals:</th>          <td>   997</td>      <th>  BIC:               </th> <td>   2790.</td> \n",
       "</tr>\n",
       "<tr>\n",
       "  <th>Df Model:</th>              <td>     1</td>      <th>                     </th>     <td> </td>    \n",
       "</tr>\n",
       "<tr>\n",
       "  <th>Covariance Type:</th>      <td>nonrobust</td>    <th>                     </th>     <td> </td>    \n",
       "</tr>\n",
       "</table>\n",
       "<table class=\"simpletable\">\n",
       "<tr>\n",
       "      <td></td>         <th>coef</th>     <th>std err</th>      <th>t</th>      <th>P>|t|</th> <th>[95.0% Conf. Int.]</th> \n",
       "</tr>\n",
       "<tr>\n",
       "  <th>Intercept</th> <td>    5.9539</td> <td>    0.330</td> <td>   18.031</td> <td> 0.000</td> <td>    5.306     6.602</td>\n",
       "</tr>\n",
       "<tr>\n",
       "  <th>np.log(x)</th> <td>    3.8522</td> <td>    0.031</td> <td>  122.881</td> <td> 0.000</td> <td>    3.791     3.914</td>\n",
       "</tr>\n",
       "</table>\n",
       "<table class=\"simpletable\">\n",
       "<tr>\n",
       "  <th>Omnibus:</th>       <td> 1.638</td> <th>  Durbin-Watson:     </th> <td>   1.967</td>\n",
       "</tr>\n",
       "<tr>\n",
       "  <th>Prob(Omnibus):</th> <td> 0.441</td> <th>  Jarque-Bera (JB):  </th> <td>   1.522</td>\n",
       "</tr>\n",
       "<tr>\n",
       "  <th>Skew:</th>          <td> 0.090</td> <th>  Prob(JB):          </th> <td>   0.467</td>\n",
       "</tr>\n",
       "<tr>\n",
       "  <th>Kurtosis:</th>      <td> 3.067</td> <th>  Cond. No.          </th> <td>    114.</td>\n",
       "</tr>\n",
       "</table>"
      ],
      "text/plain": [
       "<class 'statsmodels.iolib.summary.Summary'>\n",
       "\"\"\"\n",
       "                            OLS Regression Results                            \n",
       "==============================================================================\n",
       "Dep. Variable:                      y   R-squared:                       0.938\n",
       "Model:                            OLS   Adj. R-squared:                  0.938\n",
       "Method:                 Least Squares   F-statistic:                 1.510e+04\n",
       "Date:                Sat, 23 Jan 2016   Prob (F-statistic):               0.00\n",
       "Time:                        21:55:48   Log-Likelihood:                -1388.0\n",
       "No. Observations:                 999   AIC:                             2780.\n",
       "Df Residuals:                     997   BIC:                             2790.\n",
       "Df Model:                           1                                         \n",
       "Covariance Type:            nonrobust                                         \n",
       "==============================================================================\n",
       "                 coef    std err          t      P>|t|      [95.0% Conf. Int.]\n",
       "------------------------------------------------------------------------------\n",
       "Intercept      5.9539      0.330     18.031      0.000         5.306     6.602\n",
       "np.log(x)      3.8522      0.031    122.881      0.000         3.791     3.914\n",
       "==============================================================================\n",
       "Omnibus:                        1.638   Durbin-Watson:                   1.967\n",
       "Prob(Omnibus):                  0.441   Jarque-Bera (JB):                1.522\n",
       "Skew:                           0.090   Prob(JB):                        0.467\n",
       "Kurtosis:                       3.067   Cond. No.                         114.\n",
       "==============================================================================\n",
       "\n",
       "Warnings:\n",
       "[1] Standard Errors assume that the covariance matrix of the errors is correctly specified.\n",
       "\"\"\""
      ]
     },
     "execution_count": 256,
     "metadata": {},
     "output_type": "execute_result"
    }
   ],
   "source": [
    "log_fit.summary()"
   ]
  },
  {
   "cell_type": "code",
   "execution_count": 257,
   "metadata": {
    "collapsed": false,
    "scrolled": true
   },
   "outputs": [
    {
     "data": {
      "image/png": "[encoded data removed]",
      "text/plain": [
       "<matplotlib.figure.Figure at 0x10bf38eb8>"
      ]
     },
     "metadata": {},
     "output_type": "display_data"
    }
   ],
   "source": [
    "getPlot(log_fit, title='Log fit of data', var=1)"
   ]
  },
  {
   "cell_type": "markdown",
   "metadata": {},
   "source": [
    "This seems accurate, the fit seems to match the data."
   ]
  },
  {
   "cell_type": "markdown",
   "metadata": {},
   "source": [
    "## Challenge 2"
   ]
  },
  {
   "cell_type": "code",
   "execution_count": 258,
   "metadata": {
    "collapsed": false
   },
   "outputs": [],
   "source": [
    "np.random.seed(101)\n",
    "\n",
    "B0 = random.random()*10\n",
    "B1 = random.random()*10\n",
    "B2 = random.random()*10\n",
    "\n",
    "f = np.random.randn(1000)\n",
    "x = np.random.choice(np.arange(1,10), 1000)*f\n",
    "e = random.random()*3*np.random.choice(range(200), 1000)\n",
    "y = B0 + B1*x + B2*np.square(x) + e\n"
   ]
  },
  {
   "cell_type": "code",
   "execution_count": 259,
   "metadata": {
    "collapsed": false
   },
   "outputs": [
    {
     "data": {
      "text/plain": [
       "<matplotlib.collections.PathCollection at 0x1112d3588>"
      ]
     },
     "execution_count": 259,
     "metadata": {},
     "output_type": "execute_result"
    },
    {
     "data": {
      "image/png": "[encoded data removed]",
      "text/plain": [
       "<matplotlib.figure.Figure at 0x1112837b8>"
      ]
     },
     "metadata": {},
     "output_type": "display_data"
    }
   ],
   "source": [
    "plt.figure(figsize=(5,5))\n",
    "plt.scatter(x,y, marker='o')\n"
   ]
  },
  {
   "cell_type": "code",
   "execution_count": 260,
   "metadata": {
    "collapsed": false,
    "scrolled": true
   },
   "outputs": [],
   "source": [
    "quad_data = pd.DataFrame({'x':x,'y':y,'x2':np.square(x)})"
   ]
  },
  {
   "cell_type": "code",
   "execution_count": 261,
   "metadata": {
    "collapsed": true
   },
   "outputs": [],
   "source": [
    "quad_data = sm.add_constant(quad_data)"
   ]
  },
  {
   "cell_type": "code",
   "execution_count": 262,
   "metadata": {
    "collapsed": false,
    "scrolled": true
   },
   "outputs": [],
   "source": [
    "train, test = train_test_split(quad_data, test_size = 0.25)"
   ]
  },
  {
   "cell_type": "code",
   "execution_count": 263,
   "metadata": {
    "collapsed": false
   },
   "outputs": [],
   "source": [
    "quad_fit_2 = getQuadModel(train)"
   ]
  },
  {
   "cell_type": "code",
   "execution_count": 264,
   "metadata": {
    "collapsed": false
   },
   "outputs": [
    {
     "data": {
      "text/html": [
       "<table class=\"simpletable\">\n",
       "<caption>OLS Regression Results</caption>\n",
       "<tr>\n",
       "  <th>Dep. Variable:</th>            <td>y</td>        <th>  R-squared:         </th> <td>   0.998</td> \n",
       "</tr>\n",
       "<tr>\n",
       "  <th>Model:</th>                   <td>OLS</td>       <th>  Adj. R-squared:    </th> <td>   0.998</td> \n",
       "</tr>\n",
       "<tr>\n",
       "  <th>Method:</th>             <td>Least Squares</td>  <th>  F-statistic:       </th> <td>2.258e+05</td>\n",
       "</tr>\n",
       "<tr>\n",
       "  <th>Date:</th>             <td>Sat, 23 Jan 2016</td> <th>  Prob (F-statistic):</th>  <td>  0.00</td>  \n",
       "</tr>\n",
       "<tr>\n",
       "  <th>Time:</th>                 <td>21:55:49</td>     <th>  Log-Likelihood:    </th> <td> -3152.6</td> \n",
       "</tr>\n",
       "<tr>\n",
       "  <th>No. Observations:</th>      <td>   750</td>      <th>  AIC:               </th> <td>   6311.</td> \n",
       "</tr>\n",
       "<tr>\n",
       "  <th>Df Residuals:</th>          <td>   747</td>      <th>  BIC:               </th> <td>   6325.</td> \n",
       "</tr>\n",
       "<tr>\n",
       "  <th>Df Model:</th>              <td>     2</td>      <th>                     </th>     <td> </td>    \n",
       "</tr>\n",
       "<tr>\n",
       "  <th>Covariance Type:</th>      <td>nonrobust</td>    <th>                     </th>     <td> </td>    \n",
       "</tr>\n",
       "</table>\n",
       "<table class=\"simpletable\">\n",
       "<tr>\n",
       "        <td></td>          <th>coef</th>     <th>std err</th>      <th>t</th>      <th>P>|t|</th> <th>[95.0% Conf. Int.]</th> \n",
       "</tr>\n",
       "<tr>\n",
       "  <th>Intercept</th>    <td>   27.9771</td> <td>    0.665</td> <td>   42.050</td> <td> 0.000</td> <td>   26.671    29.283</td>\n",
       "</tr>\n",
       "<tr>\n",
       "  <th>np.square(x)</th> <td>    5.7170</td> <td>    0.009</td> <td>  628.245</td> <td> 0.000</td> <td>    5.699     5.735</td>\n",
       "</tr>\n",
       "<tr>\n",
       "  <th>x</th>            <td>    8.9452</td> <td>    0.105</td> <td>   85.304</td> <td> 0.000</td> <td>    8.739     9.151</td>\n",
       "</tr>\n",
       "</table>\n",
       "<table class=\"simpletable\">\n",
       "<tr>\n",
       "  <th>Omnibus:</th>       <td>623.612</td> <th>  Durbin-Watson:     </th> <td>   1.899</td>\n",
       "</tr>\n",
       "<tr>\n",
       "  <th>Prob(Omnibus):</th> <td> 0.000</td>  <th>  Jarque-Bera (JB):  </th> <td>  46.738</td>\n",
       "</tr>\n",
       "<tr>\n",
       "  <th>Skew:</th>          <td>-0.023</td>  <th>  Prob(JB):          </th> <td>7.10e-11</td>\n",
       "</tr>\n",
       "<tr>\n",
       "  <th>Kurtosis:</th>      <td> 1.778</td>  <th>  Cond. No.          </th> <td>    84.3</td>\n",
       "</tr>\n",
       "</table>"
      ],
      "text/plain": [
       "<class 'statsmodels.iolib.summary.Summary'>\n",
       "\"\"\"\n",
       "                            OLS Regression Results                            \n",
       "==============================================================================\n",
       "Dep. Variable:                      y   R-squared:                       0.998\n",
       "Model:                            OLS   Adj. R-squared:                  0.998\n",
       "Method:                 Least Squares   F-statistic:                 2.258e+05\n",
       "Date:                Sat, 23 Jan 2016   Prob (F-statistic):               0.00\n",
       "Time:                        21:55:49   Log-Likelihood:                -3152.6\n",
       "No. Observations:                 750   AIC:                             6311.\n",
       "Df Residuals:                     747   BIC:                             6325.\n",
       "Df Model:                           2                                         \n",
       "Covariance Type:            nonrobust                                         \n",
       "================================================================================\n",
       "                   coef    std err          t      P>|t|      [95.0% Conf. Int.]\n",
       "--------------------------------------------------------------------------------\n",
       "Intercept       27.9771      0.665     42.050      0.000        26.671    29.283\n",
       "np.square(x)     5.7170      0.009    628.245      0.000         5.699     5.735\n",
       "x                8.9452      0.105     85.304      0.000         8.739     9.151\n",
       "==============================================================================\n",
       "Omnibus:                      623.612   Durbin-Watson:                   1.899\n",
       "Prob(Omnibus):                  0.000   Jarque-Bera (JB):               46.738\n",
       "Skew:                          -0.023   Prob(JB):                     7.10e-11\n",
       "Kurtosis:                       1.778   Cond. No.                         84.3\n",
       "==============================================================================\n",
       "\n",
       "Warnings:\n",
       "[1] Standard Errors assume that the covariance matrix of the errors is correctly specified.\n",
       "\"\"\""
      ]
     },
     "execution_count": 264,
     "metadata": {},
     "output_type": "execute_result"
    }
   ],
   "source": [
    "quad_fit_2.summary()"
   ]
  },
  {
   "cell_type": "code",
   "execution_count": 265,
   "metadata": {
    "collapsed": false
   },
   "outputs": [
    {
     "data": {
      "image/png": "[encoded data removed]",
      "text/plain": [
       "<matplotlib.figure.Figure at 0x111283cc0>"
      ]
     },
     "metadata": {},
     "output_type": "display_data"
    }
   ],
   "source": [
    "getPlot(quad_fit_2, title='Training set quad fit', var = 2)"
   ]
  },
  {
   "cell_type": "code",
   "execution_count": 266,
   "metadata": {
    "collapsed": false,
    "scrolled": true
   },
   "outputs": [
    {
     "data": {
      "text/html": [
       "<div>\n",
       "<table border=\"1\" class=\"dataframe\">\n",
       "  <thead>\n",
       "    <tr style=\"text-align: right;\">\n",
       "      <th></th>\n",
       "      <th>const</th>\n",
       "      <th>x</th>\n",
       "      <th>x2</th>\n",
       "      <th>y</th>\n",
       "    </tr>\n",
       "  </thead>\n",
       "  <tbody>\n",
       "    <tr>\n",
       "      <th>865</th>\n",
       "      <td>1</td>\n",
       "      <td>-0.230439</td>\n",
       "      <td>0.053102</td>\n",
       "      <td>23.472300</td>\n",
       "    </tr>\n",
       "    <tr>\n",
       "      <th>460</th>\n",
       "      <td>1</td>\n",
       "      <td>1.323162</td>\n",
       "      <td>1.750757</td>\n",
       "      <td>65.659938</td>\n",
       "    </tr>\n",
       "    <tr>\n",
       "      <th>727</th>\n",
       "      <td>1</td>\n",
       "      <td>-1.280880</td>\n",
       "      <td>1.640652</td>\n",
       "      <td>18.871546</td>\n",
       "    </tr>\n",
       "    <tr>\n",
       "      <th>293</th>\n",
       "      <td>1</td>\n",
       "      <td>4.115243</td>\n",
       "      <td>16.935222</td>\n",
       "      <td>152.677994</td>\n",
       "    </tr>\n",
       "    <tr>\n",
       "      <th>118</th>\n",
       "      <td>1</td>\n",
       "      <td>4.699896</td>\n",
       "      <td>22.089025</td>\n",
       "      <td>177.508783</td>\n",
       "    </tr>\n",
       "  </tbody>\n",
       "</table>\n",
       "</div>"
      ],
      "text/plain": [
       "     const         x         x2           y\n",
       "865      1 -0.230439   0.053102   23.472300\n",
       "460      1  1.323162   1.750757   65.659938\n",
       "727      1 -1.280880   1.640652   18.871546\n",
       "293      1  4.115243  16.935222  152.677994\n",
       "118      1  4.699896  22.089025  177.508783"
      ]
     },
     "execution_count": 266,
     "metadata": {},
     "output_type": "execute_result"
    }
   ],
   "source": [
    "test.head()"
   ]
  },
  {
   "cell_type": "code",
   "execution_count": 267,
   "metadata": {
    "collapsed": false
   },
   "outputs": [],
   "source": [
    "def quadPlotTest(results, train, test, dpdnt='y', indp1='x', indp2='x2', const='const'):\n",
    "    test = test.sort_values(by=indp1, ascending=True)\n",
    "    plt.scatter(train[indp1], train[dpdnt], label='Training', color = 'red')\n",
    "    plt.plot(test[indp1], results.predict(test[[const, indp2, indp1]]), color='black',linewidth=1, label='Test')\n",
    "    plt.xlabel(indp1)\n",
    "    plt.ylabel(dpdnt)\n",
    "    plt.legend(loc='upper left')\n",
    "    plt.title('Training and Testing Data')"
   ]
  },
  {
   "cell_type": "code",
   "execution_count": 268,
   "metadata": {
    "collapsed": false
   },
   "outputs": [
    {
     "data": {
      "image/png": "[encoded data removed]",
      "text/plain": [
       "<matplotlib.figure.Figure at 0x1104101d0>"
      ]
     },
     "metadata": {},
     "output_type": "display_data"
    }
   ],
   "source": [
    "quadPlotTest(quad_fit_2, train, test)"
   ]
  },
  {
   "cell_type": "markdown",
   "metadata": {},
   "source": [
    "### MSE Calculations"
   ]
  },
  {
   "cell_type": "markdown",
   "metadata": {},
   "source": [
    "##### Training "
   ]
  },
  {
   "cell_type": "code",
   "execution_count": 269,
   "metadata": {
    "collapsed": false
   },
   "outputs": [
    {
     "data": {
      "text/plain": [
       "262.20160074877214"
      ]
     },
     "execution_count": 269,
     "metadata": {},
     "output_type": "execute_result"
    }
   ],
   "source": [
    "mean_squared_error(train.y, quad_fit_2.predict(train[['const', 'x', 'x2']]))"
   ]
  },
  {
   "cell_type": "markdown",
   "metadata": {},
   "source": [
    "##### Testing "
   ]
  },
  {
   "cell_type": "code",
   "execution_count": 270,
   "metadata": {
    "collapsed": false
   },
   "outputs": [
    {
     "data": {
      "text/plain": [
       "264.51296325210359"
      ]
     },
     "execution_count": 270,
     "metadata": {},
     "output_type": "execute_result"
    }
   ],
   "source": [
    "mean_squared_error(test.y, quad_fit_2.predict(test[['const', 'x', 'x2']]))"
   ]
  },
  {
   "cell_type": "markdown",
   "metadata": {},
   "source": [
    "## Challenge 3 "
   ]
  },
  {
   "cell_type": "markdown",
   "metadata": {},
   "source": [
    "For the data from two (above), try polynomial fits from 0th (just constant) \n",
    "\n",
    "to 7th order (highest term x^7). Over the x axis of model degree (8 points), plot\n",
    "\n",
    "**training error**\n",
    "\n",
    "**test error**\n",
    "\n",
    "**R squared**\n",
    "\n",
    "**AIC**\n",
    "\n",
    "\n"
   ]
  },
  {
   "cell_type": "code",
   "execution_count": 306,
   "metadata": {
    "collapsed": true
   },
   "outputs": [],
   "source": [
    "def getPolyModel(data, i):\n",
    "    formula = 'y ~ 1'\n",
    "    for num in range(i):\n",
    "        formula += (' + np.power(x,' + str(num+1) + ')')\n",
    "    \n",
    "    #print(formula)\n",
    "    \n",
    "    model = smf.ols(formula=formula, data=data)\n",
    "    results = model.fit()\n",
    "    return results"
   ]
  },
  {
   "cell_type": "code",
   "execution_count": 313,
   "metadata": {
    "collapsed": false
   },
   "outputs": [],
   "source": [
    "def iterQuadData(quad_data, numIter):\n",
    "    train_list = []\n",
    "    test_list = []\n",
    "    Rsq_list = []\n",
    "    AIC_list = []\n",
    "    \n",
    "    np.random.seed(101)\n",
    "\n",
    "    B0 = random.random()*10\n",
    "    B1 = random.random()*10\n",
    "    B2 = random.random()*10\n",
    "\n",
    "    f = np.random.randn(1000)\n",
    "    x = np.random.choice(np.arange(1,10), 1000)*f\n",
    "    e = random.random()*3*np.random.choice(range(200), 1000)\n",
    "    y = B0 + B1*x + B2*np.square(x) + e\n",
    "    \n",
    "    quad_data = pd.DataFrame({'x':x,'y':y,'x2':np.square(x)})\n",
    "    quad_data = sm.add_constant(quad_data)\n",
    "    train, test = train_test_split(quad_data, test_size = 0.25)\n",
    "    \n",
    "    for i in range(numIter):\n",
    "        temp_result = getPolyModel(train, i)\n",
    "        \n",
    "        train_list.append(mean_squared_error(train.y, temp_result.predict(train[['const', 'x', 'x2']])))\n",
    "        test_list.append(mean_squared_error(test.y, temp_result.predict(test[['const', 'x', 'x2']])))\n",
    "        Rsq_list.append(temp_result.rsquared)\n",
    "        AIC_list.append(temp_result.aic)\n",
    "        \n",
    "    c3_df = pd.DataFrame({'Train_MSE':train_list, 'Test_MSE':test_list, 'Rsquared':Rsq_list, 'AIC':AIC_list})\n",
    "    return c3_df"
   ]
  },
  {
   "cell_type": "code",
   "execution_count": 314,
   "metadata": {
    "collapsed": false
   },
   "outputs": [],
   "source": [
    "c3_df = iterQuadData(quad_data, 8)"
   ]
  },
  {
   "cell_type": "code",
   "execution_count": 315,
   "metadata": {
    "collapsed": false
   },
   "outputs": [
    {
     "data": {
      "text/html": [
       "<div>\n",
       "<table border=\"1\" class=\"dataframe\">\n",
       "  <thead>\n",
       "    <tr style=\"text-align: right;\">\n",
       "      <th></th>\n",
       "      <th>AIC</th>\n",
       "      <th>Rsquared</th>\n",
       "      <th>Test_MSE</th>\n",
       "      <th>Train_MSE</th>\n",
       "    </tr>\n",
       "  </thead>\n",
       "  <tbody>\n",
       "    <tr>\n",
       "      <th>0</th>\n",
       "      <td>11710.984799</td>\n",
       "      <td>1.110223e-16</td>\n",
       "      <td>372057.942027</td>\n",
       "      <td>352957.406083</td>\n",
       "    </tr>\n",
       "    <tr>\n",
       "      <th>1</th>\n",
       "      <td>11667.978731</td>\n",
       "      <td>5.824309e-02</td>\n",
       "      <td>430118.426286</td>\n",
       "      <td>332400.077284</td>\n",
       "    </tr>\n",
       "    <tr>\n",
       "      <th>2</th>\n",
       "      <td>4198.067361</td>\n",
       "      <td>9.999556e-01</td>\n",
       "      <td>15.804942</td>\n",
       "      <td>15.666835</td>\n",
       "    </tr>\n",
       "    <tr>\n",
       "      <th>3</th>\n",
       "      <td>4199.397530</td>\n",
       "      <td>9.999557e-01</td>\n",
       "      <td>15.890922</td>\n",
       "      <td>15.652849</td>\n",
       "    </tr>\n",
       "    <tr>\n",
       "      <th>4</th>\n",
       "      <td>4201.359395</td>\n",
       "      <td>9.999557e-01</td>\n",
       "      <td>15.986462</td>\n",
       "      <td>15.652054</td>\n",
       "    </tr>\n",
       "    <tr>\n",
       "      <th>5</th>\n",
       "      <td>4202.482797</td>\n",
       "      <td>9.999557e-01</td>\n",
       "      <td>15.686022</td>\n",
       "      <td>15.633770</td>\n",
       "    </tr>\n",
       "    <tr>\n",
       "      <th>6</th>\n",
       "      <td>4204.482479</td>\n",
       "      <td>9.999557e-01</td>\n",
       "      <td>15.703008</td>\n",
       "      <td>15.633764</td>\n",
       "    </tr>\n",
       "    <tr>\n",
       "      <th>7</th>\n",
       "      <td>4206.256840</td>\n",
       "      <td>9.999557e-01</td>\n",
       "      <td>18.505093</td>\n",
       "      <td>15.629061</td>\n",
       "    </tr>\n",
       "  </tbody>\n",
       "</table>\n",
       "</div>"
      ],
      "text/plain": [
       "            AIC      Rsquared       Test_MSE      Train_MSE\n",
       "0  11710.984799  1.110223e-16  372057.942027  352957.406083\n",
       "1  11667.978731  5.824309e-02  430118.426286  332400.077284\n",
       "2   4198.067361  9.999556e-01      15.804942      15.666835\n",
       "3   4199.397530  9.999557e-01      15.890922      15.652849\n",
       "4   4201.359395  9.999557e-01      15.986462      15.652054\n",
       "5   4202.482797  9.999557e-01      15.686022      15.633770\n",
       "6   4204.482479  9.999557e-01      15.703008      15.633764\n",
       "7   4206.256840  9.999557e-01      18.505093      15.629061"
      ]
     },
     "execution_count": 315,
     "metadata": {},
     "output_type": "execute_result"
    }
   ],
   "source": [
    "c3_df"
   ]
  },
  {
   "cell_type": "code",
   "execution_count": 319,
   "metadata": {
    "collapsed": true
   },
   "outputs": [],
   "source": [
    "def plotC3(yvalue):\n",
    "    c3_df.plot(c3_df.index, yvalue)\n",
    "    plt.xlabel('Polynomial Order')\n",
    "    plt.ylabel(yvalue)\n",
    "    plt.title(yvalue + ' for each Polynomial Order')"
   ]
  },
  {
   "cell_type": "code",
   "execution_count": 320,
   "metadata": {
    "collapsed": false
   },
   "outputs": [
    {
     "data": {
      "image/png": "[encoded data removed]",
      "text/plain": [
       "<matplotlib.figure.Figure at 0x110e8e6d8>"
      ]
     },
     "metadata": {},
     "output_type": "display_data"
    }
   ],
   "source": [
    "plotC3('AIC')"
   ]
  },
  {
   "cell_type": "code",
   "execution_count": 321,
   "metadata": {
    "collapsed": false,
    "scrolled": true
   },
   "outputs": [
    {
     "data": {
      "image/png": "[encoded data removed]",
      "text/plain": [
       "<matplotlib.figure.Figure at 0x110ea8da0>"
      ]
     },
     "metadata": {},
     "output_type": "display_data"
    }
   ],
   "source": [
    "plotC3('Rsquared')"
   ]
  },
  {
   "cell_type": "code",
   "execution_count": 323,
   "metadata": {
    "collapsed": false,
    "scrolled": false
   },
   "outputs": [
    {
     "data": {
      "image/png": "[encoded data removed]",
      "text/plain": [
       "<matplotlib.figure.Figure at 0x10ec812b0>"
      ]
     },
     "metadata": {},
     "output_type": "display_data"
    }
   ],
   "source": [
    "plotC3('Train_MSE')"
   ]
  },
  {
   "cell_type": "code",
   "execution_count": 322,
   "metadata": {
    "collapsed": false,
    "scrolled": true
   },
   "outputs": [
    {
     "data": {
      "image/png": "[encoded data removed]",
      "text/plain": [
       "<matplotlib.figure.Figure at 0x110eaa240>"
      ]
     },
     "metadata": {},
     "output_type": "display_data"
    }
   ],
   "source": [
    "plotC3('Test_MSE')"
   ]
  },
  {
   "cell_type": "code",
   "execution_count": null,
   "metadata": {
    "collapsed": true
   },
   "outputs": [],
   "source": []
  }
 ],
 "metadata": {
  "kernelspec": {
   "display_name": "Python 3",
   "language": "python",
   "name": "python3"
  }
 },
 "nbformat": 4,
 "nbformat_minor": 0
}
