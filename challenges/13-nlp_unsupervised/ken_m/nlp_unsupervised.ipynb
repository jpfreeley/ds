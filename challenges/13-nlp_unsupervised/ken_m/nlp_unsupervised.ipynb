{
 "cells": [
  {
   "cell_type": "markdown",
   "metadata": {},
   "source": [
    "# Challenge Set 13 NLP Unsupervised\n",
    "\n",
    "Topic: NLP\n",
    "\n",
    "Date: 02/24/2016\n",
    "\n",
    "Name: Kenneth Myers\n",
    "\n",
    "Worked with: NA"
   ]
  },
  {
   "cell_type": "code",
   "execution_count": 95,
   "metadata": {
    "collapsed": false
   },
   "outputs": [],
   "source": [
    "import numpy as np\n",
    "from numpy import zeros\n",
    "import pandas as pd\n",
    "import pickle\n",
    "\n",
    "from random import sample\n",
    "from random import random\n",
    "from collections import defaultdict\n",
    "\n",
    "from sklearn.externals import joblib\n",
    "\n",
    "from sklearn.feature_extraction.text import TfidfVectorizer\n",
    "from sklearn.feature_extraction.text import CountVectorizer\n",
    "from sklearn.cluster import KMeans\n",
    "from sklearn.metrics import pairwise_distances\n",
    "from sklearn.metrics.pairwise import cosine_similarity\n",
    "\n",
    "import nltk\n",
    "from nltk.stem.snowball import SnowballStemmer\n",
    "from nltk.stem import WordNetLemmatizer\n",
    "\n",
    "\n",
    "import re\n",
    "import os\n",
    "import codecs\n",
    "from sklearn import feature_extraction\n",
    "import matplotlib.pyplot as plt\n",
    "import mpld3\n",
    "\n",
    "%matplotlib inline \n"
   ]
  },
  {
   "cell_type": "markdown",
   "metadata": {},
   "source": [
    "## Challenge 1\n",
    "\n",
    "Cluster sentences with K-means. If you have your own Fletcher text data, get sentences out and cluster them. If not, cluster the tweets you gathered during the last challenge set. For each cluster, print out the sentences, try to see how close the sentences are. Try different K values and try to find a K value that makes the most sense (the sentences look like they do form a meaningful cluster).\n",
    "\n",
    "How do you deal with retweets (if you're clustering tweets)?"
   ]
  },
  {
   "cell_type": "markdown",
   "metadata": {},
   "source": [
    "### Note\n",
    "I will be working with my own dataset."
   ]
  },
  {
   "cell_type": "code",
   "execution_count": 2,
   "metadata": {
    "collapsed": true
   },
   "outputs": [],
   "source": [
    "with open('tableaucolors.pkl', 'rb') as file:\n",
    "    tbl_colors = pickle.load(file)"
   ]
  },
  {
   "cell_type": "code",
   "execution_count": 35,
   "metadata": {
    "collapsed": false
   },
   "outputs": [],
   "source": [
    "full_data = pd.read_csv('full_anime_data_set.csv')"
   ]
  },
  {
   "cell_type": "code",
   "execution_count": 36,
   "metadata": {
    "collapsed": false
   },
   "outputs": [],
   "source": [
    "full_data.dropna(subset=['synopsis'], inplace=True)"
   ]
  },
  {
   "cell_type": "code",
   "execution_count": 37,
   "metadata": {
    "collapsed": true
   },
   "outputs": [],
   "source": [
    "synops = list(full_data['synopsis'])"
   ]
  },
  {
   "cell_type": "markdown",
   "metadata": {},
   "source": [
    "### Preprocessing"
   ]
  },
  {
   "cell_type": "code",
   "execution_count": 6,
   "metadata": {
    "collapsed": false
   },
   "outputs": [],
   "source": [
    "stemmer = SnowballStemmer(\"english\")\n",
    "lemmatizer = WordNetLemmatizer()"
   ]
  },
  {
   "cell_type": "code",
   "execution_count": 7,
   "metadata": {
    "collapsed": true
   },
   "outputs": [],
   "source": [
    "stops = [\n",
    "    \"episode\", \"dvd\", \"special\", \"short\", \"movie\", \"included\", \"recap\", \"season\", \n",
    "    \"second\", \"film\", \"volume\", \"bundled\", \"tv\", \"aired\", \"version\", \"ova\", \n",
    "    \"tv\", \"animation\", \"animated\", \"releases\", \"based\", \"novel\", \"ova\", \"released\",\n",
    "    \"manga\", \"edition\", \"featuring\", \"features\", \"created\", \"called\",\n",
    "    \"main\", \"lot\", \"named\", \"feature\", \"anime\", \"adaptation\", \"releases\",\n",
    "    \"series\", \"information\", \"original\", \"characters\", \"new\", \"story\",\n",
    "    \"ovum\", \"character\", \"produced\", \"final\", \"meet\", \"scenes\", \"various\", \"plot\",\n",
    "    \"video\", \"meeting\", \"people\", \"release\", \"end\", \"japanese\", \"japan\", \"young\",\n",
    "    \"episodes\", \"include\", \"specials\", \"animate\", \"base\", \"game\", \"later\", \"contain\",\n",
    "    \"set\", \"volumes\", \"bundle\", \"air\", \"different\", \"limit\",\n",
    "    \"a\", \"about\", \"above\", \"across\", \"after\", \"afterwards\", \"again\", \"against\",\n",
    "    \"all\", \"almost\", \"alone\", \"along\", \"already\", \"also\", \"although\", \"always\",\n",
    "    \"am\", \"among\", \"amongst\", \"amoungst\", \"amount\", \"an\", \"and\", \"another\",\n",
    "    \"any\", \"anyhow\", \"anyone\", \"anything\", \"anyway\", \"anywhere\", \"are\",\n",
    "    \"around\", \"as\", \"at\", \"back\", \"be\", \"became\", \"because\", \"become\",\n",
    "    \"becomes\", \"becoming\", \"been\", \"before\", \"beforehand\", \"behind\", \"being\",\n",
    "    \"below\", \"beside\", \"besides\", \"between\", \"beyond\", \"bill\", \"both\",\n",
    "    \"bottom\", \"but\", \"by\", \"call\", \"can\", \"cannot\", \"cant\", \"co\", \"con\",\n",
    "    \"could\", \"couldnt\", \"cry\", \"de\", \"describe\", \"detail\", \"do\", \"done\",\n",
    "    \"down\", \"due\", \"during\", \"each\", \"eg\", \"eight\", \"either\", \"eleven\", \"else\",\n",
    "    \"elsewhere\", \"empty\", \"enough\", \"etc\", \"even\", \"ever\", \"every\", \"everyone\",\n",
    "    \"everything\", \"everywhere\", \"except\", \"few\", \"fifteen\", \"fifty\", \"fill\",\n",
    "    \"find\", \"fire\", \"first\", \"five\", \"for\", \"former\", \"formerly\", \"forty\",\n",
    "    \"found\", \"four\", \"from\", \"front\", \"full\", \"further\", \"get\", \"give\", \"go\",\n",
    "    \"had\", \"has\", \"hasnt\", \"have\", \"he\", \"hence\", \"her\", \"here\", \"hereafter\",\n",
    "    \"hereby\", \"herein\", \"hereupon\", \"hers\", \"herself\", \"him\", \"himself\", \"his\",\n",
    "    \"how\", \"however\", \"hundred\", \"i\", \"ie\", \"if\", \"in\", \"inc\", \"indeed\",\n",
    "    \"interest\", \"into\", \"is\", \"it\", \"its\", \"itself\", \"keep\", \"last\", \"latter\",\n",
    "    \"latterly\", \"least\", \"less\", \"ltd\", \"made\", \"many\", \"may\", \"me\",\n",
    "    \"meanwhile\", \"might\", \"mill\", \"mine\", \"more\", \"moreover\", \"most\", \"mostly\",\n",
    "    \"move\", \"much\", \"must\", \"my\", \"myself\", \"name\", \"namely\", \"neither\",\n",
    "    \"never\", \"nevertheless\", \"next\", \"nine\", \"no\", \"nobody\", \"none\", \"noone\",\n",
    "    \"nor\", \"not\", \"nothing\", \"now\", \"nowhere\", \"of\", \"off\", \"often\", \"on\",\n",
    "    \"once\", \"one\", \"only\", \"onto\", \"or\", \"other\", \"others\", \"otherwise\", \"our\",\n",
    "    \"ours\", \"ourselves\", \"out\", \"over\", \"own\", \"part\", \"per\", \"perhaps\",\n",
    "    \"please\", \"put\", \"rather\", \"re\", \"same\", \"see\", \"seem\", \"seemed\",\n",
    "    \"seeming\", \"seems\", \"serious\", \"several\", \"she\", \"should\", \"show\", \"side\",\n",
    "    \"since\", \"sincere\", \"six\", \"sixty\", \"so\", \"some\", \"somehow\", \"someone\",\n",
    "    \"something\", \"sometime\", \"sometimes\", \"somewhere\", \"still\", \"such\",\n",
    "    \"system\", \"take\", \"ten\", \"than\", \"that\", \"the\", \"their\", \"them\",\n",
    "    \"themselves\", \"then\", \"thence\", \"there\", \"thereafter\", \"thereby\",\n",
    "    \"therefore\", \"therein\", \"thereupon\", \"these\", \"they\", \"thick\", \"thin\",\n",
    "    \"third\", \"this\", \"those\", \"though\", \"three\", \"through\", \"throughout\",\n",
    "    \"thru\", \"thus\", \"to\", \"together\", \"too\", \"top\", \"toward\", \"towards\",\n",
    "    \"twelve\", \"twenty\", \"two\", \"un\", \"under\", \"until\", \"up\", \"upon\", \"us\",\n",
    "    \"very\", \"via\", \"was\", \"we\", \"well\", \"were\", \"what\", \"whatever\", \"when\",\n",
    "    \"whence\", \"whenever\", \"where\", \"whereafter\", \"whereas\", \"whereby\",\n",
    "    \"wherein\", \"whereupon\", \"wherever\", \"whether\", \"which\", \"while\", \"whither\",\n",
    "    \"who\", \"whoever\", \"whole\", \"whom\", \"whose\", \"why\", \"will\", \"with\",\n",
    "    \"within\", \"without\", \"would\", \"yet\", \"you\", \"your\", \"yours\", \"yourself\",\n",
    "    \"yourselves\"]"
   ]
  },
  {
   "cell_type": "code",
   "execution_count": 8,
   "metadata": {
    "collapsed": false
   },
   "outputs": [],
   "source": [
    "def tokenize_and_stem(text):\n",
    "    # first tokenize by sentence, then by word to ensure that punctuation is caught as it's own token\n",
    "    tokens = [word for sent in nltk.sent_tokenize(text.replace(\"'\", '')) for word in nltk.word_tokenize(sent)]\n",
    "    filtered_tokens = []\n",
    "    # filter out any tokens not containing letters (e.g., numeric tokens, raw punctuation)\n",
    "    for token in tokens:\n",
    "        if re.search('[a-zA-Z]', token):\n",
    "            filtered_tokens.append(token)\n",
    "    #stems = [stemmer.stem(t) for t in filtered_tokens]\n",
    "    stems = [lemmatizer.lemmatize(t, pos='v') for t in filtered_tokens]\n",
    "    return stems\n",
    "\n",
    "def tokenize_only(text):\n",
    "    # first tokenize by sentence, then by word to ensure that punctuation is caught as it's own token\n",
    "    tokens = [word.lower() for sent in nltk.sent_tokenize(text.replace(\"'\", '')) for word in nltk.word_tokenize(sent)]\n",
    "    filtered_tokens = []\n",
    "    # filter out any tokens not containing letters (e.g., numeric tokens, raw punctuation)\n",
    "    for token in tokens:\n",
    "        if re.search('[a-zA-Z]', token):\n",
    "            filtered_tokens.append(token)\n",
    "    return filtered_tokens"
   ]
  },
  {
   "cell_type": "code",
   "execution_count": 9,
   "metadata": {
    "collapsed": false,
    "scrolled": false
   },
   "outputs": [],
   "source": [
    "totalvocab_stemmed = []\n",
    "totalvocab_tokenized = []\n",
    "for i in synops:\n",
    "    allwords_stemmed = tokenize_and_stem(i) #for each item in 'synopses', tokenize/stem\n",
    "    totalvocab_stemmed.extend(allwords_stemmed) #extend the 'totalvocab_stemmed' list\n",
    "    \n",
    "    allwords_tokenized = tokenize_only(i)\n",
    "    totalvocab_tokenized.extend(allwords_tokenized)"
   ]
  },
  {
   "cell_type": "code",
   "execution_count": 10,
   "metadata": {
    "collapsed": false
   },
   "outputs": [
    {
     "name": "stdout",
     "output_type": "stream",
     "text": [
      "there are 564444 items in vocab_frame\n"
     ]
    }
   ],
   "source": [
    "vocab_frame = pd.DataFrame({'words': totalvocab_tokenized}, index = totalvocab_stemmed)\n",
    "print('there are ' + str(vocab_frame.shape[0]) + ' items in vocab_frame')"
   ]
  },
  {
   "cell_type": "markdown",
   "metadata": {},
   "source": [
    "### Bag of words"
   ]
  },
  {
   "cell_type": "code",
   "execution_count": 68,
   "metadata": {
    "collapsed": true
   },
   "outputs": [],
   "source": [
    "wordbag_vectorizer = CountVectorizer(analyzer = \"word\",   \\\n",
    "                                     tokenizer = None,    \\\n",
    "                                     preprocessor = None, \\\n",
    "                                     max_df = 0.2, \\\n",
    "                                     min_df = 0.01, \\\n",
    "                                     stop_words = stops,   \\\n",
    "                                     max_features = 5000)"
   ]
  },
  {
   "cell_type": "code",
   "execution_count": 69,
   "metadata": {
    "collapsed": false
   },
   "outputs": [],
   "source": [
    "bag_of_words = wordbag_vectorizer.fit_transform(synops)\n",
    "bag_of_words = bag_of_words.toarray()"
   ]
  },
  {
   "cell_type": "code",
   "execution_count": 85,
   "metadata": {
    "collapsed": false
   },
   "outputs": [],
   "source": [
    "vocab_dict = wordbag_vectorizer.vocabulary_\n",
    "\n",
    "    \n",
    "terms = []\n",
    "for k,_ in vocab_dict.items():\n",
    "    terms.append(k)\n",
    "    \n",
    "terms = np.sort(np.array(terms))\n"
   ]
  },
  {
   "cell_type": "code",
   "execution_count": 92,
   "metadata": {
    "collapsed": false,
    "scrolled": true
   },
   "outputs": [
    {
     "name": "stdout",
     "output_type": "stream",
     "text": [
      "CPU times: user 11.7 s, sys: 298 ms, total: 12 s\n",
      "Wall time: 8.3 s\n"
     ]
    }
   ],
   "source": [
    "num_clusters = 10\n",
    "\n",
    "km = KMeans(n_clusters=num_clusters)\n",
    "\n",
    "%time km.fit(bag_of_words)\n",
    "\n",
    "clusters = km.labels_.tolist()"
   ]
  },
  {
   "cell_type": "code",
   "execution_count": 93,
   "metadata": {
    "collapsed": true
   },
   "outputs": [],
   "source": [
    "full_data['clusters'] = clusters\n",
    "full_data.set_index('clusters', inplace=True)\n",
    "full_data.head()\n",
    "cluster_names = defaultdict(str)"
   ]
  },
  {
   "cell_type": "code",
   "execution_count": 106,
   "metadata": {
    "collapsed": false,
    "scrolled": false
   },
   "outputs": [
    {
     "name": "stdout",
     "output_type": "stream",
     "text": [
      "Top terms per cluster:\n",
      "\n",
      "Cluster 0 words: b'father', b'mother', b'day', b'girl', b'old', b'boy',\n",
      "\n",
      "Cluster 0 titles: Prince of Tennis, Chuuka Ichiban!, Futakoi, Hunter x Hunter, Initial D First Stage, Initial D Third Stage, Ranma ½, Groove Adventure Rave, Grappler Baki (TV), Zettai Shounen, Futatsu no Spica, Magical Canan, Fate/stay night, Bannou Bunka Neko-Musume, Capeta, InuYasha: Toki wo Koeru Omoi, Kurau Phantom Memory, Kamui no Ken, Makai Toshi Shinjuku, Major S1, Koi Kaze, Patapata Hikousen no Bouken, Papa to Kiss in the Dark, Detective Conan Movie 02: The Fourteenth Target, Ginga Densetsu Weed, Zetsuai 1989, Taiyou no Ouji: Horus no Daibouken, The SoulTaker: Tamashii-gari, Pokemon: Kesshoutou no Teiou Entei, Windaria,\n",
      "\n",
      "Cluster 1 words: b'schools', b'high', b'student', b'girls', b'clubs', b'day',\n",
      "\n",
      "Cluster 1 titles: Eyeshield 21, School Rumble, Tenshi Kinryouku, D.C.: Da Capo, Cluster Edge, Full Metal Panic!, Full Metal Panic? Fumoffu, Gakuen Alice, Boys Be..., Green Green, Maria-sama ga Miteru, Slam Dunk, Tenjou Tenge, Ultra Maniac, Ultra Maniac OVA, Tenkuu no Escaflowne, Maburaho, Onegai☆Teacher, Tenshi na Konamaiki, Shin Angel, Asagiri no Miko, Girls Bravo: First Season, Gokusen, Great Teacher Onizuka, Hoshi no Koe, Happy☆Lesson, Bleach, Akane Maniax, Dear Boys, Abashiri Ikka,\n",
      "\n",
      "Cluster 2 words: b'family', b'times', b'life', b'years', b'day', b'mother',\n",
      "\n",
      "Cluster 2 titles: Ayashi no Ceres, Fruits Basket, Onegai☆Twins, Sen to Chihiro no Kamikakushi, Jungle wa Itsumo Hare nochi Guu Deluxe, Rose of Versailles, Seikai no Senki, Tonari no Yamada-kun, Weiß Kreuz, Kage kara Mamoru!, Ushio to Tora, Inukami!, Eikyuu Kazoku, Rail of the Star: A True Story of Children, Kishin Douji Zenki, Katekyo Hitman Reborn!, Iron Virgin Jun, Princess Rouge, Byousoku 5 Centimeter, Kaze no Stigma, Reideen, Romeo x Juliet, Dirty Pair: Bouryaku no 005-bin, Hadashi no Gen, Hadashi no Gen 2, Hidamari Sketch, Chikyuu Bouei Kazoku, Eikoku Koi Monogatari Emma: Molders-hen, Mahou no Star Magical Emi, Seto no Hanayome,\n",
      "\n",
      "Cluster 3 words: b'music', b'schools', b'boy', b'ray', b'world',\n",
      "\n",
      "Cluster 3 titles: Cowboy Bebop: Tengoku no Tobira, Initial D Fourth Stage, Aa! Megami-sama!, Appleseed (Movie), Basilisk: Kouga Ninpou Chou, Mobile Suit Gundam: The 08th MS Team - Miller's Report, Mobile Suit Gundam F91, Ou Dorobou Jing in Seventh Heaven, Sakigake!! Cromartie Koukou, El Hazard 2: The Magnificent World, Futakoi Alternative, Saiyuuki Reload Gunlock, Hunter x Hunter: Greed Island, Hunter x Hunter: Greed Island Final, Kannazuki no Miko, Kita e.: Diamond Dust Drops, Shaman King, Power Stone, Initial D Second Stage, Love Hina Again, Pia Carrot e Youkoso!!, Pia Carrot e Youkoso!! 2, Kuro no Danshou, Dan Doh!!, Gankutsuou, Jungle wa Itsumo Hare nochi Guu, Happy☆Lesson (TV), Happy☆Lesson: The Final, Hajime no Ippo: Champion Road, Hajime no Ippo: Mashiba vs. Kimura,\n",
      "\n",
      "Cluster 4 words: b'times', b'world', b'day', b'friends', b'years', b'mysterious',\n",
      "\n",
      "Cluster 4 titles: Witch Hunter Robin, Ring ni Kakero 1, Sunabouzu, Yakitate!! Japan, Zipang, Neon Genesis Evangelion: Death & Rebirth, Neon Genesis Evangelion: The End of Evangelion, Berserk, Rurouni Kenshin: Meiji Kenkaku Romantan - Ishinshishi e no Chinkonka, Akira, Kidou Tenshi Angelic Layer, Chobits, Chrno Crusade, Rozen Maiden: Träumend, Full Metal Panic! The Second Raid, Soukyuu no Fafner: Dead Aggressor, Mahou Shoujo Lyrical Nanoha, Mahou Shoujo Lyrical Nanoha A's, Mobile Suit Gundam Seed Destiny, Mai-HiME, Mai-Otome, Ou Dorobou Jing, Bakuretsu Tenshi, El Hazard: The Wanderers, El Hazard: The Magnificent World, Full Moon wo Sagashite, Fushigi Yuugi, Saiyuuki Reload, GetBackers, Hikaru no Go,\n",
      "\n",
      "Cluster 5 words: b'world', b'mysterious', b'girl', b'war', b'life', b'day',\n",
      "\n",
      "Cluster 5 titles: One Piece, .hack//Sign, Arc the Lad, Avenger, Chou Henshin Cosprayers, Juuni Kokuki, X, Boukyaku no Senritsu, Scrapped Princess, Strange Dawn, Triangle Heart: Sweet Songs Forever, Tsubasa Chronicle, Yumeria, R.O.D OVA, R.O.D the TV, Cardcaptor Sakura, Gungrave, Viewtiful Joe, Comic Party, Seikai no Monshou, Grenadier: Hohoemi no Senshi, .hack//Tasogare no Udewa Densetsu, .hack//Liminality, Doki Doki Densetsu: Mahoujin Guru Guru, Matantei Loki Ragnarok, Serial Experiments Lain, eX-Driver the Movie, Gilgamesh, Gantz 2nd Stage, Otogi-Jushi Akazukin OVA,\n",
      "\n",
      "Cluster 6 words: b'earth', b'space', b'planet', b'war', b'year', b'robot',\n",
      "\n",
      "Cluster 6 titles: Cowboy Bebop, Blue Gender, DearS, Mobile Suit Gundam, Mobile Suit Gundam: The 08th MS Team, Mobile Suit Gundam 0080: War in the Pocket, Mobile Suit Gundam 0083: Stardust Memory, Mobile Suit Zeta Gundam, Mobile Suit Gundam ZZ, Mobile Suit Gundam: Char's Counterattack, Mobile Suit Victory Gundam, Mobile Suit Gundam Wing, Mobile Suit Gundam Wing: Endless Waltz, After War Gundam X, Mobile Suit Gundam Seed, Turn A Gundam, Mobile Fighter G Gundam, Uchuu no Stellvia, X/1999, Samurai 7, Vandread: The Second Stage, Xenosaga The Animation, Project A-Ko, Gunparade March: Arata Naru Kougunka, Divergence Eve 2: Misaki Chronicles, Mirai Shounen Conan, Aa! Megami-sama! Movie, Planetes, Buzzer Beater, Mars of Destruction,\n",
      "\n",
      "Cluster 7 words: b'life', b'day', b'world', b'man', b'times', b'love',\n",
      "\n",
      "Cluster 7 titles: Trigun, Beet the Vandel Buster, Hachimitsu to Clover, Hungry Heart: Wild Striker, Monster, Naruto, Neon Genesis Evangelion, Ghost in the Shell, Rurouni Kenshin: Meiji Kenkaku Romantan - Tsuiokuhen, Rurouni Kenshin: Meiji Kenkaku Romantan, Aa! Megami-sama! (TV), Beck, Rozen Maiden, Azumanga Daioh, Black Cat, Aishiteruze Baby★★, El Hazard: The Alternative World, Final Approach, Fullmetal Alchemist, Gunslinger Girl, Kareshi Kanojo no Jijou, Blood+, Solty Rei, Pita Ten, Shingetsutan Tsukihime, Tokyo Underground, Vandread, Love Hina, FLCL, Air Master,\n",
      "\n",
      "Cluster 8 words: b'girl', b'day', b'schools', b'love', b'boy', b'times',\n",
      "\n",
      "Cluster 8 titles: Texhnolyze, Trinity Blood, Ai Yori Aoshi, D.N.Angel, Last Exile, Shin Shirayuki-hime Densetsu Prétear, Air, Akazukin Chacha, Hana yori Dango, Corrector Yui, Fushigi Yuugi: Eikouden, Gate Keepers, Gate Keepers 21, Jinki:Extend, Kamikaze Kaitou Jeanne, Kono Minikuku mo Utsukushii Sekai, Mononoke Hime, Rizelmine, Speed Grapher, Video Girl Ai, Wolf's Rain, Pure Mail, Pia Carrot e Youkoso!! 2 DX, Kidou Senkan Nadesico, Mezzo Forte, Dragon Ball, Jigoku Shoujo, Ninin ga Shinobuden, Daa! Daa! Daa!, Eureka Seven,\n",
      "\n",
      "Cluster 9 words: b'demon', b'demons', b'world', b'humans', b'human', b'king',\n",
      "\n",
      "Cluster 9 titles: Shuffle!, Gensoumaden Saiyuuki, Tactics, Harukanaru Toki no Naka de: Hachiyou Shou, InuYasha, Konjiki no Gash Bell!!, Kyou kara Maou!, 3x3 Eyes, Karas, Yuu☆Yuu☆Hakusho, Juubee Ninpuuchou: Ryuuhougyoku-hen, Tokyo Juushouden, Hyper Police, Shihaisha no Tasogare, Violinist of Hamelin, Shin Megami Tensei: Tokyo Mokushiroku, Yarima Queen, Spectral Force, Kekkaishi, Devil May Cry, Viper GTS, Shuffle! Memories, Dragon Quest: Dai no Daibouken, Devilman, Choujin Densetsu Urotsukidouji: Mirai-hen, Ail Maniax: Inma Seifukugari & Majogari no Yoru ni, Devilman: Tanjou-hen, Devilman: Yochou Sirene-hen, Amon: Devilman Mokushiroku, Naruto: Shippuuden Movie 1,\n",
      "\n"
     ]
    }
   ],
   "source": [
    "print(\"Top terms per cluster:\")\n",
    "print()\n",
    "#sort cluster centers by proximity to centroid\n",
    "order_centroids = km.cluster_centers_.argsort()[:, ::-1] \n",
    "\n",
    "for i in range(num_clusters):\n",
    "    print(\"Cluster %d words:\" % i, end='')\n",
    "    \n",
    "    temp_list = []\n",
    "    for ind in order_centroids[i, :6]: #replace 6 with n words per cluster\n",
    "        try:\n",
    "            temp_list.append(terms[ind])\n",
    "            print(' %s' % vocab_frame.ix[terms[ind].split(' ')].values.tolist()[0][0].encode('utf-8', 'ignore'), end=',')\n",
    "        except:\n",
    "            pass\n",
    "    #cluster_names[i] = ', '.join(temp_list[:3])\n",
    "    \n",
    "    print() #add whitespace\n",
    "    print() #add whitespace\n",
    "    \n",
    "    print(\"Cluster %d titles:\" % i, end='')\n",
    "    for title in list(full_data.ix[i]['title'].values)[:30]:\n",
    "        try:\n",
    "            print(' %s,' % title, end='')\n",
    "        except:\n",
    "            pass\n",
    "    print() #add whitespace\n",
    "    print() #add whitespace"
   ]
  },
  {
   "cell_type": "markdown",
   "metadata": {},
   "source": [
    "## Challenge 2\n",
    "\n",
    "Draw the inertia curve over different k values. (The sklearn KMeans class has an inertia_ attribute.)"
   ]
  },
  {
   "cell_type": "markdown",
   "metadata": {},
   "source": [
    "##### K means"
   ]
  },
  {
   "cell_type": "code",
   "execution_count": 90,
   "metadata": {
    "collapsed": false,
    "scrolled": true
   },
   "outputs": [],
   "source": [
    "inertias = []\n",
    "cluster_range = list(range(1,18,1))\n",
    "for cluster_size in cluster_range:\n",
    "    temp_list = []\n",
    "    for _ in range(3):\n",
    "        temp_km = KMeans(n_clusters=cluster_size)\n",
    "        temp_km.fit(tfidf_matrix)\n",
    "        temp_list.append(temp_km.inertia_)\n",
    "        \n",
    "    inertias.append(np.mean(temp_list))"
   ]
  },
  {
   "cell_type": "code",
   "execution_count": 91,
   "metadata": {
    "collapsed": false,
    "scrolled": true
   },
   "outputs": [
    {
     "data": {
      "image/png": "[encoded data removed]",
      "text/plain": [
       "<matplotlib.figure.Figure at 0x11c9e75f8>"
      ]
     },
     "metadata": {},
     "output_type": "display_data"
    }
   ],
   "source": [
    "plt.plot(cluster_range, inertias)\n",
    "plt.ylabel('total inertia distance')\n",
    "plt.xlabel('cluster size')\n",
    "plt.show()"
   ]
  },
  {
   "cell_type": "markdown",
   "metadata": {},
   "source": [
    "## Challenge 3\n",
    "\n",
    "Let's name the clusters 1\n",
    "\n",
    "For each cluster, find the sentence closest to the centroid of the cluster.\n",
    "\n",
    "(You can use [sklearn.metrics.pairwise_distances](http://scikit-learn.org/stable/modules/generated/sklearn.metrics.pairwise_distances.html#sklearn.metrics.pairwise_distances) or [scipy.spatial.distance](http://docs.scipy.org/doc/scipy/reference/spatial.distance.html) [check pdist, cdist, and euclidean distance] to find distances to the centroid). KMeans has a cluster_centers_ attribute.\n",
    "\n",
    "This sentence (closest to centroid) is now the name of the cluster. For each cluster, print the representative sentence, and print 'N people expressed a similar statement', or something like that relevant to your dataset. (This is very close to what amazon used to do in the reviews section.)\n",
    "\n",
    "Find the biggest 3 clusters, and print their representative sentences. (This is close to what amazon is doing now in the reviews section, except they choose the sentence from the most helpful review instead of closest to center.)"
   ]
  },
  {
   "cell_type": "code",
   "execution_count": 113,
   "metadata": {
    "collapsed": false,
    "scrolled": false
   },
   "outputs": [
    {
     "name": "stdout",
     "output_type": "stream",
     "text": [
      "Cluster 0 words: b'father', b'mother', b'day', b'girl', b'old', b'boy',\n",
      "Most similar synopsis:\n",
      "GOSHO collection reveals the origin of the smash hit \"Detective Conan.\" \"GO\" into his world, and we will \"SHO\" you SEVEN romantic and exciting stories created by GOSHO AOYAMA. WAIT FOR ME A genius inventor, who is still a high school student, has a girlfriend two years older than him. One day, he invents a time machine and attempts to go two years back into the past, to become the same age as her. However, it is she who ultimately uses the machine to travel through time! TEN PLANETS IN THE NIGHT SKY Meet Baby Conan! Yukiko Kudo is looking for her missing husband. The only clue to find him again is to decipher a mysterious message left for her. Their baby, Shinichi Kudo, one who later becomes the famous high school Detective Conan, will at this age already be offering some important hints for her. THE WANDERING RED BATTERFLY A handsome detective, Yusaku Kitakata, receives phone calls from a mysterious woman day after day, with a new case each day. He of course solves them one by one. But the biggest mystery is who is this mysterious woman? PLAY IT AGAIN Thanks to the mystical powers of a Cherry Blossom Tree, a 70-year-old man with a secret sword technique goes back into the past and becomes the same age as his granddaughter. While enjoying his youth for the second time around, he notices that a player is after his granddaughter. SANTA CLAUS IN SUMMER Keisuke, a young man of 17, accidentally activates the Earth Destruction System. The destiny of the Earth now depends on whether he can stop the system within 24 hours. However, suddenly amnesia strikes him and he forgets the pin number to stop the system. The time is running out... DETECTIVE GEORGE'S SPECIAL CASE A girl is fleeing from men in black. She runs into a detective agency and discovers that the detective there is a super-miniature-size, cool dude. He risks his life trying to solve a case for this client. Will they come through in the end? MAKING OF DETECTIVE CONAN Do you know how to make animation? Everybody wants to see the workings of an animation studio. Based on the concept of Detective Conan, the three sub-characters visit the animation studio of Detective Conan. This episode will surely catch the hearts of Detective Conan fans!\n",
      "\n",
      "The number of series in this cluster is:  159 \n",
      "\n",
      "\n",
      "Cluster 1 words: b'schools', b'high', b'student', b'girls', b'clubs', b'day',\n",
      "Most similar synopsis:\n",
      "GOSHO collection reveals the origin of the smash hit \"Detective Conan.\" \"GO\" into his world, and we will \"SHO\" you SEVEN romantic and exciting stories created by GOSHO AOYAMA. WAIT FOR ME A genius inventor, who is still a high school student, has a girlfriend two years older than him. One day, he invents a time machine and attempts to go two years back into the past, to become the same age as her. However, it is she who ultimately uses the machine to travel through time! TEN PLANETS IN THE NIGHT SKY Meet Baby Conan! Yukiko Kudo is looking for her missing husband. The only clue to find him again is to decipher a mysterious message left for her. Their baby, Shinichi Kudo, one who later becomes the famous high school Detective Conan, will at this age already be offering some important hints for her. THE WANDERING RED BATTERFLY A handsome detective, Yusaku Kitakata, receives phone calls from a mysterious woman day after day, with a new case each day. He of course solves them one by one. But the biggest mystery is who is this mysterious woman? PLAY IT AGAIN Thanks to the mystical powers of a Cherry Blossom Tree, a 70-year-old man with a secret sword technique goes back into the past and becomes the same age as his granddaughter. While enjoying his youth for the second time around, he notices that a player is after his granddaughter. SANTA CLAUS IN SUMMER Keisuke, a young man of 17, accidentally activates the Earth Destruction System. The destiny of the Earth now depends on whether he can stop the system within 24 hours. However, suddenly amnesia strikes him and he forgets the pin number to stop the system. The time is running out... DETECTIVE GEORGE'S SPECIAL CASE A girl is fleeing from men in black. She runs into a detective agency and discovers that the detective there is a super-miniature-size, cool dude. He risks his life trying to solve a case for this client. Will they come through in the end? MAKING OF DETECTIVE CONAN Do you know how to make animation? Everybody wants to see the workings of an animation studio. Based on the concept of Detective Conan, the three sub-characters visit the animation studio of Detective Conan. This episode will surely catch the hearts of Detective Conan fans!\n",
      "\n",
      "The number of series in this cluster is:  504 \n",
      "\n",
      "\n",
      "Cluster 2 words: b'family', b'times', b'life', b'years', b'day', b'mother',\n",
      "Most similar synopsis:\n",
      "Once upon a time, near the ruins of an old castle, there lived the King of Cats. He was famous for his violent temper and now he is lashing out at his three gunmen, who had been ordered to bring back Pero, but had returned empty-handed. Pero, a former subject of the angry King, had lived in Cat Country once but he had dared to save a mouse from death. Now, as everyone knows, the mouse is the mortal enemy of all cats, so the King orders his three gunmen to go to the ends of the earth, if necessary, to find Pero. Pero is a happy-go-lucky sort of feline and very hip for a cat. Fleeing from the wrath of the King, he decides to seek his fortune in the wild and wooly west. On the way, he encounters the King's gunmen hot on his trail but he foils them and blithely goes on his way. On the stagecoach to Go Go Town, he meets Annie, a pretty girl who is returning after finishing her education in the East, and Jimmy, a boy with sleepy eyes and slow movements. They are attacked suddenly by holdups who are after the new sheriff but since he does not seem to be on the coach, they ride off. Sad news awaits Annie in town. Her father had been killed by the Big Bad Boss for finding out about the bogus money he was making to get rich fast. The Big Bad Boss also kills each new sheriff who arrives to keep law and order in town. He is determined to keep the whole place under his thumb. The Big Bad Boss tries to scare Annie into leaving town but she is her father's daughter and cannot be frightened away by threats. With the help of Pero and Jimmy, she opens a restaurant in the building her father owned. Once again, Pero happens to save a little Indian mouse caught in a trap. The little mouse's father, the Chieftain of the Indian mice, promises to help Pero and Annie. The sleepy-eyed Jimmy is really the new sheriff. They all join forces and expose the Big Boss' villainy and his secret bogus money factory. The Big Bad Boss gets his comeuppance and all ends well.\n",
      "\n",
      "The number of series in this cluster is:  109 \n",
      "\n",
      "\n",
      "Cluster 3 words: b'music', b'schools', b'boy', b'ray', b'world',\n",
      "Most similar synopsis:\n",
      "Once upon a time, near the ruins of an old castle, there lived the King of Cats. He was famous for his violent temper and now he is lashing out at his three gunmen, who had been ordered to bring back Pero, but had returned empty-handed. Pero, a former subject of the angry King, had lived in Cat Country once but he had dared to save a mouse from death. Now, as everyone knows, the mouse is the mortal enemy of all cats, so the King orders his three gunmen to go to the ends of the earth, if necessary, to find Pero. Pero is a happy-go-lucky sort of feline and very hip for a cat. Fleeing from the wrath of the King, he decides to seek his fortune in the wild and wooly west. On the way, he encounters the King's gunmen hot on his trail but he foils them and blithely goes on his way. On the stagecoach to Go Go Town, he meets Annie, a pretty girl who is returning after finishing her education in the East, and Jimmy, a boy with sleepy eyes and slow movements. They are attacked suddenly by holdups who are after the new sheriff but since he does not seem to be on the coach, they ride off. Sad news awaits Annie in town. Her father had been killed by the Big Bad Boss for finding out about the bogus money he was making to get rich fast. The Big Bad Boss also kills each new sheriff who arrives to keep law and order in town. He is determined to keep the whole place under his thumb. The Big Bad Boss tries to scare Annie into leaving town but she is her father's daughter and cannot be frightened away by threats. With the help of Pero and Jimmy, she opens a restaurant in the building her father owned. Once again, Pero happens to save a little Indian mouse caught in a trap. The little mouse's father, the Chieftain of the Indian mice, promises to help Pero and Annie. The sleepy-eyed Jimmy is really the new sheriff. They all join forces and expose the Big Boss' villainy and his secret bogus money factory. The Big Bad Boss gets his comeuppance and all ends well.\n",
      "\n",
      "The number of series in this cluster is:  4225 \n",
      "\n",
      "\n",
      "Cluster 4 words: b'times', b'world', b'day', b'friends', b'years', b'mysterious',\n",
      "Most similar synopsis:\n",
      "1. Final Flight of the Osiris The crew of the Osiris discover an army preparing to invade Zion. While one crew member races inside the Matrix to get the message to Zion, the others try desperately to buy her enough time while fighting off an onslaught of Sentinels they can't possibly defeat. 2-3. The Second Renaissance Part 1 and 2 Humans have created the ultimate AI, which is just as smart as they are. But complications arise when these robots and the humans try to exist peacefully, and eventually all-out war breaks out. The humans ultimately lose the war, and become trapped in the Matrix as seen in the live-action films. 4. Kid's Story A young man discovers that his world isn't real, that it's a computer-generated fantasy land created by robots using humans for energy. He escapes with the help of the hacker Neo. Based on the Matrix trilogy. 5. Program Cis and Duo engage in battle in a virtual recreation of Feudal Japan. 6. World Record While running the fastest race in his life, a champion track star breaks free of his computer-generated world for a small period of time. When he goes back to the real world, he has no memories and is placed in a nursing home. Based on the Matrix trilogy. 7. Beyond While looking for her lost pet, a young woman meets up with some kids in Tokyo to play in a \"haunted house,\" which is really a glitch in their computer world. Based on the Matrix trilogy. 8. Detective Story A detective named Ash is called upon by a mysterious organization to hunt down the notorious hacker Trinity. 9. Matriculated A group of scientists capture a robot and place it in a surreal fantasy world. When the robot's friends come in and kill most of the scientists; however, the robot and the last scientist remaining face isolation in the computer-generated world. Based on the Matrix trilogy.\n",
      "\n",
      "The number of series in this cluster is:  1683 \n",
      "\n",
      "\n",
      "Cluster 5 words: b'world', b'mysterious', b'girl', b'war', b'life', b'day',\n",
      "Most similar synopsis:\n",
      "In the 25th century, a spaceship carrying 300 people leaves the earth in search of a new world in the solar system, but an unexpected accident occurs. They crash into a black hole which is connected to another universe. The people on the ship are cast adrift in an emergency capsule to a planet called Ismo. The story begins 12 years after they have reached Ismo. Ismo is a star of the Onam System, which corresponds to the Solar System in our universe. It is the only planet left in the Onam System. The Death Star called Yomi is a comet which regularly approaches the Onam System. There were once 8 planets in the Onam System. Many years ago, in the time of the gods, there was a war against the evil monster Yamatano Orochi . The gods won the battle. Yamatano Orochi was locked into 8 stones, one of which is buried deep in the center of each planet. Nobody was supposed to have access to the core of the planets. However Tsukuyomi, an evil god who rules Yomi, succeeded in reaching the stones one after another, destroying 7 of the planets using his powerful robots, the Sky Warriors. However, when he tried to acquire the last stone from the planet Ismo, the most powerful Sky Warrior, Susanoo, got out of control and was blown away. A million years later, the Death Star Yomi is approaching the Onam System once again. Tsukuyomi, the master of Yomi, plans to take this opportunity to realize his dream of ruling the entire universe. He is desperate for the last stone containing Yamatano Orochi. If Tsukuyomi can get hold of this stone, Yamatano Orochi will return to life and its power will become his. Tsukuyomi needs Sky Warrior Susanoo to capture the stone, and sends 8 Sky Soldiers to get Susanoo back. But it is too late. Susanoo no longer belongs to Tsukuyomi. It belongs to Takeru, a 13-year-old boy from Earth, who happened to discover the buried robot Susanoo and woke it from its million-year-long sleep. Takeru becomes involved in the battle against the Sky Soldiers and their evil master, Tsukuyomi. Susanoo stands up to protect his friends and their planet.\n",
      "\n",
      "The number of series in this cluster is:  340 \n",
      "\n",
      "\n",
      "Cluster 6 words: b'earth', b'space', b'planet', b'war', b'year', b'robot',\n",
      "Most similar synopsis:\n",
      "1. Final Flight of the Osiris The crew of the Osiris discover an army preparing to invade Zion. While one crew member races inside the Matrix to get the message to Zion, the others try desperately to buy her enough time while fighting off an onslaught of Sentinels they can't possibly defeat. 2-3. The Second Renaissance Part 1 and 2 Humans have created the ultimate AI, which is just as smart as they are. But complications arise when these robots and the humans try to exist peacefully, and eventually all-out war breaks out. The humans ultimately lose the war, and become trapped in the Matrix as seen in the live-action films. 4. Kid's Story A young man discovers that his world isn't real, that it's a computer-generated fantasy land created by robots using humans for energy. He escapes with the help of the hacker Neo. Based on the Matrix trilogy. 5. Program Cis and Duo engage in battle in a virtual recreation of Feudal Japan. 6. World Record While running the fastest race in his life, a champion track star breaks free of his computer-generated world for a small period of time. When he goes back to the real world, he has no memories and is placed in a nursing home. Based on the Matrix trilogy. 7. Beyond While looking for her lost pet, a young woman meets up with some kids in Tokyo to play in a \"haunted house,\" which is really a glitch in their computer world. Based on the Matrix trilogy. 8. Detective Story A detective named Ash is called upon by a mysterious organization to hunt down the notorious hacker Trinity. 9. Matriculated A group of scientists capture a robot and place it in a surreal fantasy world. When the robot's friends come in and kill most of the scientists; however, the robot and the last scientist remaining face isolation in the computer-generated world. Based on the Matrix trilogy.\n",
      "\n",
      "The number of series in this cluster is:  250 \n",
      "\n",
      "\n",
      "Cluster 7 words: b'life', b'day', b'world', b'man', b'times', b'love',\n",
      "Most similar synopsis:\n",
      "The story takes place in the 21st century. Due to the fact that pollution was becoming a major problem, scientists had developed the use of hydrogen fuel called \"HBT\" as an alternative to fossil fuels. At this time humans have colonized Mars in search of new place to call home as a result of overpopulation. In the year 2050, a mysterious alien race called the Inbit invaded the Earth. Unable to fight the Inbits, Earth became desolate with only a few pockets of human beings scattered throughout the planet. Many of the refugees escape aboard a few remaining shuttles to seek shelter on the Moon. The Inbit sets up their main base of operations in the Great Lakes area of North America called \"Reflex Point\". However, the Mars colony, dubbed the Mars Base, did not forget about the plight of Earth. Troops were sent in to fight the Inbits from the Moon, only to fail miserably. The Inbits did not attack Mars, and showed no interest towards the other planets. Surprisingly the Inbit show no hostility towards humans unless they are directly provoked. The Inbit can also sense the presence of HBT, and use of the fuel is limited under their supervision, as HBT is a common component in weapons technology. Overnight the Mars base becomes a gigantic military machine, producing vast amounts of advanced weaponry and trained troops. In 2080, Mars Base sent in the next wave of troops. Although equipped with more technologically advanced equipment and transformable mecha, the attempt to recapture the homeworld was nonetheless a failure. Three years later, Mars Base launched another attack called the Second Earth Recapture Force. One of the troops happened to be Lieutenant Stick Bernard . The mission proved to be unsuccessful as it did three years ago and Stick's fiancée Marlene was killed. After losing her, Stick was forced to crash into Earth, landing in South America. At first, he was sorrowful and depressed at the death of his beloved Marlene. After seeing the holographic recording of his dead betrothed, Stick swore an oath of vengeance. In his quest to reach the Reflex Point on North America, the Inbit 'hive', he meets other characters of the show, forming a group of ragtag freedom fighters on a goal to rid the planet of the Inbits. As the plot unravels, the purpose of the Inbits invasion is revealed. Their sole purpose of coming to the planet was because Earth provides them a suitable place to evolve into more complex beings. However, little did the Inbits know that their endeavor actually threatens to cause the extinction of both humans and Inbits. And thus, it is up to Stick and his group, with the help of human-like Inbits , to convince the supreme ruler of the Inbit, the Refles, to flee from Earth. MOSPEADA stands for Military Operation Soldier Protect Emergency Aviation Dive Auto, one of the transformable motorcycle-armors the series features. The other primary mecha featured in the show is the three-form transformable fighter called the Armo-Fighter AFC-01 Legioss, which is very much similar to the VF-1 Valkyrie variable fighter in The Super Dimension Fortress Macross.\n",
      "\n",
      "The number of series in this cluster is:  706 \n",
      "\n",
      "\n",
      "Cluster 8 words: b'girl', b'day', b'schools', b'love', b'boy', b'times',\n",
      "Most similar synopsis:\n",
      "GOSHO collection reveals the origin of the smash hit \"Detective Conan.\" \"GO\" into his world, and we will \"SHO\" you SEVEN romantic and exciting stories created by GOSHO AOYAMA. WAIT FOR ME A genius inventor, who is still a high school student, has a girlfriend two years older than him. One day, he invents a time machine and attempts to go two years back into the past, to become the same age as her. However, it is she who ultimately uses the machine to travel through time! TEN PLANETS IN THE NIGHT SKY Meet Baby Conan! Yukiko Kudo is looking for her missing husband. The only clue to find him again is to decipher a mysterious message left for her. Their baby, Shinichi Kudo, one who later becomes the famous high school Detective Conan, will at this age already be offering some important hints for her. THE WANDERING RED BATTERFLY A handsome detective, Yusaku Kitakata, receives phone calls from a mysterious woman day after day, with a new case each day. He of course solves them one by one. But the biggest mystery is who is this mysterious woman? PLAY IT AGAIN Thanks to the mystical powers of a Cherry Blossom Tree, a 70-year-old man with a secret sword technique goes back into the past and becomes the same age as his granddaughter. While enjoying his youth for the second time around, he notices that a player is after his granddaughter. SANTA CLAUS IN SUMMER Keisuke, a young man of 17, accidentally activates the Earth Destruction System. The destiny of the Earth now depends on whether he can stop the system within 24 hours. However, suddenly amnesia strikes him and he forgets the pin number to stop the system. The time is running out... DETECTIVE GEORGE'S SPECIAL CASE A girl is fleeing from men in black. She runs into a detective agency and discovers that the detective there is a super-miniature-size, cool dude. He risks his life trying to solve a case for this client. Will they come through in the end? MAKING OF DETECTIVE CONAN Do you know how to make animation? Everybody wants to see the workings of an animation studio. Based on the concept of Detective Conan, the three sub-characters visit the animation studio of Detective Conan. This episode will surely catch the hearts of Detective Conan fans!\n",
      "\n",
      "The number of series in this cluster is:  712 \n",
      "\n",
      "\n",
      "Cluster 9 words: b'demon', b'demons', b'world', b'humans', b'human', b'king',\n",
      "Most similar synopsis:\n",
      "GOSHO collection reveals the origin of the smash hit \"Detective Conan.\" \"GO\" into his world, and we will \"SHO\" you SEVEN romantic and exciting stories created by GOSHO AOYAMA. WAIT FOR ME A genius inventor, who is still a high school student, has a girlfriend two years older than him. One day, he invents a time machine and attempts to go two years back into the past, to become the same age as her. However, it is she who ultimately uses the machine to travel through time! TEN PLANETS IN THE NIGHT SKY Meet Baby Conan! Yukiko Kudo is looking for her missing husband. The only clue to find him again is to decipher a mysterious message left for her. Their baby, Shinichi Kudo, one who later becomes the famous high school Detective Conan, will at this age already be offering some important hints for her. THE WANDERING RED BATTERFLY A handsome detective, Yusaku Kitakata, receives phone calls from a mysterious woman day after day, with a new case each day. He of course solves them one by one. But the biggest mystery is who is this mysterious woman? PLAY IT AGAIN Thanks to the mystical powers of a Cherry Blossom Tree, a 70-year-old man with a secret sword technique goes back into the past and becomes the same age as his granddaughter. While enjoying his youth for the second time around, he notices that a player is after his granddaughter. SANTA CLAUS IN SUMMER Keisuke, a young man of 17, accidentally activates the Earth Destruction System. The destiny of the Earth now depends on whether he can stop the system within 24 hours. However, suddenly amnesia strikes him and he forgets the pin number to stop the system. The time is running out... DETECTIVE GEORGE'S SPECIAL CASE A girl is fleeing from men in black. She runs into a detective agency and discovers that the detective there is a super-miniature-size, cool dude. He risks his life trying to solve a case for this client. Will they come through in the end? MAKING OF DETECTIVE CONAN Do you know how to make animation? Everybody wants to see the workings of an animation studio. Based on the concept of Detective Conan, the three sub-characters visit the animation studio of Detective Conan. This episode will surely catch the hearts of Detective Conan fans!\n",
      "\n",
      "The number of series in this cluster is:  45 \n",
      "\n",
      "\n"
     ]
    }
   ],
   "source": [
    "for i in range(num_clusters):\n",
    "    print(\"Cluster %d words:\" % i, end='')\n",
    "    \n",
    "    temp_list = []\n",
    "    for ind in order_centroids[i, :6]: #replace 6 with n words per cluster\n",
    "        try:\n",
    "            temp_list.append(terms[ind])\n",
    "            print(' %s' % vocab_frame.ix[terms[ind].split(' ')].values.tolist()[0][0].encode('utf-8', 'ignore'), end=',')\n",
    "        except:\n",
    "            pass\n",
    "    \n",
    "    pw_dists = pairwise_distances(bag_of_words, order_centroids[i].reshape(1,-1))\n",
    "    min_index = np.argmin(pw_dists)\n",
    "    \n",
    "    print('\\nMost similar synopsis:')\n",
    "    print(synops[min_index])\n",
    "    \n",
    "    print('\\nThe number of series in this cluster is: ', len(full_data.ix[i]), '\\n\\n')"
   ]
  },
  {
   "cell_type": "markdown",
   "metadata": {},
   "source": [
    "This is very interesting and kind of hilarious. The same series is appearing 4 times because it is actually a collection of short stories and the description covers each story (each story being very different)."
   ]
  },
  {
   "cell_type": "markdown",
   "metadata": {},
   "source": [
    "## Challenge 4\n",
    "\n",
    "Let's name the clusters 2\n",
    "\n",
    "Calculate the tf-idf of each word in each cluster (think of all sentences of a cluster together as a document). Represent each cluster with the top 1, or top 2 or... to 5 tf-idf words. For each cluster, print the name (keywords) of the cluster, and \"N statements\" in the cluster (N is the size of the cluster)\n"
   ]
  },
  {
   "cell_type": "code",
   "execution_count": 11,
   "metadata": {
    "collapsed": false
   },
   "outputs": [
    {
     "name": "stdout",
     "output_type": "stream",
     "text": [
      "(8733, 424)\n"
     ]
    }
   ],
   "source": [
    "tfidf_vectorizer = TfidfVectorizer(max_df=0.2, max_features=200000,\n",
    "                                   min_df=0.01, stop_words=stops,\n",
    "                                   use_idf=True, tokenizer=tokenize_and_stem, ngram_range=(1,3))\n",
    "\n",
    "tfidf_matrix = tfidf_vectorizer.fit_transform(synops) #fit the vectorizer to synopses\n",
    "\n",
    "print(tfidf_matrix.shape)"
   ]
  },
  {
   "cell_type": "code",
   "execution_count": 12,
   "metadata": {
    "collapsed": true
   },
   "outputs": [],
   "source": [
    "terms = tfidf_vectorizer.get_feature_names()"
   ]
  },
  {
   "cell_type": "code",
   "execution_count": 13,
   "metadata": {
    "collapsed": false
   },
   "outputs": [
    {
     "name": "stdout",
     "output_type": "stream",
     "text": [
      "['ability', 'able', 'academy', 'accept', 'accident', 'act', 'action', 'actually', 'adventure', 'age', 'ago', 'alien', 'allow', 'ancient', 'appear', 'arm', 'army', 'arrive', 'art', 'ask', 'attack', 'attempt', 'attend', 'awaken', 'away', 'bad', 'band', 'battle', 'bear', 'beautiful', 'begin', 'believe', 'best', 'better', 'big', 'black', 'blue', 'body', 'book', 'box', 'boy', 'boys', 'break', 'bring', 'brother', 'build', 'captain', 'capture', 'care', 'case', 'cat', 'catch', 'cause', 'center', 'century', 'challenge', 'chance', 'change', 'child', 'childhood', 'childhood friend', 'children', 'choose', 'city', 'class', 'classmates', 'close', 'club', 'combat', 'come', 'comedy', 'company', 'complete', 'continue', 'control', 'country', 'course', 'create', 'creatures', 'crew', 'cute', 'dark', 'daughter', 'day', 'days', 'dead', 'deal', 'death', 'decide', 'deep', 'defeat', 'demon', 'demons', 'desire', 'despite', 'destroy', 'destruction', 'detective', 'determine', 'develop', 'die', 'disappear', 'discover', 'doesnt', 'dog', 'dr.', 'dragon', 'draw', 'dream', 'earth', 'empire', 'encounter', 'enemy', 'energy', 'enjoy', 'enter', 'entire', 'escape', 'events', 'eventually', 'evil', 'exist', 'experience', 'eye', 'face', 'fact', 'fall', 'family', 'famous', 'far', 'fate', 'father', 'fear', 'feel', 'female', 'fight', 'finally', 'focus', 'follow', 'force', 'forest', 'form', 'free', 'friend', 'friends', 'friendship', 'future', 'gain', 'galaxy', 'gang', 'ghost', 'giant', 'girl', 'girls', 'god', 'good', 'government', 'great', 'group', 'grow', 'guy', 'hand', 'happen', 'happy', 'hard', 'head', 'hear', 'heart', 'help', 'hero', 'hes', 'hide', 'high', 'high school', 'high school student', 'history', 'hold', 'home', 'hop', 'hope', 'house', 'human', 'humanity', 'humans', 'hunt', 'inside', 'instead', 'investigate', 'involve', 'island', 'isnt', 'job', 'join', 'journey', 'just', 'kid', 'kidnap', 'kill', 'kind', 'king', 'kingdom', 'know', 'land', 'large', 'late', 'lead', 'leader', 'learn', 'leave', 'legendary', 'let', 'lie', 'life', 'light', 'like', 'line', 'little', 'live', 'local', 'long', 'look', 'lose', 'love', 'machine', 'magic', 'magical', 'make', 'man', 'manage', 'mankind', 'marry', 'master', 'mean', 'member', 'members', 'memories', 'men', 'middle', 'military', 'mind', 'miss', 'mission', 'money', 'monster', 'monsters', 'mother', 'murder', 'music', 'mysterious', 'mystery', 'near', 'need', 'night', 'normal', 'offer', 'old', 'older', 'open', 'order', 'ordinary', 'organization', 'parent', 'partner', 'pass', 'past', 'peace', 'peaceful', 'person', 'picture', 'pilot', 'place', 'plan', 'planet', 'play', 'point', 'police', 'popular', 'possess', 'power', 'powerful', 'present', 'prince', 'princess', 'problems', 'produce', 'project', 'promise', 'protect', 'prove', 'purpose', 'queen', 'quest', 'race', 'raise', 'reach', 'real', 'reality', 'realize', 'really', 'reason', 'receive', 'red', 'relationship', 'remain', 'rescue', 'rest', 'result', 'return', 'reveal', 'revenge', 'revolve', 'right', 'rival', 'robot', 'robots', 'room', 'rule', 'run', 'save', 'say', 'school', 'school student', 'search', 'secret', 'seek', 'send', 'seven', 'sex', 'sexual', 'shes', 'ship', 'shop', 'sister', 'sisters', 'situation', 'skills', 'sky', 'small', 'society', 'soldier', 'solve', 'son', 'song', 'soon', 'space', 'spend', 'spirit', 'stand', 'star', 'start', 'stay', 'steal', 'stop', 'stories', 'strange', 'strong', 'struggle', 'student', 'students', 'study', 'suddenly', 'summer', 'super', 'supernatural', 'surprise', 'surround', 'survive', 'tale', 'talk', 'task', 'teach', 'teacher', 'team', 'tell', 'test', 'thing', 'things', 'think', 'threaten', 'time', 'title', 'tokyo', 'town', 'train', 'transfer', 'transform', 'trap', 'travel', 'treasure', 'trouble', 'true', 'truth', 'try', 'turn', 'twin', 'ultimate', 'unfortunately', 'universe', 'unknown', 'use', 'village', 'visit', 'wait', 'wake', 'walk', 'want', 'war', 'warrior', 'watch', 'way', 'weapon', 'white', 'win', 'wish', 'woman', 'women', 'work', 'world', 'worlds', 'write', 'year', 'years', 'years ago', 'younger']\n"
     ]
    }
   ],
   "source": [
    "print(terms)"
   ]
  },
  {
   "cell_type": "code",
   "execution_count": 14,
   "metadata": {
    "collapsed": true
   },
   "outputs": [],
   "source": [
    "dist = 1 - cosine_similarity(tfidf_matrix)"
   ]
  },
  {
   "cell_type": "markdown",
   "metadata": {},
   "source": [
    "##### K means"
   ]
  },
  {
   "cell_type": "code",
   "execution_count": 22,
   "metadata": {
    "collapsed": false,
    "scrolled": true
   },
   "outputs": [],
   "source": [
    "inertias = []\n",
    "cluster_range = list(range(1,18,1))\n",
    "for cluster_size in cluster_range:\n",
    "    temp_list = []\n",
    "    for _ in range(3):\n",
    "        temp_km = KMeans(n_clusters=cluster_size)\n",
    "        temp_km.fit(tfidf_matrix)\n",
    "        temp_list.append(temp_km.inertia_)\n",
    "        \n",
    "    inertias.append(np.mean(temp_list))"
   ]
  },
  {
   "cell_type": "code",
   "execution_count": 23,
   "metadata": {
    "collapsed": false
   },
   "outputs": [
    {
     "data": {
      "image/png": "[encoded data removed]",
      "text/plain": [
       "<matplotlib.figure.Figure at 0x1146432b0>"
      ]
     },
     "metadata": {},
     "output_type": "display_data"
    }
   ],
   "source": [
    "plt.plot(cluster_range, inertias)\n",
    "plt.ylabel('total inertia distance')\n",
    "plt.xlabel('cluster size')\n",
    "plt.show()"
   ]
  },
  {
   "cell_type": "markdown",
   "metadata": {},
   "source": [
    "Meaningless, need to use gap statistics"
   ]
  },
  {
   "cell_type": "code",
   "execution_count": 24,
   "metadata": {
    "collapsed": true
   },
   "outputs": [
    {
     "data": {
      "text/plain": [
       "'\\nimport scipy\\nimport scipy.cluster.vq\\nimport scipy.spatial.distance\\ndst = scipy.spatial.distance.euclidean\\n\\ndef min_sparse(X):\\n    if len(X.data) == 0:\\n        return 0\\n    m = X.data.min()\\n    return m if X.getnnz() == X.size else min(m, 0)\\n\\ndef max_sparse(X):\\n    if len(X.data) == 0:\\n        return 0\\n    m = X.data.max()\\n    return m if X.getnnz() == X.size else max(m, 0)\\n\\ndef gap(data, refs=None, nrefs=10, ks=range(1,11)):\\n    \"\"\"\\n    Compute the Gap statistic for an nxm dataset in data.\\n    Either give a precomputed set of reference distributions in refs as an (n,m,k) scipy array,\\n    or state the number k of reference distributions in nrefs for automatic generation with a\\n    uniformed distribution within the bounding box of data.\\n    Give the list of k-values for which you want to compute the statistic in ks.\\n    \"\"\"\\n    shape = data.shape\\n    if refs==None:\\n        tops = []\\n        bots = []\\n        for i in range(data.shape[1]):\\n            row = data.getcol(i)\\n            tops.append(max_sparse(row))\\n            bots.append(min_sparse(row))\\n\\n        tops = np.array(tops)\\n        bots = np.array(bots)\\n        dists = scipy.matrix(scipy.diag(tops-bots))\\n\\n\\n        rands = scipy.random.random_sample(size=(shape[0],shape[1],20))\\n        for i in range(nrefs):\\n            rands[:,:,i] = rands[:,:,i]*dists+bots\\n    else:\\n        rands = refs\\n\\n    gaps = scipy.zeros((len(ks),))\\n    for (i,k) in enumerate(ks):\\n        temp_km = KMeans(n_clusters=k)\\n        temp_km.fit_transform(data)\\n        kmc, kml = temp_km.cluster_centers_, temp_km.labels_\\n        disp = temp_km.inertia_\\n\\n        refdisps = scipy.zeros((rands.shape[2],))\\n        for j in range(rands.shape[2]):\\n            temp_km_2 = KMeans(n_clusters=k)\\n            temp_km_2.fit_transform(rands[:,:,j])\\n            refdisps[j] = scipy.log(temp_km_2.inertia_)\\n        print(k)\\n        print(scipy.mean(refdisps), scipy.log(disp))\\n        gaps[i] = scipy.mean(refdisps)-scipy.log(disp)\\n    return gaps\\n'"
      ]
     },
     "execution_count": 24,
     "metadata": {},
     "output_type": "execute_result"
    }
   ],
   "source": [
    "'''\n",
    "import scipy\n",
    "import scipy.cluster.vq\n",
    "import scipy.spatial.distance\n",
    "dst = scipy.spatial.distance.euclidean\n",
    "\n",
    "def min_sparse(X):\n",
    "    if len(X.data) == 0:\n",
    "        return 0\n",
    "    m = X.data.min()\n",
    "    return m if X.getnnz() == X.size else min(m, 0)\n",
    "\n",
    "def max_sparse(X):\n",
    "    if len(X.data) == 0:\n",
    "        return 0\n",
    "    m = X.data.max()\n",
    "    return m if X.getnnz() == X.size else max(m, 0)\n",
    "\n",
    "def gap(data, refs=None, nrefs=10, ks=range(1,11)):\n",
    "    \"\"\"\n",
    "    Compute the Gap statistic for an nxm dataset in data.\n",
    "    Either give a precomputed set of reference distributions in refs as an (n,m,k) scipy array,\n",
    "    or state the number k of reference distributions in nrefs for automatic generation with a\n",
    "    uniformed distribution within the bounding box of data.\n",
    "    Give the list of k-values for which you want to compute the statistic in ks.\n",
    "    \"\"\"\n",
    "    shape = data.shape\n",
    "    if refs==None:\n",
    "        tops = []\n",
    "        bots = []\n",
    "        for i in range(data.shape[1]):\n",
    "            row = data.getcol(i)\n",
    "            tops.append(max_sparse(row))\n",
    "            bots.append(min_sparse(row))\n",
    "\n",
    "        tops = np.array(tops)\n",
    "        bots = np.array(bots)\n",
    "        dists = scipy.matrix(scipy.diag(tops-bots))\n",
    "\n",
    "\n",
    "        rands = scipy.random.random_sample(size=(shape[0],shape[1],20))\n",
    "        for i in range(nrefs):\n",
    "            rands[:,:,i] = rands[:,:,i]*dists+bots\n",
    "    else:\n",
    "        rands = refs\n",
    "\n",
    "    gaps = scipy.zeros((len(ks),))\n",
    "    for (i,k) in enumerate(ks):\n",
    "        temp_km = KMeans(n_clusters=k)\n",
    "        temp_km.fit_transform(data)\n",
    "        kmc, kml = temp_km.cluster_centers_, temp_km.labels_\n",
    "        disp = temp_km.inertia_\n",
    "\n",
    "        refdisps = scipy.zeros((rands.shape[2],))\n",
    "        for j in range(rands.shape[2]):\n",
    "            temp_km_2 = KMeans(n_clusters=k)\n",
    "            temp_km_2.fit_transform(rands[:,:,j])\n",
    "            refdisps[j] = scipy.log(temp_km_2.inertia_)\n",
    "        print(k)\n",
    "        print(scipy.mean(refdisps), scipy.log(disp))\n",
    "        gaps[i] = scipy.mean(refdisps)-scipy.log(disp)\n",
    "    return gaps\n",
    "'''"
   ]
  },
  {
   "cell_type": "code",
   "execution_count": 25,
   "metadata": {
    "collapsed": false,
    "scrolled": false
   },
   "outputs": [],
   "source": [
    "#gaps = gap(tfidf_matrix, ks=range(1,101,10))"
   ]
  },
  {
   "cell_type": "markdown",
   "metadata": {},
   "source": [
    "Gap statistics was overly complicated and needs more time to explore"
   ]
  },
  {
   "cell_type": "code",
   "execution_count": null,
   "metadata": {
    "collapsed": false,
    "scrolled": true
   },
   "outputs": [],
   "source": [
    "num_clusters = 17\n",
    "\n",
    "km = KMeans(n_clusters=num_clusters)\n",
    "\n",
    "%time km.fit(tfidf_matrix)\n",
    "\n",
    "clusters = km.labels_.tolist()"
   ]
  },
  {
   "cell_type": "code",
   "execution_count": null,
   "metadata": {
    "collapsed": false
   },
   "outputs": [],
   "source": [
    "joblib.dump(km,  'doc_cluster.pkl')\n",
    "km = joblib.load('doc_cluster.pkl')\n",
    "clusters = list(km.labels_)"
   ]
  },
  {
   "cell_type": "code",
   "execution_count": null,
   "metadata": {
    "collapsed": false
   },
   "outputs": [],
   "source": [
    "clusters[:10]"
   ]
  },
  {
   "cell_type": "code",
   "execution_count": null,
   "metadata": {
    "collapsed": true
   },
   "outputs": [],
   "source": [
    "full_data['clusters'] = clusters\n",
    "full_data.set_index('clusters', inplace=True)\n",
    "full_data.head()\n",
    "cluster_names = defaultdict(str)"
   ]
  },
  {
   "cell_type": "code",
   "execution_count": 107,
   "metadata": {
    "collapsed": false,
    "scrolled": false
   },
   "outputs": [
    {
     "name": "stdout",
     "output_type": "stream",
     "text": [
      "Top terms per cluster:\n",
      "\n",
      "Cluster 0 words: b'father', b'mother', b'day', b'girl', b'old', b'boy',\n",
      "\n",
      "Cluster 0 titles: Prince of Tennis, Chuuka Ichiban!, Futakoi, Hunter x Hunter, Initial D First Stage, Initial D Third Stage, Ranma ½, Groove Adventure Rave, Grappler Baki (TV), Zettai Shounen, Futatsu no Spica, Magical Canan, Fate/stay night, Bannou Bunka Neko-Musume, Capeta, InuYasha: Toki wo Koeru Omoi, Kurau Phantom Memory, Kamui no Ken, Makai Toshi Shinjuku, Major S1, Koi Kaze, Patapata Hikousen no Bouken, Papa to Kiss in the Dark, Detective Conan Movie 02: The Fourteenth Target, Ginga Densetsu Weed, Zetsuai 1989, Taiyou no Ouji: Horus no Daibouken, The SoulTaker: Tamashii-gari, Pokemon: Kesshoutou no Teiou Entei, Windaria,\n",
      "\n",
      "Cluster 1 words: b'schools', b'high', b'student', b'girls', b'clubs', b'day',\n",
      "\n",
      "Cluster 1 titles: Eyeshield 21, School Rumble, Tenshi Kinryouku, D.C.: Da Capo, Cluster Edge, Full Metal Panic!, Full Metal Panic? Fumoffu, Gakuen Alice, Boys Be..., Green Green, Maria-sama ga Miteru, Slam Dunk, Tenjou Tenge, Ultra Maniac, Ultra Maniac OVA, Tenkuu no Escaflowne, Maburaho, Onegai☆Teacher, Tenshi na Konamaiki, Shin Angel, Asagiri no Miko, Girls Bravo: First Season, Gokusen, Great Teacher Onizuka, Hoshi no Koe, Happy☆Lesson, Bleach, Akane Maniax, Dear Boys, Abashiri Ikka,\n",
      "\n",
      "Cluster 2 words: b'family', b'times', b'life', b'years', b'day', b'mother',\n",
      "\n",
      "Cluster 2 titles: Ayashi no Ceres, Fruits Basket, Onegai☆Twins, Sen to Chihiro no Kamikakushi, Jungle wa Itsumo Hare nochi Guu Deluxe, Rose of Versailles, Seikai no Senki, Tonari no Yamada-kun, Weiß Kreuz, Kage kara Mamoru!, Ushio to Tora, Inukami!, Eikyuu Kazoku, Rail of the Star: A True Story of Children, Kishin Douji Zenki, Katekyo Hitman Reborn!, Iron Virgin Jun, Princess Rouge, Byousoku 5 Centimeter, Kaze no Stigma, Reideen, Romeo x Juliet, Dirty Pair: Bouryaku no 005-bin, Hadashi no Gen, Hadashi no Gen 2, Hidamari Sketch, Chikyuu Bouei Kazoku, Eikoku Koi Monogatari Emma: Molders-hen, Mahou no Star Magical Emi, Seto no Hanayome,\n",
      "\n",
      "Cluster 3 words: b'music', b'schools', b'boy', b'ray', b'world',\n",
      "\n",
      "Cluster 3 titles: Cowboy Bebop: Tengoku no Tobira, Initial D Fourth Stage, Aa! Megami-sama!, Appleseed (Movie), Basilisk: Kouga Ninpou Chou, Mobile Suit Gundam: The 08th MS Team - Miller's Report, Mobile Suit Gundam F91, Ou Dorobou Jing in Seventh Heaven, Sakigake!! Cromartie Koukou, El Hazard 2: The Magnificent World, Futakoi Alternative, Saiyuuki Reload Gunlock, Hunter x Hunter: Greed Island, Hunter x Hunter: Greed Island Final, Kannazuki no Miko, Kita e.: Diamond Dust Drops, Shaman King, Power Stone, Initial D Second Stage, Love Hina Again, Pia Carrot e Youkoso!!, Pia Carrot e Youkoso!! 2, Kuro no Danshou, Dan Doh!!, Gankutsuou, Jungle wa Itsumo Hare nochi Guu, Happy☆Lesson (TV), Happy☆Lesson: The Final, Hajime no Ippo: Champion Road, Hajime no Ippo: Mashiba vs. Kimura,\n",
      "\n",
      "Cluster 4 words: b'times', b'world', b'day', b'friends', b'years', b'mysterious',\n",
      "\n",
      "Cluster 4 titles: Witch Hunter Robin, Ring ni Kakero 1, Sunabouzu, Yakitate!! Japan, Zipang, Neon Genesis Evangelion: Death & Rebirth, Neon Genesis Evangelion: The End of Evangelion, Berserk, Rurouni Kenshin: Meiji Kenkaku Romantan - Ishinshishi e no Chinkonka, Akira, Kidou Tenshi Angelic Layer, Chobits, Chrno Crusade, Rozen Maiden: Träumend, Full Metal Panic! The Second Raid, Soukyuu no Fafner: Dead Aggressor, Mahou Shoujo Lyrical Nanoha, Mahou Shoujo Lyrical Nanoha A's, Mobile Suit Gundam Seed Destiny, Mai-HiME, Mai-Otome, Ou Dorobou Jing, Bakuretsu Tenshi, El Hazard: The Wanderers, El Hazard: The Magnificent World, Full Moon wo Sagashite, Fushigi Yuugi, Saiyuuki Reload, GetBackers, Hikaru no Go,\n",
      "\n",
      "Cluster 5 words: b'world', b'mysterious', b'girl', b'war', b'life', b'day',\n",
      "\n",
      "Cluster 5 titles: One Piece, .hack//Sign, Arc the Lad, Avenger, Chou Henshin Cosprayers, Juuni Kokuki, X, Boukyaku no Senritsu, Scrapped Princess, Strange Dawn, Triangle Heart: Sweet Songs Forever, Tsubasa Chronicle, Yumeria, R.O.D OVA, R.O.D the TV, Cardcaptor Sakura, Gungrave, Viewtiful Joe, Comic Party, Seikai no Monshou, Grenadier: Hohoemi no Senshi, .hack//Tasogare no Udewa Densetsu, .hack//Liminality, Doki Doki Densetsu: Mahoujin Guru Guru, Matantei Loki Ragnarok, Serial Experiments Lain, eX-Driver the Movie, Gilgamesh, Gantz 2nd Stage, Otogi-Jushi Akazukin OVA,\n",
      "\n",
      "Cluster 6 words: b'earth', b'space', b'planet', b'war', b'year', b'robot',\n",
      "\n",
      "Cluster 6 titles: Cowboy Bebop, Blue Gender, DearS, Mobile Suit Gundam, Mobile Suit Gundam: The 08th MS Team, Mobile Suit Gundam 0080: War in the Pocket, Mobile Suit Gundam 0083: Stardust Memory, Mobile Suit Zeta Gundam, Mobile Suit Gundam ZZ, Mobile Suit Gundam: Char's Counterattack, Mobile Suit Victory Gundam, Mobile Suit Gundam Wing, Mobile Suit Gundam Wing: Endless Waltz, After War Gundam X, Mobile Suit Gundam Seed, Turn A Gundam, Mobile Fighter G Gundam, Uchuu no Stellvia, X/1999, Samurai 7, Vandread: The Second Stage, Xenosaga The Animation, Project A-Ko, Gunparade March: Arata Naru Kougunka, Divergence Eve 2: Misaki Chronicles, Mirai Shounen Conan, Aa! Megami-sama! Movie, Planetes, Buzzer Beater, Mars of Destruction,\n",
      "\n",
      "Cluster 7 words: b'life', b'day', b'world', b'man', b'times', b'love',\n",
      "\n",
      "Cluster 7 titles: Trigun, Beet the Vandel Buster, Hachimitsu to Clover, Hungry Heart: Wild Striker, Monster, Naruto, Neon Genesis Evangelion, Ghost in the Shell, Rurouni Kenshin: Meiji Kenkaku Romantan - Tsuiokuhen, Rurouni Kenshin: Meiji Kenkaku Romantan, Aa! Megami-sama! (TV), Beck, Rozen Maiden, Azumanga Daioh, Black Cat, Aishiteruze Baby★★, El Hazard: The Alternative World, Final Approach, Fullmetal Alchemist, Gunslinger Girl, Kareshi Kanojo no Jijou, Blood+, Solty Rei, Pita Ten, Shingetsutan Tsukihime, Tokyo Underground, Vandread, Love Hina, FLCL, Air Master,\n",
      "\n",
      "Cluster 8 words: b'girl', b'day', b'schools', b'love', b'boy', b'times',\n",
      "\n",
      "Cluster 8 titles: Texhnolyze, Trinity Blood, Ai Yori Aoshi, D.N.Angel, Last Exile, Shin Shirayuki-hime Densetsu Prétear, Air, Akazukin Chacha, Hana yori Dango, Corrector Yui, Fushigi Yuugi: Eikouden, Gate Keepers, Gate Keepers 21, Jinki:Extend, Kamikaze Kaitou Jeanne, Kono Minikuku mo Utsukushii Sekai, Mononoke Hime, Rizelmine, Speed Grapher, Video Girl Ai, Wolf's Rain, Pure Mail, Pia Carrot e Youkoso!! 2 DX, Kidou Senkan Nadesico, Mezzo Forte, Dragon Ball, Jigoku Shoujo, Ninin ga Shinobuden, Daa! Daa! Daa!, Eureka Seven,\n",
      "\n",
      "Cluster 9 words: b'demon', b'demons', b'world', b'humans', b'human', b'king',\n",
      "\n",
      "Cluster 9 titles: Shuffle!, Gensoumaden Saiyuuki, Tactics, Harukanaru Toki no Naka de: Hachiyou Shou, InuYasha, Konjiki no Gash Bell!!, Kyou kara Maou!, 3x3 Eyes, Karas, Yuu☆Yuu☆Hakusho, Juubee Ninpuuchou: Ryuuhougyoku-hen, Tokyo Juushouden, Hyper Police, Shihaisha no Tasogare, Violinist of Hamelin, Shin Megami Tensei: Tokyo Mokushiroku, Yarima Queen, Spectral Force, Kekkaishi, Devil May Cry, Viper GTS, Shuffle! Memories, Dragon Quest: Dai no Daibouken, Devilman, Choujin Densetsu Urotsukidouji: Mirai-hen, Ail Maniax: Inma Seifukugari & Majogari no Yoru ni, Devilman: Tanjou-hen, Devilman: Yochou Sirene-hen, Amon: Devilman Mokushiroku, Naruto: Shippuuden Movie 1,\n",
      "\n"
     ]
    }
   ],
   "source": [
    "print(\"Top terms per cluster:\")\n",
    "print()\n",
    "#sort cluster centers by proximity to centroid\n",
    "order_centroids = km.cluster_centers_.argsort()[:, ::-1] \n",
    "\n",
    "for i in range(num_clusters):\n",
    "    print(\"Cluster %d words:\" % i, end='')\n",
    "    \n",
    "    temp_list = []\n",
    "    for ind in order_centroids[i, :6]: #replace 6 with n words per cluster\n",
    "        try:\n",
    "            temp_list.append(terms[ind])\n",
    "            print(' %s' % vocab_frame.ix[terms[ind].split(' ')].values.tolist()[0][0].encode('utf-8', 'ignore'), end=',')\n",
    "        except:\n",
    "            pass\n",
    "    #cluster_names[i] = ', '.join(temp_list[:3])\n",
    "    \n",
    "    print() #add whitespace\n",
    "    print() #add whitespace\n",
    "    \n",
    "    print(\"Cluster %d titles:\" % i, end='')\n",
    "    for title in list(full_data.ix[i]['title'].values)[:30]:\n",
    "        try:\n",
    "            print(' %s,' % title, end='')\n",
    "        except:\n",
    "            pass\n",
    "    print() #add whitespace\n",
    "    print() #add whitespace"
   ]
  },
  {
   "cell_type": "markdown",
   "metadata": {},
   "source": [
    "##### Multidimensional scaling/PCA"
   ]
  },
  {
   "cell_type": "code",
   "execution_count": null,
   "metadata": {
    "collapsed": true
   },
   "outputs": [],
   "source": [
    "import os  # for os.path.basename\n",
    "\n",
    "import matplotlib.pyplot as plt\n",
    "import matplotlib as mpl\n",
    "\n",
    "from sklearn.manifold import MDS\n",
    "\n",
    "from sklearn.decomposition import RandomizedPCA"
   ]
  },
  {
   "cell_type": "code",
   "execution_count": null,
   "metadata": {
    "collapsed": false
   },
   "outputs": [],
   "source": [
    "mds = MDS(n_components=2, dissimilarity=\"precomputed\", n_init=2, max_iter=10, n_jobs=-2, random_state=1)\n",
    "pos = mds.fit_transform(dist)  # shape (n_components, n_samples)\n",
    "\n",
    "r_pca = RandomizedPCA(n_components=2)\n",
    "pos = r_pca.fit_transform(dist)\n",
    "\n",
    "xs, ys = pos[:, 0], pos[:, 1]"
   ]
  },
  {
   "cell_type": "code",
   "execution_count": null,
   "metadata": {
    "collapsed": true
   },
   "outputs": [],
   "source": [
    "titles = list(full_data.title)"
   ]
  },
  {
   "cell_type": "code",
   "execution_count": null,
   "metadata": {
    "collapsed": true
   },
   "outputs": [],
   "source": [
    "#define custom toolbar location\n",
    "class TopToolbar(mpld3.plugins.PluginBase):\n",
    "    \"\"\"Plugin for moving toolbar to top of figure\"\"\"\n",
    "\n",
    "    JAVASCRIPT = \"\"\"\n",
    "    mpld3.register_plugin(\"toptoolbar\", TopToolbar);\n",
    "    TopToolbar.prototype = Object.create(mpld3.Plugin.prototype);\n",
    "    TopToolbar.prototype.constructor = TopToolbar;\n",
    "    function TopToolbar(fig, props){\n",
    "        mpld3.Plugin.call(this, fig, props);\n",
    "    };\n",
    "\n",
    "    TopToolbar.prototype.draw = function(){\n",
    "      // the toolbar svg doesn't exist\n",
    "      // yet, so first draw it\n",
    "      this.fig.toolbar.draw();\n",
    "\n",
    "      // then change the y position to be\n",
    "      // at the top of the figure\n",
    "      this.fig.toolbar.toolbar.attr(\"x\", 600);\n",
    "      this.fig.toolbar.toolbar.attr(\"y\", 0);\n",
    "\n",
    "      // then remove the draw function,\n",
    "      // so that it is not called again\n",
    "      this.fig.toolbar.draw = function() {}\n",
    "    }\n",
    "    \"\"\"\n",
    "    def __init__(self):\n",
    "        self.dict_ = {\"type\": \"toptoolbar\"}"
   ]
  },
  {
   "cell_type": "code",
   "execution_count": null,
   "metadata": {
    "collapsed": false
   },
   "outputs": [],
   "source": [
    "#create data frame that has the result of the MDS plus the cluster numbers and titles\n",
    "df = pd.DataFrame(dict(x=xs, y=ys, label=clusters, title=titles)) \n",
    "\n",
    "#group by cluster\n",
    "groups = df.groupby('label')\n",
    "\n",
    "#define custom css to format the font and to remove the axis labeling\n",
    "css = \"\"\"\n",
    "text.mpld3-text, div.mpld3-tooltip {\n",
    "  font-family:Arial, Helvetica, sans-serif;\n",
    "}\n",
    "\n",
    "g.mpld3-xaxis, g.mpld3-yaxis {\n",
    "display: none; }\n",
    "\n",
    "svg.mpld3-figure {\n",
    "margin-left: -200px;}\n",
    "\"\"\"\n",
    "\n",
    "# Plot \n",
    "fig, ax = plt.subplots(figsize=(15,10)) #set plot size\n",
    "ax.margins(0.03) # Optional, just adds 5% padding to the autoscaling\n",
    "\n",
    "#iterate through groups to layer the plot\n",
    "#note that I use the cluster_name and cluster_color dicts with the 'name' lookup to return the appropriate color/label\n",
    "i=0\n",
    "for name, group in groups:\n",
    "    points = ax.plot(group.x, group.y, marker='o', linestyle='', ms=5, \n",
    "                     label=cluster_names[name], mec='none', \n",
    "                     color=tbl_colors[i]\n",
    "                    )\n",
    "    ax.set_aspect('auto')\n",
    "    labels = [i for i in group.title]\n",
    "    ax.legend(loc='upper left')\n",
    "    \n",
    "    #set tooltip using points, labels and the already defined 'css'\n",
    "    tooltip = mpld3.plugins.PointHTMLTooltip(points[0], labels,\n",
    "                                       voffset=10, hoffset=10, css=css)\n",
    "    #connect tooltip to fig\n",
    "    mpld3.plugins.connect(fig, tooltip, TopToolbar())    \n",
    "    \n",
    "    #set tick marks as blank\n",
    "    ax.axes.get_xaxis().set_ticks([])\n",
    "    ax.axes.get_yaxis().set_ticks([])\n",
    "    \n",
    "    #set axis as blank\n",
    "    ax.axes.get_xaxis().set_visible(False)\n",
    "    ax.axes.get_yaxis().set_visible(False)\n",
    "    i+=1\n",
    "\n",
    "    \n",
    "ax.legend(numpoints=1) #show legend with only one dot\n",
    "\n",
    "mpld3.display() #show the plot\n",
    "\n",
    "#uncomment the below to export to html\n",
    "#html = mpld3.fig_to_html(fig)\n",
    "#print(html)"
   ]
  },
  {
   "cell_type": "code",
   "execution_count": null,
   "metadata": {
    "collapsed": true
   },
   "outputs": [],
   "source": []
  },
  {
   "cell_type": "code",
   "execution_count": null,
   "metadata": {
    "collapsed": true
   },
   "outputs": [],
   "source": []
  },
  {
   "cell_type": "code",
   "execution_count": null,
   "metadata": {
    "collapsed": true
   },
   "outputs": [],
   "source": []
  },
  {
   "cell_type": "code",
   "execution_count": null,
   "metadata": {
    "collapsed": true
   },
   "outputs": [],
   "source": []
  },
  {
   "cell_type": "code",
   "execution_count": null,
   "metadata": {
    "collapsed": true
   },
   "outputs": [],
   "source": []
  }
 ],
 "metadata": {
  "kernelspec": {
   "display_name": "Python 3",
   "language": "python",
   "name": "python3"
  },
  "language_info": {
   "codemirror_mode": {
    "name": "ipython",
    "version": 3
   },
   "file_extension": ".py",
   "mimetype": "text/x-python",
   "name": "python",
   "nbconvert_exporter": "python",
   "pygments_lexer": "ipython3",
   "version": "3.5.1"
  }
 },
 "nbformat": 4,
 "nbformat_minor": 0
}
