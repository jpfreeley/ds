{
 "cells": [
  {
   "cell_type": "markdown",
   "metadata": {},
   "source": [
    "# Challenge Set 9 Tree Poisson GLM\n",
    "\n",
    "Topic: Poisson GLM \n",
    "\n",
    "Date: 02/14/2016\n",
    "\n",
    "Name: Kenneth Myers\n",
    "\n",
    "Worked with: NA"
   ]
  },
  {
   "cell_type": "markdown",
   "metadata": {},
   "source": [
    "We are going to fit a model to count data. The first one we will use is about the total count of damage incidents to ships. You can get it here:\n",
    "\n",
    "http://data.princeton.edu/wws509/datasets/ships.dta\n",
    "\n",
    "We are stealing this dataset from STATA, so it's in STATA format. Pandas has a reader for that format to make your life easy:\n",
    "\n",
    "    from pandas.io.stata import StataReader\n",
    "    reader = StataReader('ships.dta')\n",
    "    dataframe = reader.data()\n",
    "    \n",
    "Here are some details on this dataset:\n",
    "\n",
    "The file has 34 rows corresponding to the observed combinations of type of ship, year of construction and period of operation. Each row has information on five variables as follows:\n",
    "\n",
    "* ship type, coded 1-5 for A, B, C, D and E,\n",
    "\n",
    "* year of construction (1=1960-64, 2=1965-70, 3=1970-74, 4=1975-79),\n",
    "\n",
    "* period of operation (1=1960-74, 2=1975-79)\n",
    "\n",
    "* months of service, ranging from 63 to 20,370, and\n",
    "\n",
    "* damage incidents, ranging from 0 to 53.\n",
    "\n",
    "Note that there no ships of type E built in 1960-64, and that ships built in 1970-74 could not have operated in 1960-74. These combinations are omitted from the data file."
   ]
  },
  {
   "cell_type": "code",
   "execution_count": 1,
   "metadata": {
    "collapsed": true
   },
   "outputs": [],
   "source": [
    "import pandas as pd\n",
    "import numpy as np\n",
    "from pandas.io.stata import StataReader\n",
    "import statsmodels.api as sm\n",
    "from sklearn.cross_validation import train_test_split\n",
    "from sklearn.metrics import mean_absolute_error, mean_squared_error\n",
    "from scipy.stats import chi2\n"
   ]
  },
  {
   "cell_type": "markdown",
   "metadata": {},
   "source": [
    "## Challenge 1\n",
    "\n",
    "Model the damage incident counts with a Poisson Regression.\n",
    "\n",
    ">Hint: You can look at the previous ipython notebook with the logistic GLM example to see how you can do GLM with statsmodels\n",
    "\n",
    "Remember that you will have to create dummy variables for categorical variables, and if you have time bins (like \"1960-1964\"), you have the option of either a) treating each bin as a category (and create dummies for each bin), or b) treat it as a continuous variable and take the mid-value (1962). Also remember to add a constant (to model the intercept).\n",
    "\n",
    "Take a look at the statsmodels summary table, the goodness of fit indicators (Deviance, Pearson's chi square statistic) and the coefficients. Is this a good model?"
   ]
  },
  {
   "cell_type": "code",
   "execution_count": 2,
   "metadata": {
    "collapsed": false
   },
   "outputs": [],
   "source": [
    "reader = StataReader('ships.dta')\n",
    "data = reader.read()"
   ]
  },
  {
   "cell_type": "code",
   "execution_count": 3,
   "metadata": {
    "collapsed": false,
    "scrolled": false
   },
   "outputs": [],
   "source": [
    "data.loc[:, 'construction'] = data.construction.astype(str)\n",
    "data.loc[:, 'operation'] = data.operation.astype(str)\n",
    "data.loc[data.construction == '1960-64', 'construction'] = 1962\n",
    "data.loc[data.construction == '1965-70', 'construction'] = 1967\n",
    "data.loc[data.construction == '1970-74', 'construction'] = 1972\n",
    "data.loc[data.construction == '1975-79', 'construction'] = 1977\n",
    "data.loc[data.construction == '1960-64', 'construction'] = 1962\n",
    "data.loc[data.operation == '1960-74', 'operation'] = 1967\n",
    "data.loc[data.operation == '1975-79', 'operation'] = 1977"
   ]
  },
  {
   "cell_type": "code",
   "execution_count": 4,
   "metadata": {
    "collapsed": false
   },
   "outputs": [],
   "source": [
    "data = pd.concat([data, \n",
    "           pd.get_dummies(data.construction, prefix='cons'), \n",
    "           pd.get_dummies(data.operation, prefix='oper'),\n",
    "           pd.get_dummies(data.type, prefix='type')], axis=1)\n",
    "\n",
    "data['const'] = 1"
   ]
  },
  {
   "cell_type": "code",
   "execution_count": 5,
   "metadata": {
    "collapsed": false
   },
   "outputs": [],
   "source": [
    "X = data[['months', 'cons_1962', 'cons_1967', \\\n",
    "         'cons_1972', 'cons_1977', 'oper_1967', \\\n",
    "         'oper_1977', 'type_A', 'type_B', \\\n",
    "         'type_C', 'type_D', 'type_E', 'const']]\n",
    "y = data['damage']"
   ]
  },
  {
   "cell_type": "code",
   "execution_count": 6,
   "metadata": {
    "collapsed": false
   },
   "outputs": [
    {
     "data": {
      "text/html": [
       "<table class=\"simpletable\">\n",
       "<caption>Generalized Linear Model Regression Results</caption>\n",
       "<tr>\n",
       "  <th>Dep. Variable:</th>       <td>damage</td>      <th>  No. Observations:  </th>  <td>    34</td> \n",
       "</tr>\n",
       "<tr>\n",
       "  <th>Model:</th>                 <td>GLM</td>       <th>  Df Residuals:      </th>  <td>    24</td> \n",
       "</tr>\n",
       "<tr>\n",
       "  <th>Model Family:</th>        <td>Poisson</td>     <th>  Df Model:          </th>  <td>     9</td> \n",
       "</tr>\n",
       "<tr>\n",
       "  <th>Link Function:</th>         <td>log</td>       <th>  Scale:             </th>    <td>1.0</td>  \n",
       "</tr>\n",
       "<tr>\n",
       "  <th>Method:</th>               <td>IRLS</td>       <th>  Log-Likelihood:    </th> <td> -84.182</td>\n",
       "</tr>\n",
       "<tr>\n",
       "  <th>Date:</th>           <td>Sun, 14 Feb 2016</td> <th>  Deviance:          </th> <td>  70.498</td>\n",
       "</tr>\n",
       "<tr>\n",
       "  <th>Time:</th>               <td>21:57:37</td>     <th>  Pearson chi2:      </th>  <td>  65.8</td> \n",
       "</tr>\n",
       "<tr>\n",
       "  <th>No. Iterations:</th>         <td>9</td>        <th>                     </th>     <td> </td>   \n",
       "</tr>\n",
       "</table>\n",
       "<table class=\"simpletable\">\n",
       "<tr>\n",
       "      <td></td>         <th>coef</th>     <th>std err</th>      <th>z</th>      <th>P>|z|</th> <th>[95.0% Conf. Int.]</th> \n",
       "</tr>\n",
       "<tr>\n",
       "  <th>months</th>    <td> 6.697e-05</td> <td> 8.52e-06</td> <td>    7.857</td> <td> 0.000</td> <td> 5.03e-05  8.37e-05</td>\n",
       "</tr>\n",
       "<tr>\n",
       "  <th>cons_1962</th> <td>   -0.7190</td> <td>    0.161</td> <td>   -4.479</td> <td> 0.000</td> <td>   -1.034    -0.404</td>\n",
       "</tr>\n",
       "<tr>\n",
       "  <th>cons_1967</th> <td>    0.3683</td> <td>    0.088</td> <td>    4.203</td> <td> 0.000</td> <td>    0.197     0.540</td>\n",
       "</tr>\n",
       "<tr>\n",
       "  <th>cons_1972</th> <td>    0.7809</td> <td>    0.098</td> <td>    7.958</td> <td> 0.000</td> <td>    0.589     0.973</td>\n",
       "</tr>\n",
       "<tr>\n",
       "  <th>cons_1977</th> <td>    0.1355</td> <td>    0.152</td> <td>    0.892</td> <td> 0.372</td> <td>   -0.162     0.433</td>\n",
       "</tr>\n",
       "<tr>\n",
       "  <th>oper_1967</th> <td>   -0.0813</td> <td>    0.087</td> <td>   -0.938</td> <td> 0.348</td> <td>   -0.251     0.089</td>\n",
       "</tr>\n",
       "<tr>\n",
       "  <th>oper_1977</th> <td>    0.6471</td> <td>    0.061</td> <td>   10.620</td> <td> 0.000</td> <td>    0.528     0.766</td>\n",
       "</tr>\n",
       "<tr>\n",
       "  <th>type_A</th>    <td>    0.4132</td> <td>    0.148</td> <td>    2.784</td> <td> 0.005</td> <td>    0.122     0.704</td>\n",
       "</tr>\n",
       "<tr>\n",
       "  <th>type_B</th>    <td>    1.0832</td> <td>    0.156</td> <td>    6.952</td> <td> 0.000</td> <td>    0.778     1.389</td>\n",
       "</tr>\n",
       "<tr>\n",
       "  <th>type_C</th>    <td>   -0.7784</td> <td>    0.246</td> <td>   -3.162</td> <td> 0.002</td> <td>   -1.261    -0.296</td>\n",
       "</tr>\n",
       "<tr>\n",
       "  <th>type_D</th>    <td>   -0.4162</td> <td>    0.212</td> <td>   -1.964</td> <td> 0.050</td> <td>   -0.832    -0.001</td>\n",
       "</tr>\n",
       "<tr>\n",
       "  <th>type_E</th>    <td>    0.2639</td> <td>    0.164</td> <td>    1.607</td> <td> 0.108</td> <td>   -0.058     0.586</td>\n",
       "</tr>\n",
       "<tr>\n",
       "  <th>const</th>     <td>    0.5657</td> <td>    0.064</td> <td>    8.891</td> <td> 0.000</td> <td>    0.441     0.690</td>\n",
       "</tr>\n",
       "</table>"
      ],
      "text/plain": [
       "<class 'statsmodels.iolib.summary.Summary'>\n",
       "\"\"\"\n",
       "                 Generalized Linear Model Regression Results                  \n",
       "==============================================================================\n",
       "Dep. Variable:                 damage   No. Observations:                   34\n",
       "Model:                            GLM   Df Residuals:                       24\n",
       "Model Family:                 Poisson   Df Model:                            9\n",
       "Link Function:                    log   Scale:                             1.0\n",
       "Method:                          IRLS   Log-Likelihood:                -84.182\n",
       "Date:                Sun, 14 Feb 2016   Deviance:                       70.498\n",
       "Time:                        21:57:37   Pearson chi2:                     65.8\n",
       "No. Iterations:                     9                                         \n",
       "==============================================================================\n",
       "                 coef    std err          z      P>|z|      [95.0% Conf. Int.]\n",
       "------------------------------------------------------------------------------\n",
       "months      6.697e-05   8.52e-06      7.857      0.000      5.03e-05  8.37e-05\n",
       "cons_1962     -0.7190      0.161     -4.479      0.000        -1.034    -0.404\n",
       "cons_1967      0.3683      0.088      4.203      0.000         0.197     0.540\n",
       "cons_1972      0.7809      0.098      7.958      0.000         0.589     0.973\n",
       "cons_1977      0.1355      0.152      0.892      0.372        -0.162     0.433\n",
       "oper_1967     -0.0813      0.087     -0.938      0.348        -0.251     0.089\n",
       "oper_1977      0.6471      0.061     10.620      0.000         0.528     0.766\n",
       "type_A         0.4132      0.148      2.784      0.005         0.122     0.704\n",
       "type_B         1.0832      0.156      6.952      0.000         0.778     1.389\n",
       "type_C        -0.7784      0.246     -3.162      0.002        -1.261    -0.296\n",
       "type_D        -0.4162      0.212     -1.964      0.050        -0.832    -0.001\n",
       "type_E         0.2639      0.164      1.607      0.108        -0.058     0.586\n",
       "const          0.5657      0.064      8.891      0.000         0.441     0.690\n",
       "==============================================================================\n",
       "\"\"\""
      ]
     },
     "execution_count": 6,
     "metadata": {},
     "output_type": "execute_result"
    }
   ],
   "source": [
    "pois_m=sm.GLM(y,X, family=sm.families.Poisson(sm.families.links.log))\n",
    "pois_results=pois_m.fit()\n",
    "\n",
    "pois_results.summary()"
   ]
  },
  {
   "cell_type": "code",
   "execution_count": 7,
   "metadata": {
    "collapsed": false
   },
   "outputs": [
    {
     "data": {
      "text/html": [
       "<table class=\"simpletable\">\n",
       "<caption>Generalized Linear Model Regression Results</caption>\n",
       "<tr>\n",
       "  <th>Dep. Variable:</th>       <td>damage</td>      <th>  No. Observations:  </th>  <td>    34</td> \n",
       "</tr>\n",
       "<tr>\n",
       "  <th>Model:</th>                 <td>GLM</td>       <th>  Df Residuals:      </th>  <td>    27</td> \n",
       "</tr>\n",
       "<tr>\n",
       "  <th>Model Family:</th>        <td>Poisson</td>     <th>  Df Model:          </th>  <td>     6</td> \n",
       "</tr>\n",
       "<tr>\n",
       "  <th>Link Function:</th>         <td>log</td>       <th>  Scale:             </th>    <td>1.0</td>  \n",
       "</tr>\n",
       "<tr>\n",
       "  <th>Method:</th>               <td>IRLS</td>       <th>  Log-Likelihood:    </th> <td> -89.638</td>\n",
       "</tr>\n",
       "<tr>\n",
       "  <th>Date:</th>           <td>Sun, 14 Feb 2016</td> <th>  Deviance:          </th> <td>  81.410</td>\n",
       "</tr>\n",
       "<tr>\n",
       "  <th>Time:</th>               <td>21:57:37</td>     <th>  Pearson chi2:      </th>  <td>  75.8</td> \n",
       "</tr>\n",
       "<tr>\n",
       "  <th>No. Iterations:</th>         <td>9</td>        <th>                     </th>     <td> </td>   \n",
       "</tr>\n",
       "</table>\n",
       "<table class=\"simpletable\">\n",
       "<tr>\n",
       "      <td></td>         <th>coef</th>     <th>std err</th>      <th>z</th>      <th>P>|z|</th> <th>[95.0% Conf. Int.]</th> \n",
       "</tr>\n",
       "<tr>\n",
       "  <th>months</th>    <td> 7.106e-05</td> <td>  8.2e-06</td> <td>    8.666</td> <td> 0.000</td> <td>  5.5e-05  8.71e-05</td>\n",
       "</tr>\n",
       "<tr>\n",
       "  <th>cons_1962</th> <td>   -1.1086</td> <td>    0.183</td> <td>   -6.046</td> <td> 0.000</td> <td>   -1.468    -0.749</td>\n",
       "</tr>\n",
       "<tr>\n",
       "  <th>cons_1972</th> <td>    0.4962</td> <td>    0.129</td> <td>    3.858</td> <td> 0.000</td> <td>    0.244     0.748</td>\n",
       "</tr>\n",
       "<tr>\n",
       "  <th>oper_1977</th> <td>    0.7240</td> <td>    0.137</td> <td>    5.288</td> <td> 0.000</td> <td>    0.456     0.992</td>\n",
       "</tr>\n",
       "<tr>\n",
       "  <th>type_B</th>    <td>    0.8860</td> <td>    0.186</td> <td>    4.769</td> <td> 0.000</td> <td>    0.522     1.250</td>\n",
       "</tr>\n",
       "<tr>\n",
       "  <th>type_C</th>    <td>   -0.9244</td> <td>    0.307</td> <td>   -3.009</td> <td> 0.003</td> <td>   -1.526    -0.322</td>\n",
       "</tr>\n",
       "<tr>\n",
       "  <th>const</th>     <td>    0.9228</td> <td>    0.168</td> <td>    5.488</td> <td> 0.000</td> <td>    0.593     1.252</td>\n",
       "</tr>\n",
       "</table>"
      ],
      "text/plain": [
       "<class 'statsmodels.iolib.summary.Summary'>\n",
       "\"\"\"\n",
       "                 Generalized Linear Model Regression Results                  \n",
       "==============================================================================\n",
       "Dep. Variable:                 damage   No. Observations:                   34\n",
       "Model:                            GLM   Df Residuals:                       27\n",
       "Model Family:                 Poisson   Df Model:                            6\n",
       "Link Function:                    log   Scale:                             1.0\n",
       "Method:                          IRLS   Log-Likelihood:                -89.638\n",
       "Date:                Sun, 14 Feb 2016   Deviance:                       81.410\n",
       "Time:                        21:57:37   Pearson chi2:                     75.8\n",
       "No. Iterations:                     9                                         \n",
       "==============================================================================\n",
       "                 coef    std err          z      P>|z|      [95.0% Conf. Int.]\n",
       "------------------------------------------------------------------------------\n",
       "months      7.106e-05    8.2e-06      8.666      0.000       5.5e-05  8.71e-05\n",
       "cons_1962     -1.1086      0.183     -6.046      0.000        -1.468    -0.749\n",
       "cons_1972      0.4962      0.129      3.858      0.000         0.244     0.748\n",
       "oper_1977      0.7240      0.137      5.288      0.000         0.456     0.992\n",
       "type_B         0.8860      0.186      4.769      0.000         0.522     1.250\n",
       "type_C        -0.9244      0.307     -3.009      0.003        -1.526    -0.322\n",
       "const          0.9228      0.168      5.488      0.000         0.593     1.252\n",
       "==============================================================================\n",
       "\"\"\""
      ]
     },
     "execution_count": 7,
     "metadata": {},
     "output_type": "execute_result"
    }
   ],
   "source": [
    "X = data[['months', 'cons_1962',  \\\n",
    "         'cons_1972', \\\n",
    "         'oper_1977', 'type_B', \\\n",
    "         'type_C',  'const']]\n",
    "y = data['damage']\n",
    "\n",
    "pois_m=sm.GLM(y,X, family=sm.families.Poisson(sm.families.links.log))\n",
    "pois_results=pois_m.fit()\n",
    "\n",
    "pois_results.summary()"
   ]
  },
  {
   "cell_type": "markdown",
   "metadata": {},
   "source": [
    "### Summary\n",
    "\n",
    "For an alpha of 0.05, the chi-sq value at 30 is 43.773 and at 40 df is 55.758. Our chi-sq value exceeds both of these and our distribution is probably not a poisson distribution (?)"
   ]
  },
  {
   "cell_type": "markdown",
   "metadata": {},
   "source": [
    "## Challenge 2\n",
    "\n",
    "The months of service provides the time interval in which a ship has chances to acquire damages. It can be thought of \"exposure\", and this column can be used as an offset.\n",
    "\n",
    "You can check these two resources for a quick idea on exposure and using an offset:\n",
    "\n",
    "* [Offset in Wikipedia](http://en.wikipedia.org/wiki/Poisson_regression#.22Exposure.22_and_offset)\n",
    "* [When to use an offset in CrossValidated (StackOverflow for statistics)](http://stats.stackexchange.com/questions/11182/when-to-use-an-offset-in-a-poisson-regression)\n",
    "\n",
    "Try your model with months of service as the offset. Does it perform better?"
   ]
  },
  {
   "cell_type": "code",
   "execution_count": 8,
   "metadata": {
    "collapsed": false,
    "scrolled": false
   },
   "outputs": [
    {
     "name": "stderr",
     "output_type": "stream",
     "text": [
      "/Users/kenn/anaconda/lib/python3.5/site-packages/ipykernel/__main__.py:3: SettingWithCopyWarning: \n",
      "A value is trying to be set on a copy of a slice from a DataFrame.\n",
      "Try using .loc[row_indexer,col_indexer] = value instead\n",
      "\n",
      "See the caveats in the documentation: http://pandas.pydata.org/pandas-docs/stable/indexing.html#indexing-view-versus-copy\n",
      "  app.launch_new_instance()\n"
     ]
    },
    {
     "data": {
      "text/html": [
       "<table class=\"simpletable\">\n",
       "<caption>Generalized Linear Model Regression Results</caption>\n",
       "<tr>\n",
       "  <th>Dep. Variable:</th>       <td>damage</td>      <th>  No. Observations:  </th>  <td>    34</td> \n",
       "</tr>\n",
       "<tr>\n",
       "  <th>Model:</th>                 <td>GLM</td>       <th>  Df Residuals:      </th>  <td>    24</td> \n",
       "</tr>\n",
       "<tr>\n",
       "  <th>Model Family:</th>        <td>Poisson</td>     <th>  Df Model:          </th>  <td>     9</td> \n",
       "</tr>\n",
       "<tr>\n",
       "  <th>Link Function:</th>         <td>log</td>       <th>  Scale:             </th>    <td>1.0</td>  \n",
       "</tr>\n",
       "<tr>\n",
       "  <th>Method:</th>               <td>IRLS</td>       <th>  Log-Likelihood:    </th> <td> -67.835</td>\n",
       "</tr>\n",
       "<tr>\n",
       "  <th>Date:</th>           <td>Sun, 14 Feb 2016</td> <th>  Deviance:          </th> <td>  37.804</td>\n",
       "</tr>\n",
       "<tr>\n",
       "  <th>Time:</th>               <td>21:57:37</td>     <th>  Pearson chi2:      </th>  <td>  39.4</td> \n",
       "</tr>\n",
       "<tr>\n",
       "  <th>No. Iterations:</th>         <td>9</td>        <th>                     </th>     <td> </td>   \n",
       "</tr>\n",
       "</table>\n",
       "<table class=\"simpletable\">\n",
       "<tr>\n",
       "      <td></td>         <th>coef</th>     <th>std err</th>      <th>z</th>      <th>P>|z|</th> <th>[95.0% Conf. Int.]</th> \n",
       "</tr>\n",
       "<tr>\n",
       "  <th>cons_1962</th> <td>   -1.1090</td> <td>    0.188</td> <td>   -5.912</td> <td> 0.000</td> <td>   -1.477    -0.741</td>\n",
       "</tr>\n",
       "<tr>\n",
       "  <th>cons_1967</th> <td>   -0.4465</td> <td>    0.143</td> <td>   -3.115</td> <td> 0.002</td> <td>   -0.727    -0.166</td>\n",
       "</tr>\n",
       "<tr>\n",
       "  <th>cons_1972</th> <td>   -0.3493</td> <td>    0.126</td> <td>   -2.780</td> <td> 0.005</td> <td>   -0.596    -0.103</td>\n",
       "</tr>\n",
       "<tr>\n",
       "  <th>cons_1977</th> <td>   -0.7393</td> <td>    0.160</td> <td>   -4.622</td> <td> 0.000</td> <td>   -1.053    -0.426</td>\n",
       "</tr>\n",
       "<tr>\n",
       "  <th>oper_1967</th> <td>   -1.5071</td> <td>    0.222</td> <td>   -6.800</td> <td> 0.000</td> <td>   -1.941    -1.073</td>\n",
       "</tr>\n",
       "<tr>\n",
       "  <th>oper_1977</th> <td>   -1.1369</td> <td>    0.205</td> <td>   -5.543</td> <td> 0.000</td> <td>   -1.539    -0.735</td>\n",
       "</tr>\n",
       "<tr>\n",
       "  <th>type_A</th>    <td>   -0.3339</td> <td>    0.169</td> <td>   -1.979</td> <td> 0.048</td> <td>   -0.665    -0.003</td>\n",
       "</tr>\n",
       "<tr>\n",
       "  <th>type_B</th>    <td>   -0.6838</td> <td>    0.303</td> <td>   -2.255</td> <td> 0.024</td> <td>   -1.278    -0.089</td>\n",
       "</tr>\n",
       "<tr>\n",
       "  <th>type_C</th>    <td>   -1.0970</td> <td>    0.246</td> <td>   -4.462</td> <td> 0.000</td> <td>   -1.579    -0.615</td>\n",
       "</tr>\n",
       "<tr>\n",
       "  <th>type_D</th>    <td>   -0.4694</td> <td>    0.215</td> <td>   -2.183</td> <td> 0.029</td> <td>   -0.891    -0.048</td>\n",
       "</tr>\n",
       "<tr>\n",
       "  <th>type_E</th>    <td>   -0.0600</td> <td>    0.167</td> <td>   -0.359</td> <td> 0.720</td> <td>   -0.388     0.268</td>\n",
       "</tr>\n",
       "<tr>\n",
       "  <th>const</th>     <td>   -2.6440</td> <td>    0.410</td> <td>   -6.443</td> <td> 0.000</td> <td>   -3.448    -1.840</td>\n",
       "</tr>\n",
       "<tr>\n",
       "  <th>logmonths</th> <td>    0.9027</td> <td>    0.102</td> <td>    8.867</td> <td> 0.000</td> <td>    0.703     1.102</td>\n",
       "</tr>\n",
       "</table>"
      ],
      "text/plain": [
       "<class 'statsmodels.iolib.summary.Summary'>\n",
       "\"\"\"\n",
       "                 Generalized Linear Model Regression Results                  \n",
       "==============================================================================\n",
       "Dep. Variable:                 damage   No. Observations:                   34\n",
       "Model:                            GLM   Df Residuals:                       24\n",
       "Model Family:                 Poisson   Df Model:                            9\n",
       "Link Function:                    log   Scale:                             1.0\n",
       "Method:                          IRLS   Log-Likelihood:                -67.835\n",
       "Date:                Sun, 14 Feb 2016   Deviance:                       37.804\n",
       "Time:                        21:57:37   Pearson chi2:                     39.4\n",
       "No. Iterations:                     9                                         \n",
       "==============================================================================\n",
       "                 coef    std err          z      P>|z|      [95.0% Conf. Int.]\n",
       "------------------------------------------------------------------------------\n",
       "cons_1962     -1.1090      0.188     -5.912      0.000        -1.477    -0.741\n",
       "cons_1967     -0.4465      0.143     -3.115      0.002        -0.727    -0.166\n",
       "cons_1972     -0.3493      0.126     -2.780      0.005        -0.596    -0.103\n",
       "cons_1977     -0.7393      0.160     -4.622      0.000        -1.053    -0.426\n",
       "oper_1967     -1.5071      0.222     -6.800      0.000        -1.941    -1.073\n",
       "oper_1977     -1.1369      0.205     -5.543      0.000        -1.539    -0.735\n",
       "type_A        -0.3339      0.169     -1.979      0.048        -0.665    -0.003\n",
       "type_B        -0.6838      0.303     -2.255      0.024        -1.278    -0.089\n",
       "type_C        -1.0970      0.246     -4.462      0.000        -1.579    -0.615\n",
       "type_D        -0.4694      0.215     -2.183      0.029        -0.891    -0.048\n",
       "type_E        -0.0600      0.167     -0.359      0.720        -0.388     0.268\n",
       "const         -2.6440      0.410     -6.443      0.000        -3.448    -1.840\n",
       "logmonths      0.9027      0.102      8.867      0.000         0.703     1.102\n",
       "==============================================================================\n",
       "\"\"\""
      ]
     },
     "execution_count": 8,
     "metadata": {},
     "output_type": "execute_result"
    }
   ],
   "source": [
    "X = data[['cons_1962', 'cons_1967', \\\n",
    "         'cons_1972', 'cons_1977', 'oper_1967', \\\n",
    "         'oper_1977', 'type_A', 'type_B', \\\n",
    "         'type_C', 'type_D', 'type_E', 'const']]\n",
    "\n",
    "X['logmonths'] = np.log(data.loc[:, 'months'])\n",
    "         \n",
    "pois_m=sm.GLM(y,X, family=sm.families.Poisson(sm.families.links.log))\n",
    "pois_results=pois_m.fit()\n",
    "\n",
    "pois_results.summary()"
   ]
  },
  {
   "cell_type": "markdown",
   "metadata": {},
   "source": [
    "#### Without type E  and subsequently bad variables"
   ]
  },
  {
   "cell_type": "code",
   "execution_count": 9,
   "metadata": {
    "collapsed": false,
    "scrolled": false
   },
   "outputs": [
    {
     "name": "stderr",
     "output_type": "stream",
     "text": [
      "/Users/kenn/anaconda/lib/python3.5/site-packages/ipykernel/__main__.py:3: SettingWithCopyWarning: \n",
      "A value is trying to be set on a copy of a slice from a DataFrame.\n",
      "Try using .loc[row_indexer,col_indexer] = value instead\n",
      "\n",
      "See the caveats in the documentation: http://pandas.pydata.org/pandas-docs/stable/indexing.html#indexing-view-versus-copy\n",
      "  app.launch_new_instance()\n"
     ]
    },
    {
     "data": {
      "text/html": [
       "<table class=\"simpletable\">\n",
       "<caption>Generalized Linear Model Regression Results</caption>\n",
       "<tr>\n",
       "  <th>Dep. Variable:</th>       <td>damage</td>      <th>  No. Observations:  </th>  <td>    34</td> \n",
       "</tr>\n",
       "<tr>\n",
       "  <th>Model:</th>                 <td>GLM</td>       <th>  Df Residuals:      </th>  <td>    27</td> \n",
       "</tr>\n",
       "<tr>\n",
       "  <th>Model Family:</th>        <td>Poisson</td>     <th>  Df Model:          </th>  <td>     6</td> \n",
       "</tr>\n",
       "<tr>\n",
       "  <th>Link Function:</th>         <td>log</td>       <th>  Scale:             </th>    <td>1.0</td>  \n",
       "</tr>\n",
       "<tr>\n",
       "  <th>Method:</th>               <td>IRLS</td>       <th>  Log-Likelihood:    </th> <td> -70.030</td>\n",
       "</tr>\n",
       "<tr>\n",
       "  <th>Date:</th>           <td>Sun, 14 Feb 2016</td> <th>  Deviance:          </th> <td>  42.194</td>\n",
       "</tr>\n",
       "<tr>\n",
       "  <th>Time:</th>               <td>21:57:37</td>     <th>  Pearson chi2:      </th>  <td>  42.1</td> \n",
       "</tr>\n",
       "<tr>\n",
       "  <th>No. Iterations:</th>         <td>9</td>        <th>                     </th>     <td> </td>   \n",
       "</tr>\n",
       "</table>\n",
       "<table class=\"simpletable\">\n",
       "<tr>\n",
       "      <td></td>         <th>coef</th>     <th>std err</th>      <th>z</th>      <th>P>|z|</th> <th>[95.0% Conf. Int.]</th> \n",
       "</tr>\n",
       "<tr>\n",
       "  <th>cons_1962</th> <td>   -0.9876</td> <td>    0.154</td> <td>   -6.427</td> <td> 0.000</td> <td>   -1.289    -0.686</td>\n",
       "</tr>\n",
       "<tr>\n",
       "  <th>cons_1967</th> <td>   -0.3481</td> <td>    0.118</td> <td>   -2.945</td> <td> 0.003</td> <td>   -0.580    -0.116</td>\n",
       "</tr>\n",
       "<tr>\n",
       "  <th>cons_1972</th> <td>   -0.2492</td> <td>    0.096</td> <td>   -2.596</td> <td> 0.009</td> <td>   -0.437    -0.061</td>\n",
       "</tr>\n",
       "<tr>\n",
       "  <th>cons_1977</th> <td>   -0.7078</td> <td>    0.146</td> <td>   -4.854</td> <td> 0.000</td> <td>   -0.994    -0.422</td>\n",
       "</tr>\n",
       "<tr>\n",
       "  <th>oper_1967</th> <td>   -1.3214</td> <td>    0.146</td> <td>   -9.067</td> <td> 0.000</td> <td>   -1.607    -1.036</td>\n",
       "</tr>\n",
       "<tr>\n",
       "  <th>oper_1977</th> <td>   -0.9712</td> <td>    0.134</td> <td>   -7.228</td> <td> 0.000</td> <td>   -1.235    -0.708</td>\n",
       "</tr>\n",
       "<tr>\n",
       "  <th>type_C</th>    <td>   -0.8125</td> <td>    0.312</td> <td>   -2.605</td> <td> 0.009</td> <td>   -1.424    -0.201</td>\n",
       "</tr>\n",
       "<tr>\n",
       "  <th>const</th>     <td>   -2.2926</td> <td>    0.255</td> <td>   -8.987</td> <td> 0.000</td> <td>   -2.793    -1.793</td>\n",
       "</tr>\n",
       "<tr>\n",
       "  <th>logmonths</th> <td>    0.7724</td> <td>    0.048</td> <td>   15.972</td> <td> 0.000</td> <td>    0.678     0.867</td>\n",
       "</tr>\n",
       "</table>"
      ],
      "text/plain": [
       "<class 'statsmodels.iolib.summary.Summary'>\n",
       "\"\"\"\n",
       "                 Generalized Linear Model Regression Results                  \n",
       "==============================================================================\n",
       "Dep. Variable:                 damage   No. Observations:                   34\n",
       "Model:                            GLM   Df Residuals:                       27\n",
       "Model Family:                 Poisson   Df Model:                            6\n",
       "Link Function:                    log   Scale:                             1.0\n",
       "Method:                          IRLS   Log-Likelihood:                -70.030\n",
       "Date:                Sun, 14 Feb 2016   Deviance:                       42.194\n",
       "Time:                        21:57:37   Pearson chi2:                     42.1\n",
       "No. Iterations:                     9                                         \n",
       "==============================================================================\n",
       "                 coef    std err          z      P>|z|      [95.0% Conf. Int.]\n",
       "------------------------------------------------------------------------------\n",
       "cons_1962     -0.9876      0.154     -6.427      0.000        -1.289    -0.686\n",
       "cons_1967     -0.3481      0.118     -2.945      0.003        -0.580    -0.116\n",
       "cons_1972     -0.2492      0.096     -2.596      0.009        -0.437    -0.061\n",
       "cons_1977     -0.7078      0.146     -4.854      0.000        -0.994    -0.422\n",
       "oper_1967     -1.3214      0.146     -9.067      0.000        -1.607    -1.036\n",
       "oper_1977     -0.9712      0.134     -7.228      0.000        -1.235    -0.708\n",
       "type_C        -0.8125      0.312     -2.605      0.009        -1.424    -0.201\n",
       "const         -2.2926      0.255     -8.987      0.000        -2.793    -1.793\n",
       "logmonths      0.7724      0.048     15.972      0.000         0.678     0.867\n",
       "==============================================================================\n",
       "\"\"\""
      ]
     },
     "execution_count": 9,
     "metadata": {},
     "output_type": "execute_result"
    }
   ],
   "source": [
    "X = data[['cons_1962', 'cons_1967', \\\n",
    "         'cons_1972', 'cons_1977', 'oper_1967', \\\n",
    "         'oper_1977',  \\\n",
    "         'type_C',  'const']]\n",
    "\n",
    "X['logmonths'] = np.log(data.loc[:, 'months'])\n",
    "         \n",
    "pois_m=sm.GLM(y,X, family=sm.families.Poisson(sm.families.links.log))\n",
    "pois_results=pois_m.fit()\n",
    "\n",
    "pois_results.summary()"
   ]
  },
  {
   "cell_type": "markdown",
   "metadata": {},
   "source": [
    "### Summary\n",
    "The lowest chi-sq value was found by removing type E but there were more bad variables, type A, B and D. I attempted to remove other 'type' variables and they actually raised chi-sq. According to [this chart](https://www.medcalc.org/manual/chi-square-table.php) the chi-sq value of 33df and 0.05 alpha is 47.400. Our chi-sq value is less than that and therefore it is probable that our distribution is a poisson distribution.\n",
    "\n"
   ]
  },
  {
   "cell_type": "markdown",
   "metadata": {},
   "source": [
    "## Challenge 3\n",
    "\n",
    "Now separate your data (even though it's only 14 rows) into a training and test set (your test will only be 4 or 5 rows), and check if you predict well (you can look at mean absolute error or mean squared error using sklearn.metrics)"
   ]
  },
  {
   "cell_type": "code",
   "execution_count": 10,
   "metadata": {
    "collapsed": true
   },
   "outputs": [],
   "source": [
    "X_train, X_test, y_train, y_test = train_test_split(X, y, test_size=0.3, random_state=4444)"
   ]
  },
  {
   "cell_type": "code",
   "execution_count": 11,
   "metadata": {
    "collapsed": true
   },
   "outputs": [],
   "source": [
    "pois_m=sm.GLM(y_train,X_train, family=sm.families.Poisson(sm.families.links.log))\n",
    "pois_results=pois_m.fit()"
   ]
  },
  {
   "cell_type": "code",
   "execution_count": 12,
   "metadata": {
    "collapsed": false
   },
   "outputs": [
    {
     "data": {
      "text/html": [
       "<table class=\"simpletable\">\n",
       "<caption>Generalized Linear Model Regression Results</caption>\n",
       "<tr>\n",
       "  <th>Dep. Variable:</th>       <td>damage</td>      <th>  No. Observations:  </th>  <td>    23</td> \n",
       "</tr>\n",
       "<tr>\n",
       "  <th>Model:</th>                 <td>GLM</td>       <th>  Df Residuals:      </th>  <td>    16</td> \n",
       "</tr>\n",
       "<tr>\n",
       "  <th>Model Family:</th>        <td>Poisson</td>     <th>  Df Model:          </th>  <td>     6</td> \n",
       "</tr>\n",
       "<tr>\n",
       "  <th>Link Function:</th>         <td>log</td>       <th>  Scale:             </th>    <td>1.0</td>  \n",
       "</tr>\n",
       "<tr>\n",
       "  <th>Method:</th>               <td>IRLS</td>       <th>  Log-Likelihood:    </th> <td> -49.004</td>\n",
       "</tr>\n",
       "<tr>\n",
       "  <th>Date:</th>           <td>Sun, 14 Feb 2016</td> <th>  Deviance:          </th> <td>  33.890</td>\n",
       "</tr>\n",
       "<tr>\n",
       "  <th>Time:</th>               <td>21:57:37</td>     <th>  Pearson chi2:      </th>  <td>  35.1</td> \n",
       "</tr>\n",
       "<tr>\n",
       "  <th>No. Iterations:</th>         <td>9</td>        <th>                     </th>     <td> </td>   \n",
       "</tr>\n",
       "</table>\n",
       "<table class=\"simpletable\">\n",
       "<tr>\n",
       "      <td></td>         <th>coef</th>     <th>std err</th>      <th>z</th>      <th>P>|z|</th> <th>[95.0% Conf. Int.]</th> \n",
       "</tr>\n",
       "<tr>\n",
       "  <th>cons_1962</th> <td>   -1.0044</td> <td>    0.199</td> <td>   -5.036</td> <td> 0.000</td> <td>   -1.395    -0.614</td>\n",
       "</tr>\n",
       "<tr>\n",
       "  <th>cons_1967</th> <td>   -0.4077</td> <td>    0.186</td> <td>   -2.187</td> <td> 0.029</td> <td>   -0.773    -0.042</td>\n",
       "</tr>\n",
       "<tr>\n",
       "  <th>cons_1972</th> <td>   -0.2789</td> <td>    0.136</td> <td>   -2.058</td> <td> 0.040</td> <td>   -0.545    -0.013</td>\n",
       "</tr>\n",
       "<tr>\n",
       "  <th>cons_1977</th> <td>   -0.7185</td> <td>    0.206</td> <td>   -3.487</td> <td> 0.000</td> <td>   -1.122    -0.315</td>\n",
       "</tr>\n",
       "<tr>\n",
       "  <th>oper_1967</th> <td>   -1.3554</td> <td>    0.183</td> <td>   -7.398</td> <td> 0.000</td> <td>   -1.715    -0.996</td>\n",
       "</tr>\n",
       "<tr>\n",
       "  <th>oper_1977</th> <td>   -1.0540</td> <td>    0.190</td> <td>   -5.556</td> <td> 0.000</td> <td>   -1.426    -0.682</td>\n",
       "</tr>\n",
       "<tr>\n",
       "  <th>type_C</th>    <td>   -0.8080</td> <td>    0.370</td> <td>   -2.182</td> <td> 0.029</td> <td>   -1.534    -0.082</td>\n",
       "</tr>\n",
       "<tr>\n",
       "  <th>const</th>     <td>   -2.4095</td> <td>    0.346</td> <td>   -6.971</td> <td> 0.000</td> <td>   -3.087    -1.732</td>\n",
       "</tr>\n",
       "<tr>\n",
       "  <th>logmonths</th> <td>    0.7960</td> <td>    0.068</td> <td>   11.743</td> <td> 0.000</td> <td>    0.663     0.929</td>\n",
       "</tr>\n",
       "</table>"
      ],
      "text/plain": [
       "<class 'statsmodels.iolib.summary.Summary'>\n",
       "\"\"\"\n",
       "                 Generalized Linear Model Regression Results                  \n",
       "==============================================================================\n",
       "Dep. Variable:                 damage   No. Observations:                   23\n",
       "Model:                            GLM   Df Residuals:                       16\n",
       "Model Family:                 Poisson   Df Model:                            6\n",
       "Link Function:                    log   Scale:                             1.0\n",
       "Method:                          IRLS   Log-Likelihood:                -49.004\n",
       "Date:                Sun, 14 Feb 2016   Deviance:                       33.890\n",
       "Time:                        21:57:37   Pearson chi2:                     35.1\n",
       "No. Iterations:                     9                                         \n",
       "==============================================================================\n",
       "                 coef    std err          z      P>|z|      [95.0% Conf. Int.]\n",
       "------------------------------------------------------------------------------\n",
       "cons_1962     -1.0044      0.199     -5.036      0.000        -1.395    -0.614\n",
       "cons_1967     -0.4077      0.186     -2.187      0.029        -0.773    -0.042\n",
       "cons_1972     -0.2789      0.136     -2.058      0.040        -0.545    -0.013\n",
       "cons_1977     -0.7185      0.206     -3.487      0.000        -1.122    -0.315\n",
       "oper_1967     -1.3554      0.183     -7.398      0.000        -1.715    -0.996\n",
       "oper_1977     -1.0540      0.190     -5.556      0.000        -1.426    -0.682\n",
       "type_C        -0.8080      0.370     -2.182      0.029        -1.534    -0.082\n",
       "const         -2.4095      0.346     -6.971      0.000        -3.087    -1.732\n",
       "logmonths      0.7960      0.068     11.743      0.000         0.663     0.929\n",
       "==============================================================================\n",
       "\"\"\""
      ]
     },
     "execution_count": 12,
     "metadata": {},
     "output_type": "execute_result"
    }
   ],
   "source": [
    "pois_results.summary()"
   ]
  },
  {
   "cell_type": "code",
   "execution_count": 13,
   "metadata": {
    "collapsed": false
   },
   "outputs": [],
   "source": [
    "y_pred = pois_results.predict(X_test)"
   ]
  },
  {
   "cell_type": "code",
   "execution_count": 14,
   "metadata": {
    "collapsed": false
   },
   "outputs": [
    {
     "data": {
      "text/plain": [
       "1.2367583863986209"
      ]
     },
     "execution_count": 14,
     "metadata": {},
     "output_type": "execute_result"
    }
   ],
   "source": [
    "mean_absolute_error(y_test, y_pred)"
   ]
  },
  {
   "cell_type": "code",
   "execution_count": 15,
   "metadata": {
    "collapsed": false
   },
   "outputs": [
    {
     "data": {
      "text/plain": [
       "3.6299921952610039"
      ]
     },
     "execution_count": 15,
     "metadata": {},
     "output_type": "execute_result"
    }
   ],
   "source": [
    "mean_squared_error(y_test, y_pred)"
   ]
  },
  {
   "cell_type": "markdown",
   "metadata": {},
   "source": [
    "## Challenge 4\n",
    "\n",
    "Deviance. Compute the difference in Deviance statistics for your model and the null model. This is called the null deviance. You can do this in one of 2 ways:\n",
    "\n",
    "1. We need the deviance for the null model (a model where none of the explanatory variables are used; it's just a model with a mean guess). To do that, fit a poisson regression with only a constant. Get the deviance for this null model. Take the difference of deviances between your model and this null model.\n",
    "\n",
    "2. Use statsmodels.genmod.generalized_linear_model.GLMResults\n",
    "\n",
    "Check if this difference is extreme enough that we can reject the null hypothesis. If we can't reject the null hypothesis, we cannot say that this model tells us more than that trivial, null model. To calculate the p-value (prob. of getting a deviance difference at least as extreme as this under the null hypothesis), we need to do a hypothesis test.\n",
    "\n",
    "You can import the chi square test from scipy for this:\n",
    "\n",
    "    from scipy.stats import chisqprob\n",
    "\n",
    "Is your model better than the null model?"
   ]
  },
  {
   "cell_type": "code",
   "execution_count": 16,
   "metadata": {
    "collapsed": true
   },
   "outputs": [],
   "source": [
    "null_dev = pois_results.null_deviance\n",
    "res_dev = pois_results.deviance\n",
    "\n",
    "diff = null_dev - res_dev"
   ]
  },
  {
   "cell_type": "markdown",
   "metadata": {},
   "source": [
    "DF = difference in parameters between actual and null models, the number of additional parameters (9-1=8) "
   ]
  },
  {
   "cell_type": "code",
   "execution_count": 17,
   "metadata": {
    "collapsed": false,
    "scrolled": true
   },
   "outputs": [
    {
     "data": {
      "text/plain": [
       "7.7014357590057692e-91"
      ]
     },
     "execution_count": 17,
     "metadata": {},
     "output_type": "execute_result"
    }
   ],
   "source": [
    "chi2.sf(diff, 8)"
   ]
  },
  {
   "cell_type": "markdown",
   "metadata": {},
   "source": [
    "Because the probability is significantly less than 0.05, it is very probable my model is better than the null model."
   ]
  },
  {
   "cell_type": "markdown",
   "metadata": {},
   "source": [
    "## Challenge 5\n",
    "\n",
    "Now, instead of a poisson regression, do an ordinary least squares regression with log Y. Compare the models. Are the coefficients close? Do they perform similarly?"
   ]
  },
  {
   "cell_type": "markdown",
   "metadata": {},
   "source": [
    "Taking the log(damages) isn't possible when there are 0 damages, therefore I removed the samples where damages was 0. Adding 1 to each of the 0s would misrepresent those values compared to the rest and adding 1 to all of the values changes the parameters too much."
   ]
  },
  {
   "cell_type": "code",
   "execution_count": 18,
   "metadata": {
    "collapsed": false
   },
   "outputs": [],
   "source": [
    "data2 = data[data.damage != 0]"
   ]
  },
  {
   "cell_type": "code",
   "execution_count": 19,
   "metadata": {
    "collapsed": false
   },
   "outputs": [
    {
     "name": "stderr",
     "output_type": "stream",
     "text": [
      "/Users/kenn/anaconda/lib/python3.5/site-packages/ipykernel/__main__.py:3: SettingWithCopyWarning: \n",
      "A value is trying to be set on a copy of a slice from a DataFrame.\n",
      "Try using .loc[row_indexer,col_indexer] = value instead\n",
      "\n",
      "See the caveats in the documentation: http://pandas.pydata.org/pandas-docs/stable/indexing.html#indexing-view-versus-copy\n",
      "  app.launch_new_instance()\n"
     ]
    }
   ],
   "source": [
    "X = data2[['cons_1962', 'cons_1967', \\\n",
    "         'cons_1972', 'cons_1977', 'oper_1967', \\\n",
    "         'oper_1977',  \\\n",
    "         'type_C',  'const']]\n",
    "\n",
    "X['logmonths'] = np.log(data2.loc[:, 'months'])\n",
    "\n",
    "y = data2.damage\n",
    "\n",
    "y_train = np.log(y_train)"
   ]
  },
  {
   "cell_type": "code",
   "execution_count": 20,
   "metadata": {
    "collapsed": false
   },
   "outputs": [],
   "source": [
    "X_train, X_test, y_train, y_test = train_test_split(X, y, test_size=0.3, random_state=4444)\n",
    "\n",
    "ols_model = sm.OLS(y_train, X_train)\n",
    "ols_m_res = ols_model.fit()"
   ]
  },
  {
   "cell_type": "code",
   "execution_count": 21,
   "metadata": {
    "collapsed": false
   },
   "outputs": [
    {
     "name": "stderr",
     "output_type": "stream",
     "text": [
      "/Users/kenn/anaconda/lib/python3.5/site-packages/scipy/stats/stats.py:1277: UserWarning: kurtosistest only valid for n>=20 ... continuing anyway, n=18\n",
      "  \"anyway, n=%i\" % int(n))\n"
     ]
    },
    {
     "data": {
      "text/html": [
       "<table class=\"simpletable\">\n",
       "<caption>OLS Regression Results</caption>\n",
       "<tr>\n",
       "  <th>Dep. Variable:</th>         <td>damage</td>      <th>  R-squared:         </th> <td>   0.819</td>\n",
       "</tr>\n",
       "<tr>\n",
       "  <th>Model:</th>                   <td>OLS</td>       <th>  Adj. R-squared:    </th> <td>   0.720</td>\n",
       "</tr>\n",
       "<tr>\n",
       "  <th>Method:</th>             <td>Least Squares</td>  <th>  F-statistic:       </th> <td>   8.289</td>\n",
       "</tr>\n",
       "<tr>\n",
       "  <th>Date:</th>             <td>Sun, 14 Feb 2016</td> <th>  Prob (F-statistic):</th>  <td>0.00145</td>\n",
       "</tr>\n",
       "<tr>\n",
       "  <th>Time:</th>                 <td>21:57:37</td>     <th>  Log-Likelihood:    </th> <td> -59.518</td>\n",
       "</tr>\n",
       "<tr>\n",
       "  <th>No. Observations:</th>      <td>    18</td>      <th>  AIC:               </th> <td>   133.0</td>\n",
       "</tr>\n",
       "<tr>\n",
       "  <th>Df Residuals:</th>          <td>    11</td>      <th>  BIC:               </th> <td>   139.3</td>\n",
       "</tr>\n",
       "<tr>\n",
       "  <th>Df Model:</th>              <td>     6</td>      <th>                     </th>     <td> </td>   \n",
       "</tr>\n",
       "<tr>\n",
       "  <th>Covariance Type:</th>      <td>nonrobust</td>    <th>                     </th>     <td> </td>   \n",
       "</tr>\n",
       "</table>\n",
       "<table class=\"simpletable\">\n",
       "<tr>\n",
       "      <td></td>         <th>coef</th>     <th>std err</th>      <th>t</th>      <th>P>|t|</th> <th>[95.0% Conf. Int.]</th> \n",
       "</tr>\n",
       "<tr>\n",
       "  <th>cons_1962</th> <td>  -14.8973</td> <td>    7.162</td> <td>   -2.080</td> <td> 0.062</td> <td>  -30.661     0.867</td>\n",
       "</tr>\n",
       "<tr>\n",
       "  <th>cons_1967</th> <td>   -2.7584</td> <td>    4.462</td> <td>   -0.618</td> <td> 0.549</td> <td>  -12.579     7.063</td>\n",
       "</tr>\n",
       "<tr>\n",
       "  <th>cons_1972</th> <td>  -10.7318</td> <td>    3.745</td> <td>   -2.866</td> <td> 0.015</td> <td>  -18.975    -2.489</td>\n",
       "</tr>\n",
       "<tr>\n",
       "  <th>cons_1977</th> <td>  -12.1722</td> <td>    4.151</td> <td>   -2.933</td> <td> 0.014</td> <td>  -21.308    -3.037</td>\n",
       "</tr>\n",
       "<tr>\n",
       "  <th>oper_1967</th> <td>  -22.3851</td> <td>    5.217</td> <td>   -4.291</td> <td> 0.001</td> <td>  -33.867   -10.903</td>\n",
       "</tr>\n",
       "<tr>\n",
       "  <th>oper_1977</th> <td>  -18.1747</td> <td>    5.852</td> <td>   -3.106</td> <td> 0.010</td> <td>  -31.055    -5.294</td>\n",
       "</tr>\n",
       "<tr>\n",
       "  <th>type_C</th>    <td>    3.3779</td> <td>    6.086</td> <td>    0.555</td> <td> 0.590</td> <td>  -10.017    16.772</td>\n",
       "</tr>\n",
       "<tr>\n",
       "  <th>const</th>     <td>  -40.5598</td> <td>    9.944</td> <td>   -4.079</td> <td> 0.002</td> <td>  -62.446   -18.673</td>\n",
       "</tr>\n",
       "<tr>\n",
       "  <th>logmonths</th> <td>   10.7112</td> <td>    2.082</td> <td>    5.144</td> <td> 0.000</td> <td>    6.129    15.294</td>\n",
       "</tr>\n",
       "</table>\n",
       "<table class=\"simpletable\">\n",
       "<tr>\n",
       "  <th>Omnibus:</th>       <td> 0.411</td> <th>  Durbin-Watson:     </th> <td>   1.890</td>\n",
       "</tr>\n",
       "<tr>\n",
       "  <th>Prob(Omnibus):</th> <td> 0.814</td> <th>  Jarque-Bera (JB):  </th> <td>   0.535</td>\n",
       "</tr>\n",
       "<tr>\n",
       "  <th>Skew:</th>          <td>-0.242</td> <th>  Prob(JB):          </th> <td>   0.765</td>\n",
       "</tr>\n",
       "<tr>\n",
       "  <th>Kurtosis:</th>      <td> 2.308</td> <th>  Cond. No.          </th> <td>1.44e+17</td>\n",
       "</tr>\n",
       "</table>"
      ],
      "text/plain": [
       "<class 'statsmodels.iolib.summary.Summary'>\n",
       "\"\"\"\n",
       "                            OLS Regression Results                            \n",
       "==============================================================================\n",
       "Dep. Variable:                 damage   R-squared:                       0.819\n",
       "Model:                            OLS   Adj. R-squared:                  0.720\n",
       "Method:                 Least Squares   F-statistic:                     8.289\n",
       "Date:                Sun, 14 Feb 2016   Prob (F-statistic):            0.00145\n",
       "Time:                        21:57:37   Log-Likelihood:                -59.518\n",
       "No. Observations:                  18   AIC:                             133.0\n",
       "Df Residuals:                      11   BIC:                             139.3\n",
       "Df Model:                           6                                         \n",
       "Covariance Type:            nonrobust                                         \n",
       "==============================================================================\n",
       "                 coef    std err          t      P>|t|      [95.0% Conf. Int.]\n",
       "------------------------------------------------------------------------------\n",
       "cons_1962    -14.8973      7.162     -2.080      0.062       -30.661     0.867\n",
       "cons_1967     -2.7584      4.462     -0.618      0.549       -12.579     7.063\n",
       "cons_1972    -10.7318      3.745     -2.866      0.015       -18.975    -2.489\n",
       "cons_1977    -12.1722      4.151     -2.933      0.014       -21.308    -3.037\n",
       "oper_1967    -22.3851      5.217     -4.291      0.001       -33.867   -10.903\n",
       "oper_1977    -18.1747      5.852     -3.106      0.010       -31.055    -5.294\n",
       "type_C         3.3779      6.086      0.555      0.590       -10.017    16.772\n",
       "const        -40.5598      9.944     -4.079      0.002       -62.446   -18.673\n",
       "logmonths     10.7112      2.082      5.144      0.000         6.129    15.294\n",
       "==============================================================================\n",
       "Omnibus:                        0.411   Durbin-Watson:                   1.890\n",
       "Prob(Omnibus):                  0.814   Jarque-Bera (JB):                0.535\n",
       "Skew:                          -0.242   Prob(JB):                        0.765\n",
       "Kurtosis:                       2.308   Cond. No.                     1.44e+17\n",
       "==============================================================================\n",
       "\n",
       "Warnings:\n",
       "[1] Standard Errors assume that the covariance matrix of the errors is correctly specified.\n",
       "[2] The smallest eigenvalue is 5.79e-32. This might indicate that there are\n",
       "strong multicollinearity problems or that the design matrix is singular.\n",
       "\"\"\""
      ]
     },
     "execution_count": 21,
     "metadata": {},
     "output_type": "execute_result"
    }
   ],
   "source": [
    "ols_m_res.summary()"
   ]
  },
  {
   "cell_type": "code",
   "execution_count": 22,
   "metadata": {
    "collapsed": false
   },
   "outputs": [],
   "source": [
    "coeff_df = pd.DataFrame( {'poisson': pois_results.params, 'OLS': ols_m_res.params } )"
   ]
  },
  {
   "cell_type": "code",
   "execution_count": 23,
   "metadata": {
    "collapsed": false,
    "scrolled": true
   },
   "outputs": [
    {
     "data": {
      "text/html": [
       "<div>\n",
       "<table border=\"1\" class=\"dataframe\">\n",
       "  <thead>\n",
       "    <tr style=\"text-align: right;\">\n",
       "      <th></th>\n",
       "      <th>OLS</th>\n",
       "      <th>poisson</th>\n",
       "    </tr>\n",
       "  </thead>\n",
       "  <tbody>\n",
       "    <tr>\n",
       "      <th>cons_1962</th>\n",
       "      <td>-14.897284</td>\n",
       "      <td>-1.004356</td>\n",
       "    </tr>\n",
       "    <tr>\n",
       "      <th>cons_1967</th>\n",
       "      <td>-2.758432</td>\n",
       "      <td>-0.407748</td>\n",
       "    </tr>\n",
       "    <tr>\n",
       "      <th>cons_1972</th>\n",
       "      <td>-10.731837</td>\n",
       "      <td>-0.278902</td>\n",
       "    </tr>\n",
       "    <tr>\n",
       "      <th>cons_1977</th>\n",
       "      <td>-12.172229</td>\n",
       "      <td>-0.718466</td>\n",
       "    </tr>\n",
       "    <tr>\n",
       "      <th>oper_1967</th>\n",
       "      <td>-22.385125</td>\n",
       "      <td>-1.355443</td>\n",
       "    </tr>\n",
       "    <tr>\n",
       "      <th>oper_1977</th>\n",
       "      <td>-18.174657</td>\n",
       "      <td>-1.054029</td>\n",
       "    </tr>\n",
       "    <tr>\n",
       "      <th>type_C</th>\n",
       "      <td>3.377872</td>\n",
       "      <td>-0.808042</td>\n",
       "    </tr>\n",
       "    <tr>\n",
       "      <th>const</th>\n",
       "      <td>-40.559782</td>\n",
       "      <td>-2.409472</td>\n",
       "    </tr>\n",
       "    <tr>\n",
       "      <th>logmonths</th>\n",
       "      <td>10.711206</td>\n",
       "      <td>0.796007</td>\n",
       "    </tr>\n",
       "  </tbody>\n",
       "</table>\n",
       "</div>"
      ],
      "text/plain": [
       "                 OLS   poisson\n",
       "cons_1962 -14.897284 -1.004356\n",
       "cons_1967  -2.758432 -0.407748\n",
       "cons_1972 -10.731837 -0.278902\n",
       "cons_1977 -12.172229 -0.718466\n",
       "oper_1967 -22.385125 -1.355443\n",
       "oper_1977 -18.174657 -1.054029\n",
       "type_C      3.377872 -0.808042\n",
       "const     -40.559782 -2.409472\n",
       "logmonths  10.711206  0.796007"
      ]
     },
     "execution_count": 23,
     "metadata": {},
     "output_type": "execute_result"
    }
   ],
   "source": [
    "coeff_df"
   ]
  },
  {
   "cell_type": "markdown",
   "metadata": {},
   "source": [
    "#### Summary\n",
    "\n",
    "The parameter coefficients are similar. However, it seems that parameters cons_1967, cons_1972, and type_C may be removed from the OLS model. The coefficients of these two parameters also seem to deviate largely from the poisson model.\n",
    "\n",
    "While the Rsq and adj Rsq are decent for this model and the F-statistic is low, the log-likelihood is better for the poisson model. Therefor the poisson model is likely a better model for this data.\n",
    "\n",
    "Also, I realized after all of this that I didn't quite read the first question properly and made the year variables continuous and then categorical but I do not think it changes the results."
   ]
  },
  {
   "cell_type": "markdown",
   "metadata": {},
   "source": [
    "## Challenge 6\n",
    "\n",
    "Now, let's do this on another dataset: Smoking and Cancer. You can get it here:\n",
    "\n",
    "http://data.princeton.edu/wws509/datasets/smoking.dta\n",
    "\n",
    "This dataset has information on lung cancer deaths by age and smoking status. It has these columns:\n",
    "\n",
    "* age: in five-year age groups coded 1 to 9 for 40-44, 45-49, 50-54, 55-59, 60-64, 65-69, 70-74, 75-79, 80+.\n",
    "* smoking status: coded 1 = doesn't smoke, 2 = smokes cigars or pipe only, 3 = smokes cigarrettes and cigar or pipe, and 4 = smokes cigarrettes only,\n",
    "* population: in hundreds of thousands\n",
    "* deaths: number of lung cancer deaths in a year.\n",
    "\n",
    "That population looks a lot like an offset!\n",
    "\n",
    "Fit poisson and OLS models and compare them.\n",
    "\n",
    "Bonus: try all these things in R! Your numerical answers should all be the same."
   ]
  },
  {
   "cell_type": "code",
   "execution_count": 24,
   "metadata": {
    "collapsed": true
   },
   "outputs": [],
   "source": [
    "reader = StataReader('smoking.dta')\n",
    "data = reader.read()\n",
    "\n",
    "#data['pop'] = data['pop']*100000\n",
    "#data['dead'] = data['dead']*100000"
   ]
  },
  {
   "cell_type": "code",
   "execution_count": 25,
   "metadata": {
    "collapsed": false
   },
   "outputs": [],
   "source": [
    "data['age'] = data['age'].astype(str)\n",
    "data['smoke'] = data['smoke'].astype(str)"
   ]
  },
  {
   "cell_type": "code",
   "execution_count": 26,
   "metadata": {
    "collapsed": false
   },
   "outputs": [],
   "source": [
    "smoke_options = ['Doesn\\'t smoke', \n",
    "                 'Smokes cigars or pipe only', \n",
    "                 'Smokes cigarettes and cigar or pipe', \n",
    "                 'smokes cigarettes only']\n",
    "\n",
    "ages = [('40-44', 42),\n",
    "        ('45-49', 47),\n",
    "        ('50-54', 52),\n",
    "        ('55-59', 57),\n",
    "        ('60-64', 62),\n",
    "        ('65-69', 67),\n",
    "        ('70-74', 72),\n",
    "        ('75-79', 77),\n",
    "        ('80+', 80)]\n",
    "\n",
    "for i, option in enumerate(smoke_options):\n",
    "    data.loc[data['smoke'] == option, 'smoke'] = i+1\n",
    "    \n",
    "for i in ages:\n",
    "    data.loc[data['age'] == i[0], 'age'] = i[1]\n",
    "\n",
    "data['age'] = data['age'].astype(int)\n",
    "data['smoke'] = data['smoke'].astype(int)\n",
    "\n",
    "data['const'] = 1\n",
    "data['logpop'] = np.log(data.loc[:, 'pop'])"
   ]
  },
  {
   "cell_type": "code",
   "execution_count": 27,
   "metadata": {
    "collapsed": false
   },
   "outputs": [
    {
     "data": {
      "text/html": [
       "<div>\n",
       "<table border=\"1\" class=\"dataframe\">\n",
       "  <thead>\n",
       "    <tr style=\"text-align: right;\">\n",
       "      <th></th>\n",
       "      <th>age</th>\n",
       "      <th>smoke</th>\n",
       "      <th>pop</th>\n",
       "      <th>dead</th>\n",
       "      <th>const</th>\n",
       "      <th>logpop</th>\n",
       "    </tr>\n",
       "  </thead>\n",
       "  <tbody>\n",
       "    <tr>\n",
       "      <th>0</th>\n",
       "      <td>42</td>\n",
       "      <td>1</td>\n",
       "      <td>656</td>\n",
       "      <td>18</td>\n",
       "      <td>1</td>\n",
       "      <td>6.486161</td>\n",
       "    </tr>\n",
       "    <tr>\n",
       "      <th>1</th>\n",
       "      <td>47</td>\n",
       "      <td>1</td>\n",
       "      <td>359</td>\n",
       "      <td>22</td>\n",
       "      <td>1</td>\n",
       "      <td>5.883322</td>\n",
       "    </tr>\n",
       "    <tr>\n",
       "      <th>2</th>\n",
       "      <td>52</td>\n",
       "      <td>1</td>\n",
       "      <td>249</td>\n",
       "      <td>19</td>\n",
       "      <td>1</td>\n",
       "      <td>5.517453</td>\n",
       "    </tr>\n",
       "    <tr>\n",
       "      <th>3</th>\n",
       "      <td>57</td>\n",
       "      <td>1</td>\n",
       "      <td>632</td>\n",
       "      <td>55</td>\n",
       "      <td>1</td>\n",
       "      <td>6.448889</td>\n",
       "    </tr>\n",
       "    <tr>\n",
       "      <th>4</th>\n",
       "      <td>62</td>\n",
       "      <td>1</td>\n",
       "      <td>1067</td>\n",
       "      <td>117</td>\n",
       "      <td>1</td>\n",
       "      <td>6.972606</td>\n",
       "    </tr>\n",
       "  </tbody>\n",
       "</table>\n",
       "</div>"
      ],
      "text/plain": [
       "   age  smoke   pop  dead  const    logpop\n",
       "0   42      1   656    18      1  6.486161\n",
       "1   47      1   359    22      1  5.883322\n",
       "2   52      1   249    19      1  5.517453\n",
       "3   57      1   632    55      1  6.448889\n",
       "4   62      1  1067   117      1  6.972606"
      ]
     },
     "execution_count": 27,
     "metadata": {},
     "output_type": "execute_result"
    }
   ],
   "source": [
    "data.head()"
   ]
  },
  {
   "cell_type": "markdown",
   "metadata": {},
   "source": [
    "### Analysis without offset"
   ]
  },
  {
   "cell_type": "code",
   "execution_count": 28,
   "metadata": {
    "collapsed": true
   },
   "outputs": [],
   "source": [
    "X = data[['age', 'smoke', 'pop', 'const']]\n",
    "y = data['dead']"
   ]
  },
  {
   "cell_type": "code",
   "execution_count": 29,
   "metadata": {
    "collapsed": false
   },
   "outputs": [
    {
     "data": {
      "text/html": [
       "<table class=\"simpletable\">\n",
       "<caption>Generalized Linear Model Regression Results</caption>\n",
       "<tr>\n",
       "  <th>Dep. Variable:</th>        <td>dead</td>       <th>  No. Observations:  </th>  <td>    36</td> \n",
       "</tr>\n",
       "<tr>\n",
       "  <th>Model:</th>                 <td>GLM</td>       <th>  Df Residuals:      </th>  <td>    32</td> \n",
       "</tr>\n",
       "<tr>\n",
       "  <th>Model Family:</th>        <td>Poisson</td>     <th>  Df Model:          </th>  <td>     3</td> \n",
       "</tr>\n",
       "<tr>\n",
       "  <th>Link Function:</th>         <td>log</td>       <th>  Scale:             </th>    <td>1.0</td>  \n",
       "</tr>\n",
       "<tr>\n",
       "  <th>Method:</th>               <td>IRLS</td>       <th>  Log-Likelihood:    </th> <td> -722.08</td>\n",
       "</tr>\n",
       "<tr>\n",
       "  <th>Date:</th>           <td>Sun, 14 Feb 2016</td> <th>  Deviance:          </th> <td>  1204.1</td>\n",
       "</tr>\n",
       "<tr>\n",
       "  <th>Time:</th>               <td>21:57:37</td>     <th>  Pearson chi2:      </th> <td>1.03e+03</td>\n",
       "</tr>\n",
       "<tr>\n",
       "  <th>No. Iterations:</th>         <td>8</td>        <th>                     </th>     <td> </td>   \n",
       "</tr>\n",
       "</table>\n",
       "<table class=\"simpletable\">\n",
       "<tr>\n",
       "    <td></td>       <th>coef</th>     <th>std err</th>      <th>z</th>      <th>P>|z|</th> <th>[95.0% Conf. Int.]</th> \n",
       "</tr>\n",
       "<tr>\n",
       "  <th>age</th>   <td>    0.0551</td> <td>    0.001</td> <td>   46.044</td> <td> 0.000</td> <td>    0.053     0.057</td>\n",
       "</tr>\n",
       "<tr>\n",
       "  <th>smoke</th> <td>    0.2698</td> <td>    0.012</td> <td>   22.259</td> <td> 0.000</td> <td>    0.246     0.294</td>\n",
       "</tr>\n",
       "<tr>\n",
       "  <th>pop</th>   <td>    0.0004</td> <td> 6.26e-06</td> <td>   70.742</td> <td> 0.000</td> <td>    0.000     0.000</td>\n",
       "</tr>\n",
       "<tr>\n",
       "  <th>const</th> <td>    0.3204</td> <td>    0.095</td> <td>    3.356</td> <td> 0.001</td> <td>    0.133     0.507</td>\n",
       "</tr>\n",
       "</table>"
      ],
      "text/plain": [
       "<class 'statsmodels.iolib.summary.Summary'>\n",
       "\"\"\"\n",
       "                 Generalized Linear Model Regression Results                  \n",
       "==============================================================================\n",
       "Dep. Variable:                   dead   No. Observations:                   36\n",
       "Model:                            GLM   Df Residuals:                       32\n",
       "Model Family:                 Poisson   Df Model:                            3\n",
       "Link Function:                    log   Scale:                             1.0\n",
       "Method:                          IRLS   Log-Likelihood:                -722.08\n",
       "Date:                Sun, 14 Feb 2016   Deviance:                       1204.1\n",
       "Time:                        21:57:37   Pearson chi2:                 1.03e+03\n",
       "No. Iterations:                     8                                         \n",
       "==============================================================================\n",
       "                 coef    std err          z      P>|z|      [95.0% Conf. Int.]\n",
       "------------------------------------------------------------------------------\n",
       "age            0.0551      0.001     46.044      0.000         0.053     0.057\n",
       "smoke          0.2698      0.012     22.259      0.000         0.246     0.294\n",
       "pop            0.0004   6.26e-06     70.742      0.000         0.000     0.000\n",
       "const          0.3204      0.095      3.356      0.001         0.133     0.507\n",
       "==============================================================================\n",
       "\"\"\""
      ]
     },
     "execution_count": 29,
     "metadata": {},
     "output_type": "execute_result"
    }
   ],
   "source": [
    "pois_m=sm.GLM(y,X, family=sm.families.Poisson(sm.families.links.log))\n",
    "pois_results=pois_m.fit()\n",
    "\n",
    "pois_results.summary()"
   ]
  },
  {
   "cell_type": "markdown",
   "metadata": {},
   "source": [
    "### With offset"
   ]
  },
  {
   "cell_type": "code",
   "execution_count": 30,
   "metadata": {
    "collapsed": false,
    "scrolled": false
   },
   "outputs": [
    {
     "data": {
      "text/html": [
       "<table class=\"simpletable\">\n",
       "<caption>Generalized Linear Model Regression Results</caption>\n",
       "<tr>\n",
       "  <th>Dep. Variable:</th>        <td>dead</td>       <th>  No. Observations:  </th>  <td>    36</td> \n",
       "</tr>\n",
       "<tr>\n",
       "  <th>Model:</th>                 <td>GLM</td>       <th>  Df Residuals:      </th>  <td>    32</td> \n",
       "</tr>\n",
       "<tr>\n",
       "  <th>Model Family:</th>        <td>Poisson</td>     <th>  Df Model:          </th>  <td>     3</td> \n",
       "</tr>\n",
       "<tr>\n",
       "  <th>Link Function:</th>         <td>log</td>       <th>  Scale:             </th>    <td>1.0</td>  \n",
       "</tr>\n",
       "<tr>\n",
       "  <th>Method:</th>               <td>IRLS</td>       <th>  Log-Likelihood:    </th> <td> -155.50</td>\n",
       "</tr>\n",
       "<tr>\n",
       "  <th>Date:</th>           <td>Sun, 14 Feb 2016</td> <th>  Deviance:          </th> <td>  70.972</td>\n",
       "</tr>\n",
       "<tr>\n",
       "  <th>Time:</th>               <td>21:57:37</td>     <th>  Pearson chi2:      </th>  <td>  70.3</td> \n",
       "</tr>\n",
       "<tr>\n",
       "  <th>No. Iterations:</th>         <td>9</td>        <th>                     </th>     <td> </td>   \n",
       "</tr>\n",
       "</table>\n",
       "<table class=\"simpletable\">\n",
       "<tr>\n",
       "     <td></td>       <th>coef</th>     <th>std err</th>      <th>z</th>      <th>P>|z|</th> <th>[95.0% Conf. Int.]</th> \n",
       "</tr>\n",
       "<tr>\n",
       "  <th>age</th>    <td>    0.0698</td> <td>    0.001</td> <td>   50.286</td> <td> 0.000</td> <td>    0.067     0.073</td>\n",
       "</tr>\n",
       "<tr>\n",
       "  <th>smoke</th>  <td>    0.1483</td> <td>    0.013</td> <td>   11.252</td> <td> 0.000</td> <td>    0.122     0.174</td>\n",
       "</tr>\n",
       "<tr>\n",
       "  <th>logpop</th> <td>    1.0391</td> <td>    0.016</td> <td>   66.148</td> <td> 0.000</td> <td>    1.008     1.070</td>\n",
       "</tr>\n",
       "<tr>\n",
       "  <th>const</th>  <td>   -6.8887</td> <td>    0.181</td> <td>  -38.037</td> <td> 0.000</td> <td>   -7.244    -6.534</td>\n",
       "</tr>\n",
       "</table>"
      ],
      "text/plain": [
       "<class 'statsmodels.iolib.summary.Summary'>\n",
       "\"\"\"\n",
       "                 Generalized Linear Model Regression Results                  \n",
       "==============================================================================\n",
       "Dep. Variable:                   dead   No. Observations:                   36\n",
       "Model:                            GLM   Df Residuals:                       32\n",
       "Model Family:                 Poisson   Df Model:                            3\n",
       "Link Function:                    log   Scale:                             1.0\n",
       "Method:                          IRLS   Log-Likelihood:                -155.50\n",
       "Date:                Sun, 14 Feb 2016   Deviance:                       70.972\n",
       "Time:                        21:57:37   Pearson chi2:                     70.3\n",
       "No. Iterations:                     9                                         \n",
       "==============================================================================\n",
       "                 coef    std err          z      P>|z|      [95.0% Conf. Int.]\n",
       "------------------------------------------------------------------------------\n",
       "age            0.0698      0.001     50.286      0.000         0.067     0.073\n",
       "smoke          0.1483      0.013     11.252      0.000         0.122     0.174\n",
       "logpop         1.0391      0.016     66.148      0.000         1.008     1.070\n",
       "const         -6.8887      0.181    -38.037      0.000        -7.244    -6.534\n",
       "==============================================================================\n",
       "\"\"\""
      ]
     },
     "execution_count": 30,
     "metadata": {},
     "output_type": "execute_result"
    }
   ],
   "source": [
    "X = data[['age', 'smoke', 'logpop', 'const']]\n",
    "y = data['dead']\n",
    "\n",
    "pois_m=sm.GLM(y,X, family=sm.families.Poisson(sm.families.links.log))\n",
    "pois_results=pois_m.fit()\n",
    "\n",
    "pois_results.summary()"
   ]
  },
  {
   "cell_type": "markdown",
   "metadata": {},
   "source": [
    "#### Summary\n",
    "\n",
    "Without the offset, the model has a very large chi sq value and so we would reject that the data follows a poisson distribution. With the offset the chi sq is much smaller. However, at 35 df and alpha of 0.05 the chi sq value is 49.802 and since 70.3 is greater than this we must also reject that this follows a poisson distribution."
   ]
  },
  {
   "cell_type": "markdown",
   "metadata": {},
   "source": [
    "### Train/Testing"
   ]
  },
  {
   "cell_type": "code",
   "execution_count": 31,
   "metadata": {
    "collapsed": true
   },
   "outputs": [],
   "source": [
    "X_train, X_test, y_train, y_test = train_test_split(X, y, test_size=0.3, random_state=4444)"
   ]
  },
  {
   "cell_type": "code",
   "execution_count": 32,
   "metadata": {
    "collapsed": false
   },
   "outputs": [
    {
     "data": {
      "text/html": [
       "<table class=\"simpletable\">\n",
       "<caption>Generalized Linear Model Regression Results</caption>\n",
       "<tr>\n",
       "  <th>Dep. Variable:</th>        <td>dead</td>       <th>  No. Observations:  </th>  <td>    25</td> \n",
       "</tr>\n",
       "<tr>\n",
       "  <th>Model:</th>                 <td>GLM</td>       <th>  Df Residuals:      </th>  <td>    21</td> \n",
       "</tr>\n",
       "<tr>\n",
       "  <th>Model Family:</th>        <td>Poisson</td>     <th>  Df Model:          </th>  <td>     3</td> \n",
       "</tr>\n",
       "<tr>\n",
       "  <th>Link Function:</th>         <td>log</td>       <th>  Scale:             </th>    <td>1.0</td>  \n",
       "</tr>\n",
       "<tr>\n",
       "  <th>Method:</th>               <td>IRLS</td>       <th>  Log-Likelihood:    </th> <td> -102.89</td>\n",
       "</tr>\n",
       "<tr>\n",
       "  <th>Date:</th>           <td>Sun, 14 Feb 2016</td> <th>  Deviance:          </th> <td>  43.200</td>\n",
       "</tr>\n",
       "<tr>\n",
       "  <th>Time:</th>               <td>21:57:37</td>     <th>  Pearson chi2:      </th>  <td>  42.9</td> \n",
       "</tr>\n",
       "<tr>\n",
       "  <th>No. Iterations:</th>         <td>9</td>        <th>                     </th>     <td> </td>   \n",
       "</tr>\n",
       "</table>\n",
       "<table class=\"simpletable\">\n",
       "<tr>\n",
       "     <td></td>       <th>coef</th>     <th>std err</th>      <th>z</th>      <th>P>|z|</th> <th>[95.0% Conf. Int.]</th> \n",
       "</tr>\n",
       "<tr>\n",
       "  <th>age</th>    <td>    0.0716</td> <td>    0.002</td> <td>   42.042</td> <td> 0.000</td> <td>    0.068     0.075</td>\n",
       "</tr>\n",
       "<tr>\n",
       "  <th>smoke</th>  <td>    0.1222</td> <td>    0.016</td> <td>    7.665</td> <td> 0.000</td> <td>    0.091     0.153</td>\n",
       "</tr>\n",
       "<tr>\n",
       "  <th>logpop</th> <td>    1.0432</td> <td>    0.019</td> <td>   53.679</td> <td> 0.000</td> <td>    1.005     1.081</td>\n",
       "</tr>\n",
       "<tr>\n",
       "  <th>const</th>  <td>   -6.9609</td> <td>    0.223</td> <td>  -31.169</td> <td> 0.000</td> <td>   -7.399    -6.523</td>\n",
       "</tr>\n",
       "</table>"
      ],
      "text/plain": [
       "<class 'statsmodels.iolib.summary.Summary'>\n",
       "\"\"\"\n",
       "                 Generalized Linear Model Regression Results                  \n",
       "==============================================================================\n",
       "Dep. Variable:                   dead   No. Observations:                   25\n",
       "Model:                            GLM   Df Residuals:                       21\n",
       "Model Family:                 Poisson   Df Model:                            3\n",
       "Link Function:                    log   Scale:                             1.0\n",
       "Method:                          IRLS   Log-Likelihood:                -102.89\n",
       "Date:                Sun, 14 Feb 2016   Deviance:                       43.200\n",
       "Time:                        21:57:37   Pearson chi2:                     42.9\n",
       "No. Iterations:                     9                                         \n",
       "==============================================================================\n",
       "                 coef    std err          z      P>|z|      [95.0% Conf. Int.]\n",
       "------------------------------------------------------------------------------\n",
       "age            0.0716      0.002     42.042      0.000         0.068     0.075\n",
       "smoke          0.1222      0.016      7.665      0.000         0.091     0.153\n",
       "logpop         1.0432      0.019     53.679      0.000         1.005     1.081\n",
       "const         -6.9609      0.223    -31.169      0.000        -7.399    -6.523\n",
       "==============================================================================\n",
       "\"\"\""
      ]
     },
     "execution_count": 32,
     "metadata": {},
     "output_type": "execute_result"
    }
   ],
   "source": [
    "pois_m=sm.GLM(y_train,X_train, family=sm.families.Poisson(sm.families.links.log))\n",
    "pois_results=pois_m.fit()\n",
    "\n",
    "pois_results.summary()"
   ]
  },
  {
   "cell_type": "markdown",
   "metadata": {},
   "source": [
    "Interestingly, we can not reject the training set of being a poisson distribution."
   ]
  },
  {
   "cell_type": "code",
   "execution_count": 33,
   "metadata": {
    "collapsed": true
   },
   "outputs": [],
   "source": [
    "y_pred = pois_results.predict(X_test)"
   ]
  },
  {
   "cell_type": "code",
   "execution_count": 34,
   "metadata": {
    "collapsed": false
   },
   "outputs": [
    {
     "data": {
      "text/plain": [
       "26.862673068207982"
      ]
     },
     "execution_count": 34,
     "metadata": {},
     "output_type": "execute_result"
    }
   ],
   "source": [
    "mean_absolute_error(y_test, y_pred)"
   ]
  },
  {
   "cell_type": "code",
   "execution_count": 35,
   "metadata": {
    "collapsed": false
   },
   "outputs": [
    {
     "data": {
      "text/plain": [
       "1589.0303316095428"
      ]
     },
     "execution_count": 35,
     "metadata": {},
     "output_type": "execute_result"
    }
   ],
   "source": [
    "mean_squared_error(y_test, y_pred)"
   ]
  },
  {
   "cell_type": "markdown",
   "metadata": {},
   "source": [
    "### Deviance"
   ]
  },
  {
   "cell_type": "code",
   "execution_count": 36,
   "metadata": {
    "collapsed": false,
    "scrolled": true
   },
   "outputs": [
    {
     "name": "stdout",
     "output_type": "stream",
     "text": [
      "null deviance: 5177.55328966434\n",
      "result deviance: 43.19997586934003\n"
     ]
    }
   ],
   "source": [
    "null_dev = pois_results.null_deviance\n",
    "res_dev = pois_results.deviance\n",
    "\n",
    "print('null deviance: {}\\nresult deviance: {}'.format(null_dev, res_dev))\n",
    "diff = null_dev - res_dev"
   ]
  },
  {
   "cell_type": "code",
   "execution_count": 37,
   "metadata": {
    "collapsed": false
   },
   "outputs": [
    {
     "data": {
      "text/plain": [
       "0.0"
      ]
     },
     "execution_count": 37,
     "metadata": {},
     "output_type": "execute_result"
    }
   ],
   "source": [
    "chi2.sf(diff, 3)"
   ]
  },
  {
   "cell_type": "markdown",
   "metadata": {},
   "source": [
    "Because 0 is less than alpha=0.05, it is probable that my model is better than the null model. "
   ]
  },
  {
   "cell_type": "markdown",
   "metadata": {},
   "source": [
    "### OLS"
   ]
  },
  {
   "cell_type": "code",
   "execution_count": 38,
   "metadata": {
    "collapsed": true
   },
   "outputs": [],
   "source": [
    "X = data[['age', 'smoke', 'logpop', 'const']]\n",
    "y = data.dead\n",
    "y = np.log(y)"
   ]
  },
  {
   "cell_type": "code",
   "execution_count": 39,
   "metadata": {
    "collapsed": false
   },
   "outputs": [
    {
     "data": {
      "text/html": [
       "<table class=\"simpletable\">\n",
       "<caption>OLS Regression Results</caption>\n",
       "<tr>\n",
       "  <th>Dep. Variable:</th>          <td>dead</td>       <th>  R-squared:         </th> <td>   0.983</td>\n",
       "</tr>\n",
       "<tr>\n",
       "  <th>Model:</th>                   <td>OLS</td>       <th>  Adj. R-squared:    </th> <td>   0.981</td>\n",
       "</tr>\n",
       "<tr>\n",
       "  <th>Method:</th>             <td>Least Squares</td>  <th>  F-statistic:       </th> <td>   406.1</td>\n",
       "</tr>\n",
       "<tr>\n",
       "  <th>Date:</th>             <td>Sun, 14 Feb 2016</td> <th>  Prob (F-statistic):</th> <td>9.55e-19</td>\n",
       "</tr>\n",
       "<tr>\n",
       "  <th>Time:</th>                 <td>21:57:38</td>     <th>  Log-Likelihood:    </th> <td>  6.6506</td>\n",
       "</tr>\n",
       "<tr>\n",
       "  <th>No. Observations:</th>      <td>    25</td>      <th>  AIC:               </th> <td>  -5.301</td>\n",
       "</tr>\n",
       "<tr>\n",
       "  <th>Df Residuals:</th>          <td>    21</td>      <th>  BIC:               </th> <td> -0.4256</td>\n",
       "</tr>\n",
       "<tr>\n",
       "  <th>Df Model:</th>              <td>     3</td>      <th>                     </th>     <td> </td>   \n",
       "</tr>\n",
       "<tr>\n",
       "  <th>Covariance Type:</th>      <td>nonrobust</td>    <th>                     </th>     <td> </td>   \n",
       "</tr>\n",
       "</table>\n",
       "<table class=\"simpletable\">\n",
       "<tr>\n",
       "     <td></td>       <th>coef</th>     <th>std err</th>      <th>t</th>      <th>P>|t|</th> <th>[95.0% Conf. Int.]</th> \n",
       "</tr>\n",
       "<tr>\n",
       "  <th>age</th>    <td>    0.0734</td> <td>    0.003</td> <td>   22.672</td> <td> 0.000</td> <td>    0.067     0.080</td>\n",
       "</tr>\n",
       "<tr>\n",
       "  <th>smoke</th>  <td>    0.0715</td> <td>    0.040</td> <td>    1.777</td> <td> 0.090</td> <td>   -0.012     0.155</td>\n",
       "</tr>\n",
       "<tr>\n",
       "  <th>logpop</th> <td>    1.0874</td> <td>    0.040</td> <td>   27.281</td> <td> 0.000</td> <td>    1.005     1.170</td>\n",
       "</tr>\n",
       "<tr>\n",
       "  <th>const</th>  <td>   -7.2554</td> <td>    0.353</td> <td>  -20.542</td> <td> 0.000</td> <td>   -7.990    -6.521</td>\n",
       "</tr>\n",
       "</table>\n",
       "<table class=\"simpletable\">\n",
       "<tr>\n",
       "  <th>Omnibus:</th>       <td> 8.691</td> <th>  Durbin-Watson:     </th> <td>   1.846</td>\n",
       "</tr>\n",
       "<tr>\n",
       "  <th>Prob(Omnibus):</th> <td> 0.013</td> <th>  Jarque-Bera (JB):  </th> <td>   9.575</td>\n",
       "</tr>\n",
       "<tr>\n",
       "  <th>Skew:</th>          <td>-0.630</td> <th>  Prob(JB):          </th> <td> 0.00833</td>\n",
       "</tr>\n",
       "<tr>\n",
       "  <th>Kurtosis:</th>      <td> 5.758</td> <th>  Cond. No.          </th> <td>    551.</td>\n",
       "</tr>\n",
       "</table>"
      ],
      "text/plain": [
       "<class 'statsmodels.iolib.summary.Summary'>\n",
       "\"\"\"\n",
       "                            OLS Regression Results                            \n",
       "==============================================================================\n",
       "Dep. Variable:                   dead   R-squared:                       0.983\n",
       "Model:                            OLS   Adj. R-squared:                  0.981\n",
       "Method:                 Least Squares   F-statistic:                     406.1\n",
       "Date:                Sun, 14 Feb 2016   Prob (F-statistic):           9.55e-19\n",
       "Time:                        21:57:38   Log-Likelihood:                 6.6506\n",
       "No. Observations:                  25   AIC:                            -5.301\n",
       "Df Residuals:                      21   BIC:                           -0.4256\n",
       "Df Model:                           3                                         \n",
       "Covariance Type:            nonrobust                                         \n",
       "==============================================================================\n",
       "                 coef    std err          t      P>|t|      [95.0% Conf. Int.]\n",
       "------------------------------------------------------------------------------\n",
       "age            0.0734      0.003     22.672      0.000         0.067     0.080\n",
       "smoke          0.0715      0.040      1.777      0.090        -0.012     0.155\n",
       "logpop         1.0874      0.040     27.281      0.000         1.005     1.170\n",
       "const         -7.2554      0.353    -20.542      0.000        -7.990    -6.521\n",
       "==============================================================================\n",
       "Omnibus:                        8.691   Durbin-Watson:                   1.846\n",
       "Prob(Omnibus):                  0.013   Jarque-Bera (JB):                9.575\n",
       "Skew:                          -0.630   Prob(JB):                      0.00833\n",
       "Kurtosis:                       5.758   Cond. No.                         551.\n",
       "==============================================================================\n",
       "\n",
       "Warnings:\n",
       "[1] Standard Errors assume that the covariance matrix of the errors is correctly specified.\n",
       "\"\"\""
      ]
     },
     "execution_count": 39,
     "metadata": {},
     "output_type": "execute_result"
    }
   ],
   "source": [
    "X_train, X_test, y_train, y_test = train_test_split(X, y, test_size=0.3, random_state=4444)\n",
    "\n",
    "ols_model = sm.OLS(y_train, X_train)\n",
    "ols_m_res = ols_model.fit()\n",
    "ols_m_res.summary()"
   ]
  },
  {
   "cell_type": "code",
   "execution_count": 40,
   "metadata": {
    "collapsed": false
   },
   "outputs": [
    {
     "data": {
      "text/html": [
       "<div>\n",
       "<table border=\"1\" class=\"dataframe\">\n",
       "  <thead>\n",
       "    <tr style=\"text-align: right;\">\n",
       "      <th></th>\n",
       "      <th>OLS</th>\n",
       "      <th>poisson</th>\n",
       "    </tr>\n",
       "  </thead>\n",
       "  <tbody>\n",
       "    <tr>\n",
       "      <th>age</th>\n",
       "      <td>0.073356</td>\n",
       "      <td>0.071586</td>\n",
       "    </tr>\n",
       "    <tr>\n",
       "      <th>smoke</th>\n",
       "      <td>0.071541</td>\n",
       "      <td>0.122165</td>\n",
       "    </tr>\n",
       "    <tr>\n",
       "      <th>logpop</th>\n",
       "      <td>1.087432</td>\n",
       "      <td>1.043163</td>\n",
       "    </tr>\n",
       "    <tr>\n",
       "      <th>const</th>\n",
       "      <td>-7.255430</td>\n",
       "      <td>-6.960907</td>\n",
       "    </tr>\n",
       "  </tbody>\n",
       "</table>\n",
       "</div>"
      ],
      "text/plain": [
       "             OLS   poisson\n",
       "age     0.073356  0.071586\n",
       "smoke   0.071541  0.122165\n",
       "logpop  1.087432  1.043163\n",
       "const  -7.255430 -6.960907"
      ]
     },
     "execution_count": 40,
     "metadata": {},
     "output_type": "execute_result"
    }
   ],
   "source": [
    "coeff_df = pd.DataFrame( {'poisson': pois_results.params, 'OLS': ols_m_res.params } )\n",
    "coeff_df"
   ]
  },
  {
   "cell_type": "markdown",
   "metadata": {},
   "source": [
    "#### Summary\n",
    "\n",
    "Again the coefficients are most similar for the parameters that do not need to be removed. In the OLS model it seems that smoke could be removed which also has the largest coefficient deviation.\n",
    "\n",
    "Both Rsq and adj Rsq are high for the OLS model and the F-statistic is significantly low. The log-likelihood is also larger suggesting this to be the better model."
   ]
  },
  {
   "cell_type": "code",
   "execution_count": null,
   "metadata": {
    "collapsed": true
   },
   "outputs": [],
   "source": []
  }
 ],
 "metadata": {
  "kernelspec": {
   "display_name": "Python 3",
   "language": "python",
   "name": "python3"
  },
  "language_info": {
   "codemirror_mode": {
    "name": "ipython",
    "version": 3
   },
   "file_extension": ".py",
   "mimetype": "text/x-python",
   "name": "python",
   "nbconvert_exporter": "python",
   "pygments_lexer": "ipython3",
   "version": "3.5.0"
  }
 },
 "nbformat": 4,
 "nbformat_minor": 0
}
