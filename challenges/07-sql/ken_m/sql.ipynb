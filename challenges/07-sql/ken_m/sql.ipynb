{
 "cells": [
  {
   "cell_type": "markdown",
   "metadata": {},
   "source": [
    "# Challenge Set 7 SQL\n",
    "\n",
    "Topic: Learn SQL\n",
    "\n",
    "Date: 02/06/2016\n",
    "\n",
    "Name: Kenneth Myers\n",
    "\n",
    "Worked with: NA"
   ]
  },
  {
   "cell_type": "markdown",
   "metadata": {},
   "source": [
    "## Challenge 1\n",
    "\n",
    "What customers are from the UK?"
   ]
  },
  {
   "cell_type": "markdown",
   "metadata": {},
   "source": [
    "    SELECT \n",
    "        * \n",
    "    FROM \n",
    "        Customers \n",
    "    WHERE \n",
    "        Country = 'UK';"
   ]
  },
  {
   "cell_type": "markdown",
   "metadata": {},
   "source": [
    "## Challenge 2\n",
    "\n",
    "What is the name of the customer who has the most orders?"
   ]
  },
  {
   "cell_type": "markdown",
   "metadata": {},
   "source": [
    "    SELECT \n",
    "        CustomerName, \n",
    "        Orders.CustomerID, \n",
    "        COUNT(*) AS NumOrders \n",
    "    FROM \n",
    "        Orders \n",
    "      JOIN \n",
    "        Customers \n",
    "      ON \n",
    "        Customers.CustomerID = Orders.CustomerID \n",
    "    Group By \n",
    "        Orders.CustomerID \n",
    "    ORDER BY \n",
    "        NumOrders \n",
    "    DESC;"
   ]
  },
  {
   "cell_type": "markdown",
   "metadata": {},
   "source": [
    "Ernst Handel"
   ]
  },
  {
   "cell_type": "markdown",
   "metadata": {},
   "source": [
    "## Challenge 3\n",
    "\n",
    "What supplier has the highest average product price?"
   ]
  },
  {
   "cell_type": "markdown",
   "metadata": {},
   "source": [
    "    SELECT \n",
    "        SupplierName, \n",
    "        Products.SupplierID, \n",
    "        AVG(Price) AS AvgPrice \n",
    "    FROM \n",
    "        Suppliers \n",
    "      JOIN \n",
    "        Products \n",
    "      ON \n",
    "        Products.SupplierID = Suppliers.SupplierID \n",
    "    Group By \n",
    "        Products.SupplierID \n",
    "    ORDER BY \n",
    "        AvgPrice\n",
    "    DESC;"
   ]
  },
  {
   "cell_type": "markdown",
   "metadata": {},
   "source": [
    "Aux joyeux ecclésiastiques"
   ]
  },
  {
   "cell_type": "markdown",
   "metadata": {},
   "source": [
    "## Challenge 4\n",
    "\n",
    "How many different countries are their customers from? (Hint: Consider DISTINCT.)"
   ]
  },
  {
   "cell_type": "markdown",
   "metadata": {},
   "source": [
    "    SELECT \n",
    "        COUNT(DISTINCT Country) \n",
    "    FROM \n",
    "        Customers"
   ]
  },
  {
   "cell_type": "markdown",
   "metadata": {},
   "source": [
    "21"
   ]
  },
  {
   "cell_type": "markdown",
   "metadata": {},
   "source": [
    "## Challenge 5\n",
    "\n",
    "What category appears in the most orders?"
   ]
  },
  {
   "cell_type": "markdown",
   "metadata": {},
   "source": [
    "    SELECT\n",
    "        Categories.CategoryName,\n",
    "        x.CategoryID,\n",
    "        x.CatCount\n",
    "    From\n",
    "        (SELECT   \n",
    "            Products.CategoryID,\n",
    "            Count(*) AS CatCount\n",
    "        FROM \n",
    "            Products\n",
    "          JOIN \n",
    "            OrderDetails\n",
    "          ON \n",
    "            Products.ProductID = OrderDetails.ProductID \n",
    "        GROUP BY\n",
    "            Products.CategoryID) x\n",
    "    JOIN\n",
    "        Categories\n",
    "      ON\n",
    "        x.CategoryID = Categories.CategoryID\n",
    "    ORDER BY\n",
    "        x.CatCount\n",
    "    DESC\n",
    "    LIMIT\n",
    "        1\n"
   ]
  },
  {
   "cell_type": "markdown",
   "metadata": {},
   "source": [
    "Dairy Products"
   ]
  },
  {
   "cell_type": "markdown",
   "metadata": {},
   "source": [
    "## Challenge 6\n",
    "\n",
    "What was the total cost for each order?"
   ]
  },
  {
   "cell_type": "markdown",
   "metadata": {},
   "source": [
    "    SELECT \n",
    "        OrderDetails.OrderID, \n",
    "        SUM(Products.Price*OrderDetails.Quantity) AS OrderPriceTotal \n",
    "    FROM \n",
    "        Products \n",
    "    JOIN \n",
    "        OrderDetails \n",
    "      ON \n",
    "        OrderDetails.ProductID = Products.ProductID \n",
    "    GROUP BY \n",
    "        OrderDetails.OrderID"
   ]
  },
  {
   "cell_type": "markdown",
   "metadata": {},
   "source": [
    "## Challenge 7\n",
    "\n",
    "What employee made the most sales (by total cost)?"
   ]
  },
  {
   "cell_type": "markdown",
   "metadata": {},
   "source": [
    "    SELECT\n",
    "        LastName, \n",
    "        FirstName, \n",
    "        y.TotalCost as TotalCost\n",
    "    FROM \n",
    "        (SELECT \n",
    "            EmployeeID, \n",
    "            x.TotalCost \n",
    "         FROM \n",
    "             (SELECT\n",
    "                 OrderID, \n",
    "                 Sum(Price*Quantity) AS TotalCost \n",
    "              FROM \n",
    "                  Products \n",
    "              JOIN \n",
    "                  OrderDetails \n",
    "                ON \n",
    "                  Products.ProductID = OrderDetails.ProductID \n",
    "              GROUP BY \n",
    "                  OrderID \n",
    "              ORDER BY \n",
    "                  TotalCost \n",
    "              DESC \n",
    "              LIMIT \n",
    "                  1) x \n",
    "        JOIN \n",
    "            Orders \n",
    "          ON \n",
    "            Orders.OrderID=x.OrderID) y \n",
    "    JOIN \n",
    "        Employees \n",
    "      ON \n",
    "        y.EmployeeID=Employees.EmployeeID"
   ]
  },
  {
   "cell_type": "markdown",
   "metadata": {},
   "source": [
    "Steve Buchanan"
   ]
  },
  {
   "cell_type": "markdown",
   "metadata": {},
   "source": [
    "## Challenge 8\n",
    "\n",
    "What employees have BS degrees? (Hint: Look at the LIKE operator.)"
   ]
  },
  {
   "cell_type": "markdown",
   "metadata": {},
   "source": [
    "    SELECT \n",
    "        LastName,\n",
    "        FirstName, \n",
    "        Notes \n",
    "    From \n",
    "        Employees \n",
    "    WHERE \n",
    "        Notes Like '%BS%'"
   ]
  },
  {
   "cell_type": "markdown",
   "metadata": {},
   "source": [
    "Janet Leverling, Steven Buchanan"
   ]
  },
  {
   "cell_type": "markdown",
   "metadata": {},
   "source": [
    "## Challenge 9\n",
    "\n",
    "What supplier of three or more products has the highest average product price? (Hint: Look at the HAVING operator.)"
   ]
  },
  {
   "cell_type": "markdown",
   "metadata": {},
   "source": [
    "    SELECT \n",
    "        SupplierName, \n",
    "        x.avgprice \n",
    "    FROM \n",
    "        (SELECT \n",
    "             SupplierID, \n",
    "             count(SupplierID) as numProducts, \n",
    "             AVG(Price) as avgprice \n",
    "         From \n",
    "             Products \n",
    "         GROUP BY \n",
    "             SupplierID \n",
    "           HAVING \n",
    "             numProducts>2) x \n",
    "    JOIN \n",
    "        Suppliers \n",
    "      ON \n",
    "        Suppliers.SupplierID=x.SupplierID \n",
    "    ORDER BY \n",
    "        x.avgprice \n",
    "    DESC"
   ]
  },
  {
   "cell_type": "markdown",
   "metadata": {},
   "source": [
    "Tokyo Traders"
   ]
  }
 ],
 "metadata": {
  "kernelspec": {
   "display_name": "Python 3",
   "language": "python",
   "name": "python3"
  },
  "language_info": {
   "codemirror_mode": {
    "name": "ipython",
    "version": 3
   },
   "file_extension": ".py",
   "mimetype": "text/x-python",
   "name": "python",
   "nbconvert_exporter": "python",
   "pygments_lexer": "ipython3",
   "version": "3.5.1"
  }
 },
 "nbformat": 4,
 "nbformat_minor": 0
}
