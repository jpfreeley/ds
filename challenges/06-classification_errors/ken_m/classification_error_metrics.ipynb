{
 "cells": [
  {
   "cell_type": "markdown",
   "metadata": {},
   "source": [
    "# Challenge Set 6 Classification Error Metrics¶\n",
    "\n",
    "Topic: Classification Error Metrics\n",
    "\n",
    "Date: 02/04/2016\n",
    "\n",
    "Name: Kenneth Myers\n",
    "\n",
    "Worked with: NA"
   ]
  },
  {
   "cell_type": "code",
   "execution_count": 1,
   "metadata": {
    "collapsed": false
   },
   "outputs": [
    {
     "name": "stderr",
     "output_type": "stream",
     "text": [
      "/Users/kenn/anaconda/lib/python3.5/site-packages/matplotlib/__init__.py:872: UserWarning: axes.color_cycle is deprecated and replaced with axes.prop_cycle; please use the latter.\n",
      "  warnings.warn(self.msg_depr % (key, alt_key))\n"
     ]
    }
   ],
   "source": [
    "import pandas as pd\n",
    "import numpy as np\n",
    "from sklearn.cross_validation import train_test_split\n",
    "from sklearn.neighbors import KNeighborsClassifier\n",
    "from sklearn.metrics import accuracy_score, precision_score, recall_score, f1_score, roc_curve, roc_auc_score\n",
    "from sklearn.linear_model import LogisticRegression\n",
    "from sklearn.naive_bayes import GaussianNB\n",
    "from sklearn.svm import SVC\n",
    "from sklearn.tree import DecisionTreeClassifier\n",
    "from sklearn.ensemble import RandomForestClassifier\n",
    "from sklearn.learning_curve import learning_curve\n",
    "from sklearn.cross_validation import cross_val_score\n",
    "import matplotlib.pyplot as plt\n",
    "import seaborn as sns\n",
    "from copy import deepcopy\n",
    "\n",
    "%matplotlib inline\n"
   ]
  },
  {
   "cell_type": "markdown",
   "metadata": {},
   "source": [
    "## Challenge 1\n",
    "\n",
    "For the house representatives data set, calculate the accuracy, precision, recall and f1 scores of each classifier you built (on the test set)."
   ]
  },
  {
   "cell_type": "code",
   "execution_count": 2,
   "metadata": {
    "collapsed": true
   },
   "outputs": [],
   "source": [
    "def read_data(filename):\n",
    "    with open(filename) as f:\n",
    "        data = pd.read_csv(f)\n",
    "        \n",
    "    return data"
   ]
  },
  {
   "cell_type": "code",
   "execution_count": 3,
   "metadata": {
    "collapsed": false
   },
   "outputs": [],
   "source": [
    "congressional_data = read_data('../../05-classification/ken_m/house-votes-84.csv')"
   ]
  },
  {
   "cell_type": "code",
   "execution_count": 4,
   "metadata": {
    "collapsed": true
   },
   "outputs": [],
   "source": [
    "vote_cols = [str(i) for i in range(1,17)]"
   ]
  },
  {
   "cell_type": "code",
   "execution_count": 5,
   "metadata": {
    "collapsed": true
   },
   "outputs": [],
   "source": [
    "congressional_data[congressional_data == 'y'] = 1\n",
    "congressional_data[congressional_data == 'n'] = 0\n",
    "for i in vote_cols:\n",
    "    congressional_data[i][congressional_data[i] == '?'] = congressional_data[i].value_counts()[1]/\\\n",
    "                                                (congressional_data[i].value_counts()[1]+\\\n",
    "                                                 congressional_data[i].value_counts()[0])"
   ]
  },
  {
   "cell_type": "code",
   "execution_count": 6,
   "metadata": {
    "collapsed": true
   },
   "outputs": [],
   "source": [
    "X = congressional_data[vote_cols]\n",
    "y = congressional_data.Party\n",
    "\n",
    "X_train, X_test, y_train, y_test = train_test_split(X, y, test_size = .30, random_state=4444)\n"
   ]
  },
  {
   "cell_type": "code",
   "execution_count": 7,
   "metadata": {
    "collapsed": false
   },
   "outputs": [],
   "source": [
    "def getScoreValues(X_train, X_test, y_train, y_test, model=KNeighborsClassifier(n_neighbors=6)):\n",
    "    if model == 'democrats':\n",
    "        y_pred = ['democrat' for _ in range(len(y_test))]\n",
    "        \n",
    "    elif model == 'republicans':\n",
    "        y_pred = ['republican' for _ in range(len(y_test))]\n",
    "    \n",
    "    else:\n",
    "        model = model\n",
    "        model.fit(X_train, y_train)\n",
    "        y_pred = model.predict(X_test)\n",
    "        \n",
    "    accuracy_score_value = accuracy_score(y_test, y_pred)\n",
    "    precision_score_value = precision_score(y_test, y_pred, pos_label='democrat')\n",
    "    recall_score_value = recall_score(y_test, y_pred, pos_label='democrat')\n",
    "    f1_score_value = f1_score(y_test, y_pred, pos_label='democrat')\n",
    "                   \n",
    "    print('Accuracy: {}\\nPrecision: {}\\nRecall: {}\\nf1: {}'.format(accuracy_score_value, \\\n",
    "                                                                   precision_score_value, \\\n",
    "                                                                   recall_score_value, \\\n",
    "                                                                   f1_score_value))"
   ]
  },
  {
   "cell_type": "markdown",
   "metadata": {},
   "source": [
    "The instructions didn't say cross-validation was necessary so I did not cross-validate, though this can be done with:\n",
    "    \n",
    "    cross_val_score(method, X, y, scoring='precision')"
   ]
  },
  {
   "cell_type": "markdown",
   "metadata": {},
   "source": [
    "#### KNN regression"
   ]
  },
  {
   "cell_type": "code",
   "execution_count": 8,
   "metadata": {
    "collapsed": false,
    "scrolled": false
   },
   "outputs": [
    {
     "name": "stdout",
     "output_type": "stream",
     "text": [
      "Accuracy: 0.9312977099236641\n",
      "Precision: 0.925\n",
      "Recall: 0.961038961038961\n",
      "f1: 0.9426751592356688\n"
     ]
    }
   ],
   "source": [
    "getScoreValues(X_train, X_test, y_train, y_test)\n"
   ]
  },
  {
   "cell_type": "markdown",
   "metadata": {},
   "source": [
    "#### Logistic Regression"
   ]
  },
  {
   "cell_type": "code",
   "execution_count": 9,
   "metadata": {
    "collapsed": false
   },
   "outputs": [
    {
     "name": "stdout",
     "output_type": "stream",
     "text": [
      "Accuracy: 0.9389312977099237\n",
      "Precision: 0.9259259259259259\n",
      "Recall: 0.974025974025974\n",
      "f1: 0.949367088607595\n"
     ]
    }
   ],
   "source": [
    "getScoreValues(X_train, X_test, y_train, y_test, model=LogisticRegression())"
   ]
  },
  {
   "cell_type": "markdown",
   "metadata": {},
   "source": [
    "#### Predict Democrats Only"
   ]
  },
  {
   "cell_type": "code",
   "execution_count": 10,
   "metadata": {
    "collapsed": false
   },
   "outputs": [
    {
     "name": "stdout",
     "output_type": "stream",
     "text": [
      "Accuracy: 0.5877862595419847\n",
      "Precision: 0.5877862595419847\n",
      "Recall: 1.0\n",
      "f1: 0.7403846153846154\n"
     ]
    }
   ],
   "source": [
    "getScoreValues(X_train, X_test, y_train, y_test, model='democrats')"
   ]
  },
  {
   "cell_type": "markdown",
   "metadata": {},
   "source": [
    "#### Predict Republicans Only"
   ]
  },
  {
   "cell_type": "code",
   "execution_count": 11,
   "metadata": {
    "collapsed": false
   },
   "outputs": [
    {
     "name": "stdout",
     "output_type": "stream",
     "text": [
      "Accuracy: 0.4122137404580153\n",
      "Precision: 0.0\n",
      "Recall: 0.0\n",
      "f1: 0.0\n"
     ]
    },
    {
     "name": "stderr",
     "output_type": "stream",
     "text": [
      "/Users/kenn/anaconda/lib/python3.5/site-packages/sklearn/metrics/classification.py:1074: UndefinedMetricWarning: Precision is ill-defined and being set to 0.0 due to no predicted samples.\n",
      "  'precision', 'predicted', average, warn_for)\n",
      "/Users/kenn/anaconda/lib/python3.5/site-packages/sklearn/metrics/classification.py:1074: UndefinedMetricWarning: F-score is ill-defined and being set to 0.0 due to no predicted samples.\n",
      "  'precision', 'predicted', average, warn_for)\n"
     ]
    }
   ],
   "source": [
    "getScoreValues(X_train, X_test, y_train, y_test, model='republicans')"
   ]
  },
  {
   "cell_type": "markdown",
   "metadata": {},
   "source": [
    "#### Gaussian NB"
   ]
  },
  {
   "cell_type": "code",
   "execution_count": 12,
   "metadata": {
    "collapsed": false
   },
   "outputs": [
    {
     "name": "stdout",
     "output_type": "stream",
     "text": [
      "Accuracy: 0.9389312977099237\n",
      "Precision: 0.9156626506024096\n",
      "Recall: 0.987012987012987\n",
      "f1: 0.95\n"
     ]
    }
   ],
   "source": [
    "getScoreValues(X_train, X_test, y_train, y_test, model=GaussianNB())"
   ]
  },
  {
   "cell_type": "markdown",
   "metadata": {},
   "source": [
    "#### SVC"
   ]
  },
  {
   "cell_type": "code",
   "execution_count": 13,
   "metadata": {
    "collapsed": false
   },
   "outputs": [
    {
     "name": "stdout",
     "output_type": "stream",
     "text": [
      "Accuracy: 0.9541984732824428\n",
      "Precision: 0.9493670886075949\n",
      "Recall: 0.974025974025974\n",
      "f1: 0.9615384615384615\n"
     ]
    }
   ],
   "source": [
    "getScoreValues(X_train, X_test, y_train, y_test, model=SVC())"
   ]
  },
  {
   "cell_type": "markdown",
   "metadata": {},
   "source": [
    "#### Decision Tree Classifier"
   ]
  },
  {
   "cell_type": "code",
   "execution_count": 14,
   "metadata": {
    "collapsed": false
   },
   "outputs": [
    {
     "name": "stdout",
     "output_type": "stream",
     "text": [
      "Accuracy: 0.9389312977099237\n",
      "Precision: 0.9367088607594937\n",
      "Recall: 0.961038961038961\n",
      "f1: 0.9487179487179488\n"
     ]
    }
   ],
   "source": [
    "getScoreValues(X_train, X_test, y_train, y_test, model=DecisionTreeClassifier())"
   ]
  },
  {
   "cell_type": "markdown",
   "metadata": {},
   "source": [
    "#### Random Forest Classifier"
   ]
  },
  {
   "cell_type": "code",
   "execution_count": 15,
   "metadata": {
    "collapsed": false
   },
   "outputs": [
    {
     "name": "stdout",
     "output_type": "stream",
     "text": [
      "Accuracy: 0.9618320610687023\n",
      "Precision: 0.95\n",
      "Recall: 0.987012987012987\n",
      "f1: 0.9681528662420381\n"
     ]
    }
   ],
   "source": [
    "getScoreValues(X_train, X_test, y_train, y_test, model=RandomForestClassifier())"
   ]
  },
  {
   "cell_type": "markdown",
   "metadata": {},
   "source": [
    "## Challenge 2\n",
    "\n",
    "For each, draw the ROC curve and calculate the AUC."
   ]
  },
  {
   "cell_type": "code",
   "execution_count": 16,
   "metadata": {
    "collapsed": true
   },
   "outputs": [],
   "source": [
    "def getROCcurve(X_train, X_test, y_train, y_test, model=KNeighborsClassifier(n_neighbors=6)):\n",
    "    model = model\n",
    "    model.fit(X_train, y_train)\n",
    "    y_scores = model.predict_proba(X_test)[:,1]\n",
    "    fpr, tpr, thresholds = roc_curve(y_test, y_scores)\n",
    "\n",
    "    auc = roc_auc_score(y_test, y_scores)\n",
    "    print('AUC: {}'.format(auc))\n",
    "    \n",
    "    fig,ax = plt.subplots()\n",
    "    ax.plot(fpr, tpr, label='ROC Curve')\n",
    "\n",
    "    fig.set_size_inches(12, 8, forward=True)\n",
    "    plt.xlabel('FPR')\n",
    "    plt.ylabel('TPR')\n",
    "    plt.title('ROC Curve')\n",
    "    plt.legend(loc='best')"
   ]
  },
  {
   "cell_type": "code",
   "execution_count": 17,
   "metadata": {
    "collapsed": false
   },
   "outputs": [],
   "source": [
    "y_test2 = deepcopy(y_test)\n",
    "y_test2[y_test2 == 'democrat'] = int(0)\n",
    "y_test2[y_test2 == 'republican'] = int(1)\n",
    "y_test2 = list(y_test2)"
   ]
  },
  {
   "cell_type": "markdown",
   "metadata": {},
   "source": [
    "#### KNN regression"
   ]
  },
  {
   "cell_type": "code",
   "execution_count": 18,
   "metadata": {
    "collapsed": false,
    "scrolled": false
   },
   "outputs": [
    {
     "name": "stdout",
     "output_type": "stream",
     "text": [
      "AUC: 0.9484126984126985\n"
     ]
    },
    {
     "data": {
      "image/png": "[encoded data removed]",
      "text/plain": [
       "<matplotlib.figure.Figure at 0x10b9cdba8>"
      ]
     },
     "metadata": {},
     "output_type": "display_data"
    }
   ],
   "source": [
    "getROCcurve(X_train, X_test, y_train, y_test2, model=KNeighborsClassifier(n_neighbors=6))"
   ]
  },
  {
   "cell_type": "markdown",
   "metadata": {},
   "source": [
    "#### Logistic Regression"
   ]
  },
  {
   "cell_type": "code",
   "execution_count": 19,
   "metadata": {
    "collapsed": false
   },
   "outputs": [
    {
     "name": "stdout",
     "output_type": "stream",
     "text": [
      "AUC: 0.9877344877344877\n"
     ]
    },
    {
     "data": {
      "image/png": "[encoded data removed]",
      "text/plain": [
       "<matplotlib.figure.Figure at 0x10b9cdb38>"
      ]
     },
     "metadata": {},
     "output_type": "display_data"
    }
   ],
   "source": [
    "getROCcurve(X_train, X_test, y_train, y_test2, model=LogisticRegression())"
   ]
  },
  {
   "cell_type": "markdown",
   "metadata": {},
   "source": [
    "#### Gaussian NB"
   ]
  },
  {
   "cell_type": "code",
   "execution_count": 20,
   "metadata": {
    "collapsed": false,
    "scrolled": false
   },
   "outputs": [
    {
     "name": "stdout",
     "output_type": "stream",
     "text": [
      "AUC: 0.9510582010582012\n"
     ]
    },
    {
     "data": {
      "image/png": "[encoded data removed]",
      "text/plain": [
       "<matplotlib.figure.Figure at 0x10c142588>"
      ]
     },
     "metadata": {},
     "output_type": "display_data"
    }
   ],
   "source": [
    "getROCcurve(X_train, X_test, y_train, y_test2, model=GaussianNB())"
   ]
  },
  {
   "cell_type": "markdown",
   "metadata": {},
   "source": [
    "#### SVC"
   ]
  },
  {
   "cell_type": "code",
   "execution_count": 21,
   "metadata": {
    "collapsed": false
   },
   "outputs": [
    {
     "name": "stdout",
     "output_type": "stream",
     "text": [
      "AUC: 0.994949494949495\n"
     ]
    },
    {
     "data": {
      "image/png": "[encoded data removed]",
      "text/plain": [
       "<matplotlib.figure.Figure at 0x10c15d2e8>"
      ]
     },
     "metadata": {},
     "output_type": "display_data"
    }
   ],
   "source": [
    "getROCcurve(X_train, X_test, y_train, y_test2, model=SVC(probability=True))"
   ]
  },
  {
   "cell_type": "markdown",
   "metadata": {},
   "source": [
    "#### Decision Tree Classifier"
   ]
  },
  {
   "cell_type": "code",
   "execution_count": 22,
   "metadata": {
    "collapsed": false
   },
   "outputs": [
    {
     "name": "stdout",
     "output_type": "stream",
     "text": [
      "AUC: 0.9407166907166907\n"
     ]
    },
    {
     "data": {
      "image/png": "[encoded data removed]",
      "text/plain": [
       "<matplotlib.figure.Figure at 0x10c472208>"
      ]
     },
     "metadata": {},
     "output_type": "display_data"
    }
   ],
   "source": [
    "getROCcurve(X_train, X_test, y_train, y_test2, model=DecisionTreeClassifier())"
   ]
  },
  {
   "cell_type": "markdown",
   "metadata": {},
   "source": [
    "#### Random Forest Classifier"
   ]
  },
  {
   "cell_type": "code",
   "execution_count": 23,
   "metadata": {
    "collapsed": false
   },
   "outputs": [
    {
     "name": "stdout",
     "output_type": "stream",
     "text": [
      "AUC: 0.9914622414622414\n"
     ]
    },
    {
     "data": {
      "image/png": "[encoded data removed]",
      "text/plain": [
       "<matplotlib.figure.Figure at 0x10bb555f8>"
      ]
     },
     "metadata": {},
     "output_type": "display_data"
    }
   ],
   "source": [
    "getROCcurve(X_train, X_test, y_train, y_test2, model=RandomForestClassifier())"
   ]
  },
  {
   "cell_type": "markdown",
   "metadata": {},
   "source": [
    "## Challenge 3\n",
    "\n",
    "Calculate the same metrics you did in challenge 1, but this time in a cross validation scheme with the cross_val_score function (like in Challenge 9)."
   ]
  },
  {
   "cell_type": "markdown",
   "metadata": {},
   "source": [
    "And now I feel dumb for writing out the sentence above. -Ken"
   ]
  },
  {
   "cell_type": "code",
   "execution_count": 24,
   "metadata": {
    "collapsed": false
   },
   "outputs": [],
   "source": [
    "def getScoreValuesByCV(X, y, model=KNeighborsClassifier(n_neighbors=6)):\n",
    "    y_2 = deepcopy(y)\n",
    "    y_2[y_2 == 'democrat'] = int(1)\n",
    "    y_2[y_2 == 'republican'] = int(0)\n",
    "    y_2 = list(y_2)\n",
    "    \n",
    "    accuracy_score_value = np.mean(cross_val_score(model, X, y_2, scoring='accuracy', cv=10))\n",
    "    precision_score_value = np.mean(cross_val_score(model, X, y_2, scoring='precision', cv=10))\n",
    "    recall_score_value = np.mean(cross_val_score(model, X, y_2, scoring='recall', cv=10))\n",
    "    f1_score_value = np.mean(cross_val_score(model, X, y_2, scoring='f1', cv=10))\n",
    "                   \n",
    "    print('Accuracy: {}\\nPrecision: {}\\nRecall: {}\\nf1: {}'.format(accuracy_score_value, \\\n",
    "                                                                   precision_score_value, \\\n",
    "                                                                   recall_score_value, \\\n",
    "                                                                   f1_score_value))"
   ]
  },
  {
   "cell_type": "markdown",
   "metadata": {},
   "source": [
    "#### KNN regression"
   ]
  },
  {
   "cell_type": "code",
   "execution_count": 25,
   "metadata": {
    "collapsed": false,
    "scrolled": true
   },
   "outputs": [
    {
     "name": "stdout",
     "output_type": "stream",
     "text": [
      "Accuracy: 0.9191029900332227\n",
      "Precision: 0.9659840287426494\n",
      "Recall: 0.9022792022792021\n",
      "f1: 0.9300782410162572\n"
     ]
    }
   ],
   "source": [
    "getScoreValuesByCV(X, y)"
   ]
  },
  {
   "cell_type": "markdown",
   "metadata": {},
   "source": [
    "#### Logistic Regression"
   ]
  },
  {
   "cell_type": "code",
   "execution_count": 26,
   "metadata": {
    "collapsed": false
   },
   "outputs": [
    {
     "name": "stdout",
     "output_type": "stream",
     "text": [
      "Accuracy: 0.9582276250880902\n",
      "Precision: 0.9668315018315019\n",
      "Recall: 0.9658119658119659\n",
      "f1: 0.9657463704976994\n"
     ]
    }
   ],
   "source": [
    "getScoreValuesByCV(X, y, model=LogisticRegression())"
   ]
  },
  {
   "cell_type": "markdown",
   "metadata": {},
   "source": [
    "#### Gaussian NB"
   ]
  },
  {
   "cell_type": "code",
   "execution_count": 27,
   "metadata": {
    "collapsed": false
   },
   "outputs": [
    {
     "name": "stdout",
     "output_type": "stream",
     "text": [
      "Accuracy: 0.9397739857042182\n",
      "Precision: 0.9512088964675172\n",
      "Recall: 0.9509971509971511\n",
      "f1: 0.9505738943097434\n"
     ]
    }
   ],
   "source": [
    "getScoreValuesByCV(X, y, model=GaussianNB())"
   ]
  },
  {
   "cell_type": "markdown",
   "metadata": {},
   "source": [
    "#### SVC"
   ]
  },
  {
   "cell_type": "code",
   "execution_count": 28,
   "metadata": {
    "collapsed": false
   },
   "outputs": [
    {
     "name": "stdout",
     "output_type": "stream",
     "text": [
      "Accuracy: 0.9582804792107119\n",
      "Precision: 0.9776921354507563\n",
      "Recall: 0.9545584045584047\n",
      "f1: 0.9651834301473592\n"
     ]
    }
   ],
   "source": [
    "getScoreValuesByCV(X, y, model=SVC())"
   ]
  },
  {
   "cell_type": "markdown",
   "metadata": {},
   "source": [
    "#### Decision Tree Classifier"
   ]
  },
  {
   "cell_type": "code",
   "execution_count": 29,
   "metadata": {
    "collapsed": false
   },
   "outputs": [
    {
     "name": "stdout",
     "output_type": "stream",
     "text": [
      "Accuracy: 0.9330690627202255\n",
      "Precision: 0.9561474043198182\n",
      "Recall: 0.9433048433048434\n",
      "f1: 0.9504999110747695\n"
     ]
    }
   ],
   "source": [
    "getScoreValuesByCV(X, y, model=DecisionTreeClassifier())"
   ]
  },
  {
   "cell_type": "markdown",
   "metadata": {},
   "source": [
    "#### Random Forest Classifier"
   ]
  },
  {
   "cell_type": "code",
   "execution_count": 30,
   "metadata": {
    "collapsed": false
   },
   "outputs": [
    {
     "name": "stdout",
     "output_type": "stream",
     "text": [
      "Accuracy: 0.9513565891472868\n",
      "Precision: 0.978081098339719\n",
      "Recall: 0.9433048433048434\n",
      "f1: 0.9594572879950238\n"
     ]
    }
   ],
   "source": [
    "getScoreValuesByCV(X, y, model=RandomForestClassifier())"
   ]
  },
  {
   "cell_type": "markdown",
   "metadata": {},
   "source": [
    "## Challenge 4\n",
    "\n",
    "For your movie classifiers, calculate the precision and recall for each class."
   ]
  },
  {
   "cell_type": "code",
   "execution_count": 31,
   "metadata": {
    "collapsed": false
   },
   "outputs": [],
   "source": [
    "movie_data = read_data('../../05-classification/ken_m/2015_movies.csv')\n",
    "movie_data = movie_data.drop('Unnamed: 0', axis=1)\n",
    "movie_data = movie_data.dropna()\n",
    "rating_dummies = pd.get_dummies(movie_data['Rating'])\n",
    "rating_names = list(rating_dummies.columns)"
   ]
  },
  {
   "cell_type": "code",
   "execution_count": 32,
   "metadata": {
    "collapsed": false
   },
   "outputs": [],
   "source": [
    "def getScoreValues2(local_X, local_y, model=KNeighborsClassifier(n_neighbors=6)):\n",
    "    X_train3, X_test3, y_train3, y_test3 = train_test_split(local_X, local_y, test_size = .30, random_state=4444)\n",
    "    \n",
    "    for col in local_y.columns:\n",
    "        model = model\n",
    "        model.fit(X_train3, y_train3[col])\n",
    "        y_pred = model.predict(X_test3)\n",
    "\n",
    "        precision_score_value = precision_score(y_test3[col], y_pred)\n",
    "        recall_score_value = recall_score(y_test3[col], y_pred)\n",
    "\n",
    "        print('{}:\\nPrecision: {}\\nRecall: {}\\n'.format(col,\\\n",
    "                                                              precision_score_value, \\\n",
    "                                                              recall_score_value))"
   ]
  },
  {
   "cell_type": "markdown",
   "metadata": {},
   "source": [
    "#### KNN regression"
   ]
  },
  {
   "cell_type": "code",
   "execution_count": 33,
   "metadata": {
    "collapsed": false,
    "scrolled": false
   },
   "outputs": [
    {
     "name": "stdout",
     "output_type": "stream",
     "text": [
      "PG:\n",
      "Precision: 0.0\n",
      "Recall: 0.0\n",
      "\n",
      "PG-13:\n",
      "Precision: 0.3333333333333333\n",
      "Recall: 0.25\n",
      "\n",
      "R:\n",
      "Precision: 1.0\n",
      "Recall: 0.3333333333333333\n",
      "\n"
     ]
    },
    {
     "name": "stderr",
     "output_type": "stream",
     "text": [
      "/Users/kenn/anaconda/lib/python3.5/site-packages/sklearn/metrics/classification.py:1074: UndefinedMetricWarning: Precision is ill-defined and being set to 0.0 due to no predicted samples.\n",
      "  'precision', 'predicted', average, warn_for)\n"
     ]
    }
   ],
   "source": [
    "getScoreValues2(movie_data[['Budget', 'DomesticTotalGross', 'Runtime']], rating_dummies)"
   ]
  },
  {
   "cell_type": "markdown",
   "metadata": {},
   "source": [
    "#### Logistic Regression"
   ]
  },
  {
   "cell_type": "code",
   "execution_count": 34,
   "metadata": {
    "collapsed": false,
    "scrolled": false
   },
   "outputs": [
    {
     "name": "stdout",
     "output_type": "stream",
     "text": [
      "PG:\n",
      "Precision: 0.0\n",
      "Recall: 0.0\n",
      "\n",
      "PG-13:\n",
      "Precision: 0.5\n",
      "Recall: 1.0\n",
      "\n",
      "R:\n",
      "Precision: 0.0\n",
      "Recall: 0.0\n",
      "\n"
     ]
    },
    {
     "name": "stderr",
     "output_type": "stream",
     "text": [
      "/Users/kenn/anaconda/lib/python3.5/site-packages/sklearn/metrics/classification.py:1074: UndefinedMetricWarning: Precision is ill-defined and being set to 0.0 due to no predicted samples.\n",
      "  'precision', 'predicted', average, warn_for)\n"
     ]
    }
   ],
   "source": [
    "getScoreValues2(movie_data[['Budget', 'DomesticTotalGross', 'Runtime']], rating_dummies, model=LogisticRegression())"
   ]
  },
  {
   "cell_type": "markdown",
   "metadata": {},
   "source": [
    "#### Gaussian NB"
   ]
  },
  {
   "cell_type": "code",
   "execution_count": 35,
   "metadata": {
    "collapsed": false
   },
   "outputs": [
    {
     "name": "stdout",
     "output_type": "stream",
     "text": [
      "PG:\n",
      "Precision: 0.0\n",
      "Recall: 0.0\n",
      "\n",
      "PG-13:\n",
      "Precision: 0.5\n",
      "Recall: 0.16666666666666666\n",
      "\n",
      "R:\n",
      "Precision: 0.4375\n",
      "Recall: 0.7777777777777778\n",
      "\n"
     ]
    },
    {
     "name": "stderr",
     "output_type": "stream",
     "text": [
      "/Users/kenn/anaconda/lib/python3.5/site-packages/sklearn/metrics/classification.py:1074: UndefinedMetricWarning: Precision is ill-defined and being set to 0.0 due to no predicted samples.\n",
      "  'precision', 'predicted', average, warn_for)\n"
     ]
    }
   ],
   "source": [
    "getScoreValues2(movie_data[['Budget', 'DomesticTotalGross', 'Runtime']], rating_dummies, model=GaussianNB())"
   ]
  },
  {
   "cell_type": "markdown",
   "metadata": {},
   "source": [
    "#### SVC"
   ]
  },
  {
   "cell_type": "code",
   "execution_count": 36,
   "metadata": {
    "collapsed": false
   },
   "outputs": [
    {
     "name": "stdout",
     "output_type": "stream",
     "text": [
      "PG:\n",
      "Precision: 0.0\n",
      "Recall: 0.0\n",
      "\n",
      "PG-13:\n",
      "Precision: 0.5\n",
      "Recall: 1.0\n",
      "\n",
      "R:\n",
      "Precision: 0.0\n",
      "Recall: 0.0\n",
      "\n"
     ]
    },
    {
     "name": "stderr",
     "output_type": "stream",
     "text": [
      "/Users/kenn/anaconda/lib/python3.5/site-packages/sklearn/metrics/classification.py:1074: UndefinedMetricWarning: Precision is ill-defined and being set to 0.0 due to no predicted samples.\n",
      "  'precision', 'predicted', average, warn_for)\n"
     ]
    }
   ],
   "source": [
    "getScoreValues2(movie_data[['Budget', 'DomesticTotalGross', 'Runtime']], rating_dummies, model=SVC())"
   ]
  },
  {
   "cell_type": "markdown",
   "metadata": {},
   "source": [
    "#### Decision Tree Classifier"
   ]
  },
  {
   "cell_type": "code",
   "execution_count": 37,
   "metadata": {
    "collapsed": false
   },
   "outputs": [
    {
     "name": "stdout",
     "output_type": "stream",
     "text": [
      "PG:\n",
      "Precision: 0.4\n",
      "Recall: 0.6666666666666666\n",
      "\n",
      "PG-13:\n",
      "Precision: 0.4\n",
      "Recall: 0.16666666666666666\n",
      "\n",
      "R:\n",
      "Precision: 0.6\n",
      "Recall: 0.6666666666666666\n",
      "\n"
     ]
    }
   ],
   "source": [
    "getScoreValues2(movie_data[['Budget', 'DomesticTotalGross', 'Runtime']], rating_dummies, model=DecisionTreeClassifier())"
   ]
  },
  {
   "cell_type": "markdown",
   "metadata": {},
   "source": [
    "#### Random Forest Classifier"
   ]
  },
  {
   "cell_type": "code",
   "execution_count": 38,
   "metadata": {
    "collapsed": false
   },
   "outputs": [
    {
     "name": "stdout",
     "output_type": "stream",
     "text": [
      "PG:\n",
      "Precision: 0.6666666666666666\n",
      "Recall: 0.6666666666666666\n",
      "\n",
      "PG-13:\n",
      "Precision: 0.4444444444444444\n",
      "Recall: 0.3333333333333333\n",
      "\n",
      "R:\n",
      "Precision: 0.8\n",
      "Recall: 0.4444444444444444\n",
      "\n"
     ]
    }
   ],
   "source": [
    "getScoreValues2(movie_data[['Budget', 'DomesticTotalGross', 'Runtime']], rating_dummies, model=RandomForestClassifier())"
   ]
  },
  {
   "cell_type": "markdown",
   "metadata": {},
   "source": [
    "## Challenge 5\n",
    "\n",
    "Draw the ROC curve (and calculate AUC) for the logistic regression classifier from challenge 12."
   ]
  },
  {
   "cell_type": "code",
   "execution_count": 39,
   "metadata": {
    "collapsed": true
   },
   "outputs": [],
   "source": [
    "cancer_data = read_data('../../05-classification/ken_m/haberman.csv')\n",
    "X = cancer_data[['Age', 'Year', 'NodesDetected']]\n",
    "y = cancer_data.SurvivalStatus\n",
    "X_train, X_test, y_train, y_test = train_test_split(X, y, test_size=0.30, random_state=4444)\n"
   ]
  },
  {
   "cell_type": "code",
   "execution_count": 40,
   "metadata": {
    "collapsed": false
   },
   "outputs": [
    {
     "data": {
      "text/html": [
       "<div>\n",
       "<table border=\"1\" class=\"dataframe\">\n",
       "  <thead>\n",
       "    <tr style=\"text-align: right;\">\n",
       "      <th></th>\n",
       "      <th>Age</th>\n",
       "      <th>Year</th>\n",
       "      <th>NodesDetected</th>\n",
       "      <th>SurvivalStatus</th>\n",
       "    </tr>\n",
       "  </thead>\n",
       "  <tbody>\n",
       "    <tr>\n",
       "      <th>0</th>\n",
       "      <td>30</td>\n",
       "      <td>64</td>\n",
       "      <td>1</td>\n",
       "      <td>1</td>\n",
       "    </tr>\n",
       "    <tr>\n",
       "      <th>1</th>\n",
       "      <td>30</td>\n",
       "      <td>62</td>\n",
       "      <td>3</td>\n",
       "      <td>1</td>\n",
       "    </tr>\n",
       "    <tr>\n",
       "      <th>2</th>\n",
       "      <td>30</td>\n",
       "      <td>65</td>\n",
       "      <td>0</td>\n",
       "      <td>1</td>\n",
       "    </tr>\n",
       "    <tr>\n",
       "      <th>3</th>\n",
       "      <td>31</td>\n",
       "      <td>59</td>\n",
       "      <td>2</td>\n",
       "      <td>1</td>\n",
       "    </tr>\n",
       "    <tr>\n",
       "      <th>4</th>\n",
       "      <td>31</td>\n",
       "      <td>65</td>\n",
       "      <td>4</td>\n",
       "      <td>1</td>\n",
       "    </tr>\n",
       "  </tbody>\n",
       "</table>\n",
       "</div>"
      ],
      "text/plain": [
       "   Age  Year  NodesDetected  SurvivalStatus\n",
       "0   30    64              1               1\n",
       "1   30    62              3               1\n",
       "2   30    65              0               1\n",
       "3   31    59              2               1\n",
       "4   31    65              4               1"
      ]
     },
     "execution_count": 40,
     "metadata": {},
     "output_type": "execute_result"
    }
   ],
   "source": [
    "cancer_data.head()"
   ]
  },
  {
   "cell_type": "code",
   "execution_count": 41,
   "metadata": {
    "collapsed": true
   },
   "outputs": [],
   "source": [
    "y_test2 = deepcopy(y_test)\n",
    "y_test2[y_test2 == 1] = int(0)\n",
    "y_test2[y_test2 == 2] = int(1)\n",
    "y_test2 = list(y_test2)"
   ]
  },
  {
   "cell_type": "code",
   "execution_count": 42,
   "metadata": {
    "collapsed": false,
    "scrolled": false
   },
   "outputs": [
    {
     "name": "stdout",
     "output_type": "stream",
     "text": [
      "AUC: 0.6475225225225225\n"
     ]
    },
    {
     "data": {
      "image/png": "[encoded data removed]",
      "text/plain": [
       "<matplotlib.figure.Figure at 0x10c1be780>"
      ]
     },
     "metadata": {},
     "output_type": "display_data"
    }
   ],
   "source": [
    "getROCcurve(X_train, X_test, y_train, y_test2, model=LogisticRegression())"
   ]
  },
  {
   "cell_type": "code",
   "execution_count": null,
   "metadata": {
    "collapsed": true
   },
   "outputs": [],
   "source": []
  }
 ],
 "metadata": {
  "kernelspec": {
   "display_name": "Python 3",
   "language": "python",
   "name": "python3"
  },
  "language_info": {
   "codemirror_mode": {
    "name": "ipython",
    "version": 3
   },
   "file_extension": ".py",
   "mimetype": "text/x-python",
   "name": "python",
   "nbconvert_exporter": "python",
   "pygments_lexer": "ipython3",
   "version": "3.5.1"
  }
 },
 "nbformat": 4,
 "nbformat_minor": 0
}
