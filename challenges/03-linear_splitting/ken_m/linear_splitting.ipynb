{
 "cells": [
  {
   "cell_type": "markdown",
   "metadata": {},
   "source": [
    "# Challenge Set 3 (Linear Splitting)¶\n",
    "\n",
    "Topic: Learn Pandas using Movie Data\n",
    "\n",
    "Date: 01/22/2016\n",
    "\n",
    "Name: Kenneth Myers\n",
    "\n",
    "Worked with: NA"
   ]
  },
  {
   "cell_type": "code",
   "execution_count": 1,
   "metadata": {
    "collapsed": false
   },
   "outputs": [
    {
     "name": "stderr",
     "output_type": "stream",
     "text": [
      "/Users/kenn/anaconda/lib/python3.5/site-packages/matplotlib/__init__.py:872: UserWarning: axes.color_cycle is deprecated and replaced with axes.prop_cycle; please use the latter.\n",
      "  warnings.warn(self.msg_depr % (key, alt_key))\n"
     ]
    }
   ],
   "source": [
    "import pandas as pd\n",
    "import matplotlib.pyplot as plt\n",
    "import numpy as np\n",
    "import seaborn as sns\n",
    "import statsmodels.api as sm\n",
    "%matplotlib inline\n"
   ]
  },
  {
   "cell_type": "markdown",
   "metadata": {},
   "source": [
    "## Challenge 1\n"
   ]
  },
  {
   "cell_type": "code",
   "execution_count": 2,
   "metadata": {
    "collapsed": true
   },
   "outputs": [],
   "source": [
    "movies_2015 = pd.read_csv('2015_movies.csv', index_col=0)"
   ]
  },
  {
   "cell_type": "code",
   "execution_count": 3,
   "metadata": {
    "collapsed": false
   },
   "outputs": [],
   "source": [
    "movies_2015['const'] = [1 for i in range(len(movies_2015.index))]"
   ]
  },
  {
   "cell_type": "code",
   "execution_count": 4,
   "metadata": {
    "collapsed": false
   },
   "outputs": [
    {
     "data": {
      "text/html": [
       "<div>\n",
       "<table border=\"1\" class=\"dataframe\">\n",
       "  <thead>\n",
       "    <tr style=\"text-align: right;\">\n",
       "      <th></th>\n",
       "      <th>Title</th>\n",
       "      <th>Budget</th>\n",
       "      <th>DomesticTotalGross</th>\n",
       "      <th>Director</th>\n",
       "      <th>Rating</th>\n",
       "      <th>Runtime</th>\n",
       "      <th>ReleaseDate</th>\n",
       "      <th>const</th>\n",
       "    </tr>\n",
       "  </thead>\n",
       "  <tbody>\n",
       "    <tr>\n",
       "      <th>0</th>\n",
       "      <td>Star Wars: The Force Awakens</td>\n",
       "      <td>200000000</td>\n",
       "      <td>858953106</td>\n",
       "      <td>J.J. Abrams</td>\n",
       "      <td>PG-13</td>\n",
       "      <td>136</td>\n",
       "      <td>2015-12-18</td>\n",
       "      <td>1</td>\n",
       "    </tr>\n",
       "    <tr>\n",
       "      <th>1</th>\n",
       "      <td>Jurassic World</td>\n",
       "      <td>150000000</td>\n",
       "      <td>652270625</td>\n",
       "      <td>Colin Trevorrow</td>\n",
       "      <td>PG-13</td>\n",
       "      <td>124</td>\n",
       "      <td>2015-06-12</td>\n",
       "      <td>1</td>\n",
       "    </tr>\n",
       "    <tr>\n",
       "      <th>2</th>\n",
       "      <td>Avengers: Age of Ultron</td>\n",
       "      <td>250000000</td>\n",
       "      <td>459005868</td>\n",
       "      <td>Joss Whedon</td>\n",
       "      <td>PG-13</td>\n",
       "      <td>141</td>\n",
       "      <td>2015-05-01</td>\n",
       "      <td>1</td>\n",
       "    </tr>\n",
       "    <tr>\n",
       "      <th>3</th>\n",
       "      <td>Inside Out</td>\n",
       "      <td>175000000</td>\n",
       "      <td>356461711</td>\n",
       "      <td>Pete Docter</td>\n",
       "      <td>PG</td>\n",
       "      <td>94</td>\n",
       "      <td>2015-06-19</td>\n",
       "      <td>1</td>\n",
       "    </tr>\n",
       "    <tr>\n",
       "      <th>4</th>\n",
       "      <td>Furious 7</td>\n",
       "      <td>190000000</td>\n",
       "      <td>353007020</td>\n",
       "      <td>James Wan</td>\n",
       "      <td>PG-13</td>\n",
       "      <td>137</td>\n",
       "      <td>2015-04-03</td>\n",
       "      <td>1</td>\n",
       "    </tr>\n",
       "  </tbody>\n",
       "</table>\n",
       "</div>"
      ],
      "text/plain": [
       "                          Title     Budget  DomesticTotalGross  \\\n",
       "0  Star Wars: The Force Awakens  200000000           858953106   \n",
       "1                Jurassic World  150000000           652270625   \n",
       "2       Avengers: Age of Ultron  250000000           459005868   \n",
       "3                    Inside Out  175000000           356461711   \n",
       "4                     Furious 7  190000000           353007020   \n",
       "\n",
       "          Director Rating  Runtime ReleaseDate  const  \n",
       "0      J.J. Abrams  PG-13      136  2015-12-18      1  \n",
       "1  Colin Trevorrow  PG-13      124  2015-06-12      1  \n",
       "2      Joss Whedon  PG-13      141  2015-05-01      1  \n",
       "3      Pete Docter     PG       94  2015-06-19      1  \n",
       "4        James Wan  PG-13      137  2015-04-03      1  "
      ]
     },
     "execution_count": 4,
     "metadata": {},
     "output_type": "execute_result"
    }
   ],
   "source": [
    "movies_2015.head()"
   ]
  },
  {
   "cell_type": "code",
   "execution_count": 5,
   "metadata": {
    "collapsed": false
   },
   "outputs": [],
   "source": [
    "dtg = movies_2015[['const', 'DomesticTotalGross']].set_index(movies_2015.Title)"
   ]
  },
  {
   "cell_type": "code",
   "execution_count": 6,
   "metadata": {
    "collapsed": false
   },
   "outputs": [],
   "source": [
    "model = sm.OLS(dtg.DomesticTotalGross, dtg.const)"
   ]
  },
  {
   "cell_type": "code",
   "execution_count": 7,
   "metadata": {
    "collapsed": true
   },
   "outputs": [],
   "source": [
    "results = model.fit()"
   ]
  },
  {
   "cell_type": "code",
   "execution_count": 8,
   "metadata": {
    "collapsed": false
   },
   "outputs": [
    {
     "data": {
      "text/html": [
       "<table class=\"simpletable\">\n",
       "<caption>OLS Regression Results</caption>\n",
       "<tr>\n",
       "  <th>Dep. Variable:</th>    <td>DomesticTotalGross</td> <th>  R-squared:         </th> <td>   0.000</td>\n",
       "</tr>\n",
       "<tr>\n",
       "  <th>Model:</th>                    <td>OLS</td>        <th>  Adj. R-squared:    </th> <td>   0.000</td>\n",
       "</tr>\n",
       "<tr>\n",
       "  <th>Method:</th>              <td>Least Squares</td>   <th>  F-statistic:       </th> <td>     inf</td>\n",
       "</tr>\n",
       "<tr>\n",
       "  <th>Date:</th>              <td>Sat, 23 Jan 2016</td>  <th>  Prob (F-statistic):</th>  <td>   nan</td> \n",
       "</tr>\n",
       "<tr>\n",
       "  <th>Time:</th>                  <td>03:59:07</td>      <th>  Log-Likelihood:    </th> <td> -2005.8</td>\n",
       "</tr>\n",
       "<tr>\n",
       "  <th>No. Observations:</th>       <td>   100</td>       <th>  AIC:               </th> <td>   4014.</td>\n",
       "</tr>\n",
       "<tr>\n",
       "  <th>Df Residuals:</th>           <td>    99</td>       <th>  BIC:               </th> <td>   4016.</td>\n",
       "</tr>\n",
       "<tr>\n",
       "  <th>Df Model:</th>               <td>     0</td>       <th>                     </th>     <td> </td>   \n",
       "</tr>\n",
       "<tr>\n",
       "  <th>Covariance Type:</th>       <td>nonrobust</td>     <th>                     </th>     <td> </td>   \n",
       "</tr>\n",
       "</table>\n",
       "<table class=\"simpletable\">\n",
       "<tr>\n",
       "    <td></td>       <th>coef</th>     <th>std err</th>      <th>t</th>      <th>P>|t|</th> <th>[95.0% Conf. Int.]</th> \n",
       "</tr>\n",
       "<tr>\n",
       "  <th>const</th> <td> 1.006e+08</td> <td> 1.25e+07</td> <td>    8.046</td> <td> 0.000</td> <td> 7.58e+07  1.25e+08</td>\n",
       "</tr>\n",
       "</table>\n",
       "<table class=\"simpletable\">\n",
       "<tr>\n",
       "  <th>Omnibus:</th>       <td>106.210</td> <th>  Durbin-Watson:     </th> <td>   0.064</td> \n",
       "</tr>\n",
       "<tr>\n",
       "  <th>Prob(Omnibus):</th> <td> 0.000</td>  <th>  Jarque-Bera (JB):  </th> <td>1281.682</td> \n",
       "</tr>\n",
       "<tr>\n",
       "  <th>Skew:</th>          <td> 3.610</td>  <th>  Prob(JB):          </th> <td>4.86e-279</td>\n",
       "</tr>\n",
       "<tr>\n",
       "  <th>Kurtosis:</th>      <td>18.983</td>  <th>  Cond. No.          </th> <td>    1.00</td> \n",
       "</tr>\n",
       "</table>"
      ],
      "text/plain": [
       "<class 'statsmodels.iolib.summary.Summary'>\n",
       "\"\"\"\n",
       "                            OLS Regression Results                            \n",
       "==============================================================================\n",
       "Dep. Variable:     DomesticTotalGross   R-squared:                       0.000\n",
       "Model:                            OLS   Adj. R-squared:                  0.000\n",
       "Method:                 Least Squares   F-statistic:                       inf\n",
       "Date:                Sat, 23 Jan 2016   Prob (F-statistic):                nan\n",
       "Time:                        03:59:07   Log-Likelihood:                -2005.8\n",
       "No. Observations:                 100   AIC:                             4014.\n",
       "Df Residuals:                      99   BIC:                             4016.\n",
       "Df Model:                           0                                         \n",
       "Covariance Type:            nonrobust                                         \n",
       "==============================================================================\n",
       "                 coef    std err          t      P>|t|      [95.0% Conf. Int.]\n",
       "------------------------------------------------------------------------------\n",
       "const       1.006e+08   1.25e+07      8.046      0.000      7.58e+07  1.25e+08\n",
       "==============================================================================\n",
       "Omnibus:                      106.210   Durbin-Watson:                   0.064\n",
       "Prob(Omnibus):                  0.000   Jarque-Bera (JB):             1281.682\n",
       "Skew:                           3.610   Prob(JB):                    4.86e-279\n",
       "Kurtosis:                      18.983   Cond. No.                         1.00\n",
       "==============================================================================\n",
       "\n",
       "Warnings:\n",
       "[1] Standard Errors assume that the covariance matrix of the errors is correctly specified.\n",
       "\"\"\""
      ]
     },
     "execution_count": 8,
     "metadata": {},
     "output_type": "execute_result"
    }
   ],
   "source": [
    "results.summary()"
   ]
  },
  {
   "cell_type": "code",
   "execution_count": 9,
   "metadata": {
    "collapsed": false
   },
   "outputs": [
    {
     "data": {
      "text/plain": [
       "<matplotlib.text.Text at 0x10bb3fb70>"
      ]
     },
     "execution_count": 9,
     "metadata": {},
     "output_type": "execute_result"
    },
    {
     "data": {
      "image/png": "[encoded data removed]",
      "text/plain": [
       "<matplotlib.figure.Figure at 0x10baf0fd0>"
      ]
     },
     "metadata": {},
     "output_type": "display_data"
    }
   ],
   "source": [
    "sm.graphics.plot_fit(results, 0)\n",
    "plt.ylabel(\"Total Domestic Gross\")\n",
    "plt.xlabel(\"coeff\")\n",
    "plt.title(\"Linear Regression\")"
   ]
  },
  {
   "cell_type": "markdown",
   "metadata": {},
   "source": [
    "Without any variables the model can only be represented by x = 1. The fitted value in the plot represents the expected value of the dependent variable, y. "
   ]
  },
  {
   "cell_type": "code",
   "execution_count": 10,
   "metadata": {
    "collapsed": false
   },
   "outputs": [
    {
     "data": {
      "text/plain": [
       "<matplotlib.text.Text at 0x10bc11828>"
      ]
     },
     "execution_count": 10,
     "metadata": {},
     "output_type": "execute_result"
    },
    {
     "data": {
      "image/png": "[encoded data removed]",
      "text/plain": [
       "<matplotlib.figure.Figure at 0x10bb140f0>"
      ]
     },
     "metadata": {},
     "output_type": "display_data"
    }
   ],
   "source": [
    "results.resid.hist(bins=50)\n",
    "plt.ylabel('Count')\n",
    "plt.xlabel('Residual TDG')\n",
    "plt.title('Histogram of TDG Residuals for Model')"
   ]
  },
  {
   "cell_type": "markdown",
   "metadata": {},
   "source": [
    "Residual distribution is positively skewed. A sizeable amount of the data is below the average and there are data points pulling the mean upwards."
   ]
  },
  {
   "cell_type": "markdown",
   "metadata": {},
   "source": [
    "## Challenge 2 "
   ]
  },
  {
   "cell_type": "code",
   "execution_count": 11,
   "metadata": {
    "collapsed": true
   },
   "outputs": [],
   "source": [
    "dtg2 = movies_2015[['const', 'DomesticTotalGross', 'Runtime']].set_index(movies_2015.Title)"
   ]
  },
  {
   "cell_type": "code",
   "execution_count": 12,
   "metadata": {
    "collapsed": true
   },
   "outputs": [],
   "source": [
    "dtg2 = dtg2.dropna()"
   ]
  },
  {
   "cell_type": "code",
   "execution_count": 13,
   "metadata": {
    "collapsed": false
   },
   "outputs": [],
   "source": [
    "model2 = sm.OLS(dtg2['DomesticTotalGross'], dtg2[['Runtime', 'const']])"
   ]
  },
  {
   "cell_type": "code",
   "execution_count": 14,
   "metadata": {
    "collapsed": true
   },
   "outputs": [],
   "source": [
    "results2 = model2.fit()"
   ]
  },
  {
   "cell_type": "code",
   "execution_count": 15,
   "metadata": {
    "collapsed": false
   },
   "outputs": [
    {
     "data": {
      "text/html": [
       "<table class=\"simpletable\">\n",
       "<caption>OLS Regression Results</caption>\n",
       "<tr>\n",
       "  <th>Dep. Variable:</th>    <td>DomesticTotalGross</td> <th>  R-squared:         </th> <td>   0.070</td>\n",
       "</tr>\n",
       "<tr>\n",
       "  <th>Model:</th>                    <td>OLS</td>        <th>  Adj. R-squared:    </th> <td>   0.060</td>\n",
       "</tr>\n",
       "<tr>\n",
       "  <th>Method:</th>              <td>Least Squares</td>   <th>  F-statistic:       </th> <td>   7.327</td>\n",
       "</tr>\n",
       "<tr>\n",
       "  <th>Date:</th>              <td>Sat, 23 Jan 2016</td>  <th>  Prob (F-statistic):</th>  <td>0.00801</td>\n",
       "</tr>\n",
       "<tr>\n",
       "  <th>Time:</th>                  <td>03:59:08</td>      <th>  Log-Likelihood:    </th> <td> -2002.2</td>\n",
       "</tr>\n",
       "<tr>\n",
       "  <th>No. Observations:</th>       <td>   100</td>       <th>  AIC:               </th> <td>   4008.</td>\n",
       "</tr>\n",
       "<tr>\n",
       "  <th>Df Residuals:</th>           <td>    98</td>       <th>  BIC:               </th> <td>   4014.</td>\n",
       "</tr>\n",
       "<tr>\n",
       "  <th>Df Model:</th>               <td>     1</td>       <th>                     </th>     <td> </td>   \n",
       "</tr>\n",
       "<tr>\n",
       "  <th>Covariance Type:</th>       <td>nonrobust</td>     <th>                     </th>     <td> </td>   \n",
       "</tr>\n",
       "</table>\n",
       "<table class=\"simpletable\">\n",
       "<tr>\n",
       "     <td></td>        <th>coef</th>     <th>std err</th>      <th>t</th>      <th>P>|t|</th> <th>[95.0% Conf. Int.]</th> \n",
       "</tr>\n",
       "<tr>\n",
       "  <th>Runtime</th> <td> 1.954e+06</td> <td> 7.22e+05</td> <td>    2.707</td> <td> 0.008</td> <td> 5.22e+05  3.39e+06</td>\n",
       "</tr>\n",
       "<tr>\n",
       "  <th>const</th>   <td>-1.202e+08</td> <td> 8.25e+07</td> <td>   -1.458</td> <td> 0.148</td> <td>-2.84e+08  4.34e+07</td>\n",
       "</tr>\n",
       "</table>\n",
       "<table class=\"simpletable\">\n",
       "<tr>\n",
       "  <th>Omnibus:</th>       <td>100.678</td> <th>  Durbin-Watson:     </th> <td>   0.207</td> \n",
       "</tr>\n",
       "<tr>\n",
       "  <th>Prob(Omnibus):</th> <td> 0.000</td>  <th>  Jarque-Bera (JB):  </th> <td>1079.891</td> \n",
       "</tr>\n",
       "<tr>\n",
       "  <th>Skew:</th>          <td> 3.390</td>  <th>  Prob(JB):          </th> <td>3.20e-235</td>\n",
       "</tr>\n",
       "<tr>\n",
       "  <th>Kurtosis:</th>      <td>17.601</td>  <th>  Cond. No.          </th> <td>    777.</td> \n",
       "</tr>\n",
       "</table>"
      ],
      "text/plain": [
       "<class 'statsmodels.iolib.summary.Summary'>\n",
       "\"\"\"\n",
       "                            OLS Regression Results                            \n",
       "==============================================================================\n",
       "Dep. Variable:     DomesticTotalGross   R-squared:                       0.070\n",
       "Model:                            OLS   Adj. R-squared:                  0.060\n",
       "Method:                 Least Squares   F-statistic:                     7.327\n",
       "Date:                Sat, 23 Jan 2016   Prob (F-statistic):            0.00801\n",
       "Time:                        03:59:08   Log-Likelihood:                -2002.2\n",
       "No. Observations:                 100   AIC:                             4008.\n",
       "Df Residuals:                      98   BIC:                             4014.\n",
       "Df Model:                           1                                         \n",
       "Covariance Type:            nonrobust                                         \n",
       "==============================================================================\n",
       "                 coef    std err          t      P>|t|      [95.0% Conf. Int.]\n",
       "------------------------------------------------------------------------------\n",
       "Runtime     1.954e+06   7.22e+05      2.707      0.008      5.22e+05  3.39e+06\n",
       "const      -1.202e+08   8.25e+07     -1.458      0.148     -2.84e+08  4.34e+07\n",
       "==============================================================================\n",
       "Omnibus:                      100.678   Durbin-Watson:                   0.207\n",
       "Prob(Omnibus):                  0.000   Jarque-Bera (JB):             1079.891\n",
       "Skew:                           3.390   Prob(JB):                    3.20e-235\n",
       "Kurtosis:                      17.601   Cond. No.                         777.\n",
       "==============================================================================\n",
       "\n",
       "Warnings:\n",
       "[1] Standard Errors assume that the covariance matrix of the errors is correctly specified.\n",
       "\"\"\""
      ]
     },
     "execution_count": 15,
     "metadata": {},
     "output_type": "execute_result"
    }
   ],
   "source": [
    "results2.summary()"
   ]
  },
  {
   "cell_type": "code",
   "execution_count": 16,
   "metadata": {
    "collapsed": false
   },
   "outputs": [
    {
     "data": {
      "text/plain": [
       "<matplotlib.text.Text at 0x10be02a20>"
      ]
     },
     "execution_count": 16,
     "metadata": {},
     "output_type": "execute_result"
    },
    {
     "data": {
      "image/png": "[encoded data removed]",
      "text/plain": [
       "<matplotlib.figure.Figure at 0x10bbda0b8>"
      ]
     },
     "metadata": {},
     "output_type": "display_data"
    }
   ],
   "source": [
    "sm.graphics.plot_fit(results2, 0)\n",
    "plt.ylabel(\"Total Domestic Gross\")\n",
    "plt.xlabel(\"Runtime (min)\")\n",
    "plt.title(\"Linear Regression\")"
   ]
  },
  {
   "cell_type": "code",
   "execution_count": 17,
   "metadata": {
    "collapsed": false
   },
   "outputs": [],
   "source": [
    "resid_series2 = results2.resid"
   ]
  },
  {
   "cell_type": "code",
   "execution_count": 18,
   "metadata": {
    "collapsed": false
   },
   "outputs": [],
   "source": [
    "dtg2['resid'] = resid_series2"
   ]
  },
  {
   "cell_type": "code",
   "execution_count": 19,
   "metadata": {
    "collapsed": false
   },
   "outputs": [],
   "source": [
    "dtg2 = dtg2.sort_values(by='DomesticTotalGross', ascending=True)"
   ]
  },
  {
   "cell_type": "code",
   "execution_count": 20,
   "metadata": {
    "collapsed": false
   },
   "outputs": [
    {
     "data": {
      "text/plain": [
       "<matplotlib.text.Text at 0x10bf5f0f0>"
      ]
     },
     "execution_count": 20,
     "metadata": {},
     "output_type": "execute_result"
    },
    {
     "data": {
      "image/png": "[encoded data removed]",
      "text/plain": [
       "<matplotlib.figure.Figure at 0x10be3e0f0>"
      ]
     },
     "metadata": {},
     "output_type": "display_data"
    }
   ],
   "source": [
    "dtg2.plot('DomesticTotalGross', 'resid')\n",
    "plt.xlabel('Domestic Total Gross')\n",
    "plt.ylabel('Residual Value')\n",
    "plt.title('Residual Value for DTG in 2015')"
   ]
  },
  {
   "cell_type": "markdown",
   "metadata": {},
   "source": [
    "As the dependent variable, DTG, increases, the residuals also increase and get further from the expected value. The model is worse for larger Domestic Total Grosses."
   ]
  },
  {
   "cell_type": "markdown",
   "metadata": {},
   "source": [
    "## Challenge 3"
   ]
  },
  {
   "cell_type": "code",
   "execution_count": 21,
   "metadata": {
    "collapsed": true
   },
   "outputs": [],
   "source": [
    "dtg3 = movies_2015"
   ]
  },
  {
   "cell_type": "code",
   "execution_count": 22,
   "metadata": {
    "collapsed": true
   },
   "outputs": [],
   "source": [
    "dummies = pd.get_dummies(dtg3.Rating)"
   ]
  },
  {
   "cell_type": "code",
   "execution_count": 23,
   "metadata": {
    "collapsed": false
   },
   "outputs": [],
   "source": [
    "dtg3 = pd.concat([dtg3, dummies], axis=1)"
   ]
  },
  {
   "cell_type": "code",
   "execution_count": 24,
   "metadata": {
    "collapsed": false
   },
   "outputs": [
    {
     "data": {
      "text/html": [
       "<div>\n",
       "<table border=\"1\" class=\"dataframe\">\n",
       "  <thead>\n",
       "    <tr style=\"text-align: right;\">\n",
       "      <th></th>\n",
       "      <th>Title</th>\n",
       "      <th>Budget</th>\n",
       "      <th>DomesticTotalGross</th>\n",
       "      <th>Director</th>\n",
       "      <th>Rating</th>\n",
       "      <th>Runtime</th>\n",
       "      <th>ReleaseDate</th>\n",
       "      <th>const</th>\n",
       "      <th>G</th>\n",
       "      <th>PG</th>\n",
       "      <th>PG-13</th>\n",
       "      <th>R</th>\n",
       "    </tr>\n",
       "  </thead>\n",
       "  <tbody>\n",
       "    <tr>\n",
       "      <th>0</th>\n",
       "      <td>Star Wars: The Force Awakens</td>\n",
       "      <td>200000000</td>\n",
       "      <td>858953106</td>\n",
       "      <td>J.J. Abrams</td>\n",
       "      <td>PG-13</td>\n",
       "      <td>136</td>\n",
       "      <td>2015-12-18</td>\n",
       "      <td>1</td>\n",
       "      <td>0</td>\n",
       "      <td>0</td>\n",
       "      <td>1</td>\n",
       "      <td>0</td>\n",
       "    </tr>\n",
       "    <tr>\n",
       "      <th>1</th>\n",
       "      <td>Jurassic World</td>\n",
       "      <td>150000000</td>\n",
       "      <td>652270625</td>\n",
       "      <td>Colin Trevorrow</td>\n",
       "      <td>PG-13</td>\n",
       "      <td>124</td>\n",
       "      <td>2015-06-12</td>\n",
       "      <td>1</td>\n",
       "      <td>0</td>\n",
       "      <td>0</td>\n",
       "      <td>1</td>\n",
       "      <td>0</td>\n",
       "    </tr>\n",
       "    <tr>\n",
       "      <th>2</th>\n",
       "      <td>Avengers: Age of Ultron</td>\n",
       "      <td>250000000</td>\n",
       "      <td>459005868</td>\n",
       "      <td>Joss Whedon</td>\n",
       "      <td>PG-13</td>\n",
       "      <td>141</td>\n",
       "      <td>2015-05-01</td>\n",
       "      <td>1</td>\n",
       "      <td>0</td>\n",
       "      <td>0</td>\n",
       "      <td>1</td>\n",
       "      <td>0</td>\n",
       "    </tr>\n",
       "    <tr>\n",
       "      <th>3</th>\n",
       "      <td>Inside Out</td>\n",
       "      <td>175000000</td>\n",
       "      <td>356461711</td>\n",
       "      <td>Pete Docter</td>\n",
       "      <td>PG</td>\n",
       "      <td>94</td>\n",
       "      <td>2015-06-19</td>\n",
       "      <td>1</td>\n",
       "      <td>0</td>\n",
       "      <td>1</td>\n",
       "      <td>0</td>\n",
       "      <td>0</td>\n",
       "    </tr>\n",
       "    <tr>\n",
       "      <th>4</th>\n",
       "      <td>Furious 7</td>\n",
       "      <td>190000000</td>\n",
       "      <td>353007020</td>\n",
       "      <td>James Wan</td>\n",
       "      <td>PG-13</td>\n",
       "      <td>137</td>\n",
       "      <td>2015-04-03</td>\n",
       "      <td>1</td>\n",
       "      <td>0</td>\n",
       "      <td>0</td>\n",
       "      <td>1</td>\n",
       "      <td>0</td>\n",
       "    </tr>\n",
       "  </tbody>\n",
       "</table>\n",
       "</div>"
      ],
      "text/plain": [
       "                          Title     Budget  DomesticTotalGross  \\\n",
       "0  Star Wars: The Force Awakens  200000000           858953106   \n",
       "1                Jurassic World  150000000           652270625   \n",
       "2       Avengers: Age of Ultron  250000000           459005868   \n",
       "3                    Inside Out  175000000           356461711   \n",
       "4                     Furious 7  190000000           353007020   \n",
       "\n",
       "          Director Rating  Runtime ReleaseDate  const  G  PG  PG-13  R  \n",
       "0      J.J. Abrams  PG-13      136  2015-12-18      1  0   0      1  0  \n",
       "1  Colin Trevorrow  PG-13      124  2015-06-12      1  0   0      1  0  \n",
       "2      Joss Whedon  PG-13      141  2015-05-01      1  0   0      1  0  \n",
       "3      Pete Docter     PG       94  2015-06-19      1  0   1      0  0  \n",
       "4        James Wan  PG-13      137  2015-04-03      1  0   0      1  0  "
      ]
     },
     "execution_count": 24,
     "metadata": {},
     "output_type": "execute_result"
    }
   ],
   "source": [
    "dtg3.head()"
   ]
  },
  {
   "cell_type": "code",
   "execution_count": 25,
   "metadata": {
    "collapsed": true
   },
   "outputs": [],
   "source": [
    "model3 = sm.OLS(dtg3['DomesticTotalGross'], dtg3[['PG-13', 'const']])"
   ]
  },
  {
   "cell_type": "code",
   "execution_count": 26,
   "metadata": {
    "collapsed": true
   },
   "outputs": [],
   "source": [
    "results3 = model3.fit()"
   ]
  },
  {
   "cell_type": "code",
   "execution_count": 27,
   "metadata": {
    "collapsed": false
   },
   "outputs": [
    {
     "data": {
      "text/html": [
       "<table class=\"simpletable\">\n",
       "<caption>OLS Regression Results</caption>\n",
       "<tr>\n",
       "  <th>Dep. Variable:</th>    <td>DomesticTotalGross</td> <th>  R-squared:         </th> <td>   0.017</td>\n",
       "</tr>\n",
       "<tr>\n",
       "  <th>Model:</th>                    <td>OLS</td>        <th>  Adj. R-squared:    </th> <td>   0.007</td>\n",
       "</tr>\n",
       "<tr>\n",
       "  <th>Method:</th>              <td>Least Squares</td>   <th>  F-statistic:       </th> <td>   1.670</td>\n",
       "</tr>\n",
       "<tr>\n",
       "  <th>Date:</th>              <td>Sat, 23 Jan 2016</td>  <th>  Prob (F-statistic):</th>  <td> 0.199</td> \n",
       "</tr>\n",
       "<tr>\n",
       "  <th>Time:</th>                  <td>03:59:08</td>      <th>  Log-Likelihood:    </th> <td> -2004.9</td>\n",
       "</tr>\n",
       "<tr>\n",
       "  <th>No. Observations:</th>       <td>   100</td>       <th>  AIC:               </th> <td>   4014.</td>\n",
       "</tr>\n",
       "<tr>\n",
       "  <th>Df Residuals:</th>           <td>    98</td>       <th>  BIC:               </th> <td>   4019.</td>\n",
       "</tr>\n",
       "<tr>\n",
       "  <th>Df Model:</th>               <td>     1</td>       <th>                     </th>     <td> </td>   \n",
       "</tr>\n",
       "<tr>\n",
       "  <th>Covariance Type:</th>       <td>nonrobust</td>     <th>                     </th>     <td> </td>   \n",
       "</tr>\n",
       "</table>\n",
       "<table class=\"simpletable\">\n",
       "<tr>\n",
       "    <td></td>       <th>coef</th>     <th>std err</th>      <th>t</th>      <th>P>|t|</th> <th>[95.0% Conf. Int.]</th> \n",
       "</tr>\n",
       "<tr>\n",
       "  <th>PG-13</th> <td> 3.222e+07</td> <td> 2.49e+07</td> <td>    1.292</td> <td> 0.199</td> <td>-1.73e+07  8.17e+07</td>\n",
       "</tr>\n",
       "<tr>\n",
       "  <th>const</th> <td> 8.511e+07</td> <td> 1.73e+07</td> <td>    4.926</td> <td> 0.000</td> <td> 5.08e+07  1.19e+08</td>\n",
       "</tr>\n",
       "</table>\n",
       "<table class=\"simpletable\">\n",
       "<tr>\n",
       "  <th>Omnibus:</th>       <td>101.688</td> <th>  Durbin-Watson:     </th> <td>   0.097</td> \n",
       "</tr>\n",
       "<tr>\n",
       "  <th>Prob(Omnibus):</th> <td> 0.000</td>  <th>  Jarque-Bera (JB):  </th> <td>1117.657</td> \n",
       "</tr>\n",
       "<tr>\n",
       "  <th>Skew:</th>          <td> 3.428</td>  <th>  Prob(JB):          </th> <td>2.01e-243</td>\n",
       "</tr>\n",
       "<tr>\n",
       "  <th>Kurtosis:</th>      <td>17.874</td>  <th>  Cond. No.          </th> <td>    2.57</td> \n",
       "</tr>\n",
       "</table>"
      ],
      "text/plain": [
       "<class 'statsmodels.iolib.summary.Summary'>\n",
       "\"\"\"\n",
       "                            OLS Regression Results                            \n",
       "==============================================================================\n",
       "Dep. Variable:     DomesticTotalGross   R-squared:                       0.017\n",
       "Model:                            OLS   Adj. R-squared:                  0.007\n",
       "Method:                 Least Squares   F-statistic:                     1.670\n",
       "Date:                Sat, 23 Jan 2016   Prob (F-statistic):              0.199\n",
       "Time:                        03:59:08   Log-Likelihood:                -2004.9\n",
       "No. Observations:                 100   AIC:                             4014.\n",
       "Df Residuals:                      98   BIC:                             4019.\n",
       "Df Model:                           1                                         \n",
       "Covariance Type:            nonrobust                                         \n",
       "==============================================================================\n",
       "                 coef    std err          t      P>|t|      [95.0% Conf. Int.]\n",
       "------------------------------------------------------------------------------\n",
       "PG-13       3.222e+07   2.49e+07      1.292      0.199     -1.73e+07  8.17e+07\n",
       "const       8.511e+07   1.73e+07      4.926      0.000      5.08e+07  1.19e+08\n",
       "==============================================================================\n",
       "Omnibus:                      101.688   Durbin-Watson:                   0.097\n",
       "Prob(Omnibus):                  0.000   Jarque-Bera (JB):             1117.657\n",
       "Skew:                           3.428   Prob(JB):                    2.01e-243\n",
       "Kurtosis:                      17.874   Cond. No.                         2.57\n",
       "==============================================================================\n",
       "\n",
       "Warnings:\n",
       "[1] Standard Errors assume that the covariance matrix of the errors is correctly specified.\n",
       "\"\"\""
      ]
     },
     "execution_count": 27,
     "metadata": {},
     "output_type": "execute_result"
    }
   ],
   "source": [
    "results3.summary()"
   ]
  },
  {
   "cell_type": "code",
   "execution_count": 28,
   "metadata": {
    "collapsed": false
   },
   "outputs": [
    {
     "data": {
      "text/plain": [
       "<matplotlib.text.Text at 0x10ca1c588>"
      ]
     },
     "execution_count": 28,
     "metadata": {},
     "output_type": "execute_result"
    },
    {
     "data": {
      "image/png": "[encoded data removed]",
      "text/plain": [
       "<matplotlib.figure.Figure at 0x10bf55ef0>"
      ]
     },
     "metadata": {},
     "output_type": "display_data"
    }
   ],
   "source": [
    "sm.graphics.plot_fit(results3, 0)\n",
    "plt.ylabel(\"Total Domestic Gross\")\n",
    "plt.xlabel(\"PG-13\")\n",
    "plt.title(\"Regression for PG-13 movies and DTG\")"
   ]
  },
  {
   "cell_type": "code",
   "execution_count": 29,
   "metadata": {
    "collapsed": false
   },
   "outputs": [],
   "source": [
    "resid_series3 = results3.resid"
   ]
  },
  {
   "cell_type": "code",
   "execution_count": 30,
   "metadata": {
    "collapsed": false
   },
   "outputs": [],
   "source": [
    "dtg3['resid'] = resid_series3"
   ]
  },
  {
   "cell_type": "code",
   "execution_count": 31,
   "metadata": {
    "collapsed": true
   },
   "outputs": [],
   "source": [
    "dtg3 = dtg3.sort_values(by='DomesticTotalGross', ascending=True)"
   ]
  },
  {
   "cell_type": "code",
   "execution_count": 32,
   "metadata": {
    "collapsed": false
   },
   "outputs": [
    {
     "data": {
      "text/plain": [
       "<matplotlib.text.Text at 0x10cad79e8>"
      ]
     },
     "execution_count": 32,
     "metadata": {},
     "output_type": "execute_result"
    },
    {
     "data": {
      "image/png": "[encoded data removed]",
      "text/plain": [
       "<matplotlib.figure.Figure at 0x10ca0ab00>"
      ]
     },
     "metadata": {},
     "output_type": "display_data"
    }
   ],
   "source": [
    "dtg3.plot('DomesticTotalGross', 'resid')\n",
    "plt.xlabel('Domestic Total Gross')\n",
    "plt.ylabel('Residual Value')\n",
    "plt.title('Residual Value for DTG in 2015')"
   ]
  },
  {
   "cell_type": "markdown",
   "metadata": {},
   "source": [
    "Again the residual values increase for increasing Domestic total gross. The Regression plot is similar to the plot from challenge one except instead of just one option, x = 1, x can either be 0 or 1. Two distributions are seen, with two expected values, one for PG-13 movies (x = 1) and one for non-PG-13 movies (x = 0). "
   ]
  },
  {
   "cell_type": "markdown",
   "metadata": {},
   "source": [
    "## Challenge 4"
   ]
  },
  {
   "cell_type": "markdown",
   "metadata": {},
   "source": [
    "#### Combine challenge 2 and 3"
   ]
  },
  {
   "cell_type": "code",
   "execution_count": 33,
   "metadata": {
    "collapsed": false
   },
   "outputs": [
    {
     "data": {
      "text/html": [
       "<table class=\"simpletable\">\n",
       "<caption>OLS Regression Results</caption>\n",
       "<tr>\n",
       "  <th>Dep. Variable:</th>    <td>DomesticTotalGross</td> <th>  R-squared:         </th> <td>   0.065</td>\n",
       "</tr>\n",
       "<tr>\n",
       "  <th>Model:</th>                    <td>OLS</td>        <th>  Adj. R-squared:    </th> <td>   0.040</td>\n",
       "</tr>\n",
       "<tr>\n",
       "  <th>Method:</th>              <td>Least Squares</td>   <th>  F-statistic:       </th> <td>   2.591</td>\n",
       "</tr>\n",
       "<tr>\n",
       "  <th>Date:</th>              <td>Sat, 23 Jan 2016</td>  <th>  Prob (F-statistic):</th>  <td>0.0817</td> \n",
       "</tr>\n",
       "<tr>\n",
       "  <th>Time:</th>                  <td>03:59:09</td>      <th>  Log-Likelihood:    </th> <td> -1569.0</td>\n",
       "</tr>\n",
       "<tr>\n",
       "  <th>No. Observations:</th>       <td>    78</td>       <th>  AIC:               </th> <td>   3144.</td>\n",
       "</tr>\n",
       "<tr>\n",
       "  <th>Df Residuals:</th>           <td>    75</td>       <th>  BIC:               </th> <td>   3151.</td>\n",
       "</tr>\n",
       "<tr>\n",
       "  <th>Df Model:</th>               <td>     2</td>       <th>                     </th>     <td> </td>   \n",
       "</tr>\n",
       "<tr>\n",
       "  <th>Covariance Type:</th>       <td>nonrobust</td>     <th>                     </th>     <td> </td>   \n",
       "</tr>\n",
       "</table>\n",
       "<table class=\"simpletable\">\n",
       "<tr>\n",
       "     <td></td>        <th>coef</th>     <th>std err</th>      <th>t</th>      <th>P>|t|</th> <th>[95.0% Conf. Int.]</th> \n",
       "</tr>\n",
       "<tr>\n",
       "  <th>Runtime</th> <td> 1.773e+06</td> <td> 9.34e+05</td> <td>    1.899</td> <td> 0.061</td> <td>-8.68e+04  3.63e+06</td>\n",
       "</tr>\n",
       "<tr>\n",
       "  <th>PG-13</th>   <td> 3.001e+07</td> <td> 3.07e+07</td> <td>    0.976</td> <td> 0.332</td> <td>-3.12e+07  9.12e+07</td>\n",
       "</tr>\n",
       "<tr>\n",
       "  <th>const</th>   <td>-1.059e+08</td> <td> 1.08e+08</td> <td>   -0.977</td> <td> 0.332</td> <td>-3.22e+08   1.1e+08</td>\n",
       "</tr>\n",
       "</table>\n",
       "<table class=\"simpletable\">\n",
       "<tr>\n",
       "  <th>Omnibus:</th>       <td>73.408</td> <th>  Durbin-Watson:     </th> <td>   0.217</td> \n",
       "</tr>\n",
       "<tr>\n",
       "  <th>Prob(Omnibus):</th> <td> 0.000</td> <th>  Jarque-Bera (JB):  </th> <td> 488.831</td> \n",
       "</tr>\n",
       "<tr>\n",
       "  <th>Skew:</th>          <td> 2.957</td> <th>  Prob(JB):          </th> <td>7.11e-107</td>\n",
       "</tr>\n",
       "<tr>\n",
       "  <th>Kurtosis:</th>      <td>13.744</td> <th>  Cond. No.          </th> <td>    836.</td> \n",
       "</tr>\n",
       "</table>"
      ],
      "text/plain": [
       "<class 'statsmodels.iolib.summary.Summary'>\n",
       "\"\"\"\n",
       "                            OLS Regression Results                            \n",
       "==============================================================================\n",
       "Dep. Variable:     DomesticTotalGross   R-squared:                       0.065\n",
       "Model:                            OLS   Adj. R-squared:                  0.040\n",
       "Method:                 Least Squares   F-statistic:                     2.591\n",
       "Date:                Sat, 23 Jan 2016   Prob (F-statistic):             0.0817\n",
       "Time:                        03:59:09   Log-Likelihood:                -1569.0\n",
       "No. Observations:                  78   AIC:                             3144.\n",
       "Df Residuals:                      75   BIC:                             3151.\n",
       "Df Model:                           2                                         \n",
       "Covariance Type:            nonrobust                                         \n",
       "==============================================================================\n",
       "                 coef    std err          t      P>|t|      [95.0% Conf. Int.]\n",
       "------------------------------------------------------------------------------\n",
       "Runtime     1.773e+06   9.34e+05      1.899      0.061     -8.68e+04  3.63e+06\n",
       "PG-13       3.001e+07   3.07e+07      0.976      0.332     -3.12e+07  9.12e+07\n",
       "const      -1.059e+08   1.08e+08     -0.977      0.332     -3.22e+08   1.1e+08\n",
       "==============================================================================\n",
       "Omnibus:                       73.408   Durbin-Watson:                   0.217\n",
       "Prob(Omnibus):                  0.000   Jarque-Bera (JB):              488.831\n",
       "Skew:                           2.957   Prob(JB):                    7.11e-107\n",
       "Kurtosis:                      13.744   Cond. No.                         836.\n",
       "==============================================================================\n",
       "\n",
       "Warnings:\n",
       "[1] Standard Errors assume that the covariance matrix of the errors is correctly specified.\n",
       "\"\"\""
      ]
     },
     "execution_count": 33,
     "metadata": {},
     "output_type": "execute_result"
    }
   ],
   "source": [
    "dtg4 = dtg3\n",
    "dtg4 = dtg4.dropna()\n",
    "model4 = sm.OLS(dtg4['DomesticTotalGross'], dtg4[['Runtime', 'PG-13', 'const']])\n",
    "results4 = model4.fit()\n",
    "results4.summary()"
   ]
  },
  {
   "cell_type": "markdown",
   "metadata": {},
   "source": [
    "#### PG and runtime"
   ]
  },
  {
   "cell_type": "code",
   "execution_count": 34,
   "metadata": {
    "collapsed": false
   },
   "outputs": [
    {
     "data": {
      "text/html": [
       "<table class=\"simpletable\">\n",
       "<caption>OLS Regression Results</caption>\n",
       "<tr>\n",
       "  <th>Dep. Variable:</th>    <td>DomesticTotalGross</td> <th>  R-squared:         </th> <td>   0.078</td>\n",
       "</tr>\n",
       "<tr>\n",
       "  <th>Model:</th>                    <td>OLS</td>        <th>  Adj. R-squared:    </th> <td>   0.053</td>\n",
       "</tr>\n",
       "<tr>\n",
       "  <th>Method:</th>              <td>Least Squares</td>   <th>  F-statistic:       </th> <td>   3.174</td>\n",
       "</tr>\n",
       "<tr>\n",
       "  <th>Date:</th>              <td>Sat, 23 Jan 2016</td>  <th>  Prob (F-statistic):</th>  <td>0.0475</td> \n",
       "</tr>\n",
       "<tr>\n",
       "  <th>Time:</th>                  <td>03:59:09</td>      <th>  Log-Likelihood:    </th> <td> -1568.4</td>\n",
       "</tr>\n",
       "<tr>\n",
       "  <th>No. Observations:</th>       <td>    78</td>       <th>  AIC:               </th> <td>   3143.</td>\n",
       "</tr>\n",
       "<tr>\n",
       "  <th>Df Residuals:</th>           <td>    75</td>       <th>  BIC:               </th> <td>   3150.</td>\n",
       "</tr>\n",
       "<tr>\n",
       "  <th>Df Model:</th>               <td>     2</td>       <th>                     </th>     <td> </td>   \n",
       "</tr>\n",
       "<tr>\n",
       "  <th>Covariance Type:</th>       <td>nonrobust</td>     <th>                     </th>     <td> </td>   \n",
       "</tr>\n",
       "</table>\n",
       "<table class=\"simpletable\">\n",
       "<tr>\n",
       "     <td></td>        <th>coef</th>     <th>std err</th>      <th>t</th>      <th>P>|t|</th> <th>[95.0% Conf. Int.]</th> \n",
       "</tr>\n",
       "<tr>\n",
       "  <th>Runtime</th> <td> 2.374e+06</td> <td> 9.75e+05</td> <td>    2.434</td> <td> 0.017</td> <td> 4.31e+05  4.32e+06</td>\n",
       "</tr>\n",
       "<tr>\n",
       "  <th>PG</th>      <td> 6.001e+07</td> <td> 4.18e+07</td> <td>    1.435</td> <td> 0.156</td> <td>-2.33e+07  1.43e+08</td>\n",
       "</tr>\n",
       "<tr>\n",
       "  <th>const</th>   <td>-1.715e+08</td> <td> 1.17e+08</td> <td>   -1.466</td> <td> 0.147</td> <td>-4.05e+08  6.15e+07</td>\n",
       "</tr>\n",
       "</table>\n",
       "<table class=\"simpletable\">\n",
       "<tr>\n",
       "  <th>Omnibus:</th>       <td>77.799</td> <th>  Durbin-Watson:     </th> <td>   0.241</td> \n",
       "</tr>\n",
       "<tr>\n",
       "  <th>Prob(Omnibus):</th> <td> 0.000</td> <th>  Jarque-Bera (JB):  </th> <td> 612.830</td> \n",
       "</tr>\n",
       "<tr>\n",
       "  <th>Skew:</th>          <td> 3.106</td> <th>  Prob(JB):          </th> <td>8.43e-134</td>\n",
       "</tr>\n",
       "<tr>\n",
       "  <th>Kurtosis:</th>      <td>15.246</td> <th>  Cond. No.          </th> <td>    918.</td> \n",
       "</tr>\n",
       "</table>"
      ],
      "text/plain": [
       "<class 'statsmodels.iolib.summary.Summary'>\n",
       "\"\"\"\n",
       "                            OLS Regression Results                            \n",
       "==============================================================================\n",
       "Dep. Variable:     DomesticTotalGross   R-squared:                       0.078\n",
       "Model:                            OLS   Adj. R-squared:                  0.053\n",
       "Method:                 Least Squares   F-statistic:                     3.174\n",
       "Date:                Sat, 23 Jan 2016   Prob (F-statistic):             0.0475\n",
       "Time:                        03:59:09   Log-Likelihood:                -1568.4\n",
       "No. Observations:                  78   AIC:                             3143.\n",
       "Df Residuals:                      75   BIC:                             3150.\n",
       "Df Model:                           2                                         \n",
       "Covariance Type:            nonrobust                                         \n",
       "==============================================================================\n",
       "                 coef    std err          t      P>|t|      [95.0% Conf. Int.]\n",
       "------------------------------------------------------------------------------\n",
       "Runtime     2.374e+06   9.75e+05      2.434      0.017      4.31e+05  4.32e+06\n",
       "PG          6.001e+07   4.18e+07      1.435      0.156     -2.33e+07  1.43e+08\n",
       "const      -1.715e+08   1.17e+08     -1.466      0.147     -4.05e+08  6.15e+07\n",
       "==============================================================================\n",
       "Omnibus:                       77.799   Durbin-Watson:                   0.241\n",
       "Prob(Omnibus):                  0.000   Jarque-Bera (JB):              612.830\n",
       "Skew:                           3.106   Prob(JB):                    8.43e-134\n",
       "Kurtosis:                      15.246   Cond. No.                         918.\n",
       "==============================================================================\n",
       "\n",
       "Warnings:\n",
       "[1] Standard Errors assume that the covariance matrix of the errors is correctly specified.\n",
       "\"\"\""
      ]
     },
     "execution_count": 34,
     "metadata": {},
     "output_type": "execute_result"
    }
   ],
   "source": [
    "dtg5 = dtg3\n",
    "dtg5 = dtg5.dropna()\n",
    "model5 = sm.OLS(dtg5['DomesticTotalGross'], dtg5[['Runtime', 'PG', 'const']])\n",
    "results5 = model5.fit()\n",
    "results5.summary()"
   ]
  },
  {
   "cell_type": "markdown",
   "metadata": {},
   "source": [
    "#### Domestic Gross and Budget"
   ]
  },
  {
   "cell_type": "code",
   "execution_count": 35,
   "metadata": {
    "collapsed": false
   },
   "outputs": [
    {
     "data": {
      "text/html": [
       "<table class=\"simpletable\">\n",
       "<caption>OLS Regression Results</caption>\n",
       "<tr>\n",
       "  <th>Dep. Variable:</th>    <td>DomesticTotalGross</td> <th>  R-squared:         </th> <td>   0.383</td>\n",
       "</tr>\n",
       "<tr>\n",
       "  <th>Model:</th>                    <td>OLS</td>        <th>  Adj. R-squared:    </th> <td>   0.375</td>\n",
       "</tr>\n",
       "<tr>\n",
       "  <th>Method:</th>              <td>Least Squares</td>   <th>  F-statistic:       </th> <td>   47.19</td>\n",
       "</tr>\n",
       "<tr>\n",
       "  <th>Date:</th>              <td>Sat, 23 Jan 2016</td>  <th>  Prob (F-statistic):</th> <td>1.55e-09</td>\n",
       "</tr>\n",
       "<tr>\n",
       "  <th>Time:</th>                  <td>03:59:09</td>      <th>  Log-Likelihood:    </th> <td> -1552.8</td>\n",
       "</tr>\n",
       "<tr>\n",
       "  <th>No. Observations:</th>       <td>    78</td>       <th>  AIC:               </th> <td>   3110.</td>\n",
       "</tr>\n",
       "<tr>\n",
       "  <th>Df Residuals:</th>           <td>    76</td>       <th>  BIC:               </th> <td>   3114.</td>\n",
       "</tr>\n",
       "<tr>\n",
       "  <th>Df Model:</th>               <td>     1</td>       <th>                     </th>     <td> </td>   \n",
       "</tr>\n",
       "<tr>\n",
       "  <th>Covariance Type:</th>       <td>nonrobust</td>     <th>                     </th>     <td> </td>   \n",
       "</tr>\n",
       "</table>\n",
       "<table class=\"simpletable\">\n",
       "<tr>\n",
       "     <td></td>       <th>coef</th>     <th>std err</th>      <th>t</th>      <th>P>|t|</th> <th>[95.0% Conf. Int.]</th> \n",
       "</tr>\n",
       "<tr>\n",
       "  <th>Budget</th> <td>    1.4144</td> <td>    0.206</td> <td>    6.869</td> <td> 0.000</td> <td>    1.004     1.824</td>\n",
       "</tr>\n",
       "<tr>\n",
       "  <th>const</th>  <td> 1.454e+07</td> <td> 1.91e+07</td> <td>    0.762</td> <td> 0.449</td> <td>-2.35e+07  5.26e+07</td>\n",
       "</tr>\n",
       "</table>\n",
       "<table class=\"simpletable\">\n",
       "<tr>\n",
       "  <th>Omnibus:</th>       <td>64.681</td> <th>  Durbin-Watson:     </th> <td>   0.825</td> \n",
       "</tr>\n",
       "<tr>\n",
       "  <th>Prob(Omnibus):</th> <td> 0.000</td> <th>  Jarque-Bera (JB):  </th> <td> 461.313</td> \n",
       "</tr>\n",
       "<tr>\n",
       "  <th>Skew:</th>          <td> 2.415</td> <th>  Prob(JB):          </th> <td>6.72e-101</td>\n",
       "</tr>\n",
       "<tr>\n",
       "  <th>Kurtosis:</th>      <td>13.891</td> <th>  Cond. No.          </th> <td>1.44e+08</td> \n",
       "</tr>\n",
       "</table>"
      ],
      "text/plain": [
       "<class 'statsmodels.iolib.summary.Summary'>\n",
       "\"\"\"\n",
       "                            OLS Regression Results                            \n",
       "==============================================================================\n",
       "Dep. Variable:     DomesticTotalGross   R-squared:                       0.383\n",
       "Model:                            OLS   Adj. R-squared:                  0.375\n",
       "Method:                 Least Squares   F-statistic:                     47.19\n",
       "Date:                Sat, 23 Jan 2016   Prob (F-statistic):           1.55e-09\n",
       "Time:                        03:59:09   Log-Likelihood:                -1552.8\n",
       "No. Observations:                  78   AIC:                             3110.\n",
       "Df Residuals:                      76   BIC:                             3114.\n",
       "Df Model:                           1                                         \n",
       "Covariance Type:            nonrobust                                         \n",
       "==============================================================================\n",
       "                 coef    std err          t      P>|t|      [95.0% Conf. Int.]\n",
       "------------------------------------------------------------------------------\n",
       "Budget         1.4144      0.206      6.869      0.000         1.004     1.824\n",
       "const       1.454e+07   1.91e+07      0.762      0.449     -2.35e+07  5.26e+07\n",
       "==============================================================================\n",
       "Omnibus:                       64.681   Durbin-Watson:                   0.825\n",
       "Prob(Omnibus):                  0.000   Jarque-Bera (JB):              461.313\n",
       "Skew:                           2.415   Prob(JB):                    6.72e-101\n",
       "Kurtosis:                      13.891   Cond. No.                     1.44e+08\n",
       "==============================================================================\n",
       "\n",
       "Warnings:\n",
       "[1] Standard Errors assume that the covariance matrix of the errors is correctly specified.\n",
       "[2] The condition number is large, 1.44e+08. This might indicate that there are\n",
       "strong multicollinearity or other numerical problems.\n",
       "\"\"\""
      ]
     },
     "execution_count": 35,
     "metadata": {},
     "output_type": "execute_result"
    }
   ],
   "source": [
    "dtg6 = movies_2015\n",
    "dtg6 = dtg6.dropna()\n",
    "model6 = sm.OLS(dtg6['DomesticTotalGross'], dtg6[['Budget', 'const']])\n",
    "results6 = model6.fit()\n",
    "results6.summary()"
   ]
  },
  {
   "cell_type": "code",
   "execution_count": 36,
   "metadata": {
    "collapsed": false
   },
   "outputs": [
    {
     "data": {
      "text/plain": [
       "<matplotlib.text.Text at 0x10ce57978>"
      ]
     },
     "execution_count": 36,
     "metadata": {},
     "output_type": "execute_result"
    },
    {
     "data": {
      "image/png": "[encoded data removed]",
      "text/plain": [
       "<matplotlib.figure.Figure at 0x10caceb38>"
      ]
     },
     "metadata": {},
     "output_type": "display_data"
    }
   ],
   "source": [
    "sm.graphics.plot_fit(results6, 0)\n",
    "plt.ylabel(\"Total Domestic Gross\")\n",
    "plt.xlabel(\"Budget\")\n",
    "plt.title(\"Regression between Movie Budget and DTG\")"
   ]
  },
  {
   "cell_type": "code",
   "execution_count": 37,
   "metadata": {
    "collapsed": false
   },
   "outputs": [
    {
     "name": "stderr",
     "output_type": "stream",
     "text": [
      "/Users/kenn/anaconda/lib/python3.5/site-packages/ipykernel/__main__.py:2: SettingWithCopyWarning: \n",
      "A value is trying to be set on a copy of a slice from a DataFrame.\n",
      "Try using .loc[row_indexer,col_indexer] = value instead\n",
      "\n",
      "See the caveats in the documentation: http://pandas.pydata.org/pandas-docs/stable/indexing.html#indexing-view-versus-copy\n",
      "  from ipykernel import kernelapp as app\n"
     ]
    },
    {
     "data": {
      "text/plain": [
       "<matplotlib.text.Text at 0x10cf20fd0>"
      ]
     },
     "execution_count": 37,
     "metadata": {},
     "output_type": "execute_result"
    },
    {
     "data": {
      "image/png": "[encoded data removed]",
      "text/plain": [
       "<matplotlib.figure.Figure at 0x10cccafd0>"
      ]
     },
     "metadata": {},
     "output_type": "display_data"
    }
   ],
   "source": [
    "resid_series6 = results6.resid\n",
    "dtg6['resid'] = resid_series6\n",
    "dtg6 = dtg6.sort_values(by='DomesticTotalGross', ascending=True)\n",
    "\n",
    "dtg6.plot('DomesticTotalGross', 'resid')\n",
    "plt.xlabel('Domestic Total Gross')\n",
    "plt.ylabel('Residual Value')\n",
    "plt.title('Residual Value for DTG in 2015 \\nusing Budget as an estimator')"
   ]
  },
  {
   "cell_type": "markdown",
   "metadata": {},
   "source": [
    "Budget has better correlation with DTG than previous tests but it has a lower log-likelihood value. Once again, residuals increase with DTG but less so than previous tests."
   ]
  },
  {
   "cell_type": "markdown",
   "metadata": {},
   "source": [
    "#### Budget + PG-13"
   ]
  },
  {
   "cell_type": "code",
   "execution_count": 38,
   "metadata": {
    "collapsed": false
   },
   "outputs": [
    {
     "data": {
      "text/html": [
       "<table class=\"simpletable\">\n",
       "<caption>OLS Regression Results</caption>\n",
       "<tr>\n",
       "  <th>Dep. Variable:</th>    <td>DomesticTotalGross</td> <th>  R-squared:         </th> <td>   0.383</td>\n",
       "</tr>\n",
       "<tr>\n",
       "  <th>Model:</th>                    <td>OLS</td>        <th>  Adj. R-squared:    </th> <td>   0.367</td>\n",
       "</tr>\n",
       "<tr>\n",
       "  <th>Method:</th>              <td>Least Squares</td>   <th>  F-statistic:       </th> <td>   23.30</td>\n",
       "</tr>\n",
       "<tr>\n",
       "  <th>Date:</th>              <td>Sat, 23 Jan 2016</td>  <th>  Prob (F-statistic):</th> <td>1.35e-08</td>\n",
       "</tr>\n",
       "<tr>\n",
       "  <th>Time:</th>                  <td>03:59:10</td>      <th>  Log-Likelihood:    </th> <td> -1552.8</td>\n",
       "</tr>\n",
       "<tr>\n",
       "  <th>No. Observations:</th>       <td>    78</td>       <th>  AIC:               </th> <td>   3112.</td>\n",
       "</tr>\n",
       "<tr>\n",
       "  <th>Df Residuals:</th>           <td>    75</td>       <th>  BIC:               </th> <td>   3119.</td>\n",
       "</tr>\n",
       "<tr>\n",
       "  <th>Df Model:</th>               <td>     2</td>       <th>                     </th>     <td> </td>   \n",
       "</tr>\n",
       "<tr>\n",
       "  <th>Covariance Type:</th>       <td>nonrobust</td>     <th>                     </th>     <td> </td>   \n",
       "</tr>\n",
       "</table>\n",
       "<table class=\"simpletable\">\n",
       "<tr>\n",
       "     <td></td>       <th>coef</th>     <th>std err</th>      <th>t</th>      <th>P>|t|</th> <th>[95.0% Conf. Int.]</th> \n",
       "</tr>\n",
       "<tr>\n",
       "  <th>Budget</th> <td>    1.4077</td> <td>    0.212</td> <td>    6.650</td> <td> 0.000</td> <td>    0.986     1.829</td>\n",
       "</tr>\n",
       "<tr>\n",
       "  <th>PG-13</th>  <td> 3.861e+06</td> <td> 2.52e+07</td> <td>    0.153</td> <td> 0.879</td> <td>-4.64e+07  5.42e+07</td>\n",
       "</tr>\n",
       "<tr>\n",
       "  <th>const</th>  <td> 1.308e+07</td> <td> 2.15e+07</td> <td>    0.610</td> <td> 0.544</td> <td>-2.97e+07  5.58e+07</td>\n",
       "</tr>\n",
       "</table>\n",
       "<table class=\"simpletable\">\n",
       "<tr>\n",
       "  <th>Omnibus:</th>       <td>64.304</td> <th>  Durbin-Watson:     </th> <td>   0.831</td>\n",
       "</tr>\n",
       "<tr>\n",
       "  <th>Prob(Omnibus):</th> <td> 0.000</td> <th>  Jarque-Bera (JB):  </th> <td> 453.231</td>\n",
       "</tr>\n",
       "<tr>\n",
       "  <th>Skew:</th>          <td> 2.402</td> <th>  Prob(JB):          </th> <td>3.82e-99</td>\n",
       "</tr>\n",
       "<tr>\n",
       "  <th>Kurtosis:</th>      <td>13.788</td> <th>  Cond. No.          </th> <td>2.13e+08</td>\n",
       "</tr>\n",
       "</table>"
      ],
      "text/plain": [
       "<class 'statsmodels.iolib.summary.Summary'>\n",
       "\"\"\"\n",
       "                            OLS Regression Results                            \n",
       "==============================================================================\n",
       "Dep. Variable:     DomesticTotalGross   R-squared:                       0.383\n",
       "Model:                            OLS   Adj. R-squared:                  0.367\n",
       "Method:                 Least Squares   F-statistic:                     23.30\n",
       "Date:                Sat, 23 Jan 2016   Prob (F-statistic):           1.35e-08\n",
       "Time:                        03:59:10   Log-Likelihood:                -1552.8\n",
       "No. Observations:                  78   AIC:                             3112.\n",
       "Df Residuals:                      75   BIC:                             3119.\n",
       "Df Model:                           2                                         \n",
       "Covariance Type:            nonrobust                                         \n",
       "==============================================================================\n",
       "                 coef    std err          t      P>|t|      [95.0% Conf. Int.]\n",
       "------------------------------------------------------------------------------\n",
       "Budget         1.4077      0.212      6.650      0.000         0.986     1.829\n",
       "PG-13       3.861e+06   2.52e+07      0.153      0.879     -4.64e+07  5.42e+07\n",
       "const       1.308e+07   2.15e+07      0.610      0.544     -2.97e+07  5.58e+07\n",
       "==============================================================================\n",
       "Omnibus:                       64.304   Durbin-Watson:                   0.831\n",
       "Prob(Omnibus):                  0.000   Jarque-Bera (JB):              453.231\n",
       "Skew:                           2.402   Prob(JB):                     3.82e-99\n",
       "Kurtosis:                      13.788   Cond. No.                     2.13e+08\n",
       "==============================================================================\n",
       "\n",
       "Warnings:\n",
       "[1] Standard Errors assume that the covariance matrix of the errors is correctly specified.\n",
       "[2] The condition number is large, 2.13e+08. This might indicate that there are\n",
       "strong multicollinearity or other numerical problems.\n",
       "\"\"\""
      ]
     },
     "execution_count": 38,
     "metadata": {},
     "output_type": "execute_result"
    }
   ],
   "source": [
    "dtg7 = dtg3\n",
    "dtg7 = dtg7.dropna()\n",
    "model7 = sm.OLS(dtg7['DomesticTotalGross'], dtg7[['Budget', 'PG-13', 'const']])\n",
    "results7 = model7.fit()\n",
    "results7.summary()"
   ]
  },
  {
   "cell_type": "markdown",
   "metadata": {},
   "source": [
    "Lower adj R-sq value than the last test."
   ]
  },
  {
   "cell_type": "markdown",
   "metadata": {},
   "source": [
    "#### Budget + Runtime"
   ]
  },
  {
   "cell_type": "code",
   "execution_count": 39,
   "metadata": {
    "collapsed": false
   },
   "outputs": [
    {
     "data": {
      "text/html": [
       "<table class=\"simpletable\">\n",
       "<caption>OLS Regression Results</caption>\n",
       "<tr>\n",
       "  <th>Dep. Variable:</th>    <td>DomesticTotalGross</td> <th>  R-squared:         </th> <td>   0.383</td>\n",
       "</tr>\n",
       "<tr>\n",
       "  <th>Model:</th>                    <td>OLS</td>        <th>  Adj. R-squared:    </th> <td>   0.367</td>\n",
       "</tr>\n",
       "<tr>\n",
       "  <th>Method:</th>              <td>Least Squares</td>   <th>  F-statistic:       </th> <td>   23.29</td>\n",
       "</tr>\n",
       "<tr>\n",
       "  <th>Date:</th>              <td>Sat, 23 Jan 2016</td>  <th>  Prob (F-statistic):</th> <td>1.36e-08</td>\n",
       "</tr>\n",
       "<tr>\n",
       "  <th>Time:</th>                  <td>03:59:10</td>      <th>  Log-Likelihood:    </th> <td> -1552.8</td>\n",
       "</tr>\n",
       "<tr>\n",
       "  <th>No. Observations:</th>       <td>    78</td>       <th>  AIC:               </th> <td>   3112.</td>\n",
       "</tr>\n",
       "<tr>\n",
       "  <th>Df Residuals:</th>           <td>    75</td>       <th>  BIC:               </th> <td>   3119.</td>\n",
       "</tr>\n",
       "<tr>\n",
       "  <th>Df Model:</th>               <td>     2</td>       <th>                     </th>     <td> </td>   \n",
       "</tr>\n",
       "<tr>\n",
       "  <th>Covariance Type:</th>       <td>nonrobust</td>     <th>                     </th>     <td> </td>   \n",
       "</tr>\n",
       "</table>\n",
       "<table class=\"simpletable\">\n",
       "<tr>\n",
       "     <td></td>        <th>coef</th>     <th>std err</th>      <th>t</th>      <th>P>|t|</th> <th>[95.0% Conf. Int.]</th> \n",
       "</tr>\n",
       "<tr>\n",
       "  <th>Budget</th>  <td>    1.4076</td> <td>    0.222</td> <td>    6.338</td> <td> 0.000</td> <td>    0.965     1.850</td>\n",
       "</tr>\n",
       "<tr>\n",
       "  <th>Runtime</th> <td> 6.773e+04</td> <td> 8.04e+05</td> <td>    0.084</td> <td> 0.933</td> <td>-1.53e+06  1.67e+06</td>\n",
       "</tr>\n",
       "<tr>\n",
       "  <th>const</th>   <td>  7.15e+06</td> <td> 8.98e+07</td> <td>    0.080</td> <td> 0.937</td> <td>-1.72e+08  1.86e+08</td>\n",
       "</tr>\n",
       "</table>\n",
       "<table class=\"simpletable\">\n",
       "<tr>\n",
       "  <th>Omnibus:</th>       <td>64.603</td> <th>  Durbin-Watson:     </th> <td>   0.828</td> \n",
       "</tr>\n",
       "<tr>\n",
       "  <th>Prob(Omnibus):</th> <td> 0.000</td> <th>  Jarque-Bera (JB):  </th> <td> 459.369</td> \n",
       "</tr>\n",
       "<tr>\n",
       "  <th>Skew:</th>          <td> 2.413</td> <th>  Prob(JB):          </th> <td>1.77e-100</td>\n",
       "</tr>\n",
       "<tr>\n",
       "  <th>Kurtosis:</th>      <td>13.866</td> <th>  Cond. No.          </th> <td>6.74e+08</td> \n",
       "</tr>\n",
       "</table>"
      ],
      "text/plain": [
       "<class 'statsmodels.iolib.summary.Summary'>\n",
       "\"\"\"\n",
       "                            OLS Regression Results                            \n",
       "==============================================================================\n",
       "Dep. Variable:     DomesticTotalGross   R-squared:                       0.383\n",
       "Model:                            OLS   Adj. R-squared:                  0.367\n",
       "Method:                 Least Squares   F-statistic:                     23.29\n",
       "Date:                Sat, 23 Jan 2016   Prob (F-statistic):           1.36e-08\n",
       "Time:                        03:59:10   Log-Likelihood:                -1552.8\n",
       "No. Observations:                  78   AIC:                             3112.\n",
       "Df Residuals:                      75   BIC:                             3119.\n",
       "Df Model:                           2                                         \n",
       "Covariance Type:            nonrobust                                         \n",
       "==============================================================================\n",
       "                 coef    std err          t      P>|t|      [95.0% Conf. Int.]\n",
       "------------------------------------------------------------------------------\n",
       "Budget         1.4076      0.222      6.338      0.000         0.965     1.850\n",
       "Runtime     6.773e+04   8.04e+05      0.084      0.933     -1.53e+06  1.67e+06\n",
       "const        7.15e+06   8.98e+07      0.080      0.937     -1.72e+08  1.86e+08\n",
       "==============================================================================\n",
       "Omnibus:                       64.603   Durbin-Watson:                   0.828\n",
       "Prob(Omnibus):                  0.000   Jarque-Bera (JB):              459.369\n",
       "Skew:                           2.413   Prob(JB):                    1.77e-100\n",
       "Kurtosis:                      13.866   Cond. No.                     6.74e+08\n",
       "==============================================================================\n",
       "\n",
       "Warnings:\n",
       "[1] Standard Errors assume that the covariance matrix of the errors is correctly specified.\n",
       "[2] The condition number is large, 6.74e+08. This might indicate that there are\n",
       "strong multicollinearity or other numerical problems.\n",
       "\"\"\""
      ]
     },
     "execution_count": 39,
     "metadata": {},
     "output_type": "execute_result"
    }
   ],
   "source": [
    "dtg8 = movies_2015\n",
    "dtg8 = dtg8.dropna()\n",
    "model8 = sm.OLS(dtg8['DomesticTotalGross'], dtg8[['Budget', 'Runtime', 'const']])\n",
    "results8 = model8.fit()\n",
    "results8.summary()"
   ]
  },
  {
   "cell_type": "markdown",
   "metadata": {},
   "source": [
    "Again the the adj r-sq value dropped from when budget alone was the estimator."
   ]
  },
  {
   "cell_type": "markdown",
   "metadata": {},
   "source": [
    "## Challenge 5"
   ]
  },
  {
   "cell_type": "code",
   "execution_count": 64,
   "metadata": {
    "collapsed": true
   },
   "outputs": [],
   "source": [
    "from sklearn.cross_validation import train_test_split"
   ]
  },
  {
   "cell_type": "code",
   "execution_count": 65,
   "metadata": {
    "collapsed": false
   },
   "outputs": [],
   "source": [
    "train, test = train_test_split(movies_2015, test_size = 0.25)"
   ]
  },
  {
   "cell_type": "code",
   "execution_count": 66,
   "metadata": {
    "collapsed": true
   },
   "outputs": [],
   "source": [
    "train = train.dropna()\n",
    "test = test.dropna()"
   ]
  },
  {
   "cell_type": "code",
   "execution_count": 67,
   "metadata": {
    "collapsed": false
   },
   "outputs": [
    {
     "name": "stdout",
     "output_type": "stream",
     "text": [
      "Parameters:  Budget          1.609018\n",
      "const     5328411.159445\n",
      "dtype: float64\n",
      "R2:  0.376024251973\n"
     ]
    }
   ],
   "source": [
    "model9 = sm.OLS(train['DomesticTotalGross'], train[['Budget', 'const']])\n",
    "results9 = model9.fit()\n",
    "print('Parameters: ', results9.params)\n",
    "print('R2: ', results9.rsquared)\n",
    "\n"
   ]
  },
  {
   "cell_type": "code",
   "execution_count": 68,
   "metadata": {
    "collapsed": false
   },
   "outputs": [
    {
     "data": {
      "text/html": [
       "<table class=\"simpletable\">\n",
       "<caption>OLS Regression Results</caption>\n",
       "<tr>\n",
       "  <th>Dep. Variable:</th>    <td>DomesticTotalGross</td> <th>  R-squared:         </th> <td>   0.376</td>\n",
       "</tr>\n",
       "<tr>\n",
       "  <th>Model:</th>                    <td>OLS</td>        <th>  Adj. R-squared:    </th> <td>   0.365</td>\n",
       "</tr>\n",
       "<tr>\n",
       "  <th>Method:</th>              <td>Least Squares</td>   <th>  F-statistic:       </th> <td>   33.75</td>\n",
       "</tr>\n",
       "<tr>\n",
       "  <th>Date:</th>              <td>Sat, 23 Jan 2016</td>  <th>  Prob (F-statistic):</th> <td>3.10e-07</td>\n",
       "</tr>\n",
       "<tr>\n",
       "  <th>Time:</th>                  <td>03:59:44</td>      <th>  Log-Likelihood:    </th> <td> -1157.1</td>\n",
       "</tr>\n",
       "<tr>\n",
       "  <th>No. Observations:</th>       <td>    58</td>       <th>  AIC:               </th> <td>   2318.</td>\n",
       "</tr>\n",
       "<tr>\n",
       "  <th>Df Residuals:</th>           <td>    56</td>       <th>  BIC:               </th> <td>   2322.</td>\n",
       "</tr>\n",
       "<tr>\n",
       "  <th>Df Model:</th>               <td>     1</td>       <th>                     </th>     <td> </td>   \n",
       "</tr>\n",
       "<tr>\n",
       "  <th>Covariance Type:</th>       <td>nonrobust</td>     <th>                     </th>     <td> </td>   \n",
       "</tr>\n",
       "</table>\n",
       "<table class=\"simpletable\">\n",
       "<tr>\n",
       "     <td></td>       <th>coef</th>     <th>std err</th>      <th>t</th>      <th>P>|t|</th> <th>[95.0% Conf. Int.]</th> \n",
       "</tr>\n",
       "<tr>\n",
       "  <th>Budget</th> <td>    1.6090</td> <td>    0.277</td> <td>    5.809</td> <td> 0.000</td> <td>    1.054     2.164</td>\n",
       "</tr>\n",
       "<tr>\n",
       "  <th>const</th>  <td> 5.328e+06</td> <td> 2.36e+07</td> <td>    0.226</td> <td> 0.822</td> <td> -4.2e+07  5.26e+07</td>\n",
       "</tr>\n",
       "</table>\n",
       "<table class=\"simpletable\">\n",
       "<tr>\n",
       "  <th>Omnibus:</th>       <td>50.740</td> <th>  Durbin-Watson:     </th> <td>   1.829</td>\n",
       "</tr>\n",
       "<tr>\n",
       "  <th>Prob(Omnibus):</th> <td> 0.000</td> <th>  Jarque-Bera (JB):  </th> <td> 280.917</td>\n",
       "</tr>\n",
       "<tr>\n",
       "  <th>Skew:</th>          <td> 2.306</td> <th>  Prob(JB):          </th> <td>9.99e-62</td>\n",
       "</tr>\n",
       "<tr>\n",
       "  <th>Kurtosis:</th>      <td>12.746</td> <th>  Cond. No.          </th> <td>1.35e+08</td>\n",
       "</tr>\n",
       "</table>"
      ],
      "text/plain": [
       "<class 'statsmodels.iolib.summary.Summary'>\n",
       "\"\"\"\n",
       "                            OLS Regression Results                            \n",
       "==============================================================================\n",
       "Dep. Variable:     DomesticTotalGross   R-squared:                       0.376\n",
       "Model:                            OLS   Adj. R-squared:                  0.365\n",
       "Method:                 Least Squares   F-statistic:                     33.75\n",
       "Date:                Sat, 23 Jan 2016   Prob (F-statistic):           3.10e-07\n",
       "Time:                        03:59:44   Log-Likelihood:                -1157.1\n",
       "No. Observations:                  58   AIC:                             2318.\n",
       "Df Residuals:                      56   BIC:                             2322.\n",
       "Df Model:                           1                                         \n",
       "Covariance Type:            nonrobust                                         \n",
       "==============================================================================\n",
       "                 coef    std err          t      P>|t|      [95.0% Conf. Int.]\n",
       "------------------------------------------------------------------------------\n",
       "Budget         1.6090      0.277      5.809      0.000         1.054     2.164\n",
       "const       5.328e+06   2.36e+07      0.226      0.822      -4.2e+07  5.26e+07\n",
       "==============================================================================\n",
       "Omnibus:                       50.740   Durbin-Watson:                   1.829\n",
       "Prob(Omnibus):                  0.000   Jarque-Bera (JB):              280.917\n",
       "Skew:                           2.306   Prob(JB):                     9.99e-62\n",
       "Kurtosis:                      12.746   Cond. No.                     1.35e+08\n",
       "==============================================================================\n",
       "\n",
       "Warnings:\n",
       "[1] Standard Errors assume that the covariance matrix of the errors is correctly specified.\n",
       "[2] The condition number is large, 1.35e+08. This might indicate that there are\n",
       "strong multicollinearity or other numerical problems.\n",
       "\"\"\""
      ]
     },
     "execution_count": 68,
     "metadata": {},
     "output_type": "execute_result"
    }
   ],
   "source": [
    "results9.summary()"
   ]
  },
  {
   "cell_type": "code",
   "execution_count": 69,
   "metadata": {
    "collapsed": true
   },
   "outputs": [],
   "source": [
    "test = test.sort_values(by='Budget', ascending=True)"
   ]
  },
  {
   "cell_type": "code",
   "execution_count": 70,
   "metadata": {
    "collapsed": false
   },
   "outputs": [
    {
     "name": "stdout",
     "output_type": "stream",
     "text": [
      "[  1.01554664e+07   2.94636874e+07   3.42907427e+07   4.55538716e+07\n",
      "   6.16440558e+07   6.48620926e+07   6.96891479e+07   7.61252215e+07\n",
      "   8.25612952e+07   9.38244241e+07   9.86514794e+07   1.14741664e+08\n",
      "   1.24395774e+08   1.58185161e+08   1.98410621e+08   2.22545898e+08\n",
      "   2.46681174e+08   3.11041911e+08   3.99537924e+08   4.07583016e+08]\n"
     ]
    }
   ],
   "source": [
    "print(results9.predict(test[['Budget', 'const']]))"
   ]
  },
  {
   "cell_type": "code",
   "execution_count": 71,
   "metadata": {
    "collapsed": false
   },
   "outputs": [
    {
     "data": {
      "text/plain": [
       "<matplotlib.text.Text at 0x10d5b9b00>"
      ]
     },
     "execution_count": 71,
     "metadata": {},
     "output_type": "execute_result"
    },
    {
     "data": {
      "image/png": "[encoded data removed]",
      "text/plain": [
       "<matplotlib.figure.Figure at 0x10e011cf8>"
      ]
     },
     "metadata": {},
     "output_type": "display_data"
    }
   ],
   "source": [
    "plt.scatter(train.DomesticTotalGross, train.Budget, label='Training')\n",
    "plt.plot(test.Budget, results9.predict(test[['Budget', 'const']]), color='blue',linewidth=1, label='Test')\n",
    "plt.xlabel('Budget')\n",
    "plt.ylabel('Domestic Total Income')\n",
    "plt.legend(loc='upper left')\n",
    "plt.title('Training and Testing Data')\n"
   ]
  },
  {
   "cell_type": "code",
   "execution_count": null,
   "metadata": {
    "collapsed": true
   },
   "outputs": [],
   "source": []
  }
 ],
 "metadata": {
  "kernelspec": {
   "display_name": "Python 3",
   "language": "python",
   "name": "python3"
  },
  "language_info": {
   "codemirror_mode": {
    "name": "ipython",
    "version": 3
   },
   "file_extension": ".py",
   "mimetype": "text/x-python",
   "name": "python",
   "nbconvert_exporter": "python",
   "pygments_lexer": "ipython3",
   "version": "3.5.1"
  }
 },
 "nbformat": 4,
 "nbformat_minor": 0
}
